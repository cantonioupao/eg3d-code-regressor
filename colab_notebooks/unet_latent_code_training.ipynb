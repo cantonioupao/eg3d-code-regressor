{
  "cells": [
    {
      "cell_type": "markdown",
      "metadata": {
        "id": "H5P1zQO3mEQt"
      },
      "source": [
        "# Regression Model\n",
        "This is the regression model that is trained to predict accurate depth maps (e.g 128,128) from single input RGB images (e.g 512. 512, 3). A set of experiments takes place, in this notebook. In summary:\n",
        "\n",
        "*   Define X (Input Images) and Y (GT-depth maps) data\n",
        "*   Select Depth Regression Network Architecture\n",
        "*   Train Model for a number of initial samples\n",
        "*   Test on random sample/example\n",
        "\n",
        "\n"
      ]
    },
    {
      "cell_type": "markdown",
      "metadata": {
        "id": "eSM5J6c7nFEG"
      },
      "source": [
        "## Dataset\n",
        "Define the path to the dataset for the input data and the ground truth depth maps. Load everything to the dataset."
      ]
    },
    {
      "cell_type": "code",
      "execution_count": null,
      "metadata": {
        "cellView": "form",
        "colab": {
          "base_uri": "https://localhost:8080/"
        },
        "id": "3CX6O41El4fm",
        "outputId": "4d608be2-baa4-4ec4-fa0e-df386bfa9513"
      },
      "outputs": [
        {
          "output_type": "stream",
          "name": "stdout",
          "text": [
            "Mounted at /content/drive\n"
          ]
        }
      ],
      "source": [
        "from google.colab import drive\n",
        "drive.mount('/content/drive')\n",
        "\n",
        "input_data_path = '/content/drive/MyDrive/datasets/eg3d/images/' #@param\n",
        "gt_data_path = '/content/drive/MyDrive/datasets/eg3d/latent/' #@param"
      ]
    },
    {
      "cell_type": "markdown",
      "metadata": {
        "id": "D8HeQdhS7fjz"
      },
      "source": [
        "## Utilities"
      ]
    },
    {
      "cell_type": "code",
      "execution_count": null,
      "metadata": {
        "id": "6cyIi3j57cZh"
      },
      "outputs": [],
      "source": [
        "# Function to convert a depth image to a mesh \n",
        "# Adapted from https://github.com/sfu-gruvi-3dv/deep_human\n",
        "import PIL\n",
        "import numpy as np\n",
        "from tqdm import tqdm\n",
        "import torch\n",
        "def depthImage2mesh(img_path, save=False, output_path='/content/drive/MyDrive/eg3d/output/mesh.obj'):\n",
        "  ''' Convert a depth image to mesh constituents \n",
        "    - img_path: string path to depth image (.png)\n",
        "    return:\n",
        "    - verts: torch.tensor (B, N, 3), where B for batch size and N for \n",
        "    number of vertices\n",
        "    - faces: torch.tensor (B, F, 3), where B for batch size and F for\n",
        "     number of faces --> indeces of vertices\n",
        "    - colors: torch.tensor (B, N, 3), where B for batch size and N for\n",
        "     number of vertices\n",
        "  '''\n",
        "  # Read image and depth values\n",
        "  img = np.array(PIL.Image.open(img_path))\n",
        "  #print(img.shape, img.dtype, img[0])\n",
        "  \n",
        "  \n",
        "  # Normalize to depth values in [-1,1] \n",
        "  maxx = np.amax(img)\n",
        "  minx = np.amin(img)\n",
        "  x = 2 * ((img - minx) / (maxx - minx) ) - 1\n",
        "  img =  np.array(x, dtype=np.float32)\n",
        "  depth = -img.copy()\n",
        "  mask = img.copy()\n",
        "  mask[mask < 0] = 1\n",
        "\n",
        "  ## Convert to vertices with depth\n",
        "  h = depth.shape[0]\n",
        "  w = depth.shape[1]\n",
        "  depth = depth.reshape(h,w,1)\n",
        "  faces = []  # N x 3  number of triangles\n",
        "  verts = [] # V x 3 number of vertices\n",
        "  v_strings = [] # strings with vertices for obj\n",
        "  f_strings = [] # strings with faces for obj\n",
        "  for i in range(h):\n",
        "      for j in range(w):\n",
        "          verts.append( [float(2.0*i/h) , float(2.0*j/w), float(depth[i,j,0])] )\n",
        "          v_strings.append('v '+str(float(2.0*i/h))+' '+str(float(2.0*j/w))+' '+str(float(depth[i,j,0]))+'\\n')\n",
        "\n",
        "  threshold = 1.5 # adapted for better mesh quality --> the higher the more robust the result\n",
        "  # no mesh face gaps\n",
        "  \n",
        "  \n",
        "  for i in tqdm(range(h-1)):\n",
        "      for j in range(w-1):\n",
        "          if i < 2 or j < 2:\n",
        "              continue\n",
        "          localpatch= np.copy(depth[i-1:i+2,j-1:j+2])\n",
        "          dy_d = localpatch[0, :] - localpatch[1, :]\n",
        "          dx_l = localpatch[:, 0] - localpatch[:, 1]\n",
        "          dx_r = localpatch[0 ,:] - localpatch[-1, :]\n",
        "          dy_u = localpatch[:, 0] - localpatch[:, -1]\n",
        "\n",
        "          dy_u = np.abs(dy_u)\n",
        "          dx_l = np.abs(dx_l)\n",
        "          dy_d = np.abs(dy_d)\n",
        "          dx_r = np.abs(dx_r)\n",
        "          if np.max(dy_u)<threshold and np.max(dx_l) < threshold and np.max(dy_d) < threshold and np.max(dx_r) < threshold and mask[i,j]:\n",
        "              faces.append([int(j+i*w+1), int(j+i*w+1+1), int((i + 1)*w+j+1)])\n",
        "              faces.append([int((i+1)*w+j+1+1), int((i+1)*w+j+1), int(i * w + j + 1 + 1)])\n",
        "              # strings for .obj format\n",
        "              f_strings.append('f '+str(int(j+i*w+1))+' '+str(int(j+i*w+1+1))+' '+str(int((i + 1)*w+j+1))+'\\n')\n",
        "              f_strings.append('f '+str(int((i+1)*w+j+1+1))+' '+str(int((i+1)*w+j+1))+' '+str(int(i * w + j + 1 + 1)) + '\\n')\n",
        "\n",
        "  lim = len(verts) # cannot have valid indeces above this\n",
        "  safe_faces = []\n",
        "  for i, fac in enumerate(faces):\n",
        "    problem = False\n",
        "    for inds in fac:\n",
        "      if inds >=lim:\n",
        "        problem = True\n",
        "        continue\n",
        "      else:\n",
        "        pass\n",
        "    if not problem:\n",
        "      safe_faces.append(fac)\n",
        "\n",
        "\n",
        "  # Save\n",
        "  f = open(output_path, \"w\")\n",
        "  if save:\n",
        "    for index, v in enumerate(v_strings):\n",
        "      f.write(v)\n",
        "\n",
        "    for index, fac in enumerate(f_strings):\n",
        "      f.write(fac)\n",
        "  f.close()\n",
        "    \n",
        "\n",
        "  verts = torch.from_numpy(np.array(verts)).to(torch.float32).unsqueeze(0)\n",
        "  faces = torch.from_numpy(np.array(safe_faces)).unsqueeze(0)\n",
        "  verts_rgb = 0.5* torch.ones_like(verts) # (1, V, 3) # colors\n",
        "\n",
        "\n",
        "\n",
        "  return verts, faces, verts_rgb"
      ]
    },
    {
      "cell_type": "code",
      "execution_count": null,
      "metadata": {
        "id": "d9oyVsT9BLr9"
      },
      "outputs": [],
      "source": [
        "# Transforms\n",
        "\n",
        "# Transform latent code\n",
        "def transform_latent(code):\n",
        "  ''' This method transforms a 3D latent code (e.g shape (1, 14, 512) ) to a vector (e.g size = 512*14 ) and vice verca'''\n",
        "  if len(code.shape) < 2:\n",
        "    code = code.reshape((1, 512, 14))\n",
        "  if len(code.shape) > 2:\n",
        "    code = code.reshape(-1)\n",
        "\n",
        "  return code"
      ]
    },
    {
      "cell_type": "code",
      "execution_count": null,
      "metadata": {
        "colab": {
          "base_uri": "https://localhost:8080/"
        },
        "id": "89k-S9lRDoXb",
        "outputId": "3f6ed5b8-6fdb-4613-97c8-babd55e37d17"
      },
      "outputs": [
        {
          "output_type": "stream",
          "name": "stdout",
          "text": [
            "3\n",
            "torch.Size([7168])\n"
          ]
        }
      ],
      "source": [
        "a = torch.zeros((1, 512, 14))\n",
        "size = a.shape\n",
        "print(len(size))\n",
        "c = transform_latent(a)\n",
        "print(c.shape)"
      ]
    },
    {
      "cell_type": "code",
      "execution_count": null,
      "metadata": {
        "colab": {
          "base_uri": "https://localhost:8080/"
        },
        "id": "gadfvbEP-GZD",
        "outputId": "229c14c6-4849-4872-d431-74d66f9814fe"
      },
      "outputs": [
        {
          "output_type": "stream",
          "name": "stderr",
          "text": [
            "100%|██████████| 511/511 [00:12<00:00, 39.52it/s]\n"
          ]
        }
      ],
      "source": [
        "depth_path = '/content/drive/MyDrive/datasets/eg3d/depth/seed0001.png'\n",
        "verts, faces, colors = depthImage2mesh(depth_path, save=False)\n",
        "device = torch.device( 'cuda' if torch.cuda.is_available() else 'cpu')"
      ]
    },
    {
      "cell_type": "code",
      "execution_count": null,
      "metadata": {
        "colab": {
          "base_uri": "https://localhost:8080/"
        },
        "id": "7Hfe1uHIrZ5A",
        "outputId": "a292bdb7-bd9d-4340-9c95-93c3060b9735"
      },
      "outputs": [
        {
          "output_type": "stream",
          "name": "stdout",
          "text": [
            "Cloning into 'MiDaS'...\n",
            "remote: Enumerating objects: 501, done.\u001b[K\n",
            "remote: Counting objects: 100% (93/93), done.\u001b[K\n",
            "remote: Compressing objects: 100% (40/40), done.\u001b[K\n",
            "remote: Total 501 (delta 70), reused 55 (delta 53), pack-reused 408\u001b[K\n",
            "Receiving objects: 100% (501/501), 414.40 KiB | 13.81 MiB/s, done.\n",
            "Resolving deltas: 100% (168/168), done.\n",
            "Looking in indexes: https://pypi.org/simple, https://us-python.pkg.dev/colab-wheels/public/simple/\n",
            "Collecting timm\n",
            "  Downloading timm-0.6.7-py3-none-any.whl (509 kB)\n",
            "\u001b[K     |████████████████████████████████| 509 kB 15.5 MB/s \n",
            "\u001b[?25hRequirement already satisfied: torch>=1.4 in /usr/local/lib/python3.7/dist-packages (from timm) (1.12.1+cu113)\n",
            "Requirement already satisfied: torchvision in /usr/local/lib/python3.7/dist-packages (from timm) (0.13.1+cu113)\n",
            "Requirement already satisfied: typing-extensions in /usr/local/lib/python3.7/dist-packages (from torch>=1.4->timm) (4.1.1)\n",
            "Requirement already satisfied: numpy in /usr/local/lib/python3.7/dist-packages (from torchvision->timm) (1.21.6)\n",
            "Requirement already satisfied: requests in /usr/local/lib/python3.7/dist-packages (from torchvision->timm) (2.23.0)\n",
            "Requirement already satisfied: pillow!=8.3.*,>=5.3.0 in /usr/local/lib/python3.7/dist-packages (from torchvision->timm) (7.1.2)\n",
            "Requirement already satisfied: idna<3,>=2.5 in /usr/local/lib/python3.7/dist-packages (from requests->torchvision->timm) (2.10)\n",
            "Requirement already satisfied: chardet<4,>=3.0.2 in /usr/local/lib/python3.7/dist-packages (from requests->torchvision->timm) (3.0.4)\n",
            "Requirement already satisfied: urllib3!=1.25.0,!=1.25.1,<1.26,>=1.21.1 in /usr/local/lib/python3.7/dist-packages (from requests->torchvision->timm) (1.24.3)\n",
            "Requirement already satisfied: certifi>=2017.4.17 in /usr/local/lib/python3.7/dist-packages (from requests->torchvision->timm) (2022.6.15)\n",
            "Installing collected packages: timm\n",
            "Successfully installed timm-0.6.7\n"
          ]
        }
      ],
      "source": [
        "!git clone https://github.com/isl-org/MiDaS\n",
        "!pip install timm"
      ]
    },
    {
      "cell_type": "markdown",
      "metadata": {
        "id": "iP-EAeVqhMZG"
      },
      "source": [
        "## Unet (modified)\n",
        "\n",
        "The [UNET](https://github.com/DikshaMeghwal/unet-depth-prediction) architecture is cut in half and appropriate additions of convolutional & pooling layers, costitute the modified UNET leveraged to predict EG3D latent code"
      ]
    },
    {
      "cell_type": "code",
      "execution_count": null,
      "metadata": {
        "id": "ImEDpgnehLy3"
      },
      "outputs": [],
      "source": [
        "import torch\n",
        "from torch.autograd import Variable\n",
        "import torch.nn as nn\n",
        "import torch.nn.functional as F\n",
        "import pdb\n",
        "\n",
        "def init_weights(m):\n",
        "    if isinstance(m, nn.Conv2d):\n",
        "        torch.nn.init.xavier_uniform_(m.weight)\n",
        "        m.bias.data.fill_(0.01)\n",
        "\n",
        "\n",
        "class UNet(nn.Module):\n",
        "    def __init__(self, init_weights=True):\n",
        "        super(UNet, self).__init__()                                #572 * 572 * 3 - input\n",
        "        self.conv1 = nn.Conv2d(3, 64, kernel_size=3)                   #570 * 570 * 64\n",
        "        self.conv2 = nn.Conv2d(64, 64, kernel_size=3)                  #568 * 568 * 64\n",
        "                                                                         #after maxpool 284 * 284 * 64\n",
        "        self.conv3 = nn.Conv2d(64, 128, kernel_size=3)                 #282 * 282 * 128\n",
        "        self.conv4 = nn.Conv2d(128, 128, kernel_size=3)                #280 * 280 * 128\n",
        "                                                                         #after maxpool 140 * 140 * 128\n",
        "        self.conv5 = nn.Conv2d(128, 256, kernel_size=3)                #138 * 138 * 256\n",
        "        self.conv6 = nn.Conv2d(256, 256, kernel_size=3)                #136 * 136 * 256\n",
        "                                                                         #after maxpool 68 * 68 * 256\n",
        "        self.conv7 = nn.Conv2d(256, 512, kernel_size=3)                #66 * 66 * 512\n",
        "        self.conv8 = nn.Conv2d(512, 512, kernel_size=3)                #64 * 64 * 512\n",
        "                                                                         #after maxpool 32 * 32 * 512\n",
        "        self.conv9 = nn.Conv2d(512, 1024, kernel_size=3)               #30 * 30 * 1024\n",
        "        self.conv10 = nn.Conv2d(1024, 1024, kernel_size=3)             #28 * 28 * 1024\n",
        "\n",
        "        self.upsample = nn.Upsample(scale_factor=2, mode='nearest')      #56 * 56 * 1024  \n",
        "        self.upConv1 = nn.Conv2d(1024, 512, kernel_size=1)               #56 * 56 * 512\n",
        "                                                                         #after concatenation with crop of 56 * 56 * 512\n",
        "                                                                         #56 * 56 * 1024\n",
        "        self.deConv1 = nn.Conv2d(1024, 512, kernel_size = 3)             #54 * 54 * 512\n",
        "        #self.conv8                                                      #52 * 52 * 512\n",
        "\n",
        "        #upsample 1                                                      #104 * 104 * 512\n",
        "        self.upConv2 = nn.Conv2d(512, 256, kernel_size=1)                #104 * 104 * 256\n",
        "                                                                         #after concatenation with crop of 104 * 104 * 256\n",
        "                                                                         #104 * 104 * 512 \n",
        "        self.deConv2 = nn.Conv2d(512, 256, kernel_size = 3)              #102 * 102 * 256\n",
        "        #self.conv6                                                      #100 * 100 * 256\n",
        "\n",
        "        #upsample 1                                                      #200 * 200 * 256\n",
        "        self.upConv3 = nn.Conv2d(256, 128, kernel_size=1)                #200 * 200 * 128\n",
        "                                                                         #after concatenation with crop of 200 * 200 * 128\n",
        "                                                                         #200 * 200 * 256 \n",
        "        self.deConv3 = nn.Conv2d(256, 128, kernel_size = 3)              #198 * 198 * 128\n",
        "        #self.conv4                                                      #196 * 196 * 128\n",
        "\n",
        "        #upsample 1                                                      #392 * 392 * 128\n",
        "        self.upConv4 = nn.Conv2d(128, 64, kernel_size=1)                 #392 * 392 * 64\n",
        "                                                                         #after concatenation with crop of 392 * 392 * 64\n",
        "                                                                         #392 * 392 * 128\n",
        "        self.deConv4 = nn.Conv2d(128, 64, kernel_size = 3)               #390 * 390 * 64\n",
        "        #self.conv2                                                      #388 * 388 * 64\n",
        "        self.deConv5 = nn.Conv2d(64, 1, kernel_size = 1)                 #388 * 388 * 1\n",
        "\n",
        "        self.pool = nn.MaxPool2d(kernel_size=2, stride=2)\n",
        "\n",
        "\n",
        "        self.convX = nn.Conv2d(512, 512, kernel_size=3)                #64 * 64 * 512\n",
        "        self.deConvX = nn.Conv2d(14, 512, kernel_size = 1)  \n",
        "        self.finconvX = nn.Conv2d(512, 512, kernel_size=4)\n",
        "        self.co = nn.Conv2d(512, 512, kernel_size=(2, 4))\n",
        "        self.co2 = nn.Conv2d(512, 512, kernel_size=(2, 3))\n",
        "        self.co3 = nn.Conv2d(512, 512, kernel_size=2)\n",
        "\n",
        "        if init_weights:\n",
        "            self._initialize_weights()\n",
        "\n",
        "    def forward(self, x):\n",
        "                                                                         #H * W * c\n",
        "                                                                         #572 * 572 * 3\n",
        "        out1 = F.relu(self.conv1(x))                                     #570 * 570 * 64\n",
        "        #print('out1:{}'.format(out1.shape))\n",
        "        out2 = F.relu(self.conv2(out1))                                  #568 * 568 * 64\n",
        "        #print('out2:{}'.format(out2.shape))\n",
        "        out3 = self.pool(out2)                                           #284 * 284 * 64   # out of 1st encoder block\n",
        "        #print('out3:{}'.format(out3.shape))\n",
        "        out4 = F.relu(self.conv3(out3))                                  #282 * 282 * 128\n",
        "        #print('out4:{}'.format(out4.shape))\n",
        "        out5 = F.relu(self.conv4(out4))                                  #280 * 280 * 128\n",
        "        #print('out5:{}'.format(out5.shape))\n",
        "        out6 = self.pool(out5)                                           #140 * 140 * 128  # out of 2nd encoder block\n",
        "        #print('out6:{}'.format(out6.shape))\n",
        "        out7 = F.relu(self.conv5(out6))                                  #138 * 138 * 256\n",
        "        #print('out7:{}'.format(out7.shape))\n",
        "        out8 = F.relu(self.conv6(out7))                                  #136 * 136 * 256\n",
        "        #print('out8:{}'.format(out8.shape))\n",
        "        out9 = self.pool(out8)                                           #68 * 68 * 256  # out of 3rd encoder block\n",
        "        #print('out9:{}'.format(out9.shape))\n",
        "        out10 = F.relu(self.conv7(out9))                                 #66 * 66 * 512\n",
        "        #print('out10:{}'.format(out10.shape))\n",
        "        out11 = F.relu(self.conv8(out10))                                #64 * 64 * 512\n",
        "        #print('out11:{}'.format(out11.shape))\n",
        "        out12 = self.pool(out11)                                         #32 * 32 * 512 # out of 4th encoder block\n",
        "        #print('out12:{}'.format(out12.shape))\n",
        "        out13 = F.relu(self.conv9(out12))                                #30 * 30 * 1024\n",
        "        #print('out13:{}'.format(out13.shape))\n",
        "        out14 = F.relu(self.conv10(out13))                               #28 * 28 * 1024\n",
        "        #print('out14:{}'.format(out14.shape))\n",
        "\n",
        "        out15 = self.upsample(out14)                                     #56 * 56 * 1024  \n",
        "        #print('out15:{}'.format(out15.shape))\n",
        "        out16 = self.upConv1(out15)                                      #56 * 56 * 512 # \n",
        "        #print('out16:{}'.format(out16.shape))\n",
        "        out17 = self.conv8(out16)\n",
        "        #print('out17:{}'.format(out17.shape))\n",
        "        out18 = self.pool(out17)\n",
        "        #print('out18:{}'.format(out18.shape))                           # output of 1st decoder block \n",
        "        out19 = self.co(out18)\n",
        "        #print('out19:{}'.format(out19.shape))\n",
        "        #out20 = self.pool(out19)\n",
        "        out20 = self.co(out19)\n",
        "        out21 = self.co(out20)\n",
        "        #print('out12:{}'.format(out20.shape))                          \n",
        "        out22 = self.co(out21)\n",
        "        #print('out22:{}'.format(out22.shape))\n",
        "        out23 = self.co(out22)\n",
        "        #print('out23:{}'.format(out23.shape))\n",
        "        out24 = self.co2(out23)\n",
        "        #print('out24:{}'.format(out24.shape))\n",
        "        out25 = self.co2(out24)\n",
        "        #print('out25:{}'.format(out25.shape))\n",
        "        out26 = self.co2(out25)\n",
        "        #print('out26:{}'.format(out26.shape))\n",
        "        out27 = self.co3(out26)\n",
        "        #print('out26:{}'.format(out27.shape))\n",
        "        '''\n",
        "        out16_bypass = out11[:,:,4:52,4:52] # before out16_bypass = out11[:,:,4:60,4:60] \n",
        "        #print('out16:{}'.format(out16.shape))\n",
        "        out17 = torch.cat((out16, out16_bypass), 1)                      #56 * 56 * 1024\n",
        "        #print('out17:{}'.format(out17.shape))\n",
        "        out18 = F.relu(self.deConv1(out17))                              #54 * 54 * 512\n",
        "        #print('out18:{}'.format(out18.shape))\n",
        "        out19 = F.relu(self.conv8(out18))                                #52 * 52 * 512\n",
        "        #print('out19:{}'.format(out19.shape))\n",
        "        out20 = F.relu(self.convX(out19))\n",
        "        #print('out20:{}'.format(out20.shape))\n",
        "        out21 = self.pool(out20)\n",
        "        #print('out21{}'.format(out21.shape))\n",
        "        out22 = F.relu(self.convX(out21))\n",
        "        #print('out22{}'.format(out22.shape))\n",
        "        out23 = F.relu(self.convX(out22))\n",
        "        #print('out23{}'.format(out23.shape))\n",
        "        out24 = F.relu(self.finconvX(out23)) [:, :, :, 0]\n",
        "        '''\n",
        "\n",
        "\n",
        "\n",
        "\n",
        "        '''\n",
        "\n",
        "        out20 = self.upsample(out19)                                     #104 * 104 * 512\n",
        "        #print('out20:{}'.format(out20.shape))\n",
        "        out21 = self.upConv2(out20)                                      #104 * 104 * 256\n",
        "        #print('out21:{}'.format(out21.shape))\n",
        "        #before out21_bypass = out8[:, :, 16:120, 16:120]\n",
        "        out21_bypass = out8[:, :, 16:104, 16:104]                        #104 * 104 * 256\n",
        "        #print('out21_bypass:{}'.format(out21_bypass.shape))\n",
        "        out22 = torch.cat((out21, out21_bypass), 1)                      #104 * 104 * 512 \n",
        "        #print('out22:{}'.format(out22.shape))\n",
        "        out23 = F.relu(self.deConv2(out22))                              #102 * 102 * 256\n",
        "        #print('out23:{}'.format(out23.shape))\n",
        "        out24 = F.relu(self.conv6(out23))                                #100 * 100 * 256\n",
        "        #print('out24:{}'.format(out24.shape))\n",
        "\n",
        "        out25 = self.upsample(out24)                                     #200 * 200 * 256\n",
        "        #print('out25:{}'.format(out25.shape))\n",
        "        out26 = self.upConv3(out25)                                      #200 * 200 * 128\n",
        "        #print('out26:{}'.format(out26.shape))\n",
        "        # before out26_bypass = out5[:, :, 40:240, 40:240]  \n",
        "        out26_bypass = out5[:, :, 40:208, 40:208]                        #200 * 200 * 128\n",
        "        #print('out26_bypass:{}'.format(out26_bypass.shape))\n",
        "        out27 = torch.cat((out26, out26_bypass), 1)                      #200 * 200 * 256 \n",
        "        #print('out27:{}'.format(out27.shape))\n",
        "        out28 = F.relu(self.deConv3(out27))                              #198 * 198 * 128\n",
        "        #print('out28:{}'.format(out28.shape))\n",
        "        out29 = F.relu(self.conv4(out28))                                #196 * 196 * 128\n",
        "        #print('out29:{}'.format(out29.shape))\n",
        "\n",
        "        \n",
        "        out30 = self.upsample(out29)                                     #392 * 392 * 128\n",
        "        #print('out30:{}'.format(out30.shape))\n",
        "        out31 = self.upConv4(out30)                                      #392 * 392 * 64\n",
        "        #print('out31:{}'.format(out31.shape))\n",
        "        # before out31_bypass = out2[:, :, 88:480, 88:480]    \n",
        "        out31_bypass = out2[:, :, 88:416, 88:416]                        #392 * 392 * 64\n",
        "        #print('out31_bypass:{}'.format(out31_bypass.shape))\n",
        "        out32 = torch.cat((out31, out31_bypass), 1)                      #392 * 392 * 128\n",
        "        #print('out32:{}'.format(out32.shape))\n",
        "        out33 = self.deConv4(out32)                                      #390 * 390 * 64\n",
        "        #print('out33:{}'.format(out33.shape))\n",
        "        out34 = self.conv2(out33)                                        #388 * 388 * 64\n",
        "        #print('out34:{}'.format(out34.shape))\n",
        "        out35 = self.deConv5(out34)\n",
        "        print('out35:{}'.format(out35.shape))                            #388 * 388 * 1\n",
        "        '''\n",
        "        return out27\n",
        "        \n",
        "    def _initialize_weights(self):\n",
        "        self.apply(init_weights)\n"
      ]
    },
    {
      "cell_type": "code",
      "execution_count": null,
      "metadata": {
        "colab": {
          "base_uri": "https://localhost:8080/"
        },
        "id": "ZLZcrEsSnz1j",
        "outputId": "74eaaa86-082c-4561-d633-b95bf9dda2eb"
      },
      "outputs": [
        {
          "output_type": "execute_result",
          "data": {
            "text/plain": [
              "UNet(\n",
              "  (conv1): Conv2d(3, 64, kernel_size=(3, 3), stride=(1, 1))\n",
              "  (conv2): Conv2d(64, 64, kernel_size=(3, 3), stride=(1, 1))\n",
              "  (conv3): Conv2d(64, 128, kernel_size=(3, 3), stride=(1, 1))\n",
              "  (conv4): Conv2d(128, 128, kernel_size=(3, 3), stride=(1, 1))\n",
              "  (conv5): Conv2d(128, 256, kernel_size=(3, 3), stride=(1, 1))\n",
              "  (conv6): Conv2d(256, 256, kernel_size=(3, 3), stride=(1, 1))\n",
              "  (conv7): Conv2d(256, 512, kernel_size=(3, 3), stride=(1, 1))\n",
              "  (conv8): Conv2d(512, 512, kernel_size=(3, 3), stride=(1, 1))\n",
              "  (conv9): Conv2d(512, 1024, kernel_size=(3, 3), stride=(1, 1))\n",
              "  (conv10): Conv2d(1024, 1024, kernel_size=(3, 3), stride=(1, 1))\n",
              "  (upsample): Upsample(scale_factor=2.0, mode=nearest)\n",
              "  (upConv1): Conv2d(1024, 512, kernel_size=(1, 1), stride=(1, 1))\n",
              "  (deConv1): Conv2d(1024, 512, kernel_size=(3, 3), stride=(1, 1))\n",
              "  (upConv2): Conv2d(512, 256, kernel_size=(1, 1), stride=(1, 1))\n",
              "  (deConv2): Conv2d(512, 256, kernel_size=(3, 3), stride=(1, 1))\n",
              "  (upConv3): Conv2d(256, 128, kernel_size=(1, 1), stride=(1, 1))\n",
              "  (deConv3): Conv2d(256, 128, kernel_size=(3, 3), stride=(1, 1))\n",
              "  (upConv4): Conv2d(128, 64, kernel_size=(1, 1), stride=(1, 1))\n",
              "  (deConv4): Conv2d(128, 64, kernel_size=(3, 3), stride=(1, 1))\n",
              "  (deConv5): Conv2d(64, 1, kernel_size=(1, 1), stride=(1, 1))\n",
              "  (pool): MaxPool2d(kernel_size=2, stride=2, padding=0, dilation=1, ceil_mode=False)\n",
              "  (convX): Conv2d(512, 512, kernel_size=(3, 3), stride=(1, 1))\n",
              "  (deConvX): Conv2d(14, 512, kernel_size=(1, 1), stride=(1, 1))\n",
              "  (finconvX): Conv2d(512, 512, kernel_size=(4, 4), stride=(1, 1))\n",
              "  (co): Conv2d(512, 512, kernel_size=(2, 4), stride=(1, 1))\n",
              "  (co2): Conv2d(512, 512, kernel_size=(2, 3), stride=(1, 1))\n",
              "  (co3): Conv2d(512, 512, kernel_size=(2, 2), stride=(1, 1))\n",
              ")"
            ]
          },
          "metadata": {},
          "execution_count": 8
        }
      ],
      "source": [
        "model = UNet()\n",
        "model.cuda()\n",
        "#inp = torch.zeros(1, 3, 512, 512).to(device=device, dtype=torch.float)\n",
        "#out = model(inp)"
      ]
    },
    {
      "cell_type": "markdown",
      "metadata": {
        "id": "_fl7cO9QLiRB"
      },
      "source": [
        "## Train Model\n",
        "Create different sets of experiments and train different models with different data and split sets. The experiments are saved in different folders under **./experiments**. Each seperate experiment folder containts a **'.pt'** pytorch checkpoint model weights, a **'train.npy'** and **'test.npy'** numpy files that hold the paths of the training and testing data ( input and grounf truth data paths). The **'train.npy'** file holds a dictionary of arrays that can be accessed using the key **'trainX'** and **'trainY'**. Respectively, to get the paths of the validation data, load the **'val.npy'** and query the 2 arrays using **'valX** and **'valY'** keys.\n",
        "\n",
        "### Steps\n",
        "1. Model Architecture\n",
        "2. Preprocessing\n",
        "3. Postprocessing\n",
        "4. Validation/Training dataset split\n",
        "5. Model Training and save\n",
        "6. Visualize/Report training in Tensorboard"
      ]
    },
    {
      "cell_type": "code",
      "execution_count": null,
      "metadata": {
        "colab": {
          "base_uri": "https://localhost:8080/"
        },
        "id": "-GeKps-X9BOm",
        "outputId": "4d896882-10c8-4b9d-eaca-7f8dfa29ad6a"
      },
      "outputs": [
        {
          "output_type": "stream",
          "name": "stdout",
          "text": [
            "/content/MiDaS\n"
          ]
        }
      ],
      "source": [
        "%cd /content/MiDaS/\n",
        "from torchvision.transforms import Compose\n",
        "from midas.transforms import Resize, NormalizeImage, PrepareForNet\n",
        "import torch.optim as optim\n",
        "import torch.nn as nn\n",
        "import torch\n",
        "import os\n",
        "import cv2\n",
        "import utils\n",
        "import numpy as np\n",
        "import PIL\n",
        "from midas.transforms import Resize, NormalizeImage, PrepareForNet\n",
        "\n",
        "l1_loss = nn.L1Loss(reduction='mean') # l1-loss\n",
        "mse = nn.MSELoss(reduction='mean') # mse  (mean squared error) loss\n",
        "device = torch.device(\"cuda\") if torch.cuda.is_available() else torch.device(\"cpu\")\n",
        "model.train() # set in train mode\n",
        "model.to(device)\n",
        "\n",
        "\n",
        "# Input Preprocessing\n",
        "net_w, net_h = 512, 512\n",
        "resize_mode=\"minimal\"\n",
        "normalization = NormalizeImage(mean=[0.5, 0.5, 0.5], std=[0.5, 0.5, 0.5])\n",
        "\n",
        "# Transform input \n",
        "transform = Compose(\n",
        "    [ Resize(net_w, net_h, resize_target=None, keep_aspect_ratio=True, ensure_multiple_of=32,\n",
        "            resize_method=resize_mode, image_interpolation_method=cv2.INTER_CUBIC,), normalization,PrepareForNet(), ])\n",
        "\n",
        "\n",
        "\n",
        "\n",
        "lr = 0.1\n",
        "momentum = 0.9\n",
        "#optimizer = optim.Adam(model.parameters(), lr=lr)\n",
        "optimizer = optim.SGD(model.parameters(), lr=lr, momentum=momentum) # optimizer\n",
        "lr_scheduler = torch.optim.lr_scheduler.ReduceLROnPlateau(optimizer, \n",
        "                                            patience=10, verbose=True)\n",
        "\n",
        "#pretrained_modelpath = \"/content/drive/MyDrive/eg3d/experiments/VIT_latent_train20000_samples/b1_e100_weights_ckp_27.pt\"\n",
        "#optimizer_path = \"/content/drive/MyDrive/eg3d/experiments/VIT_latent_train20000_samples/b1_e100_optimizer_ckp_27.pt\"\n",
        "#model.load_state_dict(torch.load(pretrained_modelpath)) # load the final training weights\n",
        "#optimizer.load_state_dict(torch.load(optimizer_path)) # load the optimizer state"
      ]
    },
    {
      "cell_type": "code",
      "execution_count": null,
      "metadata": {
        "id": "tx8ZolBU_7N9"
      },
      "outputs": [],
      "source": [
        "### Function to perform validation\n",
        "import time\n",
        "def validate(model, X, Y, criterion):\n",
        "  '''\n",
        "  X: list that contains batches of input data [N , B], for N - numper of batches\n",
        "  and B the batch size\n",
        "  Y: GT data stored as batches of gt data [N , B]\n",
        "  '''\n",
        "  flat_valX = np.array(X).reshape(-1)\n",
        "  flat_valY = np.array(Y).reshape(-1)\n",
        "  assert len(flat_valX) == len(flat_valY)\n",
        "  inputs = []\n",
        "  gts = []\n",
        "  tot_val = 0\n",
        "  #start = time.time()\n",
        "  with torch.no_grad():\n",
        "    for i in range(0, len(flat_valX)):\n",
        "        gt_np = np.load(flat_valY[i]).transpose() # bring to appropriate shape\n",
        "        #gt_np = transform_latent(gt_np) # comment for UNET-modified model\n",
        "        img = utils.read_image(flat_valX[i])\n",
        "        img_input = transform({\"image\": img})[\"image\"]\n",
        "        input = torch.from_numpy(img_input).to(device).unsqueeze(0)\n",
        "        gt = torch.tensor(gt_np, requires_grad=True).to(device).unsqueeze(0)\n",
        "        gts.append(gt)\n",
        "        inputs.append(input)\n",
        "        prediction = model(input)\n",
        "        val_loss = criterion(prediction, gt)\n",
        "        tot_val = tot_val + val_loss\n",
        "  return tot_val"
      ]
    },
    {
      "cell_type": "code",
      "source": [
        "root = '/content/drive/MyDrive/datasets/eg3d/images/'\n",
        "for img in os.listdir(root):\n",
        "  if 'Copy' in img:\n",
        "    delete = os.path.join(root, img)\n",
        "    !rm -f {delete}\n",
        "    print(delete)\n"
      ],
      "metadata": {
        "colab": {
          "base_uri": "https://localhost:8080/"
        },
        "id": "O5zWY1JxUpCN",
        "outputId": "3eb6116e-7746-479f-a831-e5883e61d38e"
      },
      "execution_count": null,
      "outputs": [
        {
          "output_type": "stream",
          "name": "stdout",
          "text": [
            "/content/drive/MyDrive/datasets/eg3d/images/Copy of seed49488.png\n",
            "/content/drive/MyDrive/datasets/eg3d/images/Copy of seed49487.png\n",
            "/content/drive/MyDrive/datasets/eg3d/images/Copy of seed49494.png\n",
            "/content/drive/MyDrive/datasets/eg3d/images/Copy of seed49490.png\n",
            "/content/drive/MyDrive/datasets/eg3d/images/Copy of seed49486.png\n",
            "/content/drive/MyDrive/datasets/eg3d/images/Copy of seed49489.png\n",
            "/content/drive/MyDrive/datasets/eg3d/images/Copy of seed49492.png\n",
            "/content/drive/MyDrive/datasets/eg3d/images/Copy of seed49491.png\n",
            "/content/drive/MyDrive/datasets/eg3d/images/Copy of seed49493.png\n",
            "/content/drive/MyDrive/datasets/eg3d/images/Copy of seed49485.png\n",
            "/content/drive/MyDrive/datasets/eg3d/images/Copy of seed49478.png\n",
            "/content/drive/MyDrive/datasets/eg3d/images/Copy of seed49482.png\n",
            "/content/drive/MyDrive/datasets/eg3d/images/Copy of seed49481.png\n",
            "/content/drive/MyDrive/datasets/eg3d/images/Copy of seed49483.png\n",
            "/content/drive/MyDrive/datasets/eg3d/images/Copy of seed49480.png\n",
            "/content/drive/MyDrive/datasets/eg3d/images/Copy of seed49479.png\n",
            "/content/drive/MyDrive/datasets/eg3d/images/Copy of seed49475.png\n",
            "/content/drive/MyDrive/datasets/eg3d/images/Copy of seed49484.png\n",
            "/content/drive/MyDrive/datasets/eg3d/images/Copy of seed49477.png\n",
            "/content/drive/MyDrive/datasets/eg3d/images/Copy of seed49476.png\n",
            "/content/drive/MyDrive/datasets/eg3d/images/Copy of seed49466.png\n",
            "/content/drive/MyDrive/datasets/eg3d/images/Copy of seed49468.png\n",
            "/content/drive/MyDrive/datasets/eg3d/images/Copy of seed49465.png\n",
            "/content/drive/MyDrive/datasets/eg3d/images/Copy of seed49471.png\n",
            "/content/drive/MyDrive/datasets/eg3d/images/Copy of seed49470.png\n",
            "/content/drive/MyDrive/datasets/eg3d/images/Copy of seed49467.png\n",
            "/content/drive/MyDrive/datasets/eg3d/images/Copy of seed49472.png\n",
            "/content/drive/MyDrive/datasets/eg3d/images/Copy of seed49473.png\n",
            "/content/drive/MyDrive/datasets/eg3d/images/Copy of seed49474.png\n",
            "/content/drive/MyDrive/datasets/eg3d/images/Copy of seed49469.png\n",
            "/content/drive/MyDrive/datasets/eg3d/images/Copy of seed49463.png\n",
            "/content/drive/MyDrive/datasets/eg3d/images/Copy of seed49455.png\n",
            "/content/drive/MyDrive/datasets/eg3d/images/Copy of seed49464.png\n",
            "/content/drive/MyDrive/datasets/eg3d/images/Copy of seed49456.png\n",
            "/content/drive/MyDrive/datasets/eg3d/images/Copy of seed49458.png\n",
            "/content/drive/MyDrive/datasets/eg3d/images/Copy of seed49459.png\n",
            "/content/drive/MyDrive/datasets/eg3d/images/Copy of seed49462.png\n",
            "/content/drive/MyDrive/datasets/eg3d/images/Copy of seed49457.png\n",
            "/content/drive/MyDrive/datasets/eg3d/images/Copy of seed49460.png\n",
            "/content/drive/MyDrive/datasets/eg3d/images/Copy of seed49461.png\n",
            "/content/drive/MyDrive/datasets/eg3d/images/Copy of seed49452.png\n",
            "/content/drive/MyDrive/datasets/eg3d/images/Copy of seed49449.png\n",
            "/content/drive/MyDrive/datasets/eg3d/images/Copy of seed49450.png\n",
            "/content/drive/MyDrive/datasets/eg3d/images/Copy of seed49445.png\n",
            "/content/drive/MyDrive/datasets/eg3d/images/Copy of seed49454.png\n",
            "/content/drive/MyDrive/datasets/eg3d/images/Copy of seed49453.png\n",
            "/content/drive/MyDrive/datasets/eg3d/images/Copy of seed49447.png\n",
            "/content/drive/MyDrive/datasets/eg3d/images/Copy of seed49448.png\n",
            "/content/drive/MyDrive/datasets/eg3d/images/Copy of seed49451.png\n",
            "/content/drive/MyDrive/datasets/eg3d/images/Copy of seed49446.png\n",
            "/content/drive/MyDrive/datasets/eg3d/images/Copy of seed49437.png\n",
            "/content/drive/MyDrive/datasets/eg3d/images/Copy of seed49439.png\n",
            "/content/drive/MyDrive/datasets/eg3d/images/Copy of seed49440.png\n",
            "/content/drive/MyDrive/datasets/eg3d/images/Copy of seed49438.png\n",
            "/content/drive/MyDrive/datasets/eg3d/images/Copy of seed49443.png\n",
            "/content/drive/MyDrive/datasets/eg3d/images/Copy of seed49442.png\n",
            "/content/drive/MyDrive/datasets/eg3d/images/Copy of seed49441.png\n",
            "/content/drive/MyDrive/datasets/eg3d/images/Copy of seed49444.png\n",
            "/content/drive/MyDrive/datasets/eg3d/images/Copy of seed49435.png\n",
            "/content/drive/MyDrive/datasets/eg3d/images/Copy of seed49436.png\n",
            "/content/drive/MyDrive/datasets/eg3d/images/Copy of seed49430.png\n",
            "/content/drive/MyDrive/datasets/eg3d/images/Copy of seed49434.png\n",
            "/content/drive/MyDrive/datasets/eg3d/images/Copy of seed49429.png\n",
            "/content/drive/MyDrive/datasets/eg3d/images/Copy of seed49427.png\n",
            "/content/drive/MyDrive/datasets/eg3d/images/Copy of seed49431.png\n",
            "/content/drive/MyDrive/datasets/eg3d/images/Copy of seed49428.png\n",
            "/content/drive/MyDrive/datasets/eg3d/images/Copy of seed49432.png\n",
            "/content/drive/MyDrive/datasets/eg3d/images/Copy of seed49425.png\n",
            "/content/drive/MyDrive/datasets/eg3d/images/Copy of seed49426.png\n",
            "/content/drive/MyDrive/datasets/eg3d/images/Copy of seed49433.png\n",
            "/content/drive/MyDrive/datasets/eg3d/images/Copy of seed49419.png\n",
            "/content/drive/MyDrive/datasets/eg3d/images/Copy of seed49417.png\n",
            "/content/drive/MyDrive/datasets/eg3d/images/Copy of seed49415.png\n",
            "/content/drive/MyDrive/datasets/eg3d/images/Copy of seed49416.png\n",
            "/content/drive/MyDrive/datasets/eg3d/images/Copy of seed49418.png\n",
            "/content/drive/MyDrive/datasets/eg3d/images/Copy of seed49422.png\n",
            "/content/drive/MyDrive/datasets/eg3d/images/Copy of seed49423.png\n",
            "/content/drive/MyDrive/datasets/eg3d/images/Copy of seed49421.png\n",
            "/content/drive/MyDrive/datasets/eg3d/images/Copy of seed49420.png\n",
            "/content/drive/MyDrive/datasets/eg3d/images/Copy of seed49424.png\n",
            "/content/drive/MyDrive/datasets/eg3d/images/Copy of seed49413.png\n",
            "/content/drive/MyDrive/datasets/eg3d/images/Copy of seed49412.png\n",
            "/content/drive/MyDrive/datasets/eg3d/images/Copy of seed49409.png\n",
            "/content/drive/MyDrive/datasets/eg3d/images/Copy of seed49408.png\n",
            "/content/drive/MyDrive/datasets/eg3d/images/Copy of seed49414.png\n",
            "/content/drive/MyDrive/datasets/eg3d/images/Copy of seed49411.png\n",
            "/content/drive/MyDrive/datasets/eg3d/images/Copy of seed49407.png\n",
            "/content/drive/MyDrive/datasets/eg3d/images/Copy of seed49405.png\n",
            "/content/drive/MyDrive/datasets/eg3d/images/Copy of seed49406.png\n",
            "/content/drive/MyDrive/datasets/eg3d/images/Copy of seed49410.png\n",
            "/content/drive/MyDrive/datasets/eg3d/images/Copy of seed49400.png\n",
            "/content/drive/MyDrive/datasets/eg3d/images/Copy of seed49404.png\n",
            "/content/drive/MyDrive/datasets/eg3d/images/Copy of seed49399.png\n",
            "/content/drive/MyDrive/datasets/eg3d/images/Copy of seed49397.png\n",
            "/content/drive/MyDrive/datasets/eg3d/images/Copy of seed49403.png\n",
            "/content/drive/MyDrive/datasets/eg3d/images/Copy of seed49395.png\n",
            "/content/drive/MyDrive/datasets/eg3d/images/Copy of seed49402.png\n",
            "/content/drive/MyDrive/datasets/eg3d/images/Copy of seed49398.png\n",
            "/content/drive/MyDrive/datasets/eg3d/images/Copy of seed49401.png\n",
            "/content/drive/MyDrive/datasets/eg3d/images/Copy of seed49396.png\n",
            "/content/drive/MyDrive/datasets/eg3d/images/Copy of seed49388.png\n",
            "/content/drive/MyDrive/datasets/eg3d/images/Copy of seed49392.png\n",
            "/content/drive/MyDrive/datasets/eg3d/images/Copy of seed49389.png\n",
            "/content/drive/MyDrive/datasets/eg3d/images/Copy of seed49393.png\n",
            "/content/drive/MyDrive/datasets/eg3d/images/Copy of seed49385.png\n",
            "/content/drive/MyDrive/datasets/eg3d/images/Copy of seed49390.png\n",
            "/content/drive/MyDrive/datasets/eg3d/images/Copy of seed49387.png\n",
            "/content/drive/MyDrive/datasets/eg3d/images/Copy of seed49386.png\n",
            "/content/drive/MyDrive/datasets/eg3d/images/Copy of seed49394.png\n",
            "/content/drive/MyDrive/datasets/eg3d/images/Copy of seed49391.png\n",
            "/content/drive/MyDrive/datasets/eg3d/images/Copy of seed49379.png\n",
            "/content/drive/MyDrive/datasets/eg3d/images/Copy of seed49377.png\n",
            "/content/drive/MyDrive/datasets/eg3d/images/Copy of seed49381.png\n",
            "/content/drive/MyDrive/datasets/eg3d/images/Copy of seed49378.png\n",
            "/content/drive/MyDrive/datasets/eg3d/images/Copy of seed49384.png\n",
            "/content/drive/MyDrive/datasets/eg3d/images/Copy of seed49376.png\n",
            "/content/drive/MyDrive/datasets/eg3d/images/Copy of seed49382.png\n",
            "/content/drive/MyDrive/datasets/eg3d/images/Copy of seed49380.png\n",
            "/content/drive/MyDrive/datasets/eg3d/images/Copy of seed49375.png\n",
            "/content/drive/MyDrive/datasets/eg3d/images/Copy of seed49383.png\n",
            "/content/drive/MyDrive/datasets/eg3d/images/Copy of seed49371.png\n",
            "/content/drive/MyDrive/datasets/eg3d/images/Copy of seed49373.png\n",
            "/content/drive/MyDrive/datasets/eg3d/images/Copy of seed49372.png\n",
            "/content/drive/MyDrive/datasets/eg3d/images/Copy of seed49374.png\n"
          ]
        }
      ]
    },
    {
      "cell_type": "code",
      "execution_count": null,
      "metadata": {
        "id": "eilqVTwWLITf"
      },
      "outputs": [],
      "source": [
        "### Create list with GT and input data paths\n",
        "batch_size =  1#@param\n",
        "experiment_name = 'latent_train1000samples' #@param\n",
        "experiment_root = '/content/drive/MyDrive/eg3d/experiments' #@param\n",
        "experiment_path = os.path.join(experiment_root, experiment_name)\n",
        "save_train = os.path.join(experiment_path, 'train.npy')\n",
        "save_val = os.path.join(experiment_path, 'val.npy')\n",
        "log_file = os.path.join(experiment_path, 'info.log')\n",
        "os.makedirs(experiment_path, exist_ok=True)\n",
        "img_data = []\n",
        "gt_data = []\n",
        "for img in sorted(os.listdir(input_data_path)):\n",
        "  if 'of' not in img:\n",
        "    filepath = os.path.join(input_data_path, img)\n",
        "    gt_path = os.path.join(gt_data_path, img).replace('png', 'npy')\n",
        "    img_data.append(filepath)\n",
        "    gt_data.append(gt_path)\n",
        "\n",
        "\n",
        "img_data = [img_data[i:i + batch_size] for i in range(0, len(img_data), batch_size )] \n",
        "gt_data = [gt_data[i:i+batch_size] for i in range(0, len(gt_data), batch_size)] \n",
        "\n",
        "\n",
        "### Dataset split (Train/Val)\n",
        "num_samples_train =  1000 #@param\n",
        "num_samples_val =    10 #@param\n",
        "limit_train = int(num_samples_train / batch_size) # number of training batches\n",
        "limit_val = int(num_samples_val / batch_size) # number of validation batches\n",
        "valX = img_data[0:limit_val] # first n batches\n",
        "valY = gt_data[0:limit_val]\n",
        "trainX = img_data[limit_val:limit_train+limit_val]\n",
        "trainY = gt_data[limit_val:limit_train+limit_val]\n",
        "\n",
        "\n",
        "\n",
        "np.save(os.path.join(experiment_path,'train.npy'),\n",
        "        {'trainX': trainX,  'trainY': trainY})\n",
        "np.save(os.path.join(experiment_path, 'val.npy'),\n",
        "        {'valX': valX,  'valY': valY})"
      ]
    },
    {
      "cell_type": "code",
      "execution_count": null,
      "metadata": {
        "cellView": "form",
        "colab": {
          "base_uri": "https://localhost:8080/"
        },
        "id": "LcVOeOPUMqMI",
        "outputId": "f3320c64-ca0b-4de4-a46b-b416a881227c"
      },
      "outputs": [
        {
          "output_type": "stream",
          "name": "stderr",
          "text": [
            "100%|██████████| 1000/1000 [24:09<00:00,  1.45s/it]\n"
          ]
        },
        {
          "output_type": "stream",
          "name": "stdout",
          "text": [
            "e 0 - Average L1 loss: 0.080093 , Val. loss: 0.203848\n"
          ]
        },
        {
          "output_type": "stream",
          "name": "stderr",
          "text": [
            "100%|██████████| 1000/1000 [01:19<00:00, 12.65it/s]\n"
          ]
        },
        {
          "output_type": "stream",
          "name": "stdout",
          "text": [
            "e 1 - Average L1 loss: 0.078387 , Val. loss: 0.203320\n"
          ]
        },
        {
          "output_type": "stream",
          "name": "stderr",
          "text": [
            "100%|██████████| 1000/1000 [01:18<00:00, 12.67it/s]\n"
          ]
        },
        {
          "output_type": "stream",
          "name": "stdout",
          "text": [
            "e 2 - Average L1 loss: 0.077111 , Val. loss: 0.203455\n"
          ]
        },
        {
          "output_type": "stream",
          "name": "stderr",
          "text": [
            "100%|██████████| 1000/1000 [01:18<00:00, 12.68it/s]\n"
          ]
        },
        {
          "output_type": "stream",
          "name": "stdout",
          "text": [
            "e 3 - Average L1 loss: 0.076187 , Val. loss: 0.198587\n"
          ]
        },
        {
          "output_type": "stream",
          "name": "stderr",
          "text": [
            "100%|██████████| 1000/1000 [01:18<00:00, 12.69it/s]\n"
          ]
        },
        {
          "output_type": "stream",
          "name": "stdout",
          "text": [
            "e 4 - Average L1 loss: 0.075272 , Val. loss: 0.199583\n"
          ]
        },
        {
          "output_type": "stream",
          "name": "stderr",
          "text": [
            "100%|██████████| 1000/1000 [01:19<00:00, 12.58it/s]\n"
          ]
        },
        {
          "output_type": "stream",
          "name": "stdout",
          "text": [
            "e 5 - Average L1 loss: 0.074654 , Val. loss: 0.198796\n"
          ]
        },
        {
          "output_type": "stream",
          "name": "stderr",
          "text": [
            "100%|██████████| 1000/1000 [01:19<00:00, 12.64it/s]\n"
          ]
        },
        {
          "output_type": "stream",
          "name": "stdout",
          "text": [
            "e 6 - Average L1 loss: 0.073943 , Val. loss: 0.200551\n"
          ]
        },
        {
          "output_type": "stream",
          "name": "stderr",
          "text": [
            "100%|██████████| 1000/1000 [01:19<00:00, 12.57it/s]\n"
          ]
        },
        {
          "output_type": "stream",
          "name": "stdout",
          "text": [
            "e 7 - Average L1 loss: 0.073126 , Val. loss: 0.198066\n"
          ]
        },
        {
          "output_type": "stream",
          "name": "stderr",
          "text": [
            "100%|██████████| 1000/1000 [01:19<00:00, 12.59it/s]\n"
          ]
        },
        {
          "output_type": "stream",
          "name": "stdout",
          "text": [
            "e 8 - Average L1 loss: 0.072345 , Val. loss: 0.197133\n"
          ]
        },
        {
          "output_type": "stream",
          "name": "stderr",
          "text": [
            "100%|██████████| 1000/1000 [01:19<00:00, 12.59it/s]\n"
          ]
        },
        {
          "output_type": "stream",
          "name": "stdout",
          "text": [
            "e 9 - Average L1 loss: 0.071477 , Val. loss: 0.196709\n"
          ]
        },
        {
          "output_type": "stream",
          "name": "stderr",
          "text": [
            "100%|██████████| 1000/1000 [01:18<00:00, 12.68it/s]\n"
          ]
        },
        {
          "output_type": "stream",
          "name": "stdout",
          "text": [
            "e 10 - Average L1 loss: 0.070572 , Val. loss: 0.193756\n"
          ]
        },
        {
          "output_type": "stream",
          "name": "stderr",
          "text": [
            "100%|██████████| 1000/1000 [01:18<00:00, 12.69it/s]\n"
          ]
        },
        {
          "output_type": "stream",
          "name": "stdout",
          "text": [
            "e 11 - Average L1 loss: 0.069589 , Val. loss: 0.196568\n"
          ]
        },
        {
          "output_type": "stream",
          "name": "stderr",
          "text": [
            "100%|██████████| 1000/1000 [01:18<00:00, 12.68it/s]\n"
          ]
        },
        {
          "output_type": "stream",
          "name": "stdout",
          "text": [
            "e 12 - Average L1 loss: 0.068612 , Val. loss: 0.197888\n"
          ]
        },
        {
          "output_type": "stream",
          "name": "stderr",
          "text": [
            "100%|██████████| 1000/1000 [01:18<00:00, 12.67it/s]\n"
          ]
        },
        {
          "output_type": "stream",
          "name": "stdout",
          "text": [
            "e 13 - Average L1 loss: 0.067576 , Val. loss: 0.196138\n"
          ]
        },
        {
          "output_type": "stream",
          "name": "stderr",
          "text": [
            "100%|██████████| 1000/1000 [01:19<00:00, 12.53it/s]\n"
          ]
        },
        {
          "output_type": "stream",
          "name": "stdout",
          "text": [
            "e 14 - Average L1 loss: 0.066488 , Val. loss: 0.193641\n"
          ]
        },
        {
          "output_type": "stream",
          "name": "stderr",
          "text": [
            "100%|██████████| 1000/1000 [01:19<00:00, 12.65it/s]\n"
          ]
        },
        {
          "output_type": "stream",
          "name": "stdout",
          "text": [
            "e 15 - Average L1 loss: 0.065356 , Val. loss: 0.194303\n"
          ]
        },
        {
          "output_type": "stream",
          "name": "stderr",
          "text": [
            "100%|██████████| 1000/1000 [01:19<00:00, 12.53it/s]\n"
          ]
        },
        {
          "output_type": "stream",
          "name": "stdout",
          "text": [
            "e 16 - Average L1 loss: 0.064202 , Val. loss: 0.192200\n"
          ]
        },
        {
          "output_type": "stream",
          "name": "stderr",
          "text": [
            "100%|██████████| 1000/1000 [01:18<00:00, 12.72it/s]\n"
          ]
        },
        {
          "output_type": "stream",
          "name": "stdout",
          "text": [
            "e 17 - Average L1 loss: 0.062836 , Val. loss: 0.194296\n"
          ]
        },
        {
          "output_type": "stream",
          "name": "stderr",
          "text": [
            "100%|██████████| 1000/1000 [01:18<00:00, 12.73it/s]\n"
          ]
        },
        {
          "output_type": "stream",
          "name": "stdout",
          "text": [
            "e 18 - Average L1 loss: 0.061433 , Val. loss: 0.194056\n"
          ]
        },
        {
          "output_type": "stream",
          "name": "stderr",
          "text": [
            "100%|██████████| 1000/1000 [01:18<00:00, 12.74it/s]\n"
          ]
        },
        {
          "output_type": "stream",
          "name": "stdout",
          "text": [
            "e 19 - Average L1 loss: 0.060042 , Val. loss: 0.194399\n"
          ]
        },
        {
          "output_type": "stream",
          "name": "stderr",
          "text": [
            "100%|██████████| 1000/1000 [01:18<00:00, 12.80it/s]\n"
          ]
        },
        {
          "output_type": "stream",
          "name": "stdout",
          "text": [
            "e 20 - Average L1 loss: 0.058321 , Val. loss: 0.196164\n"
          ]
        },
        {
          "output_type": "stream",
          "name": "stderr",
          "text": [
            "100%|██████████| 1000/1000 [01:18<00:00, 12.78it/s]\n"
          ]
        },
        {
          "output_type": "stream",
          "name": "stdout",
          "text": [
            "e 21 - Average L1 loss: 0.056839 , Val. loss: 0.199224\n"
          ]
        },
        {
          "output_type": "stream",
          "name": "stderr",
          "text": [
            "100%|██████████| 1000/1000 [01:17<00:00, 12.85it/s]\n"
          ]
        },
        {
          "output_type": "stream",
          "name": "stdout",
          "text": [
            "e 22 - Average L1 loss: 0.054815 , Val. loss: 0.196815\n"
          ]
        },
        {
          "output_type": "stream",
          "name": "stderr",
          "text": [
            "100%|██████████| 1000/1000 [01:18<00:00, 12.77it/s]\n"
          ]
        },
        {
          "output_type": "stream",
          "name": "stdout",
          "text": [
            "e 23 - Average L1 loss: 0.053100 , Val. loss: 0.193091\n"
          ]
        },
        {
          "output_type": "stream",
          "name": "stderr",
          "text": [
            "100%|██████████| 1000/1000 [01:18<00:00, 12.71it/s]\n"
          ]
        },
        {
          "output_type": "stream",
          "name": "stdout",
          "text": [
            "e 24 - Average L1 loss: 0.050903 , Val. loss: 0.197738\n"
          ]
        },
        {
          "output_type": "stream",
          "name": "stderr",
          "text": [
            "100%|██████████| 1000/1000 [01:18<00:00, 12.78it/s]\n"
          ]
        },
        {
          "output_type": "stream",
          "name": "stdout",
          "text": [
            "e 25 - Average L1 loss: 0.048968 , Val. loss: 0.201795\n"
          ]
        },
        {
          "output_type": "stream",
          "name": "stderr",
          "text": [
            "100%|██████████| 1000/1000 [01:18<00:00, 12.81it/s]\n"
          ]
        },
        {
          "output_type": "stream",
          "name": "stdout",
          "text": [
            "e 26 - Average L1 loss: 0.046874 , Val. loss: 0.199218\n"
          ]
        },
        {
          "output_type": "stream",
          "name": "stderr",
          "text": [
            "100%|██████████| 1000/1000 [01:18<00:00, 12.70it/s]\n"
          ]
        },
        {
          "output_type": "stream",
          "name": "stdout",
          "text": [
            "e 27 - Average L1 loss: 0.044816 , Val. loss: 0.197970\n"
          ]
        },
        {
          "output_type": "stream",
          "name": "stderr",
          "text": [
            "100%|██████████| 1000/1000 [01:17<00:00, 12.82it/s]\n"
          ]
        },
        {
          "output_type": "stream",
          "name": "stdout",
          "text": [
            "e 28 - Average L1 loss: 0.042621 , Val. loss: 0.197684\n"
          ]
        },
        {
          "output_type": "stream",
          "name": "stderr",
          "text": [
            "100%|██████████| 1000/1000 [01:18<00:00, 12.79it/s]\n"
          ]
        },
        {
          "output_type": "stream",
          "name": "stdout",
          "text": [
            "e 29 - Average L1 loss: 0.040497 , Val. loss: 0.197520\n"
          ]
        },
        {
          "output_type": "stream",
          "name": "stderr",
          "text": [
            "100%|██████████| 1000/1000 [01:18<00:00, 12.78it/s]\n"
          ]
        },
        {
          "output_type": "stream",
          "name": "stdout",
          "text": [
            "e 30 - Average L1 loss: 0.038485 , Val. loss: 0.200757\n"
          ]
        },
        {
          "output_type": "stream",
          "name": "stderr",
          "text": [
            "100%|██████████| 1000/1000 [01:18<00:00, 12.81it/s]\n"
          ]
        },
        {
          "output_type": "stream",
          "name": "stdout",
          "text": [
            "e 31 - Average L1 loss: 0.036607 , Val. loss: 0.201373\n"
          ]
        },
        {
          "output_type": "stream",
          "name": "stderr",
          "text": [
            "100%|██████████| 1000/1000 [01:18<00:00, 12.78it/s]\n"
          ]
        },
        {
          "output_type": "stream",
          "name": "stdout",
          "text": [
            "e 32 - Average L1 loss: 0.034819 , Val. loss: 0.200334\n"
          ]
        },
        {
          "output_type": "stream",
          "name": "stderr",
          "text": [
            "100%|██████████| 1000/1000 [01:18<00:00, 12.79it/s]\n"
          ]
        },
        {
          "output_type": "stream",
          "name": "stdout",
          "text": [
            "e 33 - Average L1 loss: 0.033100 , Val. loss: 0.200099\n"
          ]
        },
        {
          "output_type": "stream",
          "name": "stderr",
          "text": [
            "100%|██████████| 1000/1000 [01:18<00:00, 12.78it/s]\n"
          ]
        },
        {
          "output_type": "stream",
          "name": "stdout",
          "text": [
            "e 34 - Average L1 loss: 0.031181 , Val. loss: 0.199693\n"
          ]
        },
        {
          "output_type": "stream",
          "name": "stderr",
          "text": [
            "100%|██████████| 1000/1000 [01:18<00:00, 12.75it/s]\n"
          ]
        },
        {
          "output_type": "stream",
          "name": "stdout",
          "text": [
            "e 35 - Average L1 loss: 0.029409 , Val. loss: 0.201222\n"
          ]
        },
        {
          "output_type": "stream",
          "name": "stderr",
          "text": [
            "100%|██████████| 1000/1000 [01:18<00:00, 12.75it/s]\n"
          ]
        },
        {
          "output_type": "stream",
          "name": "stdout",
          "text": [
            "e 36 - Average L1 loss: 0.027821 , Val. loss: 0.201880\n"
          ]
        },
        {
          "output_type": "stream",
          "name": "stderr",
          "text": [
            "100%|██████████| 1000/1000 [01:18<00:00, 12.75it/s]\n"
          ]
        },
        {
          "output_type": "stream",
          "name": "stdout",
          "text": [
            "e 37 - Average L1 loss: 0.026298 , Val. loss: 0.201475\n"
          ]
        },
        {
          "output_type": "stream",
          "name": "stderr",
          "text": [
            "100%|██████████| 1000/1000 [01:18<00:00, 12.75it/s]\n"
          ]
        },
        {
          "output_type": "stream",
          "name": "stdout",
          "text": [
            "e 38 - Average L1 loss: 0.024847 , Val. loss: 0.202328\n"
          ]
        },
        {
          "output_type": "stream",
          "name": "stderr",
          "text": [
            "100%|██████████| 1000/1000 [01:18<00:00, 12.67it/s]\n"
          ]
        },
        {
          "output_type": "stream",
          "name": "stdout",
          "text": [
            "e 39 - Average L1 loss: 0.023549 , Val. loss: 0.199461\n"
          ]
        },
        {
          "output_type": "stream",
          "name": "stderr",
          "text": [
            "100%|██████████| 1000/1000 [01:18<00:00, 12.71it/s]\n"
          ]
        },
        {
          "output_type": "stream",
          "name": "stdout",
          "text": [
            "e 40 - Average L1 loss: 0.022400 , Val. loss: 0.201725\n"
          ]
        },
        {
          "output_type": "stream",
          "name": "stderr",
          "text": [
            "100%|██████████| 1000/1000 [01:19<00:00, 12.66it/s]\n"
          ]
        },
        {
          "output_type": "stream",
          "name": "stdout",
          "text": [
            "e 41 - Average L1 loss: 0.021367 , Val. loss: 0.202006\n"
          ]
        },
        {
          "output_type": "stream",
          "name": "stderr",
          "text": [
            "100%|██████████| 1000/1000 [01:18<00:00, 12.70it/s]\n"
          ]
        },
        {
          "output_type": "stream",
          "name": "stdout",
          "text": [
            "e 42 - Average L1 loss: 0.020112 , Val. loss: 0.203401\n"
          ]
        },
        {
          "output_type": "stream",
          "name": "stderr",
          "text": [
            "100%|██████████| 1000/1000 [01:19<00:00, 12.65it/s]\n"
          ]
        },
        {
          "output_type": "stream",
          "name": "stdout",
          "text": [
            "e 43 - Average L1 loss: 0.019045 , Val. loss: 0.202149\n"
          ]
        },
        {
          "output_type": "stream",
          "name": "stderr",
          "text": [
            "100%|██████████| 1000/1000 [01:18<00:00, 12.73it/s]\n"
          ]
        },
        {
          "output_type": "stream",
          "name": "stdout",
          "text": [
            "e 44 - Average L1 loss: 0.018104 , Val. loss: 0.203411\n"
          ]
        },
        {
          "output_type": "stream",
          "name": "stderr",
          "text": [
            "100%|██████████| 1000/1000 [01:18<00:00, 12.71it/s]\n"
          ]
        },
        {
          "output_type": "stream",
          "name": "stdout",
          "text": [
            "e 45 - Average L1 loss: 0.017083 , Val. loss: 0.205044\n"
          ]
        },
        {
          "output_type": "stream",
          "name": "stderr",
          "text": [
            "100%|██████████| 1000/1000 [01:18<00:00, 12.67it/s]\n"
          ]
        },
        {
          "output_type": "stream",
          "name": "stdout",
          "text": [
            "e 46 - Average L1 loss: 0.016367 , Val. loss: 0.203686\n"
          ]
        },
        {
          "output_type": "stream",
          "name": "stderr",
          "text": [
            "100%|██████████| 1000/1000 [01:18<00:00, 12.70it/s]\n"
          ]
        },
        {
          "output_type": "stream",
          "name": "stdout",
          "text": [
            "e 47 - Average L1 loss: 0.015683 , Val. loss: 0.205321\n"
          ]
        },
        {
          "output_type": "stream",
          "name": "stderr",
          "text": [
            "100%|██████████| 1000/1000 [01:18<00:00, 12.70it/s]\n"
          ]
        },
        {
          "output_type": "stream",
          "name": "stdout",
          "text": [
            "e 48 - Average L1 loss: 0.014969 , Val. loss: 0.204485\n"
          ]
        },
        {
          "output_type": "stream",
          "name": "stderr",
          "text": [
            "100%|██████████| 1000/1000 [01:18<00:00, 12.70it/s]\n"
          ]
        },
        {
          "output_type": "stream",
          "name": "stdout",
          "text": [
            "e 49 - Average L1 loss: 0.014168 , Val. loss: 0.204950\n"
          ]
        },
        {
          "output_type": "stream",
          "name": "stderr",
          "text": [
            "100%|██████████| 1000/1000 [01:18<00:00, 12.76it/s]\n"
          ]
        },
        {
          "output_type": "stream",
          "name": "stdout",
          "text": [
            "e 50 - Average L1 loss: 0.013533 , Val. loss: 0.205748\n"
          ]
        },
        {
          "output_type": "stream",
          "name": "stderr",
          "text": [
            "100%|██████████| 1000/1000 [01:18<00:00, 12.75it/s]\n"
          ]
        },
        {
          "output_type": "stream",
          "name": "stdout",
          "text": [
            "e 51 - Average L1 loss: 0.012894 , Val. loss: 0.206294\n"
          ]
        },
        {
          "output_type": "stream",
          "name": "stderr",
          "text": [
            "100%|██████████| 1000/1000 [01:18<00:00, 12.72it/s]\n"
          ]
        },
        {
          "output_type": "stream",
          "name": "stdout",
          "text": [
            "e 52 - Average L1 loss: 0.012293 , Val. loss: 0.204231\n"
          ]
        },
        {
          "output_type": "stream",
          "name": "stderr",
          "text": [
            "100%|██████████| 1000/1000 [01:18<00:00, 12.76it/s]\n"
          ]
        },
        {
          "output_type": "stream",
          "name": "stdout",
          "text": [
            "e 53 - Average L1 loss: 0.011802 , Val. loss: 0.206346\n"
          ]
        },
        {
          "output_type": "stream",
          "name": "stderr",
          "text": [
            "100%|██████████| 1000/1000 [01:18<00:00, 12.72it/s]\n"
          ]
        },
        {
          "output_type": "stream",
          "name": "stdout",
          "text": [
            "e 54 - Average L1 loss: 0.011366 , Val. loss: 0.205056\n"
          ]
        },
        {
          "output_type": "stream",
          "name": "stderr",
          "text": [
            "100%|██████████| 1000/1000 [01:18<00:00, 12.75it/s]\n"
          ]
        },
        {
          "output_type": "stream",
          "name": "stdout",
          "text": [
            "e 55 - Average L1 loss: 0.010839 , Val. loss: 0.204908\n"
          ]
        },
        {
          "output_type": "stream",
          "name": "stderr",
          "text": [
            "100%|██████████| 1000/1000 [01:18<00:00, 12.72it/s]\n"
          ]
        },
        {
          "output_type": "stream",
          "name": "stdout",
          "text": [
            "e 56 - Average L1 loss: 0.010410 , Val. loss: 0.206169\n"
          ]
        },
        {
          "output_type": "stream",
          "name": "stderr",
          "text": [
            "100%|██████████| 1000/1000 [01:19<00:00, 12.59it/s]\n"
          ]
        },
        {
          "output_type": "stream",
          "name": "stdout",
          "text": [
            "e 57 - Average L1 loss: 0.009935 , Val. loss: 0.206522\n"
          ]
        },
        {
          "output_type": "stream",
          "name": "stderr",
          "text": [
            "100%|██████████| 1000/1000 [01:19<00:00, 12.63it/s]\n"
          ]
        },
        {
          "output_type": "stream",
          "name": "stdout",
          "text": [
            "e 58 - Average L1 loss: 0.009596 , Val. loss: 0.205617\n"
          ]
        },
        {
          "output_type": "stream",
          "name": "stderr",
          "text": [
            "100%|██████████| 1000/1000 [01:19<00:00, 12.64it/s]\n"
          ]
        },
        {
          "output_type": "stream",
          "name": "stdout",
          "text": [
            "e 59 - Average L1 loss: 0.009231 , Val. loss: 0.204967\n"
          ]
        },
        {
          "output_type": "stream",
          "name": "stderr",
          "text": [
            "100%|██████████| 1000/1000 [01:19<00:00, 12.61it/s]\n"
          ]
        },
        {
          "output_type": "stream",
          "name": "stdout",
          "text": [
            "e 60 - Average L1 loss: 0.008837 , Val. loss: 0.204614\n"
          ]
        },
        {
          "output_type": "stream",
          "name": "stderr",
          "text": [
            "100%|██████████| 1000/1000 [01:19<00:00, 12.63it/s]\n"
          ]
        },
        {
          "output_type": "stream",
          "name": "stdout",
          "text": [
            "e 61 - Average L1 loss: 0.008594 , Val. loss: 0.206174\n"
          ]
        },
        {
          "output_type": "stream",
          "name": "stderr",
          "text": [
            "100%|██████████| 1000/1000 [01:19<00:00, 12.59it/s]\n"
          ]
        },
        {
          "output_type": "stream",
          "name": "stdout",
          "text": [
            "e 62 - Average L1 loss: 0.008234 , Val. loss: 0.206946\n"
          ]
        },
        {
          "output_type": "stream",
          "name": "stderr",
          "text": [
            "100%|██████████| 1000/1000 [01:19<00:00, 12.60it/s]\n"
          ]
        },
        {
          "output_type": "stream",
          "name": "stdout",
          "text": [
            "e 63 - Average L1 loss: 0.008052 , Val. loss: 0.207137\n"
          ]
        },
        {
          "output_type": "stream",
          "name": "stderr",
          "text": [
            "100%|██████████| 1000/1000 [01:19<00:00, 12.61it/s]\n"
          ]
        },
        {
          "output_type": "stream",
          "name": "stdout",
          "text": [
            "e 64 - Average L1 loss: 0.007740 , Val. loss: 0.206856\n"
          ]
        },
        {
          "output_type": "stream",
          "name": "stderr",
          "text": [
            "100%|██████████| 1000/1000 [01:19<00:00, 12.63it/s]\n"
          ]
        },
        {
          "output_type": "stream",
          "name": "stdout",
          "text": [
            "e 65 - Average L1 loss: 0.007430 , Val. loss: 0.206575\n"
          ]
        },
        {
          "output_type": "stream",
          "name": "stderr",
          "text": [
            "100%|██████████| 1000/1000 [01:18<00:00, 12.68it/s]\n"
          ]
        },
        {
          "output_type": "stream",
          "name": "stdout",
          "text": [
            "e 66 - Average L1 loss: 0.007113 , Val. loss: 0.206432\n"
          ]
        },
        {
          "output_type": "stream",
          "name": "stderr",
          "text": [
            "100%|██████████| 1000/1000 [01:19<00:00, 12.66it/s]\n"
          ]
        },
        {
          "output_type": "stream",
          "name": "stdout",
          "text": [
            "e 67 - Average L1 loss: 0.006851 , Val. loss: 0.206997\n"
          ]
        },
        {
          "output_type": "stream",
          "name": "stderr",
          "text": [
            "100%|██████████| 1000/1000 [01:19<00:00, 12.64it/s]\n"
          ]
        },
        {
          "output_type": "stream",
          "name": "stdout",
          "text": [
            "e 68 - Average L1 loss: 0.006596 , Val. loss: 0.205594\n"
          ]
        },
        {
          "output_type": "stream",
          "name": "stderr",
          "text": [
            "100%|██████████| 1000/1000 [01:18<00:00, 12.68it/s]\n"
          ]
        },
        {
          "output_type": "stream",
          "name": "stdout",
          "text": [
            "e 69 - Average L1 loss: 0.006397 , Val. loss: 0.205943\n"
          ]
        },
        {
          "output_type": "stream",
          "name": "stderr",
          "text": [
            "100%|██████████| 1000/1000 [01:19<00:00, 12.65it/s]\n"
          ]
        },
        {
          "output_type": "stream",
          "name": "stdout",
          "text": [
            "e 70 - Average L1 loss: 0.006231 , Val. loss: 0.207341\n"
          ]
        },
        {
          "output_type": "stream",
          "name": "stderr",
          "text": [
            "100%|██████████| 1000/1000 [01:19<00:00, 12.64it/s]\n"
          ]
        },
        {
          "output_type": "stream",
          "name": "stdout",
          "text": [
            "e 71 - Average L1 loss: 0.006040 , Val. loss: 0.206462\n"
          ]
        },
        {
          "output_type": "stream",
          "name": "stderr",
          "text": [
            "100%|██████████| 1000/1000 [01:18<00:00, 12.66it/s]\n"
          ]
        },
        {
          "output_type": "stream",
          "name": "stdout",
          "text": [
            "e 72 - Average L1 loss: 0.005876 , Val. loss: 0.206579\n"
          ]
        },
        {
          "output_type": "stream",
          "name": "stderr",
          "text": [
            "100%|██████████| 1000/1000 [01:19<00:00, 12.62it/s]\n"
          ]
        },
        {
          "output_type": "stream",
          "name": "stdout",
          "text": [
            "e 73 - Average L1 loss: 0.005657 , Val. loss: 0.206093\n"
          ]
        },
        {
          "output_type": "stream",
          "name": "stderr",
          "text": [
            "100%|██████████| 1000/1000 [01:19<00:00, 12.66it/s]\n"
          ]
        },
        {
          "output_type": "stream",
          "name": "stdout",
          "text": [
            "e 74 - Average L1 loss: 0.005424 , Val. loss: 0.205646\n"
          ]
        },
        {
          "output_type": "stream",
          "name": "stderr",
          "text": [
            "100%|██████████| 1000/1000 [01:18<00:00, 12.69it/s]\n"
          ]
        },
        {
          "output_type": "stream",
          "name": "stdout",
          "text": [
            "e 75 - Average L1 loss: 0.005304 , Val. loss: 0.207534\n"
          ]
        },
        {
          "output_type": "stream",
          "name": "stderr",
          "text": [
            "100%|██████████| 1000/1000 [01:18<00:00, 12.67it/s]\n"
          ]
        },
        {
          "output_type": "stream",
          "name": "stdout",
          "text": [
            "e 76 - Average L1 loss: 0.005099 , Val. loss: 0.207153\n"
          ]
        },
        {
          "output_type": "stream",
          "name": "stderr",
          "text": [
            "100%|██████████| 1000/1000 [01:18<00:00, 12.71it/s]\n"
          ]
        },
        {
          "output_type": "stream",
          "name": "stdout",
          "text": [
            "e 77 - Average L1 loss: 0.004954 , Val. loss: 0.206743\n"
          ]
        },
        {
          "output_type": "stream",
          "name": "stderr",
          "text": [
            "100%|██████████| 1000/1000 [01:18<00:00, 12.72it/s]\n"
          ]
        },
        {
          "output_type": "stream",
          "name": "stdout",
          "text": [
            "e 78 - Average L1 loss: 0.004841 , Val. loss: 0.205726\n"
          ]
        },
        {
          "output_type": "stream",
          "name": "stderr",
          "text": [
            "100%|██████████| 1000/1000 [01:18<00:00, 12.72it/s]\n"
          ]
        },
        {
          "output_type": "stream",
          "name": "stdout",
          "text": [
            "e 79 - Average L1 loss: 0.004706 , Val. loss: 0.206428\n"
          ]
        },
        {
          "output_type": "stream",
          "name": "stderr",
          "text": [
            "100%|██████████| 1000/1000 [01:18<00:00, 12.72it/s]\n"
          ]
        },
        {
          "output_type": "stream",
          "name": "stdout",
          "text": [
            "e 80 - Average L1 loss: 0.004599 , Val. loss: 0.206927\n"
          ]
        },
        {
          "output_type": "stream",
          "name": "stderr",
          "text": [
            "100%|██████████| 1000/1000 [01:18<00:00, 12.74it/s]\n"
          ]
        },
        {
          "output_type": "stream",
          "name": "stdout",
          "text": [
            "e 81 - Average L1 loss: 0.004486 , Val. loss: 0.207069\n"
          ]
        },
        {
          "output_type": "stream",
          "name": "stderr",
          "text": [
            "100%|██████████| 1000/1000 [01:18<00:00, 12.70it/s]\n"
          ]
        },
        {
          "output_type": "stream",
          "name": "stdout",
          "text": [
            "e 82 - Average L1 loss: 0.004327 , Val. loss: 0.206757\n"
          ]
        },
        {
          "output_type": "stream",
          "name": "stderr",
          "text": [
            "100%|██████████| 1000/1000 [01:18<00:00, 12.70it/s]\n"
          ]
        },
        {
          "output_type": "stream",
          "name": "stdout",
          "text": [
            "e 83 - Average L1 loss: 0.004237 , Val. loss: 0.206486\n"
          ]
        },
        {
          "output_type": "stream",
          "name": "stderr",
          "text": [
            "100%|██████████| 1000/1000 [01:18<00:00, 12.71it/s]\n"
          ]
        },
        {
          "output_type": "stream",
          "name": "stdout",
          "text": [
            "e 84 - Average L1 loss: 0.004136 , Val. loss: 0.207373\n"
          ]
        },
        {
          "output_type": "stream",
          "name": "stderr",
          "text": [
            "100%|██████████| 1000/1000 [01:18<00:00, 12.69it/s]\n"
          ]
        },
        {
          "output_type": "stream",
          "name": "stdout",
          "text": [
            "e 85 - Average L1 loss: 0.004013 , Val. loss: 0.207121\n"
          ]
        },
        {
          "output_type": "stream",
          "name": "stderr",
          "text": [
            "100%|██████████| 1000/1000 [01:18<00:00, 12.67it/s]\n"
          ]
        },
        {
          "output_type": "stream",
          "name": "stdout",
          "text": [
            "e 86 - Average L1 loss: 0.003928 , Val. loss: 0.207009\n"
          ]
        },
        {
          "output_type": "stream",
          "name": "stderr",
          "text": [
            "100%|██████████| 1000/1000 [01:19<00:00, 12.66it/s]\n"
          ]
        },
        {
          "output_type": "stream",
          "name": "stdout",
          "text": [
            "e 87 - Average L1 loss: 0.003798 , Val. loss: 0.206839\n"
          ]
        },
        {
          "output_type": "stream",
          "name": "stderr",
          "text": [
            "100%|██████████| 1000/1000 [01:18<00:00, 12.67it/s]\n"
          ]
        },
        {
          "output_type": "stream",
          "name": "stdout",
          "text": [
            "e 88 - Average L1 loss: 0.003714 , Val. loss: 0.206638\n"
          ]
        },
        {
          "output_type": "stream",
          "name": "stderr",
          "text": [
            "100%|██████████| 1000/1000 [01:18<00:00, 12.68it/s]\n"
          ]
        },
        {
          "output_type": "stream",
          "name": "stdout",
          "text": [
            "e 89 - Average L1 loss: 0.003612 , Val. loss: 0.206346\n"
          ]
        },
        {
          "output_type": "stream",
          "name": "stderr",
          "text": [
            "100%|██████████| 1000/1000 [01:19<00:00, 12.64it/s]\n"
          ]
        },
        {
          "output_type": "stream",
          "name": "stdout",
          "text": [
            "e 90 - Average L1 loss: 0.003523 , Val. loss: 0.206739\n"
          ]
        },
        {
          "output_type": "stream",
          "name": "stderr",
          "text": [
            "100%|██████████| 1000/1000 [01:18<00:00, 12.66it/s]\n"
          ]
        },
        {
          "output_type": "stream",
          "name": "stdout",
          "text": [
            "e 91 - Average L1 loss: 0.003440 , Val. loss: 0.206546\n"
          ]
        },
        {
          "output_type": "stream",
          "name": "stderr",
          "text": [
            "100%|██████████| 1000/1000 [01:18<00:00, 12.70it/s]\n"
          ]
        },
        {
          "output_type": "stream",
          "name": "stdout",
          "text": [
            "e 92 - Average L1 loss: 0.003338 , Val. loss: 0.207600\n"
          ]
        },
        {
          "output_type": "stream",
          "name": "stderr",
          "text": [
            "100%|██████████| 1000/1000 [01:18<00:00, 12.72it/s]\n"
          ]
        },
        {
          "output_type": "stream",
          "name": "stdout",
          "text": [
            "e 93 - Average L1 loss: 0.003244 , Val. loss: 0.206185\n"
          ]
        },
        {
          "output_type": "stream",
          "name": "stderr",
          "text": [
            "100%|██████████| 1000/1000 [01:18<00:00, 12.69it/s]\n"
          ]
        },
        {
          "output_type": "stream",
          "name": "stdout",
          "text": [
            "e 94 - Average L1 loss: 0.003152 , Val. loss: 0.206022\n"
          ]
        },
        {
          "output_type": "stream",
          "name": "stderr",
          "text": [
            "100%|██████████| 1000/1000 [01:18<00:00, 12.68it/s]\n"
          ]
        },
        {
          "output_type": "stream",
          "name": "stdout",
          "text": [
            "e 95 - Average L1 loss: 0.003069 , Val. loss: 0.206311\n"
          ]
        },
        {
          "output_type": "stream",
          "name": "stderr",
          "text": [
            "100%|██████████| 1000/1000 [01:18<00:00, 12.66it/s]\n"
          ]
        },
        {
          "output_type": "stream",
          "name": "stdout",
          "text": [
            "e 96 - Average L1 loss: 0.002993 , Val. loss: 0.206076\n"
          ]
        },
        {
          "output_type": "stream",
          "name": "stderr",
          "text": [
            "100%|██████████| 1000/1000 [01:19<00:00, 12.62it/s]\n"
          ]
        },
        {
          "output_type": "stream",
          "name": "stdout",
          "text": [
            "e 97 - Average L1 loss: 0.002920 , Val. loss: 0.206083\n"
          ]
        },
        {
          "output_type": "stream",
          "name": "stderr",
          "text": [
            "100%|██████████| 1000/1000 [01:18<00:00, 12.66it/s]\n"
          ]
        },
        {
          "output_type": "stream",
          "name": "stdout",
          "text": [
            "e 98 - Average L1 loss: 0.002862 , Val. loss: 0.205852\n"
          ]
        },
        {
          "output_type": "stream",
          "name": "stderr",
          "text": [
            "100%|██████████| 1000/1000 [01:18<00:00, 12.69it/s]\n"
          ]
        },
        {
          "output_type": "stream",
          "name": "stdout",
          "text": [
            "e 99 - Average L1 loss: 0.002807 , Val. loss: 0.206862\n"
          ]
        },
        {
          "output_type": "stream",
          "name": "stderr",
          "text": [
            "100%|██████████| 1000/1000 [01:18<00:00, 12.67it/s]\n"
          ]
        },
        {
          "output_type": "stream",
          "name": "stdout",
          "text": [
            "e 100 - Average L1 loss: 0.002739 , Val. loss: 0.207106\n"
          ]
        }
      ],
      "source": [
        "### Training Skeleton\n",
        "from tqdm import tqdm\n",
        "import logging as lg\n",
        "from matplotlib import pyplot as plt\n",
        "from torch.utils.tensorboard import SummaryWriter\n",
        "import torch\n",
        "import random\n",
        "n_epochs =      100#@param\n",
        "f = open(log_file.replace('log', 'txt'), 'w')\n",
        "comment = '_e{}b{}lr{}t_samples{}v_samples{}'.format(n_epochs, batch_size, lr,\n",
        "                                                     num_samples_train, num_samples_val)\n",
        "f.write(comment) \n",
        "writer = SummaryWriter() # Tensorboard writer\n",
        "\n",
        "\n",
        "for epoch in range(0, n_epochs+1):\n",
        "    total_loss = 0.0\n",
        "    random.shuffle(trainX)\n",
        "    # Save model weights every 100 epochs\n",
        "    if (epoch % 1) == 0:\n",
        "      weights_savepath = os.path.join(experiment_path, \n",
        "      'b{}_e{}_weights_ckp_{}.pt'.format(batch_size, n_epochs, epoch))\n",
        "      torch.save(model.state_dict(), weights_savepath)\n",
        "      torch.save(optimizer.state_dict(), weights_savepath.replace(\"weights\", \"optimizer\"))\n",
        "    for i, batch in enumerate(tqdm(trainX, position=0, leave=True)):\n",
        "      inputs = [] # batch inputs\n",
        "      gts = [] # batch labels/gt data\n",
        "      for filepath in batch:\n",
        "        gt_path = filepath.replace('images', 'latent').replace('png', 'npy')\n",
        "        gt_np = np.load(gt_path).transpose()\n",
        "        #gt_np = transform_latent(gt_np) # uncomment for VIT architecture\n",
        "        img = utils.read_image(filepath) # RGB 3 channles between [0,1]\n",
        "        img_input = transform({\"image\": img})[\"image\"] # normalized between [-1,1]\n",
        "        #plt.imshow(img_input.transpose())\n",
        "        input = torch.from_numpy(img_input).to(device).unsqueeze(0)\n",
        "        gt = torch.tensor(gt_np).to(device).unsqueeze(0)\n",
        "        gts.append(gt)\n",
        "        inputs.append(input)\n",
        "\n",
        "      # Convert list to batch tensor\n",
        "      gts = torch.cat(gts)\n",
        "      inputs = torch.cat(inputs)\n",
        "\n",
        "      \n",
        "      # Per batch loss and update\n",
        "      predictions = model(inputs)\n",
        "      #print(predictions.shape, gts.shape)\n",
        "      pred_np = predictions.detach().cpu().numpy()\n",
        "\n",
        "      \n",
        "      loss = mse(gts, predictions) # total loss per batch\n",
        "      optimizer.zero_grad()\n",
        "      loss.backward()\n",
        "      optimizer.step()\n",
        "      total_loss += float(loss) # total average batch loss\n",
        "    \n",
        "\n",
        "    \n",
        "    total_val_loss = validate(model, X=valX, Y=valY, criterion=l1_loss)\n",
        "    val_loss = total_val_loss / num_samples_val  # average val loss\n",
        "    training_loss = total_loss / limit_train # average training loss\n",
        "    log = ' '.join([\"e\", str(epoch),\"- Average L1 loss: %f , Val. loss: %f\" %(training_loss,val_loss)])\n",
        "    # logger.info(log)\n",
        "    writer.add_scalars(\"Loss\", {'train': training_loss, 'val':val_loss},\n",
        "                      epoch)\n",
        "    writer.add_scalar(\"Loss/train\", training_loss, epoch)\n",
        "    writer.add_scalar(\"Loss/val\", val_loss, epoch)\n",
        "    print(log)\n",
        "    f.write(log + '\\n')\n",
        "    f.flush()\n",
        "    writer.flush()\n",
        "    lr_scheduler.step(total_loss)\n",
        "\n",
        "\n",
        "f.close() # stop writing in file\n",
        "#writer.add_mesh(tag='mesh', vertices=verts, faces=faces, colors=colors)\n",
        "writer.close() # stop Tensorboard writing"
      ]
    },
    {
      "cell_type": "code",
      "execution_count": null,
      "metadata": {
        "id": "QK1_E9BEHOoN"
      },
      "outputs": [],
      "source": [
        "# Save model weights\n",
        "torch.save(model.state_dict(), weights_savepath)"
      ]
    },
    {
      "cell_type": "code",
      "execution_count": null,
      "metadata": {
        "id": "wQvEOAxtfRnT"
      },
      "outputs": [],
      "source": [
        "# Run Tensorboard locally\n",
        "%load_ext tensorboard\n",
        "%tensorboard --logdir runs"
      ]
    },
    {
      "cell_type": "code",
      "execution_count": null,
      "metadata": {
        "id": "AACkrSo-jgoz"
      },
      "outputs": [],
      "source": [
        "# Upload Tensorboard  analytics to .dev\n",
        "!tensorboard dev upload --logdir runs \\\n",
        "--name {experiment_name} \\\n",
        "--description \"Simple check up test\""
      ]
    },
    {
      "cell_type": "markdown",
      "metadata": {
        "id": "Mn-tKbclbEGp"
      },
      "source": [
        "## Test Model\n",
        "Input an RGB single-view image of a human face and predict the EG3D latent code (style vector).All latent code predictions can be reproduced/synthesized (via EG3D) to the respective images using [this notebook](https://colab.research.google.com/drive/1rILRjSyH_TPyk4Jhf6xHneU7DxZvskZv?usp=sharing)"
      ]
    },
    {
      "cell_type": "code",
      "execution_count": null,
      "metadata": {
        "cellView": "form",
        "id": "D0ih1IgHD3-J"
      },
      "outputs": [],
      "source": [
        "#@markdown Create and save list of image paths $ \\to\\ $ '/content/val.npy'\n",
        "paths = []\n",
        "path = '/content/drive/MyDrive/datasets/FFHQ/00000/'\n",
        "for img_path in os.listdir(path):\n",
        "  if ('.jpg' in img_path) or ('.png' in img_path):\n",
        "    fullpath = os.path.join(path, img_path)\n",
        "    paths.append(fullpath)\n",
        "\n",
        "  if len(paths) > 2:\n",
        "    break \n",
        "\n",
        "np.save('/content/val.npy', {'valX': paths})\n",
        "#np.save('/content/val.npy', paths)"
      ]
    },
    {
      "cell_type": "code",
      "execution_count": null,
      "metadata": {
        "cellView": "form",
        "colab": {
          "base_uri": "https://localhost:8080/"
        },
        "id": "WKUvRiakZBWa",
        "outputId": "cad537ee-38c7-4f23-e468-527744bbd4e9"
      },
      "outputs": [
        {
          "name": "stdout",
          "output_type": "stream",
          "text": [
            "/content/MiDaS\n",
            "device: cuda\n",
            "finished\n"
          ]
        }
      ],
      "source": [
        "### Evaluate model\n",
        "\"\"\"Compute depth maps for images in the input folder.\n",
        "\"\"\"\n",
        "%cd /content/MiDaS\n",
        "from torchvision.transforms import Compose\n",
        "from midas.dpt_depth import DPTDepthModel\n",
        "from midas.transforms import Resize, NormalizeImage, PrepareForNet\n",
        "import torch.optim as optim\n",
        "import torch.nn as nn\n",
        "import torch\n",
        "import os\n",
        "import cv2\n",
        "import utils\n",
        "import numpy as np\n",
        "import PIL\n",
        "from midas.transforms import Resize, NormalizeImage, PrepareForNet\n",
        "from torchvision.transforms import Compose\n",
        "\n",
        "model_path =  \"/content/drive/MyDrive/eg3d/experiments/latent_train10k_samples/b1_e100_weights_ckp_87.pt\" #@param {type: \"string\"}\n",
        "img_path = '/content/drive/MyDrive/datasets/eg3d/images/seed48495.png' #@param {type: \"string\"}\n",
        "#@markdown or give a path to a list of images\n",
        "img_list_path = \"/content/val.npy\" #@param {type: \"string\"}\n",
        "save = True #@param {type:\"boolean\"}\n",
        "output_root = '/content/' #@param {type: \"string\"}\n",
        "\n",
        "\n",
        "# select device\n",
        "device = torch.device(\"cuda\" if torch.cuda.is_available() else \"cpu\")\n",
        "print(\"device: %s\" % device)\n",
        "\n",
        "\n",
        "net_w, net_h =  512, 512\n",
        "normalization = NormalizeImage(mean=[0.5, 0.5, 0.5], std=[0.5, 0.5, 0.5])\n",
        "# Input preprocessingg\n",
        "transform = Compose(\n",
        "    [\n",
        "        Resize(\n",
        "            net_w,\n",
        "            net_h,\n",
        "            resize_target=None,\n",
        "            keep_aspect_ratio=True,\n",
        "            ensure_multiple_of=32,\n",
        "            resize_method='minimal',\n",
        "            image_interpolation_method=cv2.INTER_CUBIC,\n",
        "        ),\n",
        "        normalization,\n",
        "        PrepareForNet(),\n",
        "    ]\n",
        ")\n",
        "\n",
        "model.eval()\n",
        "model.to(device)\n",
        "\n",
        "try:\n",
        "  img_list = np.load(img_list_path, allow_pickle=True).item()['valX']\n",
        "except:\n",
        "  try:\n",
        "    img_list = np.load(img_list_path, allow_pickle=True)\n",
        "  except:\n",
        "    print('Img path list is not used or wrong path/format')\n",
        "    img_list = [[img_path], ]\n",
        "\n",
        "\n",
        "# get input\n",
        "with torch.no_grad():\n",
        "  for img_path in img_list:\n",
        "    img = utils.read_image(img_path) \n",
        "    img_input = transform({\"image\": img})[\"image\"]\n",
        "    input = torch.from_numpy(img_input).to(device).unsqueeze(0)\n",
        "    prediction = model(input)\n",
        "    prediction = prediction.squeeze().detach().cpu().numpy().transpose() # convert to (1, 14, 512)\n",
        "    img_name = 'out'\n",
        "    example = img_path.split('/')[-1].split('.')[0] # name of sample\n",
        "    os.makedirs(os.path.join(output_root, example), exist_ok=True)\n",
        "    filename = os.path.join(\n",
        "    os.path.join(output_root,example), os.path.splitext(os.path.basename(img_name))[0])\n",
        "    output_path = filename + '.png'\n",
        "    npy_savepath = filename + '.npy'\n",
        "    #save input image\n",
        "    if save:\n",
        "      PIL.Image.open(img_path).save(output_path.replace('out', 'input'))\n",
        "      # save latent code\n",
        "      prediction = np.expand_dims(prediction, axis=0)\n",
        "      np.save(npy_savepath, prediction)\n",
        "    \n",
        "\n",
        "print(\"finished\")"
      ]
    },
    {
      "cell_type": "markdown",
      "metadata": {
        "id": "aZnyi1hdE7_u"
      },
      "source": [
        "## Model Evaluation\n",
        "To evaluate the model on unseen data, the **mean l1-loss** is used as an evaluation metric. For proper evaluation, paths to both the **input image** and corresponding **gt latent code**, are required. All latent code predictions can be reproduced/synthesized (via EG3D) to the respective images using [this notebook](https://colab.research.google.com/drive/1rILRjSyH_TPyk4Jhf6xHneU7DxZvskZv?usp=sharing)"
      ]
    },
    {
      "cell_type": "code",
      "execution_count": null,
      "metadata": {
        "colab": {
          "base_uri": "https://localhost:8080/"
        },
        "id": "01yn4T9kE7_v",
        "outputId": "77e87372-7345-4a76-9ea2-4ea623b31a6e"
      },
      "outputs": [
        {
          "output_type": "stream",
          "name": "stdout",
          "text": [
            "['/content/drive/MyDrive/datasets/prosopo_new/input/00002.png', '/content/drive/MyDrive/datasets/prosopo_new/input/00003.png', '/content/drive/MyDrive/datasets/prosopo_new/input/00004.png', '/content/drive/MyDrive/datasets/prosopo_new/input/00005.png', '/content/drive/MyDrive/datasets/prosopo_new/input/00006.png', '/content/drive/MyDrive/datasets/prosopo_new/input/00007.png', '/content/drive/MyDrive/datasets/prosopo_new/input/00008.png', '/content/drive/MyDrive/datasets/prosopo_new/input/00009.png', '/content/drive/MyDrive/datasets/prosopo_new/input/00014.png', '/content/drive/MyDrive/datasets/prosopo_new/input/00015.png', '/content/drive/MyDrive/datasets/prosopo_new/input/00018.png', '/content/drive/MyDrive/datasets/prosopo_new/input/00019.png', '/content/drive/MyDrive/datasets/prosopo_new/input/00020.png', '/content/drive/MyDrive/datasets/prosopo_new/input/00021.png', '/content/drive/MyDrive/datasets/prosopo_new/input/00022.png', '/content/drive/MyDrive/datasets/prosopo_new/input/00023.png', '/content/drive/MyDrive/datasets/prosopo_new/input/00024.png', '/content/drive/MyDrive/datasets/prosopo_new/input/00025.png', '/content/drive/MyDrive/datasets/prosopo_new/input/00026.png', '/content/drive/MyDrive/datasets/prosopo_new/input/00027.png', '/content/drive/MyDrive/datasets/prosopo_new/input/00028.png', '/content/drive/MyDrive/datasets/prosopo_new/input/00029.png', '/content/drive/MyDrive/datasets/prosopo_new/input/00030.png', '/content/drive/MyDrive/datasets/prosopo_new/input/00031.png', '/content/drive/MyDrive/datasets/prosopo_new/input/00032.png', '/content/drive/MyDrive/datasets/prosopo_new/input/00033.png', '/content/drive/MyDrive/datasets/prosopo_new/input/00034.png', '/content/drive/MyDrive/datasets/prosopo_new/input/00035.png', '/content/drive/MyDrive/datasets/prosopo_new/input/00036.png', '/content/drive/MyDrive/datasets/prosopo_new/input/00038.png', '/content/drive/MyDrive/datasets/prosopo_new/input/00039.png', '/content/drive/MyDrive/datasets/prosopo_new/input/00040.png', '/content/drive/MyDrive/datasets/prosopo_new/input/00041.png', '/content/drive/MyDrive/datasets/prosopo_new/input/00042.png', '/content/drive/MyDrive/datasets/prosopo_new/input/00043.png', '/content/drive/MyDrive/datasets/prosopo_new/input/00046.png', '/content/drive/MyDrive/datasets/prosopo_new/input/00047.png', '/content/drive/MyDrive/datasets/prosopo_new/input/00050.png', '/content/drive/MyDrive/datasets/prosopo_new/input/00051.png', '/content/drive/MyDrive/datasets/prosopo_new/input/00052.png', '/content/drive/MyDrive/datasets/prosopo_new/input/00053.png', '/content/drive/MyDrive/datasets/prosopo_new/input/00058.png', '/content/drive/MyDrive/datasets/prosopo_new/input/00059.png', '/content/drive/MyDrive/datasets/prosopo_new/input/00060.png', '/content/drive/MyDrive/datasets/prosopo_new/input/00061.png', '/content/drive/MyDrive/datasets/prosopo_new/input/00062.png', '/content/drive/MyDrive/datasets/prosopo_new/input/00063.png', '/content/drive/MyDrive/datasets/prosopo_new/input/00072.png', '/content/drive/MyDrive/datasets/prosopo_new/input/00073.png', '/content/drive/MyDrive/datasets/prosopo_new/input/00074.png', '/content/drive/MyDrive/datasets/prosopo_new/input/00075.png', '/content/drive/MyDrive/datasets/prosopo_new/input/00078.png', '/content/drive/MyDrive/datasets/prosopo_new/input/00079.png', '/content/drive/MyDrive/datasets/prosopo_new/input/00080.png', '/content/drive/MyDrive/datasets/prosopo_new/input/00081.png', '/content/drive/MyDrive/datasets/prosopo_new/input/00082.png', '/content/drive/MyDrive/datasets/prosopo_new/input/00083.png', '/content/drive/MyDrive/datasets/prosopo_new/input/00084.png', '/content/drive/MyDrive/datasets/prosopo_new/input/00085.png', '/content/drive/MyDrive/datasets/prosopo_new/input/00090.png', '/content/drive/MyDrive/datasets/prosopo_new/input/00091.png', '/content/drive/MyDrive/datasets/prosopo_new/input/00092.png', '/content/drive/MyDrive/datasets/prosopo_new/input/00093.png', '/content/drive/MyDrive/datasets/prosopo_new/input/00096.png', '/content/drive/MyDrive/datasets/prosopo_new/input/00097.png', '/content/drive/MyDrive/datasets/prosopo_new/input/00098.png', '/content/drive/MyDrive/datasets/prosopo_new/input/00099.png', '/content/drive/MyDrive/datasets/prosopo_new/input/00100.png', '/content/drive/MyDrive/datasets/prosopo_new/input/00101.png', '/content/drive/MyDrive/datasets/prosopo_new/input/00102.png', '/content/drive/MyDrive/datasets/prosopo_new/input/00103.png', '/content/drive/MyDrive/datasets/prosopo_new/input/00104.png', '/content/drive/MyDrive/datasets/prosopo_new/input/00105.png', '/content/drive/MyDrive/datasets/prosopo_new/input/00108.png', '/content/drive/MyDrive/datasets/prosopo_new/input/00109.png', '/content/drive/MyDrive/datasets/prosopo_new/input/00110.png', '/content/drive/MyDrive/datasets/prosopo_new/input/00111.png', '/content/drive/MyDrive/datasets/prosopo_new/input/00112.png', '/content/drive/MyDrive/datasets/prosopo_new/input/00113.png', '/content/drive/MyDrive/datasets/prosopo_new/input/00114.png', '/content/drive/MyDrive/datasets/prosopo_new/input/00115.png', '/content/drive/MyDrive/datasets/prosopo_new/input/00116.png', '/content/drive/MyDrive/datasets/prosopo_new/input/00117.png', '/content/drive/MyDrive/datasets/prosopo_new/input/00118.png', '/content/drive/MyDrive/datasets/prosopo_new/input/00119.png', '/content/drive/MyDrive/datasets/prosopo_new/input/00122.png', '/content/drive/MyDrive/datasets/prosopo_new/input/00123.png', '/content/drive/MyDrive/datasets/prosopo_new/input/00124.png', '/content/drive/MyDrive/datasets/prosopo_new/input/00125.png', '/content/drive/MyDrive/datasets/prosopo_new/input/00128.png', '/content/drive/MyDrive/datasets/prosopo_new/input/00129.png', '/content/drive/MyDrive/datasets/prosopo_new/input/00130.png', '/content/drive/MyDrive/datasets/prosopo_new/input/00131.png', '/content/drive/MyDrive/datasets/prosopo_new/input/00132.png', '/content/drive/MyDrive/datasets/prosopo_new/input/00133.png', '/content/drive/MyDrive/datasets/prosopo_new/input/00134.png', '/content/drive/MyDrive/datasets/prosopo_new/input/00135.png', '/content/drive/MyDrive/datasets/prosopo_new/input/00136.png', '/content/drive/MyDrive/datasets/prosopo_new/input/00137.png', '/content/drive/MyDrive/datasets/prosopo_new/input/00138.png', '/content/drive/MyDrive/datasets/prosopo_new/input/00139.png', '/content/drive/MyDrive/datasets/prosopo_new/input/00140.png', '/content/drive/MyDrive/datasets/prosopo_new/input/00141.png', '/content/drive/MyDrive/datasets/prosopo_new/input/00142.png', '/content/drive/MyDrive/datasets/prosopo_new/input/00143.png', '/content/drive/MyDrive/datasets/prosopo_new/input/00144.png', '/content/drive/MyDrive/datasets/prosopo_new/input/00145.png', '/content/drive/MyDrive/datasets/prosopo_new/input/00146.png', '/content/drive/MyDrive/datasets/prosopo_new/input/00147.png', '/content/drive/MyDrive/datasets/prosopo_new/input/00148.png', '/content/drive/MyDrive/datasets/prosopo_new/input/00149.png', '/content/drive/MyDrive/datasets/prosopo_new/input/00154.png', '/content/drive/MyDrive/datasets/prosopo_new/input/00155.png', '/content/drive/MyDrive/datasets/prosopo_new/input/00156.png', '/content/drive/MyDrive/datasets/prosopo_new/input/00157.png', '/content/drive/MyDrive/datasets/prosopo_new/input/00158.png', '/content/drive/MyDrive/datasets/prosopo_new/input/00159.png', '/content/drive/MyDrive/datasets/prosopo_new/input/00162.png', '/content/drive/MyDrive/datasets/prosopo_new/input/00163.png', '/content/drive/MyDrive/datasets/prosopo_new/input/00164.png', '/content/drive/MyDrive/datasets/prosopo_new/input/00165.png', '/content/drive/MyDrive/datasets/prosopo_new/input/00166.png', '/content/drive/MyDrive/datasets/prosopo_new/input/00167.png', '/content/drive/MyDrive/datasets/prosopo_new/input/00170.png', '/content/drive/MyDrive/datasets/prosopo_new/input/00171.png', '/content/drive/MyDrive/datasets/prosopo_new/input/00172.png', '/content/drive/MyDrive/datasets/prosopo_new/input/00173.png', '/content/drive/MyDrive/datasets/prosopo_new/input/00178.png', '/content/drive/MyDrive/datasets/prosopo_new/input/00179.png', '/content/drive/MyDrive/datasets/prosopo_new/input/00180.png', '/content/drive/MyDrive/datasets/prosopo_new/input/00181.png', '/content/drive/MyDrive/datasets/prosopo_new/input/00184.png', '/content/drive/MyDrive/datasets/prosopo_new/input/00185.png', '/content/drive/MyDrive/datasets/prosopo_new/input/00186.png', '/content/drive/MyDrive/datasets/prosopo_new/input/00187.png', '/content/drive/MyDrive/datasets/prosopo_new/input/00188.png', '/content/drive/MyDrive/datasets/prosopo_new/input/00189.png', '/content/drive/MyDrive/datasets/prosopo_new/input/00190.png', '/content/drive/MyDrive/datasets/prosopo_new/input/00191.png', '/content/drive/MyDrive/datasets/prosopo_new/input/00196.png', '/content/drive/MyDrive/datasets/prosopo_new/input/00197.png', '/content/drive/MyDrive/datasets/prosopo_new/input/00198.png', '/content/drive/MyDrive/datasets/prosopo_new/input/00199.png', '/content/drive/MyDrive/datasets/prosopo_new/input/00200.png', '/content/drive/MyDrive/datasets/prosopo_new/input/00201.png', '/content/drive/MyDrive/datasets/prosopo_new/input/00202.png', '/content/drive/MyDrive/datasets/prosopo_new/input/00203.png', '/content/drive/MyDrive/datasets/prosopo_new/input/00204.png', '/content/drive/MyDrive/datasets/prosopo_new/input/00205.png', '/content/drive/MyDrive/datasets/prosopo_new/input/00206.png', '/content/drive/MyDrive/datasets/prosopo_new/input/00207.png', '/content/drive/MyDrive/datasets/prosopo_new/input/00208.png', '/content/drive/MyDrive/datasets/prosopo_new/input/00209.png', '/content/drive/MyDrive/datasets/prosopo_new/input/00210.png', '/content/drive/MyDrive/datasets/prosopo_new/input/00211.png', '/content/drive/MyDrive/datasets/prosopo_new/input/00220.png', '/content/drive/MyDrive/datasets/prosopo_new/input/00221.png', '/content/drive/MyDrive/datasets/prosopo_new/input/00226.png', '/content/drive/MyDrive/datasets/prosopo_new/input/00227.png', '/content/drive/MyDrive/datasets/prosopo_new/input/00228.png', '/content/drive/MyDrive/datasets/prosopo_new/input/00229.png', '/content/drive/MyDrive/datasets/prosopo_new/input/00230.png', '/content/drive/MyDrive/datasets/prosopo_new/input/00231.png', '/content/drive/MyDrive/datasets/prosopo_new/input/00232.png', '/content/drive/MyDrive/datasets/prosopo_new/input/00233.png', '/content/drive/MyDrive/datasets/prosopo_new/input/00238.png', '/content/drive/MyDrive/datasets/prosopo_new/input/00239.png', '/content/drive/MyDrive/datasets/prosopo_new/input/00250.png', '/content/drive/MyDrive/datasets/prosopo_new/input/00251.png', '/content/drive/MyDrive/datasets/prosopo_new/input/00252.png', '/content/drive/MyDrive/datasets/prosopo_new/input/00253.png', '/content/drive/MyDrive/datasets/prosopo_new/input/00254.png', '/content/drive/MyDrive/datasets/prosopo_new/input/00255.png', '/content/drive/MyDrive/datasets/prosopo_new/input/00256.png', '/content/drive/MyDrive/datasets/prosopo_new/input/00257.png', '/content/drive/MyDrive/datasets/prosopo_new/input/00258.png', '/content/drive/MyDrive/datasets/prosopo_new/input/00259.png', '/content/drive/MyDrive/datasets/prosopo_new/input/00260.png', '/content/drive/MyDrive/datasets/prosopo_new/input/00261.png', '/content/drive/MyDrive/datasets/prosopo_new/input/00262.png', '/content/drive/MyDrive/datasets/prosopo_new/input/00263.png', '/content/drive/MyDrive/datasets/prosopo_new/input/00264.png', '/content/drive/MyDrive/datasets/prosopo_new/input/00265.png', '/content/drive/MyDrive/datasets/prosopo_new/input/00266.png', '/content/drive/MyDrive/datasets/prosopo_new/input/00267.png', '/content/drive/MyDrive/datasets/prosopo_new/input/00268.png', '/content/drive/MyDrive/datasets/prosopo_new/input/00269.png', '/content/drive/MyDrive/datasets/prosopo_new/input/00272.png', '/content/drive/MyDrive/datasets/prosopo_new/input/00273.png', '/content/drive/MyDrive/datasets/prosopo_new/input/00274.png', '/content/drive/MyDrive/datasets/prosopo_new/input/00275.png', '/content/drive/MyDrive/datasets/prosopo_new/input/00278.png', '/content/drive/MyDrive/datasets/prosopo_new/input/00279.png', '/content/drive/MyDrive/datasets/prosopo_new/input/00280.png', '/content/drive/MyDrive/datasets/prosopo_new/input/00281.png', '/content/drive/MyDrive/datasets/prosopo_new/input/00282.png', '/content/drive/MyDrive/datasets/prosopo_new/input/00283.png', '/content/drive/MyDrive/datasets/prosopo_new/input/00284.png', '/content/drive/MyDrive/datasets/prosopo_new/input/00285.png', '/content/drive/MyDrive/datasets/prosopo_new/input/00286.png', '/content/drive/MyDrive/datasets/prosopo_new/input/00287.png', '/content/drive/MyDrive/datasets/prosopo_new/input/00288.png', '/content/drive/MyDrive/datasets/prosopo_new/input/00289.png', '/content/drive/MyDrive/datasets/prosopo_new/input/00290.png', '/content/drive/MyDrive/datasets/prosopo_new/input/00291.png', '/content/drive/MyDrive/datasets/prosopo_new/input/00294.png', '/content/drive/MyDrive/datasets/prosopo_new/input/00295.png', '/content/drive/MyDrive/datasets/prosopo_new/input/00296.png', '/content/drive/MyDrive/datasets/prosopo_new/input/00297.png', '/content/drive/MyDrive/datasets/prosopo_new/input/00298.png', '/content/drive/MyDrive/datasets/prosopo_new/input/00299.png', '/content/drive/MyDrive/datasets/prosopo_new/input/00300.png', '/content/drive/MyDrive/datasets/prosopo_new/input/00301.png', '/content/drive/MyDrive/datasets/prosopo_new/input/00308.png', '/content/drive/MyDrive/datasets/prosopo_new/input/00309.png', '/content/drive/MyDrive/datasets/prosopo_new/input/00310.png', '/content/drive/MyDrive/datasets/prosopo_new/input/00311.png', '/content/drive/MyDrive/datasets/prosopo_new/input/00314.png', '/content/drive/MyDrive/datasets/prosopo_new/input/00315.png', '/content/drive/MyDrive/datasets/prosopo_new/input/00316.png', '/content/drive/MyDrive/datasets/prosopo_new/input/00317.png', '/content/drive/MyDrive/datasets/prosopo_new/input/00318.png', '/content/drive/MyDrive/datasets/prosopo_new/input/00319.png', '/content/drive/MyDrive/datasets/prosopo_new/input/00320.png', '/content/drive/MyDrive/datasets/prosopo_new/input/00321.png', '/content/drive/MyDrive/datasets/prosopo_new/input/00322.png', '/content/drive/MyDrive/datasets/prosopo_new/input/00323.png', '/content/drive/MyDrive/datasets/prosopo_new/input/00324.png', '/content/drive/MyDrive/datasets/prosopo_new/input/00325.png', '/content/drive/MyDrive/datasets/prosopo_new/input/00326.png', '/content/drive/MyDrive/datasets/prosopo_new/input/00327.png', '/content/drive/MyDrive/datasets/prosopo_new/input/00328.png', '/content/drive/MyDrive/datasets/prosopo_new/input/00329.png', '/content/drive/MyDrive/datasets/prosopo_new/input/00334.png', '/content/drive/MyDrive/datasets/prosopo_new/input/00335.png', '/content/drive/MyDrive/datasets/prosopo_new/input/00338.png', '/content/drive/MyDrive/datasets/prosopo_new/input/00339.png', '/content/drive/MyDrive/datasets/prosopo_new/input/00342.png', '/content/drive/MyDrive/datasets/prosopo_new/input/00343.png', '/content/drive/MyDrive/datasets/prosopo_new/input/00348.png', '/content/drive/MyDrive/datasets/prosopo_new/input/00349.png', '/content/drive/MyDrive/datasets/prosopo_new/input/00350.png', '/content/drive/MyDrive/datasets/prosopo_new/input/00351.png', '/content/drive/MyDrive/datasets/prosopo_new/input/00352.png', '/content/drive/MyDrive/datasets/prosopo_new/input/00353.png', '/content/drive/MyDrive/datasets/prosopo_new/input/00356.png', '/content/drive/MyDrive/datasets/prosopo_new/input/00357.png', '/content/drive/MyDrive/datasets/prosopo_new/input/00360.png', '/content/drive/MyDrive/datasets/prosopo_new/input/00361.png', '/content/drive/MyDrive/datasets/prosopo_new/input/00364.png', '/content/drive/MyDrive/datasets/prosopo_new/input/00365.png', '/content/drive/MyDrive/datasets/prosopo_new/input/00370.png', '/content/drive/MyDrive/datasets/prosopo_new/input/00371.png', '/content/drive/MyDrive/datasets/prosopo_new/input/00372.png', '/content/drive/MyDrive/datasets/prosopo_new/input/00373.png', '/content/drive/MyDrive/datasets/prosopo_new/input/00376.png', '/content/drive/MyDrive/datasets/prosopo_new/input/00377.png', '/content/drive/MyDrive/datasets/prosopo_new/input/00378.png', '/content/drive/MyDrive/datasets/prosopo_new/input/00379.png', '/content/drive/MyDrive/datasets/prosopo_new/input/00382.png', '/content/drive/MyDrive/datasets/prosopo_new/input/00383.png', '/content/drive/MyDrive/datasets/prosopo_new/input/00390.png', '/content/drive/MyDrive/datasets/prosopo_new/input/00391.png', '/content/drive/MyDrive/datasets/prosopo_new/input/00392.png', '/content/drive/MyDrive/datasets/prosopo_new/input/00393.png', '/content/drive/MyDrive/datasets/prosopo_new/input/00394.png', '/content/drive/MyDrive/datasets/prosopo_new/input/00395.png', '/content/drive/MyDrive/datasets/prosopo_new/input/00396.png', '/content/drive/MyDrive/datasets/prosopo_new/input/00397.png', '/content/drive/MyDrive/datasets/prosopo_new/input/00398.png', '/content/drive/MyDrive/datasets/prosopo_new/input/00399.png', '/content/drive/MyDrive/datasets/prosopo_new/input/00400.png', '/content/drive/MyDrive/datasets/prosopo_new/input/00401.png', '/content/drive/MyDrive/datasets/prosopo_new/input/00404.png', '/content/drive/MyDrive/datasets/prosopo_new/input/00405.png', '/content/drive/MyDrive/datasets/prosopo_new/input/00408.png', '/content/drive/MyDrive/datasets/prosopo_new/input/00409.png', '/content/drive/MyDrive/datasets/prosopo_new/input/00412.png', '/content/drive/MyDrive/datasets/prosopo_new/input/00413.png', '/content/drive/MyDrive/datasets/prosopo_new/input/00414.png', '/content/drive/MyDrive/datasets/prosopo_new/input/00415.png', '/content/drive/MyDrive/datasets/prosopo_new/input/00416.png', '/content/drive/MyDrive/datasets/prosopo_new/input/00417.png', '/content/drive/MyDrive/datasets/prosopo_new/input/00418.png', '/content/drive/MyDrive/datasets/prosopo_new/input/00419.png', '/content/drive/MyDrive/datasets/prosopo_new/input/00420.png', '/content/drive/MyDrive/datasets/prosopo_new/input/00421.png', '/content/drive/MyDrive/datasets/prosopo_new/input/00424.png', '/content/drive/MyDrive/datasets/prosopo_new/input/00425.png', '/content/drive/MyDrive/datasets/prosopo_new/input/00426.png', '/content/drive/MyDrive/datasets/prosopo_new/input/00427.png', '/content/drive/MyDrive/datasets/prosopo_new/input/00428.png', '/content/drive/MyDrive/datasets/prosopo_new/input/00429.png', '/content/drive/MyDrive/datasets/prosopo_new/input/00430.png', '/content/drive/MyDrive/datasets/prosopo_new/input/00431.png', '/content/drive/MyDrive/datasets/prosopo_new/input/00432.png', '/content/drive/MyDrive/datasets/prosopo_new/input/00433.png', '/content/drive/MyDrive/datasets/prosopo_new/input/00434.png', '/content/drive/MyDrive/datasets/prosopo_new/input/00435.png', '/content/drive/MyDrive/datasets/prosopo_new/input/00436.png', '/content/drive/MyDrive/datasets/prosopo_new/input/00437.png', '/content/drive/MyDrive/datasets/prosopo_new/input/00438.png', '/content/drive/MyDrive/datasets/prosopo_new/input/00439.png', '/content/drive/MyDrive/datasets/prosopo_new/input/00440.png', '/content/drive/MyDrive/datasets/prosopo_new/input/00441.png', '/content/drive/MyDrive/datasets/prosopo_new/input/00442.png', '/content/drive/MyDrive/datasets/prosopo_new/input/00443.png', '/content/drive/MyDrive/datasets/prosopo_new/input/00444.png', '/content/drive/MyDrive/datasets/prosopo_new/input/00445.png', '/content/drive/MyDrive/datasets/prosopo_new/input/00446.png', '/content/drive/MyDrive/datasets/prosopo_new/input/00447.png', '/content/drive/MyDrive/datasets/prosopo_new/input/00448.png', '/content/drive/MyDrive/datasets/prosopo_new/input/00449.png', '/content/drive/MyDrive/datasets/prosopo_new/input/00452.png', '/content/drive/MyDrive/datasets/prosopo_new/input/00453.png', '/content/drive/MyDrive/datasets/prosopo_new/input/00456.png', '/content/drive/MyDrive/datasets/prosopo_new/input/00457.png', '/content/drive/MyDrive/datasets/prosopo_new/input/00460.png', '/content/drive/MyDrive/datasets/prosopo_new/input/00461.png', '/content/drive/MyDrive/datasets/prosopo_new/input/00464.png', '/content/drive/MyDrive/datasets/prosopo_new/input/00465.png', '/content/drive/MyDrive/datasets/prosopo_new/input/00468.png', '/content/drive/MyDrive/datasets/prosopo_new/input/00469.png', '/content/drive/MyDrive/datasets/prosopo_new/input/00470.png', '/content/drive/MyDrive/datasets/prosopo_new/input/00471.png', '/content/drive/MyDrive/datasets/prosopo_new/input/00472.png', '/content/drive/MyDrive/datasets/prosopo_new/input/00473.png', '/content/drive/MyDrive/datasets/prosopo_new/input/00474.png', '/content/drive/MyDrive/datasets/prosopo_new/input/00475.png', '/content/drive/MyDrive/datasets/prosopo_new/input/00478.png', '/content/drive/MyDrive/datasets/prosopo_new/input/00479.png', '/content/drive/MyDrive/datasets/prosopo_new/input/00480.png', '/content/drive/MyDrive/datasets/prosopo_new/input/00481.png', '/content/drive/MyDrive/datasets/prosopo_new/input/00484.png', '/content/drive/MyDrive/datasets/prosopo_new/input/00485.png', '/content/drive/MyDrive/datasets/prosopo_new/input/00486.png', '/content/drive/MyDrive/datasets/prosopo_new/input/00487.png', '/content/drive/MyDrive/datasets/prosopo_new/input/00488.png', '/content/drive/MyDrive/datasets/prosopo_new/input/00489.png', '/content/drive/MyDrive/datasets/prosopo_new/input/00490.png', '/content/drive/MyDrive/datasets/prosopo_new/input/00491.png', '/content/drive/MyDrive/datasets/prosopo_new/input/00492.png', '/content/drive/MyDrive/datasets/prosopo_new/input/00493.png', '/content/drive/MyDrive/datasets/prosopo_new/input/00494.png', '/content/drive/MyDrive/datasets/prosopo_new/input/00495.png', '/content/drive/MyDrive/datasets/prosopo_new/input/00496.png', '/content/drive/MyDrive/datasets/prosopo_new/input/00497.png', '/content/drive/MyDrive/datasets/prosopo_new/input/00498.png', '/content/drive/MyDrive/datasets/prosopo_new/input/00499.png', '/content/drive/MyDrive/datasets/prosopo_new/input/00502.png', '/content/drive/MyDrive/datasets/prosopo_new/input/00503.png', '/content/drive/MyDrive/datasets/prosopo_new/input/00504.png', '/content/drive/MyDrive/datasets/prosopo_new/input/00505.png', '/content/drive/MyDrive/datasets/prosopo_new/input/00508.png', '/content/drive/MyDrive/datasets/prosopo_new/input/00509.png', '/content/drive/MyDrive/datasets/prosopo_new/input/00510.png', '/content/drive/MyDrive/datasets/prosopo_new/input/00511.png', '/content/drive/MyDrive/datasets/prosopo_new/input/00512.png', '/content/drive/MyDrive/datasets/prosopo_new/input/00513.png', '/content/drive/MyDrive/datasets/prosopo_new/input/00514.png', '/content/drive/MyDrive/datasets/prosopo_new/input/00515.png', '/content/drive/MyDrive/datasets/prosopo_new/input/00516.png', '/content/drive/MyDrive/datasets/prosopo_new/input/00517.png', '/content/drive/MyDrive/datasets/prosopo_new/input/00518.png', '/content/drive/MyDrive/datasets/prosopo_new/input/00519.png', '/content/drive/MyDrive/datasets/prosopo_new/input/00522.png', '/content/drive/MyDrive/datasets/prosopo_new/input/00523.png', '/content/drive/MyDrive/datasets/prosopo_new/input/00524.png', '/content/drive/MyDrive/datasets/prosopo_new/input/00525.png', '/content/drive/MyDrive/datasets/prosopo_new/input/00528.png', '/content/drive/MyDrive/datasets/prosopo_new/input/00529.png', '/content/drive/MyDrive/datasets/prosopo_new/input/00530.png', '/content/drive/MyDrive/datasets/prosopo_new/input/00531.png', '/content/drive/MyDrive/datasets/prosopo_new/input/00532.png', '/content/drive/MyDrive/datasets/prosopo_new/input/00533.png', '/content/drive/MyDrive/datasets/prosopo_new/input/00534.png', '/content/drive/MyDrive/datasets/prosopo_new/input/00535.png', '/content/drive/MyDrive/datasets/prosopo_new/input/00538.png', '/content/drive/MyDrive/datasets/prosopo_new/input/00539.png', '/content/drive/MyDrive/datasets/prosopo_new/input/00540.png', '/content/drive/MyDrive/datasets/prosopo_new/input/00541.png', '/content/drive/MyDrive/datasets/prosopo_new/input/00542.png', '/content/drive/MyDrive/datasets/prosopo_new/input/00543.png', '/content/drive/MyDrive/datasets/prosopo_new/input/00544.png', '/content/drive/MyDrive/datasets/prosopo_new/input/00545.png', '/content/drive/MyDrive/datasets/prosopo_new/input/00546.png', '/content/drive/MyDrive/datasets/prosopo_new/input/00547.png', '/content/drive/MyDrive/datasets/prosopo_new/input/00548.png', '/content/drive/MyDrive/datasets/prosopo_new/input/00549.png', '/content/drive/MyDrive/datasets/prosopo_new/input/00550.png', '/content/drive/MyDrive/datasets/prosopo_new/input/00551.png', '/content/drive/MyDrive/datasets/prosopo_new/input/00552.png', '/content/drive/MyDrive/datasets/prosopo_new/input/00553.png', '/content/drive/MyDrive/datasets/prosopo_new/input/00554.png', '/content/drive/MyDrive/datasets/prosopo_new/input/00555.png', '/content/drive/MyDrive/datasets/prosopo_new/input/00556.png', '/content/drive/MyDrive/datasets/prosopo_new/input/00557.png', '/content/drive/MyDrive/datasets/prosopo_new/input/00558.png', '/content/drive/MyDrive/datasets/prosopo_new/input/00559.png', '/content/drive/MyDrive/datasets/prosopo_new/input/00560.png', '/content/drive/MyDrive/datasets/prosopo_new/input/00561.png', '/content/drive/MyDrive/datasets/prosopo_new/input/00562.png', '/content/drive/MyDrive/datasets/prosopo_new/input/00563.png', '/content/drive/MyDrive/datasets/prosopo_new/input/00564.png', '/content/drive/MyDrive/datasets/prosopo_new/input/00565.png', '/content/drive/MyDrive/datasets/prosopo_new/input/00566.png', '/content/drive/MyDrive/datasets/prosopo_new/input/00567.png', '/content/drive/MyDrive/datasets/prosopo_new/input/00568.png', '/content/drive/MyDrive/datasets/prosopo_new/input/00569.png', '/content/drive/MyDrive/datasets/prosopo_new/input/00570.png', '/content/drive/MyDrive/datasets/prosopo_new/input/00571.png', '/content/drive/MyDrive/datasets/prosopo_new/input/00572.png', '/content/drive/MyDrive/datasets/prosopo_new/input/00573.png', '/content/drive/MyDrive/datasets/prosopo_new/input/00574.png', '/content/drive/MyDrive/datasets/prosopo_new/input/00575.png', '/content/drive/MyDrive/datasets/prosopo_new/input/00576.png', '/content/drive/MyDrive/datasets/prosopo_new/input/00577.png', '/content/drive/MyDrive/datasets/prosopo_new/input/00578.png', '/content/drive/MyDrive/datasets/prosopo_new/input/00579.png', '/content/drive/MyDrive/datasets/prosopo_new/input/00580.png', '/content/drive/MyDrive/datasets/prosopo_new/input/00581.png', '/content/drive/MyDrive/datasets/prosopo_new/input/00585.png', '/content/drive/MyDrive/datasets/prosopo_new/input/00588.png', '/content/drive/MyDrive/datasets/prosopo_new/input/00589.png', '/content/drive/MyDrive/datasets/prosopo_new/input/00590.png', '/content/drive/MyDrive/datasets/prosopo_new/input/00591.png', '/content/drive/MyDrive/datasets/prosopo_new/input/00592.png', '/content/drive/MyDrive/datasets/prosopo_new/input/00593.png', '/content/drive/MyDrive/datasets/prosopo_new/input/00594.png', '/content/drive/MyDrive/datasets/prosopo_new/input/00595.png', '/content/drive/MyDrive/datasets/prosopo_new/input/00596.png', '/content/drive/MyDrive/datasets/prosopo_new/input/00597.png', '/content/drive/MyDrive/datasets/prosopo_new/input/00598.png', '/content/drive/MyDrive/datasets/prosopo_new/input/00599.png', '/content/drive/MyDrive/datasets/prosopo_new/input/00600.png', '/content/drive/MyDrive/datasets/prosopo_new/input/00601.png', '/content/drive/MyDrive/datasets/prosopo_new/input/00602.png', '/content/drive/MyDrive/datasets/prosopo_new/input/00603.png', '/content/drive/MyDrive/datasets/prosopo_new/input/00604.png', '/content/drive/MyDrive/datasets/prosopo_new/input/00605.png', '/content/drive/MyDrive/datasets/prosopo_new/input/00606.png', '/content/drive/MyDrive/datasets/prosopo_new/input/00607.png', '/content/drive/MyDrive/datasets/prosopo_new/input/00608.png', '/content/drive/MyDrive/datasets/prosopo_new/input/00609.png', '/content/drive/MyDrive/datasets/prosopo_new/input/00610.png', '/content/drive/MyDrive/datasets/prosopo_new/input/00611.png', '/content/drive/MyDrive/datasets/prosopo_new/input/00612.png', '/content/drive/MyDrive/datasets/prosopo_new/input/00613.png', '/content/drive/MyDrive/datasets/prosopo_new/input/00614.png', '/content/drive/MyDrive/datasets/prosopo_new/input/00615.png', '/content/drive/MyDrive/datasets/prosopo_new/input/00618.png', '/content/drive/MyDrive/datasets/prosopo_new/input/00619.png', '/content/drive/MyDrive/datasets/prosopo_new/input/00620.png', '/content/drive/MyDrive/datasets/prosopo_new/input/00621.png', '/content/drive/MyDrive/datasets/prosopo_new/input/00622.png', '/content/drive/MyDrive/datasets/prosopo_new/input/00623.png', '/content/drive/MyDrive/datasets/prosopo_new/input/00624.png', '/content/drive/MyDrive/datasets/prosopo_new/input/00625.png', '/content/drive/MyDrive/datasets/prosopo_new/input/00628.png', '/content/drive/MyDrive/datasets/prosopo_new/input/00629.png', '/content/drive/MyDrive/datasets/prosopo_new/input/00630.png', '/content/drive/MyDrive/datasets/prosopo_new/input/00631.png', '/content/drive/MyDrive/datasets/prosopo_new/input/00632.png', '/content/drive/MyDrive/datasets/prosopo_new/input/00633.png', '/content/drive/MyDrive/datasets/prosopo_new/input/00634.png', '/content/drive/MyDrive/datasets/prosopo_new/input/00635.png', '/content/drive/MyDrive/datasets/prosopo_new/input/00636.png', '/content/drive/MyDrive/datasets/prosopo_new/input/00637.png', '/content/drive/MyDrive/datasets/prosopo_new/input/00640.png', '/content/drive/MyDrive/datasets/prosopo_new/input/00641.png', '/content/drive/MyDrive/datasets/prosopo_new/input/00644.png', '/content/drive/MyDrive/datasets/prosopo_new/input/00645.png', '/content/drive/MyDrive/datasets/prosopo_new/input/00646.png', '/content/drive/MyDrive/datasets/prosopo_new/input/00647.png', '/content/drive/MyDrive/datasets/prosopo_new/input/00648.png', '/content/drive/MyDrive/datasets/prosopo_new/input/00649.png', '/content/drive/MyDrive/datasets/prosopo_new/input/00650.png', '/content/drive/MyDrive/datasets/prosopo_new/input/00651.png', '/content/drive/MyDrive/datasets/prosopo_new/input/00652.png', '/content/drive/MyDrive/datasets/prosopo_new/input/00653.png', '/content/drive/MyDrive/datasets/prosopo_new/input/00654.png', '/content/drive/MyDrive/datasets/prosopo_new/input/00655.png', '/content/drive/MyDrive/datasets/prosopo_new/input/00656.png', '/content/drive/MyDrive/datasets/prosopo_new/input/00657.png', '/content/drive/MyDrive/datasets/prosopo_new/input/00658.png', '/content/drive/MyDrive/datasets/prosopo_new/input/00659.png', '/content/drive/MyDrive/datasets/prosopo_new/input/00660.png', '/content/drive/MyDrive/datasets/prosopo_new/input/00661.png', '/content/drive/MyDrive/datasets/prosopo_new/input/00662.png', '/content/drive/MyDrive/datasets/prosopo_new/input/00663.png', '/content/drive/MyDrive/datasets/prosopo_new/input/00664.png', '/content/drive/MyDrive/datasets/prosopo_new/input/00665.png', '/content/drive/MyDrive/datasets/prosopo_new/input/00666.png', '/content/drive/MyDrive/datasets/prosopo_new/input/00667.png', '/content/drive/MyDrive/datasets/prosopo_new/input/00668.png', '/content/drive/MyDrive/datasets/prosopo_new/input/00669.png', '/content/drive/MyDrive/datasets/prosopo_new/input/00672.png', '/content/drive/MyDrive/datasets/prosopo_new/input/00673.png', '/content/drive/MyDrive/datasets/prosopo_new/input/00674.png', '/content/drive/MyDrive/datasets/prosopo_new/input/00675.png', '/content/drive/MyDrive/datasets/prosopo_new/input/00680.png', '/content/drive/MyDrive/datasets/prosopo_new/input/00681.png', '/content/drive/MyDrive/datasets/prosopo_new/input/00682.png', '/content/drive/MyDrive/datasets/prosopo_new/input/00683.png', '/content/drive/MyDrive/datasets/prosopo_new/input/00684.png', '/content/drive/MyDrive/datasets/prosopo_new/input/00685.png', '/content/drive/MyDrive/datasets/prosopo_new/input/00686.png', '/content/drive/MyDrive/datasets/prosopo_new/input/00687.png', '/content/drive/MyDrive/datasets/prosopo_new/input/00688.png', '/content/drive/MyDrive/datasets/prosopo_new/input/00689.png', '/content/drive/MyDrive/datasets/prosopo_new/input/00690.png', '/content/drive/MyDrive/datasets/prosopo_new/input/00691.png', '/content/drive/MyDrive/datasets/prosopo_new/input/00692.png', '/content/drive/MyDrive/datasets/prosopo_new/input/00693.png', '/content/drive/MyDrive/datasets/prosopo_new/input/00694.png', '/content/drive/MyDrive/datasets/prosopo_new/input/00695.png', '/content/drive/MyDrive/datasets/prosopo_new/input/00696.png', '/content/drive/MyDrive/datasets/prosopo_new/input/00697.png', '/content/drive/MyDrive/datasets/prosopo_new/input/00700.png', '/content/drive/MyDrive/datasets/prosopo_new/input/00701.png', '/content/drive/MyDrive/datasets/prosopo_new/input/00702.png', '/content/drive/MyDrive/datasets/prosopo_new/input/00703.png', '/content/drive/MyDrive/datasets/prosopo_new/input/00704.png', '/content/drive/MyDrive/datasets/prosopo_new/input/00705.png', '/content/drive/MyDrive/datasets/prosopo_new/input/00706.png', '/content/drive/MyDrive/datasets/prosopo_new/input/00707.png', '/content/drive/MyDrive/datasets/prosopo_new/input/00708.png', '/content/drive/MyDrive/datasets/prosopo_new/input/00709.png', '/content/drive/MyDrive/datasets/prosopo_new/input/00710.png', '/content/drive/MyDrive/datasets/prosopo_new/input/00711.png', '/content/drive/MyDrive/datasets/prosopo_new/input/00714.png', '/content/drive/MyDrive/datasets/prosopo_new/input/00715.png', '/content/drive/MyDrive/datasets/prosopo_new/input/00716.png', '/content/drive/MyDrive/datasets/prosopo_new/input/00717.png', '/content/drive/MyDrive/datasets/prosopo_new/input/00718.png', '/content/drive/MyDrive/datasets/prosopo_new/input/00719.png', '/content/drive/MyDrive/datasets/prosopo_new/input/00720.png', '/content/drive/MyDrive/datasets/prosopo_new/input/00721.png', '/content/drive/MyDrive/datasets/prosopo_new/input/00722.png', '/content/drive/MyDrive/datasets/prosopo_new/input/00723.png', '/content/drive/MyDrive/datasets/prosopo_new/input/00724.png', '/content/drive/MyDrive/datasets/prosopo_new/input/00725.png', '/content/drive/MyDrive/datasets/prosopo_new/input/00726.png', '/content/drive/MyDrive/datasets/prosopo_new/input/00727.png', '/content/drive/MyDrive/datasets/prosopo_new/input/00730.png', '/content/drive/MyDrive/datasets/prosopo_new/input/00731.png', '/content/drive/MyDrive/datasets/prosopo_new/input/00732.png', '/content/drive/MyDrive/datasets/prosopo_new/input/00733.png', '/content/drive/MyDrive/datasets/prosopo_new/input/00734.png', '/content/drive/MyDrive/datasets/prosopo_new/input/00735.png', '/content/drive/MyDrive/datasets/prosopo_new/input/00736.png', '/content/drive/MyDrive/datasets/prosopo_new/input/00737.png', '/content/drive/MyDrive/datasets/prosopo_new/input/00740.png', '/content/drive/MyDrive/datasets/prosopo_new/input/00741.png', '/content/drive/MyDrive/datasets/prosopo_new/input/00742.png', '/content/drive/MyDrive/datasets/prosopo_new/input/00743.png', '/content/drive/MyDrive/datasets/prosopo_new/input/00744.png', '/content/drive/MyDrive/datasets/prosopo_new/input/00745.png', '/content/drive/MyDrive/datasets/prosopo_new/input/00746.png', '/content/drive/MyDrive/datasets/prosopo_new/input/00747.png', '/content/drive/MyDrive/datasets/prosopo_new/input/00748.png', '/content/drive/MyDrive/datasets/prosopo_new/input/00749.png', '/content/drive/MyDrive/datasets/prosopo_new/input/00750.png', '/content/drive/MyDrive/datasets/prosopo_new/input/00751.png', '/content/drive/MyDrive/datasets/prosopo_new/input/00754.png', '/content/drive/MyDrive/datasets/prosopo_new/input/00755.png', '/content/drive/MyDrive/datasets/prosopo_new/input/00756.png', '/content/drive/MyDrive/datasets/prosopo_new/input/00757.png', '/content/drive/MyDrive/datasets/prosopo_new/input/00758.png', '/content/drive/MyDrive/datasets/prosopo_new/input/00759.png', '/content/drive/MyDrive/datasets/prosopo_new/input/00760.png', '/content/drive/MyDrive/datasets/prosopo_new/input/00761.png', '/content/drive/MyDrive/datasets/prosopo_new/input/00762.png', '/content/drive/MyDrive/datasets/prosopo_new/input/00763.png', '/content/drive/MyDrive/datasets/prosopo_new/input/00764.png', '/content/drive/MyDrive/datasets/prosopo_new/input/00765.png', '/content/drive/MyDrive/datasets/prosopo_new/input/00766.png', '/content/drive/MyDrive/datasets/prosopo_new/input/00767.png', '/content/drive/MyDrive/datasets/prosopo_new/input/00768.png', '/content/drive/MyDrive/datasets/prosopo_new/input/00769.png', '/content/drive/MyDrive/datasets/prosopo_new/input/00770.png', '/content/drive/MyDrive/datasets/prosopo_new/input/00771.png', '/content/drive/MyDrive/datasets/prosopo_new/input/00772.png', '/content/drive/MyDrive/datasets/prosopo_new/input/00773.png', '/content/drive/MyDrive/datasets/prosopo_new/input/00774.png', '/content/drive/MyDrive/datasets/prosopo_new/input/00775.png', '/content/drive/MyDrive/datasets/prosopo_new/input/00776.png', '/content/drive/MyDrive/datasets/prosopo_new/input/00777.png', '/content/drive/MyDrive/datasets/prosopo_new/input/00778.png', '/content/drive/MyDrive/datasets/prosopo_new/input/00779.png', '/content/drive/MyDrive/datasets/prosopo_new/input/00780.png', '/content/drive/MyDrive/datasets/prosopo_new/input/00781.png', '/content/drive/MyDrive/datasets/prosopo_new/input/00782.png', '/content/drive/MyDrive/datasets/prosopo_new/input/00783.png', '/content/drive/MyDrive/datasets/prosopo_new/input/00784.png', '/content/drive/MyDrive/datasets/prosopo_new/input/00785.png', '/content/drive/MyDrive/datasets/prosopo_new/input/00786.png', '/content/drive/MyDrive/datasets/prosopo_new/input/00787.png', '/content/drive/MyDrive/datasets/prosopo_new/input/00788.png', '/content/drive/MyDrive/datasets/prosopo_new/input/00789.png', '/content/drive/MyDrive/datasets/prosopo_new/input/00790.png', '/content/drive/MyDrive/datasets/prosopo_new/input/00791.png', '/content/drive/MyDrive/datasets/prosopo_new/input/00792.png', '/content/drive/MyDrive/datasets/prosopo_new/input/00793.png', '/content/drive/MyDrive/datasets/prosopo_new/input/00794.png', '/content/drive/MyDrive/datasets/prosopo_new/input/00795.png', '/content/drive/MyDrive/datasets/prosopo_new/input/00798.png', '/content/drive/MyDrive/datasets/prosopo_new/input/00799.png', '/content/drive/MyDrive/datasets/prosopo_new/input/00800.png', '/content/drive/MyDrive/datasets/prosopo_new/input/00801.png', '/content/drive/MyDrive/datasets/prosopo_new/input/00802.png', '/content/drive/MyDrive/datasets/prosopo_new/input/00803.png', '/content/drive/MyDrive/datasets/prosopo_new/input/00804.png', '/content/drive/MyDrive/datasets/prosopo_new/input/00805.png', '/content/drive/MyDrive/datasets/prosopo_new/input/00806.png', '/content/drive/MyDrive/datasets/prosopo_new/input/00807.png', '/content/drive/MyDrive/datasets/prosopo_new/input/00808.png', '/content/drive/MyDrive/datasets/prosopo_new/input/00809.png', '/content/drive/MyDrive/datasets/prosopo_new/input/00810.png', '/content/drive/MyDrive/datasets/prosopo_new/input/00811.png', '/content/drive/MyDrive/datasets/prosopo_new/input/00812.png', '/content/drive/MyDrive/datasets/prosopo_new/input/00813.png', '/content/drive/MyDrive/datasets/prosopo_new/input/00818.png', '/content/drive/MyDrive/datasets/prosopo_new/input/00819.png', '/content/drive/MyDrive/datasets/prosopo_new/input/00820.png', '/content/drive/MyDrive/datasets/prosopo_new/input/00821.png', '/content/drive/MyDrive/datasets/prosopo_new/input/00824.png', '/content/drive/MyDrive/datasets/prosopo_new/input/00825.png', '/content/drive/MyDrive/datasets/prosopo_new/input/00826.png', '/content/drive/MyDrive/datasets/prosopo_new/input/00827.png', '/content/drive/MyDrive/datasets/prosopo_new/input/00828.png', '/content/drive/MyDrive/datasets/prosopo_new/input/00829.png', '/content/drive/MyDrive/datasets/prosopo_new/input/00830.png', '/content/drive/MyDrive/datasets/prosopo_new/input/00831.png', '/content/drive/MyDrive/datasets/prosopo_new/input/00834.png', '/content/drive/MyDrive/datasets/prosopo_new/input/00835.png', '/content/drive/MyDrive/datasets/prosopo_new/input/00836.png', '/content/drive/MyDrive/datasets/prosopo_new/input/00837.png', '/content/drive/MyDrive/datasets/prosopo_new/input/00838.png', '/content/drive/MyDrive/datasets/prosopo_new/input/00839.png', '/content/drive/MyDrive/datasets/prosopo_new/input/00840.png', '/content/drive/MyDrive/datasets/prosopo_new/input/00841.png', '/content/drive/MyDrive/datasets/prosopo_new/input/00842.png', '/content/drive/MyDrive/datasets/prosopo_new/input/00843.png', '/content/drive/MyDrive/datasets/prosopo_new/input/00844.png', '/content/drive/MyDrive/datasets/prosopo_new/input/00845.png', '/content/drive/MyDrive/datasets/prosopo_new/input/00848.png', '/content/drive/MyDrive/datasets/prosopo_new/input/00849.png', '/content/drive/MyDrive/datasets/prosopo_new/input/00850.png', '/content/drive/MyDrive/datasets/prosopo_new/input/00851.png', '/content/drive/MyDrive/datasets/prosopo_new/input/00852.png', '/content/drive/MyDrive/datasets/prosopo_new/input/00853.png', '/content/drive/MyDrive/datasets/prosopo_new/input/00854.png', '/content/drive/MyDrive/datasets/prosopo_new/input/00855.png', '/content/drive/MyDrive/datasets/prosopo_new/input/00856.png', '/content/drive/MyDrive/datasets/prosopo_new/input/00857.png', '/content/drive/MyDrive/datasets/prosopo_new/input/00858.png', '/content/drive/MyDrive/datasets/prosopo_new/input/00859.png', '/content/drive/MyDrive/datasets/prosopo_new/input/00862.png', '/content/drive/MyDrive/datasets/prosopo_new/input/00863.png', '/content/drive/MyDrive/datasets/prosopo_new/input/00864.png', '/content/drive/MyDrive/datasets/prosopo_new/input/00865.png', '/content/drive/MyDrive/datasets/prosopo_new/input/00866.png', '/content/drive/MyDrive/datasets/prosopo_new/input/00867.png', '/content/drive/MyDrive/datasets/prosopo_new/input/00868.png', '/content/drive/MyDrive/datasets/prosopo_new/input/00869.png', '/content/drive/MyDrive/datasets/prosopo_new/input/00870.png', '/content/drive/MyDrive/datasets/prosopo_new/input/00871.png', '/content/drive/MyDrive/datasets/prosopo_new/input/00872.png', '/content/drive/MyDrive/datasets/prosopo_new/input/00873.png', '/content/drive/MyDrive/datasets/prosopo_new/input/00874.png', '/content/drive/MyDrive/datasets/prosopo_new/input/00875.png', '/content/drive/MyDrive/datasets/prosopo_new/input/00878.png', '/content/drive/MyDrive/datasets/prosopo_new/input/00879.png', '/content/drive/MyDrive/datasets/prosopo_new/input/00880.png', '/content/drive/MyDrive/datasets/prosopo_new/input/00881.png', '/content/drive/MyDrive/datasets/prosopo_new/input/00882.png', '/content/drive/MyDrive/datasets/prosopo_new/input/00883.png', '/content/drive/MyDrive/datasets/prosopo_new/input/00884.png', '/content/drive/MyDrive/datasets/prosopo_new/input/00885.png', '/content/drive/MyDrive/datasets/prosopo_new/input/00886.png', '/content/drive/MyDrive/datasets/prosopo_new/input/00887.png', '/content/drive/MyDrive/datasets/prosopo_new/input/00890.png', '/content/drive/MyDrive/datasets/prosopo_new/input/00891.png', '/content/drive/MyDrive/datasets/prosopo_new/input/00892.png', '/content/drive/MyDrive/datasets/prosopo_new/input/00893.png', '/content/drive/MyDrive/datasets/prosopo_new/input/00894.png', '/content/drive/MyDrive/datasets/prosopo_new/input/00895.png', '/content/drive/MyDrive/datasets/prosopo_new/input/00896.png', '/content/drive/MyDrive/datasets/prosopo_new/input/00897.png', '/content/drive/MyDrive/datasets/prosopo_new/input/00900.png', '/content/drive/MyDrive/datasets/prosopo_new/input/00901.png', '/content/drive/MyDrive/datasets/prosopo_new/input/00902.png', '/content/drive/MyDrive/datasets/prosopo_new/input/00903.png', '/content/drive/MyDrive/datasets/prosopo_new/input/00904.png', '/content/drive/MyDrive/datasets/prosopo_new/input/00905.png', '/content/drive/MyDrive/datasets/prosopo_new/input/00906.png', '/content/drive/MyDrive/datasets/prosopo_new/input/00907.png', '/content/drive/MyDrive/datasets/prosopo_new/input/00908.png', '/content/drive/MyDrive/datasets/prosopo_new/input/00909.png', '/content/drive/MyDrive/datasets/prosopo_new/input/00912.png', '/content/drive/MyDrive/datasets/prosopo_new/input/00913.png', '/content/drive/MyDrive/datasets/prosopo_new/input/00916.png', '/content/drive/MyDrive/datasets/prosopo_new/input/00917.png', '/content/drive/MyDrive/datasets/prosopo_new/input/00920.png', '/content/drive/MyDrive/datasets/prosopo_new/input/00921.png', '/content/drive/MyDrive/datasets/prosopo_new/input/00922.png', '/content/drive/MyDrive/datasets/prosopo_new/input/00923.png', '/content/drive/MyDrive/datasets/prosopo_new/input/00924.png', '/content/drive/MyDrive/datasets/prosopo_new/input/00925.png', '/content/drive/MyDrive/datasets/prosopo_new/input/00926.png', '/content/drive/MyDrive/datasets/prosopo_new/input/00927.png', '/content/drive/MyDrive/datasets/prosopo_new/input/00928.png', '/content/drive/MyDrive/datasets/prosopo_new/input/00929.png', '/content/drive/MyDrive/datasets/prosopo_new/input/00930.png', '/content/drive/MyDrive/datasets/prosopo_new/input/00931.png', '/content/drive/MyDrive/datasets/prosopo_new/input/00932.png', '/content/drive/MyDrive/datasets/prosopo_new/input/00933.png', '/content/drive/MyDrive/datasets/prosopo_new/input/00934.png', '/content/drive/MyDrive/datasets/prosopo_new/input/00935.png', '/content/drive/MyDrive/datasets/prosopo_new/input/00938.png', '/content/drive/MyDrive/datasets/prosopo_new/input/00939.png', '/content/drive/MyDrive/datasets/prosopo_new/input/00940.png', '/content/drive/MyDrive/datasets/prosopo_new/input/00941.png', '/content/drive/MyDrive/datasets/prosopo_new/input/00942.png', '/content/drive/MyDrive/datasets/prosopo_new/input/00943.png', '/content/drive/MyDrive/datasets/prosopo_new/input/00944.png', '/content/drive/MyDrive/datasets/prosopo_new/input/00945.png', '/content/drive/MyDrive/datasets/prosopo_new/input/00948.png', '/content/drive/MyDrive/datasets/prosopo_new/input/00949.png', '/content/drive/MyDrive/datasets/prosopo_new/input/00950.png', '/content/drive/MyDrive/datasets/prosopo_new/input/00951.png', '/content/drive/MyDrive/datasets/prosopo_new/input/00952.png', '/content/drive/MyDrive/datasets/prosopo_new/input/00953.png', '/content/drive/MyDrive/datasets/prosopo_new/input/00956.png', '/content/drive/MyDrive/datasets/prosopo_new/input/00957.png', '/content/drive/MyDrive/datasets/prosopo_new/input/00958.png', '/content/drive/MyDrive/datasets/prosopo_new/input/00959.png', '/content/drive/MyDrive/datasets/prosopo_new/input/00960.png', '/content/drive/MyDrive/datasets/prosopo_new/input/00961.png', '/content/drive/MyDrive/datasets/prosopo_new/input/00962.png', '/content/drive/MyDrive/datasets/prosopo_new/input/00963.png', '/content/drive/MyDrive/datasets/prosopo_new/input/00964.png', '/content/drive/MyDrive/datasets/prosopo_new/input/00965.png', '/content/drive/MyDrive/datasets/prosopo_new/input/00966.png', '/content/drive/MyDrive/datasets/prosopo_new/input/00967.png', '/content/drive/MyDrive/datasets/prosopo_new/input/00970.png', '/content/drive/MyDrive/datasets/prosopo_new/input/00971.png', '/content/drive/MyDrive/datasets/prosopo_new/input/00972.png', '/content/drive/MyDrive/datasets/prosopo_new/input/00973.png', '/content/drive/MyDrive/datasets/prosopo_new/input/00974.png', '/content/drive/MyDrive/datasets/prosopo_new/input/00975.png', '/content/drive/MyDrive/datasets/prosopo_new/input/00978.png', '/content/drive/MyDrive/datasets/prosopo_new/input/00979.png', '/content/drive/MyDrive/datasets/prosopo_new/input/00980.png', '/content/drive/MyDrive/datasets/prosopo_new/input/00981.png', '/content/drive/MyDrive/datasets/prosopo_new/input/00982.png', '/content/drive/MyDrive/datasets/prosopo_new/input/00983.png', '/content/drive/MyDrive/datasets/prosopo_new/input/00984.png', '/content/drive/MyDrive/datasets/prosopo_new/input/00985.png', '/content/drive/MyDrive/datasets/prosopo_new/input/00986.png', '/content/drive/MyDrive/datasets/prosopo_new/input/00987.png', '/content/drive/MyDrive/datasets/prosopo_new/input/00992.png', '/content/drive/MyDrive/datasets/prosopo_new/input/00993.png', '/content/drive/MyDrive/datasets/prosopo_new/input/00994.png', '/content/drive/MyDrive/datasets/prosopo_new/input/00995.png', '/content/drive/MyDrive/datasets/prosopo_new/input/00998.png', '/content/drive/MyDrive/datasets/prosopo_new/input/00999.png', '/content/drive/MyDrive/datasets/prosopo_new/input/01000.png', '/content/drive/MyDrive/datasets/prosopo_new/input/01001.png', '/content/drive/MyDrive/datasets/prosopo_new/input/01002.png', '/content/drive/MyDrive/datasets/prosopo_new/input/01003.png', '/content/drive/MyDrive/datasets/prosopo_new/input/01004.png', '/content/drive/MyDrive/datasets/prosopo_new/input/01005.png', '/content/drive/MyDrive/datasets/prosopo_new/input/01006.png', '/content/drive/MyDrive/datasets/prosopo_new/input/01007.png', '/content/drive/MyDrive/datasets/prosopo_new/input/01008.png', '/content/drive/MyDrive/datasets/prosopo_new/input/01009.png', '/content/drive/MyDrive/datasets/prosopo_new/input/01014.png', '/content/drive/MyDrive/datasets/prosopo_new/input/01015.png', '/content/drive/MyDrive/datasets/prosopo_new/input/01016.png', '/content/drive/MyDrive/datasets/prosopo_new/input/01017.png', '/content/drive/MyDrive/datasets/prosopo_new/input/01018.png', '/content/drive/MyDrive/datasets/prosopo_new/input/01019.png', '/content/drive/MyDrive/datasets/prosopo_new/input/01022.png', '/content/drive/MyDrive/datasets/prosopo_new/input/01023.png', '/content/drive/MyDrive/datasets/prosopo_new/input/01024.png', '/content/drive/MyDrive/datasets/prosopo_new/input/01025.png', '/content/drive/MyDrive/datasets/prosopo_new/input/01026.png', '/content/drive/MyDrive/datasets/prosopo_new/input/01027.png', '/content/drive/MyDrive/datasets/prosopo_new/input/01028.png', '/content/drive/MyDrive/datasets/prosopo_new/input/01029.png', '/content/drive/MyDrive/datasets/prosopo_new/input/01032.png', '/content/drive/MyDrive/datasets/prosopo_new/input/01033.png', '/content/drive/MyDrive/datasets/prosopo_new/input/01034.png', '/content/drive/MyDrive/datasets/prosopo_new/input/01035.png', '/content/drive/MyDrive/datasets/prosopo_new/input/01036.png', '/content/drive/MyDrive/datasets/prosopo_new/input/01037.png', '/content/drive/MyDrive/datasets/prosopo_new/input/01039.png', '/content/drive/MyDrive/datasets/prosopo_new/input/01040.png', '/content/drive/MyDrive/datasets/prosopo_new/input/01041.png', '/content/drive/MyDrive/datasets/prosopo_new/input/01042.png', '/content/drive/MyDrive/datasets/prosopo_new/input/01043.png', '/content/drive/MyDrive/datasets/prosopo_new/input/01044.png', '/content/drive/MyDrive/datasets/prosopo_new/input/01045.png', '/content/drive/MyDrive/datasets/prosopo_new/input/01046.png', '/content/drive/MyDrive/datasets/prosopo_new/input/01047.png', '/content/drive/MyDrive/datasets/prosopo_new/input/01048.png', '/content/drive/MyDrive/datasets/prosopo_new/input/01049.png', '/content/drive/MyDrive/datasets/prosopo_new/input/01050.png', '/content/drive/MyDrive/datasets/prosopo_new/input/01051.png', '/content/drive/MyDrive/datasets/prosopo_new/input/01052.png', '/content/drive/MyDrive/datasets/prosopo_new/input/01053.png', '/content/drive/MyDrive/datasets/prosopo_new/input/01054.png', '/content/drive/MyDrive/datasets/prosopo_new/input/01055.png', '/content/drive/MyDrive/datasets/prosopo_new/input/01056.png', '/content/drive/MyDrive/datasets/prosopo_new/input/01057.png', '/content/drive/MyDrive/datasets/prosopo_new/input/01058.png', '/content/drive/MyDrive/datasets/prosopo_new/input/01059.png', '/content/drive/MyDrive/datasets/prosopo_new/input/01060.png', '/content/drive/MyDrive/datasets/prosopo_new/input/01061.png', '/content/drive/MyDrive/datasets/prosopo_new/input/01062.png', '/content/drive/MyDrive/datasets/prosopo_new/input/01063.png', '/content/drive/MyDrive/datasets/prosopo_new/input/01064.png', '/content/drive/MyDrive/datasets/prosopo_new/input/01065.png', '/content/drive/MyDrive/datasets/prosopo_new/input/01068.png', '/content/drive/MyDrive/datasets/prosopo_new/input/01069.png', '/content/drive/MyDrive/datasets/prosopo_new/input/01070.png', '/content/drive/MyDrive/datasets/prosopo_new/input/01071.png', '/content/drive/MyDrive/datasets/prosopo_new/input/01072.png', '/content/drive/MyDrive/datasets/prosopo_new/input/01073.png', '/content/drive/MyDrive/datasets/prosopo_new/input/01074.png', '/content/drive/MyDrive/datasets/prosopo_new/input/01075.png', '/content/drive/MyDrive/datasets/prosopo_new/input/01076.png', '/content/drive/MyDrive/datasets/prosopo_new/input/01077.png', '/content/drive/MyDrive/datasets/prosopo_new/input/01078.png', '/content/drive/MyDrive/datasets/prosopo_new/input/01079.png', '/content/drive/MyDrive/datasets/prosopo_new/input/01080.png', '/content/drive/MyDrive/datasets/prosopo_new/input/01081.png', '/content/drive/MyDrive/datasets/prosopo_new/input/01082.png', '/content/drive/MyDrive/datasets/prosopo_new/input/01083.png', '/content/drive/MyDrive/datasets/prosopo_new/input/01084.png', '/content/drive/MyDrive/datasets/prosopo_new/input/01085.png', '/content/drive/MyDrive/datasets/prosopo_new/input/01086.png', '/content/drive/MyDrive/datasets/prosopo_new/input/01087.png', '/content/drive/MyDrive/datasets/prosopo_new/input/01088.png', '/content/drive/MyDrive/datasets/prosopo_new/input/01089.png', '/content/drive/MyDrive/datasets/prosopo_new/input/01090.png', '/content/drive/MyDrive/datasets/prosopo_new/input/01091.png', '/content/drive/MyDrive/datasets/prosopo_new/input/01096.png', '/content/drive/MyDrive/datasets/prosopo_new/input/01097.png', '/content/drive/MyDrive/datasets/prosopo_new/input/01098.png', '/content/drive/MyDrive/datasets/prosopo_new/input/01099.png', '/content/drive/MyDrive/datasets/prosopo_new/input/01100.png', '/content/drive/MyDrive/datasets/prosopo_new/input/01101.png', '/content/drive/MyDrive/datasets/prosopo_new/input/01102.png', '/content/drive/MyDrive/datasets/prosopo_new/input/01103.png', '/content/drive/MyDrive/datasets/prosopo_new/input/01104.png', '/content/drive/MyDrive/datasets/prosopo_new/input/01105.png', '/content/drive/MyDrive/datasets/prosopo_new/input/01106.png', '/content/drive/MyDrive/datasets/prosopo_new/input/01107.png', '/content/drive/MyDrive/datasets/prosopo_new/input/01108.png', '/content/drive/MyDrive/datasets/prosopo_new/input/01109.png', '/content/drive/MyDrive/datasets/prosopo_new/input/01110.png', '/content/drive/MyDrive/datasets/prosopo_new/input/01111.png', '/content/drive/MyDrive/datasets/prosopo_new/input/01112.png', '/content/drive/MyDrive/datasets/prosopo_new/input/01113.png', '/content/drive/MyDrive/datasets/prosopo_new/input/01114.png', '/content/drive/MyDrive/datasets/prosopo_new/input/01115.png', '/content/drive/MyDrive/datasets/prosopo_new/input/01116.png', '/content/drive/MyDrive/datasets/prosopo_new/input/01117.png', '/content/drive/MyDrive/datasets/prosopo_new/input/01118.png', '/content/drive/MyDrive/datasets/prosopo_new/input/01119.png', '/content/drive/MyDrive/datasets/prosopo_new/input/01120.png', '/content/drive/MyDrive/datasets/prosopo_new/input/01121.png', '/content/drive/MyDrive/datasets/prosopo_new/input/01122.png', '/content/drive/MyDrive/datasets/prosopo_new/input/01123.png', '/content/drive/MyDrive/datasets/prosopo_new/input/01124.png', '/content/drive/MyDrive/datasets/prosopo_new/input/01125.png', '/content/drive/MyDrive/datasets/prosopo_new/input/01126.png', '/content/drive/MyDrive/datasets/prosopo_new/input/01127.png', '/content/drive/MyDrive/datasets/prosopo_new/input/01128.png', '/content/drive/MyDrive/datasets/prosopo_new/input/01129.png', '/content/drive/MyDrive/datasets/prosopo_new/input/01130.png', '/content/drive/MyDrive/datasets/prosopo_new/input/01131.png', '/content/drive/MyDrive/datasets/prosopo_new/input/01132.png', '/content/drive/MyDrive/datasets/prosopo_new/input/01133.png', '/content/drive/MyDrive/datasets/prosopo_new/input/01134.png', '/content/drive/MyDrive/datasets/prosopo_new/input/01135.png', '/content/drive/MyDrive/datasets/prosopo_new/input/01136.png', '/content/drive/MyDrive/datasets/prosopo_new/input/01137.png', '/content/drive/MyDrive/datasets/prosopo_new/input/01138.png', '/content/drive/MyDrive/datasets/prosopo_new/input/01139.png', '/content/drive/MyDrive/datasets/prosopo_new/input/01140.png', '/content/drive/MyDrive/datasets/prosopo_new/input/01141.png', '/content/drive/MyDrive/datasets/prosopo_new/input/01142.png', '/content/drive/MyDrive/datasets/prosopo_new/input/01143.png', '/content/drive/MyDrive/datasets/prosopo_new/input/01144.png', '/content/drive/MyDrive/datasets/prosopo_new/input/01145.png', '/content/drive/MyDrive/datasets/prosopo_new/input/01148.png', '/content/drive/MyDrive/datasets/prosopo_new/input/01149.png', '/content/drive/MyDrive/datasets/prosopo_new/input/01150.png', '/content/drive/MyDrive/datasets/prosopo_new/input/01151.png', '/content/drive/MyDrive/datasets/prosopo_new/input/01152.png', '/content/drive/MyDrive/datasets/prosopo_new/input/01153.png', '/content/drive/MyDrive/datasets/prosopo_new/input/01154.png', '/content/drive/MyDrive/datasets/prosopo_new/input/01155.png', '/content/drive/MyDrive/datasets/prosopo_new/input/01156.png', '/content/drive/MyDrive/datasets/prosopo_new/input/01157.png', '/content/drive/MyDrive/datasets/prosopo_new/input/01162.png', '/content/drive/MyDrive/datasets/prosopo_new/input/01163.png', '/content/drive/MyDrive/datasets/prosopo_new/input/01164.png', '/content/drive/MyDrive/datasets/prosopo_new/input/01165.png', '/content/drive/MyDrive/datasets/prosopo_new/input/01166.png', '/content/drive/MyDrive/datasets/prosopo_new/input/01167.png', '/content/drive/MyDrive/datasets/prosopo_new/input/01168.png', '/content/drive/MyDrive/datasets/prosopo_new/input/01169.png', '/content/drive/MyDrive/datasets/prosopo_new/input/01170.png', '/content/drive/MyDrive/datasets/prosopo_new/input/01171.png', '/content/drive/MyDrive/datasets/prosopo_new/input/01172.png', '/content/drive/MyDrive/datasets/prosopo_new/input/01173.png', '/content/drive/MyDrive/datasets/prosopo_new/input/01174.png', '/content/drive/MyDrive/datasets/prosopo_new/input/01175.png', '/content/drive/MyDrive/datasets/prosopo_new/input/01176.png', '/content/drive/MyDrive/datasets/prosopo_new/input/01177.png', '/content/drive/MyDrive/datasets/prosopo_new/input/01182.png', '/content/drive/MyDrive/datasets/prosopo_new/input/01183.png', '/content/drive/MyDrive/datasets/prosopo_new/input/01184.png', '/content/drive/MyDrive/datasets/prosopo_new/input/01185.png', '/content/drive/MyDrive/datasets/prosopo_new/input/01186.png', '/content/drive/MyDrive/datasets/prosopo_new/input/01187.png', '/content/drive/MyDrive/datasets/prosopo_new/input/01188.png', '/content/drive/MyDrive/datasets/prosopo_new/input/01189.png', '/content/drive/MyDrive/datasets/prosopo_new/input/01190.png', '/content/drive/MyDrive/datasets/prosopo_new/input/01191.png', '/content/drive/MyDrive/datasets/prosopo_new/input/01194.png', '/content/drive/MyDrive/datasets/prosopo_new/input/01195.png', '/content/drive/MyDrive/datasets/prosopo_new/input/01196.png', '/content/drive/MyDrive/datasets/prosopo_new/input/01197.png', '/content/drive/MyDrive/datasets/prosopo_new/input/01198.png', '/content/drive/MyDrive/datasets/prosopo_new/input/01199.png', '/content/drive/MyDrive/datasets/prosopo_new/input/01200.png', '/content/drive/MyDrive/datasets/prosopo_new/input/01201.png', '/content/drive/MyDrive/datasets/prosopo_new/input/01202.png', '/content/drive/MyDrive/datasets/prosopo_new/input/01203.png', '/content/drive/MyDrive/datasets/prosopo_new/input/01204.png', '/content/drive/MyDrive/datasets/prosopo_new/input/01205.png', '/content/drive/MyDrive/datasets/prosopo_new/input/01206.png', '/content/drive/MyDrive/datasets/prosopo_new/input/01207.png', '/content/drive/MyDrive/datasets/prosopo_new/input/01208.png', '/content/drive/MyDrive/datasets/prosopo_new/input/01209.png', '/content/drive/MyDrive/datasets/prosopo_new/input/01210.png', '/content/drive/MyDrive/datasets/prosopo_new/input/01211.png', '/content/drive/MyDrive/datasets/prosopo_new/input/01212.png', '/content/drive/MyDrive/datasets/prosopo_new/input/01213.png', '/content/drive/MyDrive/datasets/prosopo_new/input/01214.png', '/content/drive/MyDrive/datasets/prosopo_new/input/01215.png', '/content/drive/MyDrive/datasets/prosopo_new/input/01220.png', '/content/drive/MyDrive/datasets/prosopo_new/input/01221.png', '/content/drive/MyDrive/datasets/prosopo_new/input/01222.png', '/content/drive/MyDrive/datasets/prosopo_new/input/01223.png', '/content/drive/MyDrive/datasets/prosopo_new/input/01224.png', '/content/drive/MyDrive/datasets/prosopo_new/input/01225.png', '/content/drive/MyDrive/datasets/prosopo_new/input/01226.png', '/content/drive/MyDrive/datasets/prosopo_new/input/01227.png', '/content/drive/MyDrive/datasets/prosopo_new/input/01228.png', '/content/drive/MyDrive/datasets/prosopo_new/input/01229.png', '/content/drive/MyDrive/datasets/prosopo_new/input/01230.png', '/content/drive/MyDrive/datasets/prosopo_new/input/01231.png', '/content/drive/MyDrive/datasets/prosopo_new/input/01232.png', '/content/drive/MyDrive/datasets/prosopo_new/input/01233.png', '/content/drive/MyDrive/datasets/prosopo_new/input/01234.png', '/content/drive/MyDrive/datasets/prosopo_new/input/01235.png', '/content/drive/MyDrive/datasets/prosopo_new/input/01236.png', '/content/drive/MyDrive/datasets/prosopo_new/input/01237.png', '/content/drive/MyDrive/datasets/prosopo_new/input/01238.png', '/content/drive/MyDrive/datasets/prosopo_new/input/01239.png', '/content/drive/MyDrive/datasets/prosopo_new/input/01240.png', '/content/drive/MyDrive/datasets/prosopo_new/input/01241.png', '/content/drive/MyDrive/datasets/prosopo_new/input/01242.png', '/content/drive/MyDrive/datasets/prosopo_new/input/01243.png', '/content/drive/MyDrive/datasets/prosopo_new/input/01244.png', '/content/drive/MyDrive/datasets/prosopo_new/input/01245.png', '/content/drive/MyDrive/datasets/prosopo_new/input/01246.png', '/content/drive/MyDrive/datasets/prosopo_new/input/01247.png', '/content/drive/MyDrive/datasets/prosopo_new/input/01248.png', '/content/drive/MyDrive/datasets/prosopo_new/input/01249.png', '/content/drive/MyDrive/datasets/prosopo_new/input/01250.png', '/content/drive/MyDrive/datasets/prosopo_new/input/01251.png', '/content/drive/MyDrive/datasets/prosopo_new/input/01252.png', '/content/drive/MyDrive/datasets/prosopo_new/input/01253.png', '/content/drive/MyDrive/datasets/prosopo_new/input/01256.png', '/content/drive/MyDrive/datasets/prosopo_new/input/01257.png', '/content/drive/MyDrive/datasets/prosopo_new/input/01258.png', '/content/drive/MyDrive/datasets/prosopo_new/input/01259.png', '/content/drive/MyDrive/datasets/prosopo_new/input/01260.png', '/content/drive/MyDrive/datasets/prosopo_new/input/01261.png', '/content/drive/MyDrive/datasets/prosopo_new/input/01262.png', '/content/drive/MyDrive/datasets/prosopo_new/input/01263.png', '/content/drive/MyDrive/datasets/prosopo_new/input/01264.png', '/content/drive/MyDrive/datasets/prosopo_new/input/01265.png', '/content/drive/MyDrive/datasets/prosopo_new/input/01266.png', '/content/drive/MyDrive/datasets/prosopo_new/input/01267.png', '/content/drive/MyDrive/datasets/prosopo_new/input/01268.png', '/content/drive/MyDrive/datasets/prosopo_new/input/01269.png', '/content/drive/MyDrive/datasets/prosopo_new/input/01270.png', '/content/drive/MyDrive/datasets/prosopo_new/input/01271.png', '/content/drive/MyDrive/datasets/prosopo_new/input/01272.png', '/content/drive/MyDrive/datasets/prosopo_new/input/01273.png', '/content/drive/MyDrive/datasets/prosopo_new/input/01274.png', '/content/drive/MyDrive/datasets/prosopo_new/input/01275.png', '/content/drive/MyDrive/datasets/prosopo_new/input/01278.png', '/content/drive/MyDrive/datasets/prosopo_new/input/01279.png', '/content/drive/MyDrive/datasets/prosopo_new/input/01280.png', '/content/drive/MyDrive/datasets/prosopo_new/input/01281.png', '/content/drive/MyDrive/datasets/prosopo_new/input/01282.png', '/content/drive/MyDrive/datasets/prosopo_new/input/01283.png', '/content/drive/MyDrive/datasets/prosopo_new/input/01284.png', '/content/drive/MyDrive/datasets/prosopo_new/input/01285.png', '/content/drive/MyDrive/datasets/prosopo_new/input/01286.png', '/content/drive/MyDrive/datasets/prosopo_new/input/01287.png', '/content/drive/MyDrive/datasets/prosopo_new/input/01288.png', '/content/drive/MyDrive/datasets/prosopo_new/input/01289.png', '/content/drive/MyDrive/datasets/prosopo_new/input/01290.png', '/content/drive/MyDrive/datasets/prosopo_new/input/01291.png', '/content/drive/MyDrive/datasets/prosopo_new/input/01292.png', '/content/drive/MyDrive/datasets/prosopo_new/input/01293.png', '/content/drive/MyDrive/datasets/prosopo_new/input/01294.png', '/content/drive/MyDrive/datasets/prosopo_new/input/01295.png', '/content/drive/MyDrive/datasets/prosopo_new/input/01296.png', '/content/drive/MyDrive/datasets/prosopo_new/input/01297.png', '/content/drive/MyDrive/datasets/prosopo_new/input/01300.png', '/content/drive/MyDrive/datasets/prosopo_new/input/01301.png', '/content/drive/MyDrive/datasets/prosopo_new/input/01304.png', '/content/drive/MyDrive/datasets/prosopo_new/input/01305.png', '/content/drive/MyDrive/datasets/prosopo_new/input/01306.png', '/content/drive/MyDrive/datasets/prosopo_new/input/01307.png', '/content/drive/MyDrive/datasets/prosopo_new/input/01308.png', '/content/drive/MyDrive/datasets/prosopo_new/input/01309.png', '/content/drive/MyDrive/datasets/prosopo_new/input/01310.png', '/content/drive/MyDrive/datasets/prosopo_new/input/01311.png', '/content/drive/MyDrive/datasets/prosopo_new/input/01312.png', '/content/drive/MyDrive/datasets/prosopo_new/input/01313.png', '/content/drive/MyDrive/datasets/prosopo_new/input/01314.png', '/content/drive/MyDrive/datasets/prosopo_new/input/01315.png', '/content/drive/MyDrive/datasets/prosopo_new/input/01316.png', '/content/drive/MyDrive/datasets/prosopo_new/input/01317.png', '/content/drive/MyDrive/datasets/prosopo_new/input/01318.png', '/content/drive/MyDrive/datasets/prosopo_new/input/01319.png', '/content/drive/MyDrive/datasets/prosopo_new/input/01322.png', '/content/drive/MyDrive/datasets/prosopo_new/input/01323.png', '/content/drive/MyDrive/datasets/prosopo_new/input/01328.png', '/content/drive/MyDrive/datasets/prosopo_new/input/01329.png', '/content/drive/MyDrive/datasets/prosopo_new/input/01330.png', '/content/drive/MyDrive/datasets/prosopo_new/input/01331.png', '/content/drive/MyDrive/datasets/prosopo_new/input/01332.png', '/content/drive/MyDrive/datasets/prosopo_new/input/01333.png', '/content/drive/MyDrive/datasets/prosopo_new/input/01334.png', '/content/drive/MyDrive/datasets/prosopo_new/input/01335.png', '/content/drive/MyDrive/datasets/prosopo_new/input/01336.png', '/content/drive/MyDrive/datasets/prosopo_new/input/01337.png', '/content/drive/MyDrive/datasets/prosopo_new/input/01338.png', '/content/drive/MyDrive/datasets/prosopo_new/input/01339.png', '/content/drive/MyDrive/datasets/prosopo_new/input/01344.png', '/content/drive/MyDrive/datasets/prosopo_new/input/01345.png', '/content/drive/MyDrive/datasets/prosopo_new/input/01346.png', '/content/drive/MyDrive/datasets/prosopo_new/input/01347.png', '/content/drive/MyDrive/datasets/prosopo_new/input/01348.png', '/content/drive/MyDrive/datasets/prosopo_new/input/01349.png', '/content/drive/MyDrive/datasets/prosopo_new/input/01350.png', '/content/drive/MyDrive/datasets/prosopo_new/input/01351.png', '/content/drive/MyDrive/datasets/prosopo_new/input/01352.png', '/content/drive/MyDrive/datasets/prosopo_new/input/01353.png', '/content/drive/MyDrive/datasets/prosopo_new/input/01354.png', '/content/drive/MyDrive/datasets/prosopo_new/input/01355.png', '/content/drive/MyDrive/datasets/prosopo_new/input/01356.png', '/content/drive/MyDrive/datasets/prosopo_new/input/01357.png', '/content/drive/MyDrive/datasets/prosopo_new/input/01358.png', '/content/drive/MyDrive/datasets/prosopo_new/input/01359.png', '/content/drive/MyDrive/datasets/prosopo_new/input/01360.png', '/content/drive/MyDrive/datasets/prosopo_new/input/01361.png', '/content/drive/MyDrive/datasets/prosopo_new/input/01362.png', '/content/drive/MyDrive/datasets/prosopo_new/input/01363.png', '/content/drive/MyDrive/datasets/prosopo_new/input/01364.png', '/content/drive/MyDrive/datasets/prosopo_new/input/01365.png', '/content/drive/MyDrive/datasets/prosopo_new/input/01366.png', '/content/drive/MyDrive/datasets/prosopo_new/input/01367.png', '/content/drive/MyDrive/datasets/prosopo_new/input/01368.png', '/content/drive/MyDrive/datasets/prosopo_new/input/01369.png', '/content/drive/MyDrive/datasets/prosopo_new/input/01370.png', '/content/drive/MyDrive/datasets/prosopo_new/input/01371.png', '/content/drive/MyDrive/datasets/prosopo_new/input/01372.png', '/content/drive/MyDrive/datasets/prosopo_new/input/01373.png', '/content/drive/MyDrive/datasets/prosopo_new/input/01374.png', '/content/drive/MyDrive/datasets/prosopo_new/input/01375.png', '/content/drive/MyDrive/datasets/prosopo_new/input/01376.png', '/content/drive/MyDrive/datasets/prosopo_new/input/01377.png', '/content/drive/MyDrive/datasets/prosopo_new/input/01378.png', '/content/drive/MyDrive/datasets/prosopo_new/input/01379.png', '/content/drive/MyDrive/datasets/prosopo_new/input/01380.png', '/content/drive/MyDrive/datasets/prosopo_new/input/01381.png', '/content/drive/MyDrive/datasets/prosopo_new/input/01382.png', '/content/drive/MyDrive/datasets/prosopo_new/input/01383.png', '/content/drive/MyDrive/datasets/prosopo_new/input/01384.png', '/content/drive/MyDrive/datasets/prosopo_new/input/01385.png', '/content/drive/MyDrive/datasets/prosopo_new/input/01386.png', '/content/drive/MyDrive/datasets/prosopo_new/input/01387.png', '/content/drive/MyDrive/datasets/prosopo_new/input/01388.png', '/content/drive/MyDrive/datasets/prosopo_new/input/01389.png', '/content/drive/MyDrive/datasets/prosopo_new/input/01390.png', '/content/drive/MyDrive/datasets/prosopo_new/input/01391.png', '/content/drive/MyDrive/datasets/prosopo_new/input/01392.png', '/content/drive/MyDrive/datasets/prosopo_new/input/01393.png', '/content/drive/MyDrive/datasets/prosopo_new/input/01394.png', '/content/drive/MyDrive/datasets/prosopo_new/input/01395.png', '/content/drive/MyDrive/datasets/prosopo_new/input/01396.png', '/content/drive/MyDrive/datasets/prosopo_new/input/01397.png', '/content/drive/MyDrive/datasets/prosopo_new/input/01398.png', '/content/drive/MyDrive/datasets/prosopo_new/input/01399.png', '/content/drive/MyDrive/datasets/prosopo_new/input/01402.png', '/content/drive/MyDrive/datasets/prosopo_new/input/01403.png', '/content/drive/MyDrive/datasets/prosopo_new/input/01406.png', '/content/drive/MyDrive/datasets/prosopo_new/input/01407.png', '/content/drive/MyDrive/datasets/prosopo_new/input/01408.png', '/content/drive/MyDrive/datasets/prosopo_new/input/01409.png', '/content/drive/MyDrive/datasets/prosopo_new/input/01410.png', '/content/drive/MyDrive/datasets/prosopo_new/input/01411.png', '/content/drive/MyDrive/datasets/prosopo_new/input/01414.png', '/content/drive/MyDrive/datasets/prosopo_new/input/01415.png', '/content/drive/MyDrive/datasets/prosopo_new/input/01416.png', '/content/drive/MyDrive/datasets/prosopo_new/input/01417.png', '/content/drive/MyDrive/datasets/prosopo_new/input/01420.png', '/content/drive/MyDrive/datasets/prosopo_new/input/01421.png', '/content/drive/MyDrive/datasets/prosopo_new/input/01422.png', '/content/drive/MyDrive/datasets/prosopo_new/input/01423.png', '/content/drive/MyDrive/datasets/prosopo_new/input/01424.png', '/content/drive/MyDrive/datasets/prosopo_new/input/01425.png', '/content/drive/MyDrive/datasets/prosopo_new/input/01426.png', '/content/drive/MyDrive/datasets/prosopo_new/input/01427.png', '/content/drive/MyDrive/datasets/prosopo_new/input/01428.png', '/content/drive/MyDrive/datasets/prosopo_new/input/01429.png', '/content/drive/MyDrive/datasets/prosopo_new/input/01430.png', '/content/drive/MyDrive/datasets/prosopo_new/input/01431.png', '/content/drive/MyDrive/datasets/prosopo_new/input/01432.png', '/content/drive/MyDrive/datasets/prosopo_new/input/01433.png', '/content/drive/MyDrive/datasets/prosopo_new/input/01434.png', '/content/drive/MyDrive/datasets/prosopo_new/input/01435.png', '/content/drive/MyDrive/datasets/prosopo_new/input/01436.png', '/content/drive/MyDrive/datasets/prosopo_new/input/01437.png', '/content/drive/MyDrive/datasets/prosopo_new/input/01438.png', '/content/drive/MyDrive/datasets/prosopo_new/input/01439.png', '/content/drive/MyDrive/datasets/prosopo_new/input/01440.png', '/content/drive/MyDrive/datasets/prosopo_new/input/01441.png', '/content/drive/MyDrive/datasets/prosopo_new/input/01442.png', '/content/drive/MyDrive/datasets/prosopo_new/input/01443.png', '/content/drive/MyDrive/datasets/prosopo_new/input/01444.png', '/content/drive/MyDrive/datasets/prosopo_new/input/01445.png', '/content/drive/MyDrive/datasets/prosopo_new/input/01446.png', '/content/drive/MyDrive/datasets/prosopo_new/input/01447.png', '/content/drive/MyDrive/datasets/prosopo_new/input/01450.png', '/content/drive/MyDrive/datasets/prosopo_new/input/01451.png', '/content/drive/MyDrive/datasets/prosopo_new/input/01452.png', '/content/drive/MyDrive/datasets/prosopo_new/input/01453.png', '/content/drive/MyDrive/datasets/prosopo_new/input/01454.png', '/content/drive/MyDrive/datasets/prosopo_new/input/01455.png', '/content/drive/MyDrive/datasets/prosopo_new/input/01458.png', '/content/drive/MyDrive/datasets/prosopo_new/input/01459.png', '/content/drive/MyDrive/datasets/prosopo_new/input/01460.png', '/content/drive/MyDrive/datasets/prosopo_new/input/01461.png', '/content/drive/MyDrive/datasets/prosopo_new/input/01462.png', '/content/drive/MyDrive/datasets/prosopo_new/input/01463.png', '/content/drive/MyDrive/datasets/prosopo_new/input/01464.png', '/content/drive/MyDrive/datasets/prosopo_new/input/01465.png', '/content/drive/MyDrive/datasets/prosopo_new/input/01466.png', '/content/drive/MyDrive/datasets/prosopo_new/input/01467.png', '/content/drive/MyDrive/datasets/prosopo_new/input/01468.png', '/content/drive/MyDrive/datasets/prosopo_new/input/01469.png', '/content/drive/MyDrive/datasets/prosopo_new/input/01470.png', '/content/drive/MyDrive/datasets/prosopo_new/input/01471.png', '/content/drive/MyDrive/datasets/prosopo_new/input/01472.png', '/content/drive/MyDrive/datasets/prosopo_new/input/01473.png', '/content/drive/MyDrive/datasets/prosopo_new/input/01474.png', '/content/drive/MyDrive/datasets/prosopo_new/input/01475.png', '/content/drive/MyDrive/datasets/prosopo_new/input/01476.png', '/content/drive/MyDrive/datasets/prosopo_new/input/01477.png', '/content/drive/MyDrive/datasets/prosopo_new/input/01478.png', '/content/drive/MyDrive/datasets/prosopo_new/input/01479.png', '/content/drive/MyDrive/datasets/prosopo_new/input/01480.png', '/content/drive/MyDrive/datasets/prosopo_new/input/01481.png', '/content/drive/MyDrive/datasets/prosopo_new/input/01482.png', '/content/drive/MyDrive/datasets/prosopo_new/input/01483.png', '/content/drive/MyDrive/datasets/prosopo_new/input/01484.png', '/content/drive/MyDrive/datasets/prosopo_new/input/01485.png', '/content/drive/MyDrive/datasets/prosopo_new/input/01488.png', '/content/drive/MyDrive/datasets/prosopo_new/input/01489.png', '/content/drive/MyDrive/datasets/prosopo_new/input/01490.png', '/content/drive/MyDrive/datasets/prosopo_new/input/01491.png', '/content/drive/MyDrive/datasets/prosopo_new/input/01492.png', '/content/drive/MyDrive/datasets/prosopo_new/input/01493.png', '/content/drive/MyDrive/datasets/prosopo_new/input/01494.png', '/content/drive/MyDrive/datasets/prosopo_new/input/01495.png', '/content/drive/MyDrive/datasets/prosopo_new/input/01496.png', '/content/drive/MyDrive/datasets/prosopo_new/input/01497.png', '/content/drive/MyDrive/datasets/prosopo_new/input/01498.png', '/content/drive/MyDrive/datasets/prosopo_new/input/01499.png', '/content/drive/MyDrive/datasets/prosopo_new/input/01500.png', '/content/drive/MyDrive/datasets/prosopo_new/input/01501.png', '/content/drive/MyDrive/datasets/prosopo_new/input/01502.png', '/content/drive/MyDrive/datasets/prosopo_new/input/01503.png', '/content/drive/MyDrive/datasets/prosopo_new/input/01506.png', '/content/drive/MyDrive/datasets/prosopo_new/input/01507.png', '/content/drive/MyDrive/datasets/prosopo_new/input/01508.png', '/content/drive/MyDrive/datasets/prosopo_new/input/01509.png', '/content/drive/MyDrive/datasets/prosopo_new/input/01510.png', '/content/drive/MyDrive/datasets/prosopo_new/input/01511.png', '/content/drive/MyDrive/datasets/prosopo_new/input/01512.png', '/content/drive/MyDrive/datasets/prosopo_new/input/01513.png', '/content/drive/MyDrive/datasets/prosopo_new/input/01518.png', '/content/drive/MyDrive/datasets/prosopo_new/input/01519.png', '/content/drive/MyDrive/datasets/prosopo_new/input/01520.png', '/content/drive/MyDrive/datasets/prosopo_new/input/01521.png', '/content/drive/MyDrive/datasets/prosopo_new/input/01522.png', '/content/drive/MyDrive/datasets/prosopo_new/input/01523.png', '/content/drive/MyDrive/datasets/prosopo_new/input/01528.png', '/content/drive/MyDrive/datasets/prosopo_new/input/01529.png', '/content/drive/MyDrive/datasets/prosopo_new/input/01530.png', '/content/drive/MyDrive/datasets/prosopo_new/input/01531.png', '/content/drive/MyDrive/datasets/prosopo_new/input/01532.png', '/content/drive/MyDrive/datasets/prosopo_new/input/01533.png', '/content/drive/MyDrive/datasets/prosopo_new/input/01534.png', '/content/drive/MyDrive/datasets/prosopo_new/input/01535.png', '/content/drive/MyDrive/datasets/prosopo_new/input/01536.png', '/content/drive/MyDrive/datasets/prosopo_new/input/01537.png', '/content/drive/MyDrive/datasets/prosopo_new/input/01538.png', '/content/drive/MyDrive/datasets/prosopo_new/input/01539.png', '/content/drive/MyDrive/datasets/prosopo_new/input/01540.png', '/content/drive/MyDrive/datasets/prosopo_new/input/01541.png', '/content/drive/MyDrive/datasets/prosopo_new/input/01542.png', '/content/drive/MyDrive/datasets/prosopo_new/input/01543.png', '/content/drive/MyDrive/datasets/prosopo_new/input/01544.png', '/content/drive/MyDrive/datasets/prosopo_new/input/01545.png', '/content/drive/MyDrive/datasets/prosopo_new/input/01546.png', '/content/drive/MyDrive/datasets/prosopo_new/input/01547.png', '/content/drive/MyDrive/datasets/prosopo_new/input/01548.png', '/content/drive/MyDrive/datasets/prosopo_new/input/01549.png', '/content/drive/MyDrive/datasets/prosopo_new/input/01550.png', '/content/drive/MyDrive/datasets/prosopo_new/input/01551.png', '/content/drive/MyDrive/datasets/prosopo_new/input/01552.png', '/content/drive/MyDrive/datasets/prosopo_new/input/01553.png', '/content/drive/MyDrive/datasets/prosopo_new/input/01554.png', '/content/drive/MyDrive/datasets/prosopo_new/input/01555.png', '/content/drive/MyDrive/datasets/prosopo_new/input/01556.png', '/content/drive/MyDrive/datasets/prosopo_new/input/01557.png', '/content/drive/MyDrive/datasets/prosopo_new/input/01558.png', '/content/drive/MyDrive/datasets/prosopo_new/input/01559.png', '/content/drive/MyDrive/datasets/prosopo_new/input/01560.png', '/content/drive/MyDrive/datasets/prosopo_new/input/01561.png', '/content/drive/MyDrive/datasets/prosopo_new/input/01562.png', '/content/drive/MyDrive/datasets/prosopo_new/input/01563.png', '/content/drive/MyDrive/datasets/prosopo_new/input/01564.png', '/content/drive/MyDrive/datasets/prosopo_new/input/01565.png', '/content/drive/MyDrive/datasets/prosopo_new/input/01566.png', '/content/drive/MyDrive/datasets/prosopo_new/input/01567.png', '/content/drive/MyDrive/datasets/prosopo_new/input/01568.png', '/content/drive/MyDrive/datasets/prosopo_new/input/01569.png', '/content/drive/MyDrive/datasets/prosopo_new/input/01570.png', '/content/drive/MyDrive/datasets/prosopo_new/input/01571.png', '/content/drive/MyDrive/datasets/prosopo_new/input/01574.png', '/content/drive/MyDrive/datasets/prosopo_new/input/01575.png', '/content/drive/MyDrive/datasets/prosopo_new/input/01578.png', '/content/drive/MyDrive/datasets/prosopo_new/input/01579.png', '/content/drive/MyDrive/datasets/prosopo_new/input/01580.png', '/content/drive/MyDrive/datasets/prosopo_new/input/01581.png', '/content/drive/MyDrive/datasets/prosopo_new/input/01582.png', '/content/drive/MyDrive/datasets/prosopo_new/input/01583.png', '/content/drive/MyDrive/datasets/prosopo_new/input/01584.png', '/content/drive/MyDrive/datasets/prosopo_new/input/01585.png', '/content/drive/MyDrive/datasets/prosopo_new/input/01586.png', '/content/drive/MyDrive/datasets/prosopo_new/input/01587.png', '/content/drive/MyDrive/datasets/prosopo_new/input/01588.png', '/content/drive/MyDrive/datasets/prosopo_new/input/01589.png', '/content/drive/MyDrive/datasets/prosopo_new/input/01590.png', '/content/drive/MyDrive/datasets/prosopo_new/input/01591.png', '/content/drive/MyDrive/datasets/prosopo_new/input/01592.png', '/content/drive/MyDrive/datasets/prosopo_new/input/01593.png', '/content/drive/MyDrive/datasets/prosopo_new/input/01594.png', '/content/drive/MyDrive/datasets/prosopo_new/input/01595.png', '/content/drive/MyDrive/datasets/prosopo_new/input/01596.png', '/content/drive/MyDrive/datasets/prosopo_new/input/01597.png', '/content/drive/MyDrive/datasets/prosopo_new/input/01598.png', '/content/drive/MyDrive/datasets/prosopo_new/input/01599.png', '/content/drive/MyDrive/datasets/prosopo_new/input/01600.png', '/content/drive/MyDrive/datasets/prosopo_new/input/01601.png', '/content/drive/MyDrive/datasets/prosopo_new/input/01602.png', '/content/drive/MyDrive/datasets/prosopo_new/input/01603.png', '/content/drive/MyDrive/datasets/prosopo_new/input/01606.png', '/content/drive/MyDrive/datasets/prosopo_new/input/01607.png', '/content/drive/MyDrive/datasets/prosopo_new/input/01608.png', '/content/drive/MyDrive/datasets/prosopo_new/input/01609.png', '/content/drive/MyDrive/datasets/prosopo_new/input/01610.png', '/content/drive/MyDrive/datasets/prosopo_new/input/01611.png', '/content/drive/MyDrive/datasets/prosopo_new/input/01612.png', '/content/drive/MyDrive/datasets/prosopo_new/input/01613.png', '/content/drive/MyDrive/datasets/prosopo_new/input/01614.png', '/content/drive/MyDrive/datasets/prosopo_new/input/01615.png', '/content/drive/MyDrive/datasets/prosopo_new/input/01616.png', '/content/drive/MyDrive/datasets/prosopo_new/input/01617.png', '/content/drive/MyDrive/datasets/prosopo_new/input/01618.png', '/content/drive/MyDrive/datasets/prosopo_new/input/01619.png', '/content/drive/MyDrive/datasets/prosopo_new/input/01620.png', '/content/drive/MyDrive/datasets/prosopo_new/input/01621.png', '/content/drive/MyDrive/datasets/prosopo_new/input/01622.png', '/content/drive/MyDrive/datasets/prosopo_new/input/01623.png', '/content/drive/MyDrive/datasets/prosopo_new/input/01624.png', '/content/drive/MyDrive/datasets/prosopo_new/input/01625.png', '/content/drive/MyDrive/datasets/prosopo_new/input/01628.png', '/content/drive/MyDrive/datasets/prosopo_new/input/01629.png', '/content/drive/MyDrive/datasets/prosopo_new/input/01630.png', '/content/drive/MyDrive/datasets/prosopo_new/input/01631.png', '/content/drive/MyDrive/datasets/prosopo_new/input/01632.png', '/content/drive/MyDrive/datasets/prosopo_new/input/01633.png', '/content/drive/MyDrive/datasets/prosopo_new/input/01634.png', '/content/drive/MyDrive/datasets/prosopo_new/input/01635.png', '/content/drive/MyDrive/datasets/prosopo_new/input/01636.png', '/content/drive/MyDrive/datasets/prosopo_new/input/01637.png', '/content/drive/MyDrive/datasets/prosopo_new/input/01638.png', '/content/drive/MyDrive/datasets/prosopo_new/input/01639.png', '/content/drive/MyDrive/datasets/prosopo_new/input/01640.png', '/content/drive/MyDrive/datasets/prosopo_new/input/01641.png', '/content/drive/MyDrive/datasets/prosopo_new/input/01642.png', '/content/drive/MyDrive/datasets/prosopo_new/input/01643.png', '/content/drive/MyDrive/datasets/prosopo_new/input/01644.png', '/content/drive/MyDrive/datasets/prosopo_new/input/01645.png', '/content/drive/MyDrive/datasets/prosopo_new/input/01646.png', '/content/drive/MyDrive/datasets/prosopo_new/input/01647.png', '/content/drive/MyDrive/datasets/prosopo_new/input/01648.png', '/content/drive/MyDrive/datasets/prosopo_new/input/01649.png', '/content/drive/MyDrive/datasets/prosopo_new/input/01650.png', '/content/drive/MyDrive/datasets/prosopo_new/input/01651.png', '/content/drive/MyDrive/datasets/prosopo_new/input/01652.png', '/content/drive/MyDrive/datasets/prosopo_new/input/01653.png', '/content/drive/MyDrive/datasets/prosopo_new/input/01654.png', '/content/drive/MyDrive/datasets/prosopo_new/input/01655.png', '/content/drive/MyDrive/datasets/prosopo_new/input/01656.png', '/content/drive/MyDrive/datasets/prosopo_new/input/01657.png', '/content/drive/MyDrive/datasets/prosopo_new/input/01658.png', '/content/drive/MyDrive/datasets/prosopo_new/input/01659.png', '/content/drive/MyDrive/datasets/prosopo_new/input/01660.png', '/content/drive/MyDrive/datasets/prosopo_new/input/01661.png', '/content/drive/MyDrive/datasets/prosopo_new/input/01662.png', '/content/drive/MyDrive/datasets/prosopo_new/input/01663.png', '/content/drive/MyDrive/datasets/prosopo_new/input/01664.png', '/content/drive/MyDrive/datasets/prosopo_new/input/01665.png', '/content/drive/MyDrive/datasets/prosopo_new/input/01666.png', '/content/drive/MyDrive/datasets/prosopo_new/input/01667.png', '/content/drive/MyDrive/datasets/prosopo_new/input/01670.png', '/content/drive/MyDrive/datasets/prosopo_new/input/01671.png', '/content/drive/MyDrive/datasets/prosopo_new/input/01674.png', '/content/drive/MyDrive/datasets/prosopo_new/input/01675.png', '/content/drive/MyDrive/datasets/prosopo_new/input/01676.png', '/content/drive/MyDrive/datasets/prosopo_new/input/01677.png', '/content/drive/MyDrive/datasets/prosopo_new/input/01678.png', '/content/drive/MyDrive/datasets/prosopo_new/input/01679.png', '/content/drive/MyDrive/datasets/prosopo_new/input/01680.png', '/content/drive/MyDrive/datasets/prosopo_new/input/01681.png', '/content/drive/MyDrive/datasets/prosopo_new/input/01682.png', '/content/drive/MyDrive/datasets/prosopo_new/input/01683.png', '/content/drive/MyDrive/datasets/prosopo_new/input/01684.png', '/content/drive/MyDrive/datasets/prosopo_new/input/01685.png', '/content/drive/MyDrive/datasets/prosopo_new/input/01691.png', '/content/drive/MyDrive/datasets/prosopo_new/input/01692.png', '/content/drive/MyDrive/datasets/prosopo_new/input/01693.png', '/content/drive/MyDrive/datasets/prosopo_new/input/01696.png', '/content/drive/MyDrive/datasets/prosopo_new/input/01697.png', '/content/drive/MyDrive/datasets/prosopo_new/input/01698.png', '/content/drive/MyDrive/datasets/prosopo_new/input/01699.png', '/content/drive/MyDrive/datasets/prosopo_new/input/01700.png', '/content/drive/MyDrive/datasets/prosopo_new/input/01701.png', '/content/drive/MyDrive/datasets/prosopo_new/input/01704.png', '/content/drive/MyDrive/datasets/prosopo_new/input/01705.png', '/content/drive/MyDrive/datasets/prosopo_new/input/01706.png', '/content/drive/MyDrive/datasets/prosopo_new/input/01707.png', '/content/drive/MyDrive/datasets/prosopo_new/input/01708.png', '/content/drive/MyDrive/datasets/prosopo_new/input/01709.png', '/content/drive/MyDrive/datasets/prosopo_new/input/01712.png', '/content/drive/MyDrive/datasets/prosopo_new/input/01713.png', '/content/drive/MyDrive/datasets/prosopo_new/input/01714.png', '/content/drive/MyDrive/datasets/prosopo_new/input/01715.png', '/content/drive/MyDrive/datasets/prosopo_new/input/01718.png', '/content/drive/MyDrive/datasets/prosopo_new/input/01719.png', '/content/drive/MyDrive/datasets/prosopo_new/input/01720.png', '/content/drive/MyDrive/datasets/prosopo_new/input/01721.png', '/content/drive/MyDrive/datasets/prosopo_new/input/01722.png', '/content/drive/MyDrive/datasets/prosopo_new/input/01723.png', '/content/drive/MyDrive/datasets/prosopo_new/input/01724.png', '/content/drive/MyDrive/datasets/prosopo_new/input/01725.png', '/content/drive/MyDrive/datasets/prosopo_new/input/01730.png', '/content/drive/MyDrive/datasets/prosopo_new/input/01731.png', '/content/drive/MyDrive/datasets/prosopo_new/input/01732.png', '/content/drive/MyDrive/datasets/prosopo_new/input/01733.png', '/content/drive/MyDrive/datasets/prosopo_new/input/01734.png', '/content/drive/MyDrive/datasets/prosopo_new/input/01735.png', '/content/drive/MyDrive/datasets/prosopo_new/input/01736.png', '/content/drive/MyDrive/datasets/prosopo_new/input/01737.png', '/content/drive/MyDrive/datasets/prosopo_new/input/01740.png', '/content/drive/MyDrive/datasets/prosopo_new/input/01741.png', '/content/drive/MyDrive/datasets/prosopo_new/input/01742.png', '/content/drive/MyDrive/datasets/prosopo_new/input/01743.png', '/content/drive/MyDrive/datasets/prosopo_new/input/01746.png', '/content/drive/MyDrive/datasets/prosopo_new/input/01747.png', '/content/drive/MyDrive/datasets/prosopo_new/input/01748.png', '/content/drive/MyDrive/datasets/prosopo_new/input/01749.png', '/content/drive/MyDrive/datasets/prosopo_new/input/01750.png', '/content/drive/MyDrive/datasets/prosopo_new/input/01751.png', '/content/drive/MyDrive/datasets/prosopo_new/input/01752.png', '/content/drive/MyDrive/datasets/prosopo_new/input/01753.png', '/content/drive/MyDrive/datasets/prosopo_new/input/01754.png', '/content/drive/MyDrive/datasets/prosopo_new/input/01755.png', '/content/drive/MyDrive/datasets/prosopo_new/input/01756.png', '/content/drive/MyDrive/datasets/prosopo_new/input/01757.png', '/content/drive/MyDrive/datasets/prosopo_new/input/01758.png', '/content/drive/MyDrive/datasets/prosopo_new/input/01759.png', '/content/drive/MyDrive/datasets/prosopo_new/input/01760.png', '/content/drive/MyDrive/datasets/prosopo_new/input/01761.png', '/content/drive/MyDrive/datasets/prosopo_new/input/01762.png', '/content/drive/MyDrive/datasets/prosopo_new/input/01763.png', '/content/drive/MyDrive/datasets/prosopo_new/input/01764.png', '/content/drive/MyDrive/datasets/prosopo_new/input/01765.png', '/content/drive/MyDrive/datasets/prosopo_new/input/01768.png', '/content/drive/MyDrive/datasets/prosopo_new/input/01769.png', '/content/drive/MyDrive/datasets/prosopo_new/input/01770.png', '/content/drive/MyDrive/datasets/prosopo_new/input/01771.png', '/content/drive/MyDrive/datasets/prosopo_new/input/01772.png', '/content/drive/MyDrive/datasets/prosopo_new/input/01773.png', '/content/drive/MyDrive/datasets/prosopo_new/input/01774.png', '/content/drive/MyDrive/datasets/prosopo_new/input/01775.png', '/content/drive/MyDrive/datasets/prosopo_new/input/01778.png', '/content/drive/MyDrive/datasets/prosopo_new/input/01779.png', '/content/drive/MyDrive/datasets/prosopo_new/input/01780.png', '/content/drive/MyDrive/datasets/prosopo_new/input/01781.png', '/content/drive/MyDrive/datasets/prosopo_new/input/01782.png', '/content/drive/MyDrive/datasets/prosopo_new/input/01783.png', '/content/drive/MyDrive/datasets/prosopo_new/input/01784.png', '/content/drive/MyDrive/datasets/prosopo_new/input/01785.png', '/content/drive/MyDrive/datasets/prosopo_new/input/01786.png', '/content/drive/MyDrive/datasets/prosopo_new/input/01787.png', '/content/drive/MyDrive/datasets/prosopo_new/input/01790.png', '/content/drive/MyDrive/datasets/prosopo_new/input/01791.png', '/content/drive/MyDrive/datasets/prosopo_new/input/01792.png', '/content/drive/MyDrive/datasets/prosopo_new/input/01793.png', '/content/drive/MyDrive/datasets/prosopo_new/input/01796.png', '/content/drive/MyDrive/datasets/prosopo_new/input/01797.png', '/content/drive/MyDrive/datasets/prosopo_new/input/01798.png', '/content/drive/MyDrive/datasets/prosopo_new/input/01799.png', '/content/drive/MyDrive/datasets/prosopo_new/input/01800.png', '/content/drive/MyDrive/datasets/prosopo_new/input/01801.png', '/content/drive/MyDrive/datasets/prosopo_new/input/01802.png', '/content/drive/MyDrive/datasets/prosopo_new/input/01803.png', '/content/drive/MyDrive/datasets/prosopo_new/input/01804.png', '/content/drive/MyDrive/datasets/prosopo_new/input/01805.png', '/content/drive/MyDrive/datasets/prosopo_new/input/01806.png', '/content/drive/MyDrive/datasets/prosopo_new/input/01807.png', '/content/drive/MyDrive/datasets/prosopo_new/input/01808.png', '/content/drive/MyDrive/datasets/prosopo_new/input/01809.png', '/content/drive/MyDrive/datasets/prosopo_new/input/01816.png', '/content/drive/MyDrive/datasets/prosopo_new/input/01817.png', '/content/drive/MyDrive/datasets/prosopo_new/input/01818.png', '/content/drive/MyDrive/datasets/prosopo_new/input/01819.png', '/content/drive/MyDrive/datasets/prosopo_new/input/01820.png', '/content/drive/MyDrive/datasets/prosopo_new/input/01821.png', '/content/drive/MyDrive/datasets/prosopo_new/input/01824.png', '/content/drive/MyDrive/datasets/prosopo_new/input/01825.png', '/content/drive/MyDrive/datasets/prosopo_new/input/01826.png', '/content/drive/MyDrive/datasets/prosopo_new/input/01827.png', '/content/drive/MyDrive/datasets/prosopo_new/input/01828.png', '/content/drive/MyDrive/datasets/prosopo_new/input/01829.png', '/content/drive/MyDrive/datasets/prosopo_new/input/01830.png', '/content/drive/MyDrive/datasets/prosopo_new/input/01831.png', '/content/drive/MyDrive/datasets/prosopo_new/input/01834.png', '/content/drive/MyDrive/datasets/prosopo_new/input/01835.png', '/content/drive/MyDrive/datasets/prosopo_new/input/01836.png', '/content/drive/MyDrive/datasets/prosopo_new/input/01837.png', '/content/drive/MyDrive/datasets/prosopo_new/input/01838.png', '/content/drive/MyDrive/datasets/prosopo_new/input/01839.png', '/content/drive/MyDrive/datasets/prosopo_new/input/01840.png', '/content/drive/MyDrive/datasets/prosopo_new/input/01841.png', '/content/drive/MyDrive/datasets/prosopo_new/input/01844.png', '/content/drive/MyDrive/datasets/prosopo_new/input/01845.png', '/content/drive/MyDrive/datasets/prosopo_new/input/01846.png', '/content/drive/MyDrive/datasets/prosopo_new/input/01847.png', '/content/drive/MyDrive/datasets/prosopo_new/input/01848.png', '/content/drive/MyDrive/datasets/prosopo_new/input/01849.png', '/content/drive/MyDrive/datasets/prosopo_new/input/01852.png', '/content/drive/MyDrive/datasets/prosopo_new/input/01853.png', '/content/drive/MyDrive/datasets/prosopo_new/input/01854.png', '/content/drive/MyDrive/datasets/prosopo_new/input/01855.png', '/content/drive/MyDrive/datasets/prosopo_new/input/01856.png', '/content/drive/MyDrive/datasets/prosopo_new/input/01857.png', '/content/drive/MyDrive/datasets/prosopo_new/input/01860.png', '/content/drive/MyDrive/datasets/prosopo_new/input/01861.png', '/content/drive/MyDrive/datasets/prosopo_new/input/01862.png', '/content/drive/MyDrive/datasets/prosopo_new/input/01863.png', '/content/drive/MyDrive/datasets/prosopo_new/input/01866.png', '/content/drive/MyDrive/datasets/prosopo_new/input/01867.png', '/content/drive/MyDrive/datasets/prosopo_new/input/01868.png', '/content/drive/MyDrive/datasets/prosopo_new/input/01869.png', '/content/drive/MyDrive/datasets/prosopo_new/input/01872.png', '/content/drive/MyDrive/datasets/prosopo_new/input/01873.png', '/content/drive/MyDrive/datasets/prosopo_new/input/01874.png', '/content/drive/MyDrive/datasets/prosopo_new/input/01875.png', '/content/drive/MyDrive/datasets/prosopo_new/input/01880.png', '/content/drive/MyDrive/datasets/prosopo_new/input/01881.png', '/content/drive/MyDrive/datasets/prosopo_new/input/01882.png', '/content/drive/MyDrive/datasets/prosopo_new/input/01883.png', '/content/drive/MyDrive/datasets/prosopo_new/input/01884.png', '/content/drive/MyDrive/datasets/prosopo_new/input/01885.png', '/content/drive/MyDrive/datasets/prosopo_new/input/01888.png', '/content/drive/MyDrive/datasets/prosopo_new/input/01889.png', '/content/drive/MyDrive/datasets/prosopo_new/input/01894.png', '/content/drive/MyDrive/datasets/prosopo_new/input/01895.png', '/content/drive/MyDrive/datasets/prosopo_new/input/01898.png', '/content/drive/MyDrive/datasets/prosopo_new/input/01899.png', '/content/drive/MyDrive/datasets/prosopo_new/input/01900.png', '/content/drive/MyDrive/datasets/prosopo_new/input/01901.png', '/content/drive/MyDrive/datasets/prosopo_new/input/01902.png', '/content/drive/MyDrive/datasets/prosopo_new/input/01903.png', '/content/drive/MyDrive/datasets/prosopo_new/input/01906.png', '/content/drive/MyDrive/datasets/prosopo_new/input/01907.png', '/content/drive/MyDrive/datasets/prosopo_new/input/01910.png', '/content/drive/MyDrive/datasets/prosopo_new/input/01911.png', '/content/drive/MyDrive/datasets/prosopo_new/input/01912.png', '/content/drive/MyDrive/datasets/prosopo_new/input/01913.png', '/content/drive/MyDrive/datasets/prosopo_new/input/01914.png', '/content/drive/MyDrive/datasets/prosopo_new/input/01915.png', '/content/drive/MyDrive/datasets/prosopo_new/input/01924.png', '/content/drive/MyDrive/datasets/prosopo_new/input/01925.png', '/content/drive/MyDrive/datasets/prosopo_new/input/01928.png', '/content/drive/MyDrive/datasets/prosopo_new/input/01929.png', '/content/drive/MyDrive/datasets/prosopo_new/input/01930.png', '/content/drive/MyDrive/datasets/prosopo_new/input/01931.png', '/content/drive/MyDrive/datasets/prosopo_new/input/01932.png', '/content/drive/MyDrive/datasets/prosopo_new/input/01933.png', '/content/drive/MyDrive/datasets/prosopo_new/input/01934.png', '/content/drive/MyDrive/datasets/prosopo_new/input/01935.png', '/content/drive/MyDrive/datasets/prosopo_new/input/01940.png', '/content/drive/MyDrive/datasets/prosopo_new/input/01941.png', '/content/drive/MyDrive/datasets/prosopo_new/input/01944.png', '/content/drive/MyDrive/datasets/prosopo_new/input/01945.png', '/content/drive/MyDrive/datasets/prosopo_new/input/01946.png', '/content/drive/MyDrive/datasets/prosopo_new/input/01947.png', '/content/drive/MyDrive/datasets/prosopo_new/input/01948.png', '/content/drive/MyDrive/datasets/prosopo_new/input/01949.png', '/content/drive/MyDrive/datasets/prosopo_new/input/01950.png', '/content/drive/MyDrive/datasets/prosopo_new/input/01951.png', '/content/drive/MyDrive/datasets/prosopo_new/input/01952.png', '/content/drive/MyDrive/datasets/prosopo_new/input/01953.png', '/content/drive/MyDrive/datasets/prosopo_new/input/01954.png', '/content/drive/MyDrive/datasets/prosopo_new/input/01955.png', '/content/drive/MyDrive/datasets/prosopo_new/input/01956.png', '/content/drive/MyDrive/datasets/prosopo_new/input/01957.png', '/content/drive/MyDrive/datasets/prosopo_new/input/01958.png', '/content/drive/MyDrive/datasets/prosopo_new/input/01959.png', '/content/drive/MyDrive/datasets/prosopo_new/input/01960.png', '/content/drive/MyDrive/datasets/prosopo_new/input/01961.png', '/content/drive/MyDrive/datasets/prosopo_new/input/01962.png', '/content/drive/MyDrive/datasets/prosopo_new/input/01963.png', '/content/drive/MyDrive/datasets/prosopo_new/input/01964.png', '/content/drive/MyDrive/datasets/prosopo_new/input/01965.png', '/content/drive/MyDrive/datasets/prosopo_new/input/01966.png', '/content/drive/MyDrive/datasets/prosopo_new/input/01967.png', '/content/drive/MyDrive/datasets/prosopo_new/input/01968.png', '/content/drive/MyDrive/datasets/prosopo_new/input/01969.png', '/content/drive/MyDrive/datasets/prosopo_new/input/01970.png', '/content/drive/MyDrive/datasets/prosopo_new/input/01971.png', '/content/drive/MyDrive/datasets/prosopo_new/input/01972.png', '/content/drive/MyDrive/datasets/prosopo_new/input/01973.png', '/content/drive/MyDrive/datasets/prosopo_new/input/01974.png', '/content/drive/MyDrive/datasets/prosopo_new/input/01975.png', '/content/drive/MyDrive/datasets/prosopo_new/input/01976.png', '/content/drive/MyDrive/datasets/prosopo_new/input/01977.png', '/content/drive/MyDrive/datasets/prosopo_new/input/01978.png', '/content/drive/MyDrive/datasets/prosopo_new/input/01979.png', '/content/drive/MyDrive/datasets/prosopo_new/input/01980.png', '/content/drive/MyDrive/datasets/prosopo_new/input/01981.png', '/content/drive/MyDrive/datasets/prosopo_new/input/01982.png', '/content/drive/MyDrive/datasets/prosopo_new/input/01983.png', '/content/drive/MyDrive/datasets/prosopo_new/input/01984.png', '/content/drive/MyDrive/datasets/prosopo_new/input/01985.png', '/content/drive/MyDrive/datasets/prosopo_new/input/01988.png', '/content/drive/MyDrive/datasets/prosopo_new/input/01989.png', '/content/drive/MyDrive/datasets/prosopo_new/input/01990.png', '/content/drive/MyDrive/datasets/prosopo_new/input/01991.png', '/content/drive/MyDrive/datasets/prosopo_new/input/01992.png', '/content/drive/MyDrive/datasets/prosopo_new/input/01993.png', '/content/drive/MyDrive/datasets/prosopo_new/input/01994.png', '/content/drive/MyDrive/datasets/prosopo_new/input/01995.png', '/content/drive/MyDrive/datasets/prosopo_new/input/01996.png', '/content/drive/MyDrive/datasets/prosopo_new/input/01997.png', '/content/drive/MyDrive/datasets/prosopo_new/input/01998.png', '/content/drive/MyDrive/datasets/prosopo_new/input/01999.png']\n",
            "Validation set ---> 1600 samples\n"
          ]
        }
      ],
      "source": [
        "#@markdown Save your img files and gt latent code $ \\to\\ $ '/content/val.npy' and '/content/val_gt.npy'\n",
        "import os\n",
        "paths = [] # image paths\n",
        "gt_paths = []\n",
        "#path = '/content/drive/MyDrive/datasets/FFHQ/00000/'\n",
        "path = '/content/drive/MyDrive/datasets/eg3d/images'\n",
        "path = '/content/drive/MyDrive/datasets/prosopo_new/input/'\n",
        "\n",
        "\n",
        "\n",
        "for i, img_path in enumerate(sorted(os.listdir(path), reverse=False)):\n",
        "  if i >=0:\n",
        "    fullpath = os.path.join(path, img_path)\n",
        "    paths.append(fullpath)\n",
        "    #gt_paths.append(fullpath.replace('images', 'latent').replace('png', 'npy'))\n",
        "    gt_paths.append(fullpath.replace('input', 'latent').replace('png', 'npy'))\n",
        "\n",
        "  if len(paths) > 1800:\n",
        "    break\n",
        "    \n",
        "'''\n",
        "paths = []\n",
        "gt_paths = []\n",
        "for i in range(47800, 49400):\n",
        "  fullpath = os.path.join(path, f'seed{i:04d}.png')\n",
        "  paths.append(fullpath)\n",
        "  gt_paths.append(fullpath.replace('images', 'latent').replace('png', 'npy'))\n",
        "'''\n",
        "\n",
        "np.save('/content/val.npy', paths)\n",
        "np.save('/content/val_gt.npy', gt_paths)\n",
        "print(paths)\n",
        "print(\"Validation set ---> {} samples\".format(len(paths)))"
      ]
    },
    {
      "cell_type": "code",
      "execution_count": null,
      "metadata": {
        "colab": {
          "base_uri": "https://localhost:8080/"
        },
        "id": "SUtb9LUIE7_v",
        "outputId": "d16cd180-3ece-4da2-fa96-f4957df61f10",
        "cellView": "form"
      },
      "outputs": [
        {
          "output_type": "stream",
          "name": "stdout",
          "text": [
            "/content/MiDaS\n",
            "device: cuda\n",
            "Mean L1-loss is: 0.284825439453125\n"
          ]
        },
        {
          "output_type": "stream",
          "name": "stderr",
          "text": [
            "100%|██████████| 1600/1600 [01:06<00:00, 23.92it/s]"
          ]
        },
        {
          "output_type": "stream",
          "name": "stdout",
          "text": [
            "\n",
            " Perfects: 0 Out of: 1600\n",
            "\n",
            " Total loss:  0.28500357270240784\n"
          ]
        },
        {
          "output_type": "stream",
          "name": "stderr",
          "text": [
            "\n"
          ]
        }
      ],
      "source": [
        "### Evaluate model\n",
        "\"\"\"Compute depth maps for images in the input folder.\n",
        "\"\"\"\n",
        "%cd /content/MiDaS\n",
        "from torchvision.transforms import Compose\n",
        "from midas.dpt_depth import DPTDepthModel\n",
        "from midas.transforms import Resize, NormalizeImage, PrepareForNet\n",
        "import torch.optim as optim\n",
        "import torch.nn as nn\n",
        "import torch\n",
        "import os\n",
        "import cv2\n",
        "import utils\n",
        "import numpy as np\n",
        "import PIL\n",
        "from tqdm import tqdm\n",
        "from midas.transforms import Resize, NormalizeImage, PrepareForNet\n",
        "from torchvision.transforms import Compose\n",
        "from midas.dpt_depth import DPTDepthModel\n",
        "from midas.midas_net import MidasNet\n",
        "from midas.midas_net_custom import MidasNet_small\n",
        "from midas.transforms import Resize, NormalizeImage, PrepareForNet\n",
        "from matplotlib import pyplot as plt\n",
        "\n",
        "model_path =  \"/content/drive/MyDrive/eg3d/experiments/latent_train48000_samples/b1_e100_weights_ckp_9.pt\"#@param {type: \"string\"}\n",
        "img_path = '/content/drive/MyDrive/datasets/prosopo/input/mein/monalisa.jpg' #@param {type: \"string\"}\n",
        "gt_path = '/content/drive/MyDrive/datasets/prosopo/input/mein/monalisa_gt.jpg' #@param {type: \"string\"}\n",
        "#@markdown or give a path to a list of images\n",
        "img_list_path = \"/content/val.npy\" #@param {type: \"string\"}\n",
        "gt_list_path = \"/content/val_gt.npy\" #@param {type: \"string\"}\n",
        "#output_root = '/content/drive/MyDrive/eg3d/output/' \n",
        "output_root = '/'.join(model_path.split('/')[:-1])\n",
        "#@markdown Save results?\n",
        "save = False #@param {type:\"boolean\"}\n",
        "\n",
        "\n",
        "\n",
        "# Transform input\n",
        "normalization = NormalizeImage(mean=[0.5, 0.5, 0.5], std=[0.5, 0.5, 0.5])\n",
        "transform = Compose(\n",
        "    [ Resize(512, 512, resize_target=None, keep_aspect_ratio=True, ensure_multiple_of=32,\n",
        "            resize_method='minimal', image_interpolation_method=cv2.INTER_CUBIC,), normalization,PrepareForNet(), ])\n",
        "\n",
        "# select device\n",
        "device = torch.device(\"cuda\" if torch.cuda.is_available() else \"cpu\")\n",
        "print(\"device: %s\" % device)\n",
        "\n",
        "# load network\n",
        "try:\n",
        "  model.load_state_dict(torch.load(model_path, map_location=device)) #model architeture is selected above\n",
        "  model.eval()\n",
        "  model.to(device)\n",
        "except:\n",
        "  raise Exception('Model architecture and model weights did not match! Are you using the corrrect model?')\n",
        "\n",
        "\n",
        "try:\n",
        "  image_paths = np.load(img_list_path, allow_pickle=True)\n",
        "  gt_paths = np.load(gt_list_path, allow_pickle=True)\n",
        "except:\n",
        "    try:\n",
        "      image_paths = np.load(img_list_path, allow_pickle=True).item()['valX']\n",
        "      gt_paths = np.load(img_list_path, allow_pickle=True).item()['valY']\n",
        "    except:\n",
        "      image_paths = [img_path, ]\n",
        "      gt_paths = [gt_path, ]\n",
        "\n",
        "\n",
        "l1_loss = nn.L1Loss(reduction='mean') # l1-loss\n",
        "testX = np.array(image_paths).reshape( len(image_paths), 1)\n",
        "testY = np.array(gt_paths).reshape( len(gt_paths), 1)\n",
        "try:\n",
        "  tot_loss = validate(model=model, X=testX, Y=testY, criterion=l1_loss)\n",
        "  print(\"Mean L1-loss is:\", tot_loss.item()/len(testX))\n",
        "except:\n",
        "  print(\"Not enough GPU memory to vaidate on large batch size\")\n",
        "\n",
        "\n",
        "\n",
        "\n",
        "\n",
        "# counter for perfect results\n",
        "perfect = 0 \n",
        "tot_loss = 0\n",
        "\n",
        "\n",
        "\n",
        "with torch.no_grad():\n",
        "  for i in tqdm(range(len(image_paths))):\n",
        "    img = utils.read_image(image_paths[i]) \n",
        "    img_input = transform({\"image\": img})[\"image\"]\n",
        "    input = torch.from_numpy(img_input).to(device).unsqueeze(0)\n",
        "    prediction = model(input)\n",
        "    # get current gt and img path\n",
        "    img_path = image_paths[i]\n",
        "    gt_path = gt_paths[i]\n",
        "    prediction_np = prediction.squeeze().cpu().numpy().transpose() # convert to (1, 14, 512)\n",
        "    \n",
        "    # gt\n",
        "    gt_np = np.load(gt_path, allow_pickle=True).transpose()\n",
        "    #gt_np = transform_latent(gt_np) # comment for UNET-modified model\n",
        "    gt = torch.tensor(gt_np, requires_grad=True).to(device).unsqueeze(0)\n",
        "    img_name = 'out'\n",
        "    #filename = os.path.join(\n",
        "    #os.path.join(output_root,example), os.path.splitext(os.path.basename(img_name))[0])\n",
        "    #output_path = filename + '.png'\n",
        "    sample_loss = l1_loss(prediction, gt)\n",
        "    if sample_loss < 0.20:\n",
        "      perfect = perfect + 1\n",
        "      print(f'Sample loss ({i})', sample_loss.item())\n",
        "    tot_loss = tot_loss + sample_loss\n",
        "\n",
        "    if save:\n",
        "      os.makedirs(os.path.join(output_root, example), exist_ok=True)\n",
        "      #save input image\n",
        "      PIL.Image.open(img_path).save(output_path.replace('out', 'input'))\n",
        "      # save gt depth map\n",
        "      PIL.Image.open(gt_path).save(output_path.replace('out', 'gt'))\n",
        "      plt.imshow(prediction_np) # display prediction\n",
        "      utils.write_depth(filename, prediction_np, bits=1) # save prediction\n",
        "\n",
        "      pred_mesh_output = filename + '.obj'\n",
        "      gt_mesh_output = os.path.splitext(pred_mesh_output)[0]+'_gt.obj'\n",
        "      ### Save .obj\n",
        "      try:\n",
        "        verts, faces, colors = depthImage2mesh(img_path=output_path, output_path=pred_mesh_output, save=True)\n",
        "        print('Pred. obj is saved under:', pred_mesh_output)\n",
        "      except:\n",
        "        print(\"Cannot reconstruct predicted depth map\")\n",
        "      try:\n",
        "        verts, faces, colors = depthImage2mesh(img_path=gt_path, output_path=gt_mesh_output, save=True)\n",
        "        print('GT obj is saved under:   ', gt_mesh_output)\n",
        "      except:\n",
        "        print(\"Cannot reconstruct GT depth map\")\n",
        "\n",
        "print('\\n', \"Perfects:\", perfect, \"Out of:\", len(image_paths))\n",
        "print('\\n', \"Total loss:  {}\".format(tot_loss/i))\n"
      ]
    },
    {
      "cell_type": "code",
      "execution_count": null,
      "metadata": {
        "colab": {
          "base_uri": "https://localhost:8080/"
        },
        "id": "XndBdI7z9zOH",
        "cellView": "form",
        "outputId": "4926fce8-c904-46fe-ddff-600c98f426ad"
      },
      "outputs": [
        {
          "output_type": "stream",
          "name": "stdout",
          "text": [
            "/content/MiDaS\n",
            "device: cuda\n"
          ]
        },
        {
          "output_type": "stream",
          "name": "stderr",
          "text": [
            "100%|██████████| 1600/1600 [01:07<00:00, 23.83it/s]\n"
          ]
        },
        {
          "output_type": "stream",
          "name": "stdout",
          "text": [
            "\n",
            " Perfects: 0 Out of: 1600\n",
            "\n",
            " Total loss for 0:  0.27288442850112915\n"
          ]
        },
        {
          "output_type": "stream",
          "name": "stderr",
          "text": [
            "100%|██████████| 1600/1600 [01:06<00:00, 23.90it/s]\n"
          ]
        },
        {
          "output_type": "stream",
          "name": "stdout",
          "text": [
            "\n",
            " Perfects: 0 Out of: 1600\n",
            "\n",
            " Total loss for 1:  0.27693793177604675\n"
          ]
        },
        {
          "output_type": "stream",
          "name": "stderr",
          "text": [
            "100%|██████████| 1600/1600 [01:07<00:00, 23.87it/s]\n"
          ]
        },
        {
          "output_type": "stream",
          "name": "stdout",
          "text": [
            "\n",
            " Perfects: 0 Out of: 1600\n",
            "\n",
            " Total loss for 2:  0.2780505120754242\n"
          ]
        },
        {
          "output_type": "stream",
          "name": "stderr",
          "text": [
            "100%|██████████| 1600/1600 [01:06<00:00, 23.96it/s]\n"
          ]
        },
        {
          "output_type": "stream",
          "name": "stdout",
          "text": [
            "\n",
            " Perfects: 0 Out of: 1600\n",
            "\n",
            " Total loss for 3:  0.28007155656814575\n"
          ]
        },
        {
          "output_type": "stream",
          "name": "stderr",
          "text": [
            "100%|██████████| 1600/1600 [01:06<00:00, 24.08it/s]\n"
          ]
        },
        {
          "output_type": "stream",
          "name": "stdout",
          "text": [
            "\n",
            " Perfects: 0 Out of: 1600\n",
            "\n",
            " Total loss for 4:  0.2806733250617981\n"
          ]
        },
        {
          "output_type": "stream",
          "name": "stderr",
          "text": [
            "100%|██████████| 1600/1600 [01:05<00:00, 24.28it/s]\n"
          ]
        },
        {
          "output_type": "stream",
          "name": "stdout",
          "text": [
            "\n",
            " Perfects: 0 Out of: 1600\n",
            "\n",
            " Total loss for 5:  0.280961811542511\n"
          ]
        },
        {
          "output_type": "stream",
          "name": "stderr",
          "text": [
            "100%|██████████| 1600/1600 [01:05<00:00, 24.34it/s]\n"
          ]
        },
        {
          "output_type": "stream",
          "name": "stdout",
          "text": [
            "\n",
            " Perfects: 0 Out of: 1600\n",
            "\n",
            " Total loss for 6:  0.2814834713935852\n"
          ]
        },
        {
          "output_type": "stream",
          "name": "stderr",
          "text": [
            "100%|██████████| 1600/1600 [01:05<00:00, 24.34it/s]\n"
          ]
        },
        {
          "output_type": "stream",
          "name": "stdout",
          "text": [
            "\n",
            " Perfects: 0 Out of: 1600\n",
            "\n",
            " Total loss for 7:  0.2844175100326538\n"
          ]
        },
        {
          "output_type": "stream",
          "name": "stderr",
          "text": [
            "100%|██████████| 1600/1600 [01:05<00:00, 24.40it/s]"
          ]
        },
        {
          "output_type": "stream",
          "name": "stdout",
          "text": [
            "\n",
            " Perfects: 0 Out of: 1600\n",
            "\n",
            " Total loss for 8:  0.2823777198791504\n"
          ]
        },
        {
          "output_type": "stream",
          "name": "stderr",
          "text": [
            "\n"
          ]
        }
      ],
      "source": [
        "### Evaluate model\n",
        "\"\"\"Compute depth maps for images in the input folder.\n",
        "\"\"\"\n",
        "%cd /content/MiDaS\n",
        "from torchvision.transforms import Compose\n",
        "from midas.dpt_depth import DPTDepthModel\n",
        "from midas.transforms import Resize, NormalizeImage, PrepareForNet\n",
        "import torch.optim as optim\n",
        "import torch.nn as nn\n",
        "import torch\n",
        "import os\n",
        "import cv2\n",
        "import utils\n",
        "import numpy as np\n",
        "import PIL\n",
        "from tqdm import tqdm\n",
        "from midas.transforms import Resize, NormalizeImage, PrepareForNet\n",
        "from torchvision.transforms import Compose\n",
        "from midas.dpt_depth import DPTDepthModel\n",
        "from midas.midas_net import MidasNet\n",
        "from midas.midas_net_custom import MidasNet_small\n",
        "from midas.transforms import Resize, NormalizeImage, PrepareForNet\n",
        "from matplotlib import pyplot as plt\n",
        "\n",
        "l1_loss = nn.L1Loss(reduction='mean') # l1-loss\n",
        "img_path = '/content/drive/MyDrive/datasets/prosopo/input/mein/monalisa.jpg' #@param {type: \"string\"}\n",
        "gt_path = '/content/drive/MyDrive/datasets/prosopo/input/mein/monalisa_gt.jpg' #@param {type: \"string\"}\n",
        "#@markdown or give a path to a list of images\n",
        "img_list_path = \"/content/val.npy\" #@param {type: \"string\"}\n",
        "gt_list_path = \"/content/val_gt.npy\" #@param {type: \"string\"}\n",
        "#output_root = '/content/drive/MyDrive/eg3d/output/' \n",
        "output_root = '/'.join(model_path.split('/')[:-1])\n",
        "#@markdown Save results?\n",
        "save = False #@param {type:\"boolean\"}\n",
        "\n",
        "\n",
        "\n",
        "# Transform input\n",
        "normalization = NormalizeImage(mean=[0.5, 0.5, 0.5], std=[0.5, 0.5, 0.5])\n",
        "transform = Compose(\n",
        "    [ Resize(512, 512, resize_target=None, keep_aspect_ratio=True, ensure_multiple_of=32,\n",
        "            resize_method='minimal', image_interpolation_method=cv2.INTER_CUBIC,), normalization,PrepareForNet(), ])\n",
        "\n",
        "# select device\n",
        "device = torch.device(\"cuda\" if torch.cuda.is_available() else \"cpu\")\n",
        "print(\"device: %s\" % device)\n",
        "\n",
        "\n",
        "\n",
        "\n",
        "try:\n",
        "  image_paths = np.load(img_list_path, allow_pickle=True)\n",
        "  gt_paths = np.load(gt_list_path, allow_pickle=True)\n",
        "except:\n",
        "    try:\n",
        "      image_paths = np.load(img_list_path, allow_pickle=True).item()['valX']\n",
        "      gt_paths = np.load(img_list_path, allow_pickle=True).item()['valY']\n",
        "    except:\n",
        "      image_paths = [img_path, ]\n",
        "      gt_paths = [gt_path, ]\n",
        "\n",
        "\n",
        "\n",
        "\n",
        "for ckp in range(0,9):\n",
        "  # counter for perfect results\n",
        "  perfect = 0 \n",
        "  tot_loss = 0\n",
        "  model_path =  f\"/content/drive/MyDrive/eg3d/experiments/latent_train48000_samples/b1_e100_weights_ckp_{ckp}.pt\"#@param {type: \"string\"}\n",
        "  model.load_state_dict(torch.load(model_path, map_location=device)) #model architeture is selected above\n",
        "  model.eval()\n",
        "  model.to(device)\n",
        "  \n",
        "\n",
        "\n",
        "\n",
        "  with torch.no_grad():\n",
        "    for i in tqdm(range(len(image_paths))):\n",
        "      img = utils.read_image(image_paths[i]) \n",
        "      img_input = transform({\"image\": img})[\"image\"]\n",
        "      input = torch.from_numpy(img_input).to(device).unsqueeze(0)\n",
        "      prediction = model(input)\n",
        "      # get current gt and img path\n",
        "      img_path = image_paths[i]\n",
        "      gt_path = gt_paths[i]\n",
        "      prediction_np = prediction.squeeze().cpu().numpy().transpose() # convert to (1, 14, 512)\n",
        "      \n",
        "      # gt\n",
        "      gt_np = np.load(gt_path, allow_pickle=True).transpose()\n",
        "      #gt_np = transform_latent(gt_np) # comment for UNET-modified model\n",
        "      gt = torch.tensor(gt_np, requires_grad=True).to(device).unsqueeze(0)\n",
        "      img_name = 'out'\n",
        "      #filename = os.path.join(\n",
        "      #os.path.join(output_root,example), os.path.splitext(os.path.basename(img_name))[0])\n",
        "      #output_path = filename + '.png'\n",
        "      sample_loss = l1_loss(prediction, gt)\n",
        "      if sample_loss < 0.20:\n",
        "        perfect = perfect + 1\n",
        "        #print(f'Sample loss ({i})', sample_loss.item())\n",
        "      tot_loss = tot_loss + sample_loss\n",
        "\n",
        "      if save:\n",
        "        os.makedirs(os.path.join(output_root, example), exist_ok=True)\n",
        "        #save input image\n",
        "        PIL.Image.open(img_path).save(output_path.replace('out', 'input'))\n",
        "        # save gt depth map\n",
        "        PIL.Image.open(gt_path).save(output_path.replace('out', 'gt'))\n",
        "        plt.imshow(prediction_np) # display prediction\n",
        "        utils.write_depth(filename, prediction_np, bits=1) # save prediction\n",
        "\n",
        "        pred_mesh_output = filename + '.obj'\n",
        "        gt_mesh_output = os.path.splitext(pred_mesh_output)[0]+'_gt.obj'\n",
        "        ### Save .obj\n",
        "        try:\n",
        "          verts, faces, colors = depthImage2mesh(img_path=output_path, output_path=pred_mesh_output, save=True)\n",
        "          print('Pred. obj is saved under:', pred_mesh_output)\n",
        "        except:\n",
        "          print(\"Cannot reconstruct predicted depth map\")\n",
        "        try:\n",
        "          verts, faces, colors = depthImage2mesh(img_path=gt_path, output_path=gt_mesh_output, save=True)\n",
        "          print('GT obj is saved under:   ', gt_mesh_output)\n",
        "        except:\n",
        "          print(\"Cannot reconstruct GT depth map\")\n",
        "\n",
        "  print('\\n', \"Perfects:\", perfect, \"Out of:\", len(image_paths))\n",
        "  print('\\n', \"Total loss for {}:  {}\".format(ckp, tot_loss/i))\n",
        "\n"
      ]
    },
    {
      "cell_type": "code",
      "execution_count": null,
      "metadata": {
        "colab": {
          "base_uri": "https://localhost:8080/"
        },
        "id": "G3ViqxT6ROge",
        "outputId": "405144d6-81fa-4074-8d44-ac766a0db77f"
      },
      "outputs": [
        {
          "name": "stderr",
          "output_type": "stream",
          "text": [
            "100%|██████████| 1600/1600 [01:03<00:00, 25.36it/s]\n"
          ]
        },
        {
          "name": "stdout",
          "output_type": "stream",
          "text": [
            "\n",
            " Perfects: 0 Out of: 1600\n",
            "\n",
            " Total loss for 0:  0.3329582214355469\n"
          ]
        },
        {
          "name": "stderr",
          "output_type": "stream",
          "text": [
            "100%|██████████| 1600/1600 [01:02<00:00, 25.65it/s]\n"
          ]
        },
        {
          "name": "stdout",
          "output_type": "stream",
          "text": [
            "\n",
            " Perfects: 0 Out of: 1600\n",
            "\n",
            " Total loss for 1:  0.27804476022720337\n"
          ]
        },
        {
          "name": "stderr",
          "output_type": "stream",
          "text": [
            "100%|██████████| 1600/1600 [01:02<00:00, 25.47it/s]\n"
          ]
        },
        {
          "name": "stdout",
          "output_type": "stream",
          "text": [
            "\n",
            " Perfects: 0 Out of: 1600\n",
            "\n",
            " Total loss for 2:  0.28112825751304626\n"
          ]
        },
        {
          "name": "stderr",
          "output_type": "stream",
          "text": [
            "100%|██████████| 1600/1600 [01:02<00:00, 25.53it/s]"
          ]
        },
        {
          "name": "stdout",
          "output_type": "stream",
          "text": [
            "\n",
            " Perfects: 0 Out of: 1600\n",
            "\n",
            " Total loss for 3:  0.2828274667263031\n"
          ]
        },
        {
          "name": "stderr",
          "output_type": "stream",
          "text": [
            "\n"
          ]
        }
      ],
      "source": [
        "\n",
        "for ckp in range(0,4):\n",
        "  # counter for perfect results\n",
        "  perfect = 0 \n",
        "  tot_loss = 0\n",
        "  model_path =  f\"/content/drive/MyDrive/eg3d/experiments/latent_train30000_samples/b1_e10_weights_ckp_{ckp}.pt\"#@param {type: \"string\"}\n",
        "  model.load_state_dict(torch.load(model_path, map_location=device)) #model architeture is selected above\n",
        "  model.eval()\n",
        "  model.to(device) \n",
        "  with torch.no_grad():\n",
        "    for i in tqdm(range(len(image_paths))):\n",
        "      img = utils.read_image(image_paths[i]) \n",
        "      img_input = transform({\"image\": img})[\"image\"]\n",
        "      input = torch.from_numpy(img_input).to(device).unsqueeze(0)\n",
        "      prediction = model(input)\n",
        "      # get current gt and img path\n",
        "      img_path = image_paths[i]\n",
        "      gt_path = gt_paths[i]\n",
        "      prediction_np = prediction.squeeze().cpu().numpy().transpose() # convert to (1, 14, 512)\n",
        "      \n",
        "      # gt\n",
        "      gt_np = np.load(gt_path, allow_pickle=True).transpose()\n",
        "      #gt_np = transform_latent(gt_np) # comment for UNET-modified model\n",
        "      gt = torch.tensor(gt_np, requires_grad=True).to(device).unsqueeze(0)\n",
        "      img_name = 'out'\n",
        "      #filename = os.path.join(\n",
        "      #os.path.join(output_root,example), os.path.splitext(os.path.basename(img_name))[0])\n",
        "      #output_path = filename + '.png'\n",
        "      sample_loss = l1_loss(prediction, gt)\n",
        "      if sample_loss < 0.20:\n",
        "        perfect = perfect + 1\n",
        "        print(f'Sample loss ({i})', sample_loss.item())\n",
        "      tot_loss = tot_loss + sample_loss\n",
        "\n",
        "      if save:\n",
        "        os.makedirs(os.path.join(output_root, example), exist_ok=True)\n",
        "        #save input image\n",
        "        PIL.Image.open(img_path).save(output_path.replace('out', 'input'))\n",
        "        # save gt depth map\n",
        "        PIL.Image.open(gt_path).save(output_path.replace('out', 'gt'))\n",
        "        plt.imshow(prediction_np) # display prediction\n",
        "        utils.write_depth(filename, prediction_np, bits=1) # save prediction\n",
        "\n",
        "        pred_mesh_output = filename + '.obj'\n",
        "        gt_mesh_output = os.path.splitext(pred_mesh_output)[0]+'_gt.obj'\n",
        "        ### Save .obj\n",
        "        try:\n",
        "          verts, faces, colors = depthImage2mesh(img_path=output_path, output_path=pred_mesh_output, save=True)\n",
        "          print('Pred. obj is saved under:', pred_mesh_output)\n",
        "        except:\n",
        "          print(\"Cannot reconstruct predicted depth map\")\n",
        "        try:\n",
        "          verts, faces, colors = depthImage2mesh(img_path=gt_path, output_path=gt_mesh_output, save=True)\n",
        "          print('GT obj is saved under:   ', gt_mesh_output)\n",
        "        except:\n",
        "          print(\"Cannot reconstruct GT depth map\")\n",
        "\n",
        "  print('\\n', \"Perfects:\", perfect, \"Out of:\", len(image_paths))\n",
        "  print('\\n', \"Total loss for {}:  {}\".format(ckp, tot_loss/i))\n",
        "\n"
      ]
    },
    {
      "cell_type": "code",
      "execution_count": null,
      "metadata": {
        "cellView": "form",
        "colab": {
          "base_uri": "https://localhost:8080/",
          "height": 1000
        },
        "id": "G-OdMrxSSwmG",
        "outputId": "82dc106c-ecc4-4e70-8d41-da5d467be7ff"
      },
      "outputs": [
        {
          "name": "stderr",
          "output_type": "stream",
          "text": [
            "100%|██████████| 1600/1600 [01:03<00:00, 25.15it/s]\n"
          ]
        },
        {
          "name": "stdout",
          "output_type": "stream",
          "text": [
            "\n",
            " Perfects: 0 Out of: 1600\n",
            "\n",
            " Total loss for 1:  0.3327953815460205\n"
          ]
        },
        {
          "name": "stderr",
          "output_type": "stream",
          "text": [
            "100%|██████████| 1600/1600 [01:03<00:00, 25.23it/s]\n"
          ]
        },
        {
          "name": "stdout",
          "output_type": "stream",
          "text": [
            "\n",
            " Perfects: 0 Out of: 1600\n",
            "\n",
            " Total loss for 2:  0.2773840129375458\n"
          ]
        },
        {
          "name": "stderr",
          "output_type": "stream",
          "text": [
            "100%|██████████| 1600/1600 [01:03<00:00, 25.35it/s]\n"
          ]
        },
        {
          "name": "stdout",
          "output_type": "stream",
          "text": [
            "\n",
            " Perfects: 0 Out of: 1600\n",
            "\n",
            " Total loss for 3:  0.28728246688842773\n"
          ]
        },
        {
          "name": "stderr",
          "output_type": "stream",
          "text": [
            "100%|██████████| 1600/1600 [01:03<00:00, 25.35it/s]\n"
          ]
        },
        {
          "name": "stdout",
          "output_type": "stream",
          "text": [
            "\n",
            " Perfects: 0 Out of: 1600\n",
            "\n",
            " Total loss for 4:  0.2796849310398102\n"
          ]
        },
        {
          "name": "stderr",
          "output_type": "stream",
          "text": [
            "100%|██████████| 1600/1600 [01:02<00:00, 25.41it/s]\n"
          ]
        },
        {
          "name": "stdout",
          "output_type": "stream",
          "text": [
            "\n",
            " Perfects: 0 Out of: 1600\n",
            "\n",
            " Total loss for 5:  0.2780202031135559\n"
          ]
        },
        {
          "name": "stderr",
          "output_type": "stream",
          "text": [
            "100%|██████████| 1600/1600 [01:03<00:00, 25.29it/s]\n"
          ]
        },
        {
          "name": "stdout",
          "output_type": "stream",
          "text": [
            "\n",
            " Perfects: 0 Out of: 1600\n",
            "\n",
            " Total loss for 6:  0.29029393196105957\n"
          ]
        },
        {
          "name": "stderr",
          "output_type": "stream",
          "text": [
            "100%|██████████| 1600/1600 [01:02<00:00, 25.52it/s]\n"
          ]
        },
        {
          "name": "stdout",
          "output_type": "stream",
          "text": [
            "\n",
            " Perfects: 0 Out of: 1600\n",
            "\n",
            " Total loss for 7:  0.2774208188056946\n"
          ]
        },
        {
          "name": "stderr",
          "output_type": "stream",
          "text": [
            "100%|██████████| 1600/1600 [01:02<00:00, 25.41it/s]\n"
          ]
        },
        {
          "name": "stdout",
          "output_type": "stream",
          "text": [
            "\n",
            " Perfects: 0 Out of: 1600\n",
            "\n",
            " Total loss for 8:  0.27447080612182617\n"
          ]
        },
        {
          "name": "stderr",
          "output_type": "stream",
          "text": [
            "100%|██████████| 1600/1600 [01:03<00:00, 25.28it/s]\n"
          ]
        },
        {
          "name": "stdout",
          "output_type": "stream",
          "text": [
            "\n",
            " Perfects: 0 Out of: 1600\n",
            "\n",
            " Total loss for 9:  0.2904406785964966\n"
          ]
        },
        {
          "name": "stderr",
          "output_type": "stream",
          "text": [
            "100%|██████████| 1600/1600 [01:03<00:00, 25.25it/s]\n"
          ]
        },
        {
          "name": "stdout",
          "output_type": "stream",
          "text": [
            "\n",
            " Perfects: 0 Out of: 1600\n",
            "\n",
            " Total loss for 10:  0.27632203698158264\n"
          ]
        },
        {
          "name": "stderr",
          "output_type": "stream",
          "text": [
            "100%|██████████| 1600/1600 [01:02<00:00, 25.41it/s]\n"
          ]
        },
        {
          "name": "stdout",
          "output_type": "stream",
          "text": [
            "\n",
            " Perfects: 0 Out of: 1600\n",
            "\n",
            " Total loss for 11:  0.28062260150909424\n"
          ]
        },
        {
          "name": "stderr",
          "output_type": "stream",
          "text": [
            "100%|██████████| 1600/1600 [01:02<00:00, 25.55it/s]\n"
          ]
        },
        {
          "name": "stdout",
          "output_type": "stream",
          "text": [
            "\n",
            " Perfects: 0 Out of: 1600\n",
            "\n",
            " Total loss for 12:  0.2931506931781769\n"
          ]
        },
        {
          "name": "stderr",
          "output_type": "stream",
          "text": [
            "100%|██████████| 1600/1600 [01:02<00:00, 25.47it/s]\n"
          ]
        },
        {
          "name": "stdout",
          "output_type": "stream",
          "text": [
            "\n",
            " Perfects: 0 Out of: 1600\n",
            "\n",
            " Total loss for 13:  0.2742512822151184\n"
          ]
        },
        {
          "name": "stderr",
          "output_type": "stream",
          "text": [
            "100%|██████████| 1600/1600 [01:02<00:00, 25.60it/s]\n"
          ]
        },
        {
          "name": "stdout",
          "output_type": "stream",
          "text": [
            "\n",
            " Perfects: 0 Out of: 1600\n",
            "\n",
            " Total loss for 14:  0.2740682363510132\n"
          ]
        },
        {
          "name": "stderr",
          "output_type": "stream",
          "text": [
            "100%|██████████| 1600/1600 [01:02<00:00, 25.67it/s]\n"
          ]
        },
        {
          "name": "stdout",
          "output_type": "stream",
          "text": [
            "\n",
            " Perfects: 0 Out of: 1600\n",
            "\n",
            " Total loss for 15:  0.2944406569004059\n"
          ]
        },
        {
          "name": "stderr",
          "output_type": "stream",
          "text": [
            "100%|██████████| 1600/1600 [01:02<00:00, 25.64it/s]\n"
          ]
        },
        {
          "name": "stdout",
          "output_type": "stream",
          "text": [
            "\n",
            " Perfects: 0 Out of: 1600\n",
            "\n",
            " Total loss for 16:  0.2780488133430481\n"
          ]
        },
        {
          "name": "stderr",
          "output_type": "stream",
          "text": [
            "100%|██████████| 1600/1600 [01:02<00:00, 25.71it/s]\n"
          ]
        },
        {
          "name": "stdout",
          "output_type": "stream",
          "text": [
            "\n",
            " Perfects: 0 Out of: 1600\n",
            "\n",
            " Total loss for 17:  0.27836504578590393\n"
          ]
        },
        {
          "name": "stderr",
          "output_type": "stream",
          "text": [
            "100%|██████████| 1600/1600 [01:02<00:00, 25.71it/s]\n"
          ]
        },
        {
          "name": "stdout",
          "output_type": "stream",
          "text": [
            "\n",
            " Perfects: 0 Out of: 1600\n",
            "\n",
            " Total loss for 18:  0.2949875295162201\n"
          ]
        },
        {
          "name": "stderr",
          "output_type": "stream",
          "text": [
            "100%|██████████| 1600/1600 [01:01<00:00, 25.85it/s]\n"
          ]
        },
        {
          "name": "stdout",
          "output_type": "stream",
          "text": [
            "\n",
            " Perfects: 0 Out of: 1600\n",
            "\n",
            " Total loss for 19:  0.2745903432369232\n"
          ]
        },
        {
          "name": "stderr",
          "output_type": "stream",
          "text": [
            "100%|██████████| 1600/1600 [01:02<00:00, 25.67it/s]\n"
          ]
        },
        {
          "name": "stdout",
          "output_type": "stream",
          "text": [
            "\n",
            " Perfects: 0 Out of: 1600\n",
            "\n",
            " Total loss for 20:  0.27796536684036255\n"
          ]
        },
        {
          "name": "stderr",
          "output_type": "stream",
          "text": [
            "100%|██████████| 1600/1600 [01:02<00:00, 25.67it/s]\n"
          ]
        },
        {
          "name": "stdout",
          "output_type": "stream",
          "text": [
            "\n",
            " Perfects: 0 Out of: 1600\n",
            "\n",
            " Total loss for 21:  0.29484331607818604\n"
          ]
        },
        {
          "name": "stderr",
          "output_type": "stream",
          "text": [
            "100%|██████████| 1600/1600 [01:02<00:00, 25.63it/s]\n"
          ]
        },
        {
          "name": "stdout",
          "output_type": "stream",
          "text": [
            "\n",
            " Perfects: 0 Out of: 1600\n",
            "\n",
            " Total loss for 22:  0.27452996373176575\n"
          ]
        },
        {
          "name": "stderr",
          "output_type": "stream",
          "text": [
            "100%|██████████| 1600/1600 [01:02<00:00, 25.50it/s]\n"
          ]
        },
        {
          "name": "stdout",
          "output_type": "stream",
          "text": [
            "\n",
            " Perfects: 0 Out of: 1600\n",
            "\n",
            " Total loss for 23:  0.27282845973968506\n"
          ]
        },
        {
          "name": "stderr",
          "output_type": "stream",
          "text": [
            "100%|██████████| 1600/1600 [01:02<00:00, 25.48it/s]\n"
          ]
        },
        {
          "name": "stdout",
          "output_type": "stream",
          "text": [
            "\n",
            " Perfects: 0 Out of: 1600\n",
            "\n",
            " Total loss for 24:  0.2946411073207855\n"
          ]
        },
        {
          "name": "stderr",
          "output_type": "stream",
          "text": [
            "100%|██████████| 1600/1600 [01:02<00:00, 25.47it/s]\n"
          ]
        },
        {
          "name": "stdout",
          "output_type": "stream",
          "text": [
            "\n",
            " Perfects: 0 Out of: 1600\n",
            "\n",
            " Total loss for 25:  0.2730463743209839\n"
          ]
        },
        {
          "name": "stderr",
          "output_type": "stream",
          "text": [
            "100%|██████████| 1600/1600 [01:02<00:00, 25.60it/s]\n"
          ]
        },
        {
          "name": "stdout",
          "output_type": "stream",
          "text": [
            "\n",
            " Perfects: 0 Out of: 1600\n",
            "\n",
            " Total loss for 26:  0.27346891164779663\n"
          ]
        },
        {
          "name": "stderr",
          "output_type": "stream",
          "text": [
            "100%|██████████| 1600/1600 [01:03<00:00, 25.37it/s]\n"
          ]
        },
        {
          "name": "stdout",
          "output_type": "stream",
          "text": [
            "\n",
            " Perfects: 0 Out of: 1600\n",
            "\n",
            " Total loss for 27:  0.2956697344779968\n"
          ]
        },
        {
          "name": "stderr",
          "output_type": "stream",
          "text": [
            "100%|██████████| 1600/1600 [01:03<00:00, 25.32it/s]\n"
          ]
        },
        {
          "name": "stdout",
          "output_type": "stream",
          "text": [
            "\n",
            " Perfects: 0 Out of: 1600\n",
            "\n",
            " Total loss for 28:  0.27483701705932617\n"
          ]
        },
        {
          "name": "stderr",
          "output_type": "stream",
          "text": [
            "100%|██████████| 1600/1600 [01:02<00:00, 25.68it/s]\n"
          ]
        },
        {
          "name": "stdout",
          "output_type": "stream",
          "text": [
            "\n",
            " Perfects: 0 Out of: 1600\n",
            "\n",
            " Total loss for 29:  0.27125194668769836\n"
          ]
        },
        {
          "name": "stderr",
          "output_type": "stream",
          "text": [
            "100%|██████████| 1600/1600 [01:02<00:00, 25.45it/s]\n"
          ]
        },
        {
          "name": "stdout",
          "output_type": "stream",
          "text": [
            "\n",
            " Perfects: 0 Out of: 1600\n",
            "\n",
            " Total loss for 30:  0.29554206132888794\n"
          ]
        },
        {
          "name": "stderr",
          "output_type": "stream",
          "text": [
            "100%|██████████| 1600/1600 [01:03<00:00, 25.39it/s]\n"
          ]
        },
        {
          "name": "stdout",
          "output_type": "stream",
          "text": [
            "\n",
            " Perfects: 0 Out of: 1600\n",
            "\n",
            " Total loss for 31:  0.271106094121933\n"
          ]
        },
        {
          "name": "stderr",
          "output_type": "stream",
          "text": [
            "100%|██████████| 1600/1600 [01:03<00:00, 25.34it/s]\n"
          ]
        },
        {
          "name": "stdout",
          "output_type": "stream",
          "text": [
            "\n",
            " Perfects: 0 Out of: 1600\n",
            "\n",
            " Total loss for 32:  0.2710874080657959\n"
          ]
        },
        {
          "name": "stderr",
          "output_type": "stream",
          "text": [
            "100%|██████████| 1600/1600 [01:02<00:00, 25.42it/s]\n"
          ]
        },
        {
          "name": "stdout",
          "output_type": "stream",
          "text": [
            "\n",
            " Perfects: 0 Out of: 1600\n",
            "\n",
            " Total loss for 33:  0.2951182723045349\n"
          ]
        },
        {
          "name": "stderr",
          "output_type": "stream",
          "text": [
            "100%|██████████| 1600/1600 [01:03<00:00, 25.33it/s]\n"
          ]
        },
        {
          "name": "stdout",
          "output_type": "stream",
          "text": [
            "\n",
            " Perfects: 0 Out of: 1600\n",
            "\n",
            " Total loss for 34:  0.2710694372653961\n"
          ]
        },
        {
          "name": "stderr",
          "output_type": "stream",
          "text": [
            "100%|██████████| 1600/1600 [01:03<00:00, 25.37it/s]\n"
          ]
        },
        {
          "name": "stdout",
          "output_type": "stream",
          "text": [
            "\n",
            " Perfects: 0 Out of: 1600\n",
            "\n",
            " Total loss for 35:  0.2710644006729126\n"
          ]
        },
        {
          "name": "stderr",
          "output_type": "stream",
          "text": [
            "100%|██████████| 1600/1600 [01:02<00:00, 25.52it/s]\n"
          ]
        },
        {
          "name": "stdout",
          "output_type": "stream",
          "text": [
            "\n",
            " Perfects: 0 Out of: 1600\n",
            "\n",
            " Total loss for 36:  0.2964736223220825\n"
          ]
        },
        {
          "name": "stderr",
          "output_type": "stream",
          "text": [
            "100%|██████████| 1600/1600 [01:03<00:00, 25.19it/s]\n"
          ]
        },
        {
          "name": "stdout",
          "output_type": "stream",
          "text": [
            "\n",
            " Perfects: 0 Out of: 1600\n",
            "\n",
            " Total loss for 37:  0.2710587978363037\n"
          ]
        },
        {
          "name": "stderr",
          "output_type": "stream",
          "text": [
            " 20%|█▉        | 313/1600 [00:12<00:51, 25.13it/s]\n"
          ]
        },
        {
          "ename": "KeyboardInterrupt",
          "evalue": "ignored",
          "output_type": "error",
          "traceback": [
            "\u001b[0;31m---------------------------------------------------------------------------\u001b[0m",
            "\u001b[0;31mKeyboardInterrupt\u001b[0m                         Traceback (most recent call last)",
            "\u001b[0;32m<ipython-input-70-2611ffcad45b>\u001b[0m in \u001b[0;36m<module>\u001b[0;34m\u001b[0m\n\u001b[1;32m     19\u001b[0m       \u001b[0mimg_path\u001b[0m \u001b[0;34m=\u001b[0m \u001b[0mimage_paths\u001b[0m\u001b[0;34m[\u001b[0m\u001b[0mi\u001b[0m\u001b[0;34m]\u001b[0m\u001b[0;34m\u001b[0m\u001b[0;34m\u001b[0m\u001b[0m\n\u001b[1;32m     20\u001b[0m       \u001b[0mgt_path\u001b[0m \u001b[0;34m=\u001b[0m \u001b[0mgt_paths\u001b[0m\u001b[0;34m[\u001b[0m\u001b[0mi\u001b[0m\u001b[0;34m]\u001b[0m\u001b[0;34m\u001b[0m\u001b[0;34m\u001b[0m\u001b[0m\n\u001b[0;32m---> 21\u001b[0;31m       \u001b[0mprediction_np\u001b[0m \u001b[0;34m=\u001b[0m \u001b[0mprediction\u001b[0m\u001b[0;34m.\u001b[0m\u001b[0msqueeze\u001b[0m\u001b[0;34m(\u001b[0m\u001b[0;34m)\u001b[0m\u001b[0;34m.\u001b[0m\u001b[0mcpu\u001b[0m\u001b[0;34m(\u001b[0m\u001b[0;34m)\u001b[0m\u001b[0;34m.\u001b[0m\u001b[0mnumpy\u001b[0m\u001b[0;34m(\u001b[0m\u001b[0;34m)\u001b[0m\u001b[0;34m.\u001b[0m\u001b[0mtranspose\u001b[0m\u001b[0;34m(\u001b[0m\u001b[0;34m)\u001b[0m \u001b[0;31m# convert to (1, 14, 512)\u001b[0m\u001b[0;34m\u001b[0m\u001b[0;34m\u001b[0m\u001b[0m\n\u001b[0m\u001b[1;32m     22\u001b[0m \u001b[0;34m\u001b[0m\u001b[0m\n\u001b[1;32m     23\u001b[0m       \u001b[0;31m# gt\u001b[0m\u001b[0;34m\u001b[0m\u001b[0;34m\u001b[0m\u001b[0;34m\u001b[0m\u001b[0m\n",
            "\u001b[0;31mKeyboardInterrupt\u001b[0m: "
          ]
        }
      ],
      "source": [
        "\n",
        "for ckp in range(0,100):\n",
        "  # counter for perfect results\n",
        "  perfect = 0 \n",
        "  tot_loss = 0\n",
        "  try:\n",
        "    model_path =  f\"/content/drive/MyDrive/eg3d/experiments/latent_train10k_samples/b1_e100_weights_ckp_{ckp}.pt\"#@param {type: \"string\"}\n",
        "    model.load_state_dict(torch.load(model_path, map_location=device)) #model architeture is selected above\n",
        "    model.eval()\n",
        "    model.to(device)\n",
        "  except:\n",
        "    continue\n",
        "  with torch.no_grad():\n",
        "    for i in tqdm(range(len(image_paths))):\n",
        "      img = utils.read_image(image_paths[i]) \n",
        "      img_input = transform({\"image\": img})[\"image\"]\n",
        "      input = torch.from_numpy(img_input).to(device).unsqueeze(0)\n",
        "      prediction = model(input)\n",
        "      # get current gt and img path\n",
        "      img_path = image_paths[i]\n",
        "      gt_path = gt_paths[i]\n",
        "      prediction_np = prediction.squeeze().cpu().numpy().transpose() # convert to (1, 14, 512)\n",
        "      \n",
        "      # gt\n",
        "      gt_np = np.load(gt_path, allow_pickle=True).transpose()\n",
        "      #gt_np = transform_latent(gt_np) # comment for UNET-modified model\n",
        "      gt = torch.tensor(gt_np, requires_grad=True).to(device).unsqueeze(0)\n",
        "      img_name = 'out'\n",
        "      #filename = os.path.join(\n",
        "      #os.path.join(output_root,example), os.path.splitext(os.path.basename(img_name))[0])\n",
        "      #output_path = filename + '.png'\n",
        "      sample_loss = l1_loss(prediction, gt)\n",
        "      if sample_loss < 0.20:\n",
        "        perfect = perfect + 1\n",
        "        print(f'Sample loss ({i})', sample_loss.item())\n",
        "      tot_loss = tot_loss + sample_loss\n",
        "\n",
        "      if save:\n",
        "        os.makedirs(os.path.join(output_root, example), exist_ok=True)\n",
        "        #save input image\n",
        "        PIL.Image.open(img_path).save(output_path.replace('out', 'input'))\n",
        "        # save gt depth map\n",
        "        PIL.Image.open(gt_path).save(output_path.replace('out', 'gt'))\n",
        "        plt.imshow(prediction_np) # display prediction\n",
        "        utils.write_depth(filename, prediction_np, bits=1) # save prediction\n",
        "\n",
        "        pred_mesh_output = filename + '.obj'\n",
        "        gt_mesh_output = os.path.splitext(pred_mesh_output)[0]+'_gt.obj'\n",
        "        ### Save .obj\n",
        "        try:\n",
        "          verts, faces, colors = depthImage2mesh(img_path=output_path, output_path=pred_mesh_output, save=True)\n",
        "          print('Pred. obj is saved under:', pred_mesh_output)\n",
        "        except:\n",
        "          print(\"Cannot reconstruct predicted depth map\")\n",
        "        try:\n",
        "          verts, faces, colors = depthImage2mesh(img_path=gt_path, output_path=gt_mesh_output, save=True)\n",
        "          print('GT obj is saved under:   ', gt_mesh_output)\n",
        "        except:\n",
        "          print(\"Cannot reconstruct GT depth map\")\n",
        "\n",
        "  print('\\n', \"Perfects:\", perfect, \"Out of:\", len(image_paths))\n",
        "  print('\\n', \"Total loss for {}:  {}\".format(ckp, tot_loss/i))\n",
        "\n"
      ]
    },
    {
      "cell_type": "markdown",
      "metadata": {
        "id": "0h-jYbgv-Quz"
      },
      "source": [
        "## Dump"
      ]
    },
    {
      "cell_type": "code",
      "execution_count": null,
      "metadata": {
        "id": "7tzFI45-FQzt"
      },
      "outputs": [],
      "source": [
        "### Check Model parameters\n",
        "p =  []\n",
        "for name, param in model.named_parameters():\n",
        "  if name == 'pretrained.model.patch_embed.proj.weight':\n",
        "    a_param = param.detach().cpu().numpy()  "
      ]
    },
    {
      "cell_type": "code",
      "execution_count": null,
      "metadata": {
        "colab": {
          "base_uri": "https://localhost:8080/",
          "height": 285
        },
        "id": "k28hrCsiUJti",
        "outputId": "d59cd37a-69a2-4588-f078-b64d9a47cdf5"
      },
      "outputs": [
        {
          "data": {
            "text/plain": [
              "<matplotlib.image.AxesImage at 0x7f553bf2fe90>"
            ]
          },
          "execution_count": 28,
          "metadata": {},
          "output_type": "execute_result"
        },
        {
          "data": {
            "image/png": "[encoded data removed]",
            "text/plain": [
              "<Figure size 432x288 with 1 Axes>"
            ]
          },
          "metadata": {},
          "output_type": "display_data"
        }
      ],
      "source": [
        "import torch\n",
        "input = torch.load('/content/input.pt')\n",
        "out = torch.load('/content/gt.pt')\n",
        "from matplotlib import pyplot as plt\n",
        "inp = np.moveaxis(input.detach().cpu().numpy(), 0 , -1)\n",
        "norm_inp = (inp+1)/2 # normalize from [-1, 1] to [0, 1]\n",
        "plt.imsave(\"/content/input.png\", norm_inp)\n",
        "plt.imshow(out.detach().cpu().numpy(), cmap='gray')"
      ]
    },
    {
      "cell_type": "code",
      "execution_count": null,
      "metadata": {
        "id": "UJjUci4uXzqe"
      },
      "outputs": [],
      "source": [
        "from midas.transforms import Resize, NormalizeImage, PrepareForNet\n",
        "depth_path = '/content/drive/MyDrive/datasets/eg3d/depth128x128/seed0001.png'\n",
        "gt_np = utils.read_image(depth_path)\n",
        "r = Resize(width=512, height=512, resize_target=False)"
      ]
    },
    {
      "cell_type": "code",
      "execution_count": null,
      "metadata": {
        "colab": {
          "base_uri": "https://localhost:8080/",
          "height": 285
        },
        "id": "fyNbDcheXwsG",
        "outputId": "74f1ea1b-0aa7-4acf-a899-7c17d00bb5d8"
      },
      "outputs": [
        {
          "data": {
            "text/plain": [
              "<matplotlib.image.AxesImage at 0x7feb5bcdbad0>"
            ]
          },
          "execution_count": 18,
          "metadata": {},
          "output_type": "execute_result"
        },
        {
          "data": {
            "image/png": "[encoded data removed]",
            "text/plain": [
              "<Figure size 432x288 with 1 Axes>"
            ]
          },
          "metadata": {},
          "output_type": "display_data"
        }
      ],
      "source": [
        "from matplotlib import pyplot as plt\n",
        "fig = plt.figure()\n",
        "img = {'image': gt_np}\n",
        "resized_np = r(img)\n",
        "plt.imshow(gt_np[:, :, 2], cmap='gray')"
      ]
    },
    {
      "cell_type": "code",
      "execution_count": null,
      "metadata": {
        "colab": {
          "base_uri": "https://localhost:8080/",
          "height": 286
        },
        "id": "RFhBXWVsazqW",
        "outputId": "16087ff9-5c5e-487d-e631-4f5f05a751df"
      },
      "outputs": [
        {
          "data": {
            "text/plain": [
              "<matplotlib.image.AxesImage at 0x7feb5bcc8b10>"
            ]
          },
          "execution_count": 19,
          "metadata": {},
          "output_type": "execute_result"
        },
        {
          "data": {
            "image/png": "[encoded data removed]",
            "text/plain": [
              "<Figure size 432x288 with 1 Axes>"
            ]
          },
          "metadata": {},
          "output_type": "display_data"
        }
      ],
      "source": [
        "resized_np['image']\n",
        "plt.imshow(resized_np[\"image\"])\n"
      ]
    },
    {
      "cell_type": "code",
      "execution_count": null,
      "metadata": {
        "colab": {
          "base_uri": "https://localhost:8080/",
          "height": 285
        },
        "id": "Sf-k-e7wfPZa",
        "outputId": "debac833-7ed7-4820-847c-af2ad140fed0"
      },
      "outputs": [
        {
          "data": {
            "text/plain": [
              "<matplotlib.image.AxesImage at 0x7feb5bdefc90>"
            ]
          },
          "execution_count": 13,
          "metadata": {},
          "output_type": "execute_result"
        },
        {
          "data": {
            "image/png": "[encoded data removed]",
            "text/plain": [
              "<Figure size 432x288 with 1 Axes>"
            ]
          },
          "metadata": {},
          "output_type": "display_data"
        }
      ],
      "source": [
        "downsample = Resize(width=128, height=128, resize_target=False)\n",
        "double_res = downsample(resized_np)\n",
        "plt.imshow(double_res[\"image\"])"
      ]
    },
    {
      "cell_type": "code",
      "execution_count": null,
      "metadata": {
        "id": "OcrWPX4qbEPA"
      },
      "outputs": [],
      "source": [
        "#save 2 arrays as depth images\n",
        "utils.write_depth('/content/gt_128', gt_np[:, :, 2], bits=1)\n",
        "utils.write_depth('/content/gt_512', resized_np['image'][:, :, 2], bits=1)\n",
        "utils.write_depth('/content/resized_128', double_res['image'][:, :, 2], bits=1)"
      ]
    },
    {
      "cell_type": "code",
      "execution_count": null,
      "metadata": {
        "colab": {
          "base_uri": "https://localhost:8080/"
        },
        "id": "bZ8gxwyNcH60",
        "outputId": "cc7702ed-2ec3-4433-888b-bacaaf2e24b1"
      },
      "outputs": [
        {
          "name": "stderr",
          "output_type": "stream",
          "text": [
            "100%|██████████| 511/511 [00:19<00:00, 25.93it/s]\n"
          ]
        },
        {
          "data": {
            "text/plain": [
              "(tensor([[[0.0000, 0.0000, 0.4667],\n",
              "          [0.0000, 0.0039, 0.4667],\n",
              "          [0.0000, 0.0078, 0.4667],\n",
              "          ...,\n",
              "          [1.9961, 1.9883, 0.3490],\n",
              "          [1.9961, 1.9922, 0.3569],\n",
              "          [1.9961, 1.9961, 0.3725]]]), tensor([[[  1027,   1028,   1539],\n",
              "          [  1540,   1539,   1028],\n",
              "          [  1028,   1029,   1540],\n",
              "          ...,\n",
              "          [261630, 261631, 262142],\n",
              "          [262143, 262142, 261631],\n",
              "          [261631, 261632, 262143]]]), tensor([[[0.5000, 0.5000, 0.5000],\n",
              "          [0.5000, 0.5000, 0.5000],\n",
              "          [0.5000, 0.5000, 0.5000],\n",
              "          ...,\n",
              "          [0.5000, 0.5000, 0.5000],\n",
              "          [0.5000, 0.5000, 0.5000],\n",
              "          [0.5000, 0.5000, 0.5000]]]))"
            ]
          },
          "execution_count": 65,
          "metadata": {},
          "output_type": "execute_result"
        }
      ],
      "source": [
        "depthImage2mesh('/content/gt_128.png', save=True)"
      ]
    },
    {
      "cell_type": "code",
      "execution_count": null,
      "metadata": {
        "colab": {
          "base_uri": "https://localhost:8080/"
        },
        "id": "lsQuREXPeZo8",
        "outputId": "524fd0f1-d188-4bb1-aff8-6b214f980e1f"
      },
      "outputs": [
        {
          "name": "stderr",
          "output_type": "stream",
          "text": [
            "100%|██████████| 127/127 [00:01<00:00, 113.20it/s]\n"
          ]
        },
        {
          "data": {
            "text/plain": [
              "(tensor([[[0.0000, 0.0000, 0.4745],\n",
              "          [0.0000, 0.0156, 0.4902],\n",
              "          [0.0000, 0.0312, 0.4902],\n",
              "          ...,\n",
              "          [1.9844, 1.9531, 0.2784],\n",
              "          [1.9844, 1.9688, 0.3020],\n",
              "          [1.9844, 1.9844, 0.3412]]]), tensor([[[  259,   260,   387],\n",
              "          [  388,   387,   260],\n",
              "          [  260,   261,   388],\n",
              "          ...,\n",
              "          [16254, 16255, 16382],\n",
              "          [16383, 16382, 16255],\n",
              "          [16255, 16256, 16383]]]), tensor([[[0.5000, 0.5000, 0.5000],\n",
              "          [0.5000, 0.5000, 0.5000],\n",
              "          [0.5000, 0.5000, 0.5000],\n",
              "          ...,\n",
              "          [0.5000, 0.5000, 0.5000],\n",
              "          [0.5000, 0.5000, 0.5000],\n",
              "          [0.5000, 0.5000, 0.5000]]]))"
            ]
          },
          "execution_count": 66,
          "metadata": {},
          "output_type": "execute_result"
        }
      ],
      "source": [
        "depthImage2mesh('/content/gt_512.png', save=True)"
      ]
    },
    {
      "cell_type": "code",
      "execution_count": null,
      "metadata": {
        "colab": {
          "base_uri": "https://localhost:8080/"
        },
        "id": "fNithMiLfsGs",
        "outputId": "a02e4eaf-a6fe-48a2-d871-bef8adda27dd"
      },
      "outputs": [
        {
          "name": "stderr",
          "output_type": "stream",
          "text": [
            "100%|██████████| 127/127 [00:01<00:00, 112.45it/s]\n"
          ]
        },
        {
          "data": {
            "text/plain": [
              "(tensor([[[0.0000, 0.0000, 0.4353],\n",
              "          [0.0000, 0.0156, 0.4353],\n",
              "          [0.0000, 0.0312, 0.4431],\n",
              "          ...,\n",
              "          [1.9844, 1.9531, 0.7333],\n",
              "          [1.9844, 1.9688, 0.7412],\n",
              "          [1.9844, 1.9844, 0.7333]]]), tensor([[[  259,   260,   387],\n",
              "          [  388,   387,   260],\n",
              "          [  260,   261,   388],\n",
              "          ...,\n",
              "          [16254, 16255, 16382],\n",
              "          [16383, 16382, 16255],\n",
              "          [16255, 16256, 16383]]]), tensor([[[0.5000, 0.5000, 0.5000],\n",
              "          [0.5000, 0.5000, 0.5000],\n",
              "          [0.5000, 0.5000, 0.5000],\n",
              "          ...,\n",
              "          [0.5000, 0.5000, 0.5000],\n",
              "          [0.5000, 0.5000, 0.5000],\n",
              "          [0.5000, 0.5000, 0.5000]]]))"
            ]
          },
          "execution_count": 59,
          "metadata": {},
          "output_type": "execute_result"
        }
      ],
      "source": [
        "depthImage2mesh('/content/resized_128.png', save=True)"
      ]
    },
    {
      "cell_type": "code",
      "execution_count": null,
      "metadata": {
        "colab": {
          "base_uri": "https://localhost:8080/"
        },
        "id": "FiaGmHDfkkJ5",
        "outputId": "9dab189b-4e98-4413-f5c7-2b918637bad7"
      },
      "outputs": [
        {
          "name": "stderr",
          "output_type": "stream",
          "text": [
            "100%|██████████| 127/127 [00:01<00:00, 101.06it/s]\n"
          ]
        },
        {
          "data": {
            "text/plain": [
              "(tensor([[[ 0.0000,  0.0000,  0.3333],\n",
              "          [ 0.0000,  0.0156,  0.4510],\n",
              "          [ 0.0000,  0.0312,  0.5373],\n",
              "          ...,\n",
              "          [ 1.9844,  1.9531,  0.2706],\n",
              "          [ 1.9844,  1.9688,  0.1529],\n",
              "          [ 1.9844,  1.9844, -0.0431]]]), tensor([[[  259,   260,   387],\n",
              "          [  388,   387,   260],\n",
              "          [  260,   261,   388],\n",
              "          ...,\n",
              "          [16254, 16255, 16382],\n",
              "          [16383, 16382, 16255],\n",
              "          [16255, 16256, 16383]]]), tensor([[[0.5000, 0.5000, 0.5000],\n",
              "          [0.5000, 0.5000, 0.5000],\n",
              "          [0.5000, 0.5000, 0.5000],\n",
              "          ...,\n",
              "          [0.5000, 0.5000, 0.5000],\n",
              "          [0.5000, 0.5000, 0.5000],\n",
              "          [0.5000, 0.5000, 0.5000]]]))"
            ]
          },
          "execution_count": 11,
          "metadata": {},
          "output_type": "execute_result"
        }
      ],
      "source": [
        "depthImage2mesh('/content/pred_128.png', save=True)"
      ]
    },
    {
      "cell_type": "code",
      "execution_count": null,
      "metadata": {
        "id": "ybZm6GIStjJi"
      },
      "outputs": [],
      "source": [
        "from torch.utils.tensorboard import SummaryWriter\n",
        "writer = SummaryWriter()\n",
        "writer.add_mesh('m2', vertices=verts, colors=colors, faces=faces)\n",
        "writer.close()"
      ]
    },
    {
      "cell_type": "code",
      "execution_count": null,
      "metadata": {
        "colab": {
          "base_uri": "https://localhost:8080/"
        },
        "id": "yye_5HUjegIu",
        "outputId": "67f30ef0-6591-4cfb-8908-e9a6bbf16339"
      },
      "outputs": [
        {
          "name": "stdout",
          "output_type": "stream",
          "text": [
            "(1, 14, 512)\n",
            "float32\n",
            "[[-0.05591475 -0.02665274  0.28139046 ... -0.11796942 -0.17887309\n",
            "  -0.12235566]\n",
            " [-0.05591475 -0.02665274  0.28139046 ... -0.11796942 -0.17887309\n",
            "  -0.12235566]\n",
            " [-0.05591475 -0.02665274  0.28139046 ... -0.11796942 -0.17887309\n",
            "  -0.12235566]\n",
            " ...\n",
            " [-0.05591475 -0.02665274  0.28139046 ... -0.11796942 -0.17887309\n",
            "  -0.12235566]\n",
            " [-0.05591475 -0.02665274  0.28139046 ... -0.11796942 -0.17887309\n",
            "  -0.12235566]\n",
            " [-0.05591475 -0.02665274  0.28139046 ... -0.11796942 -0.17887309\n",
            "  -0.12235566]]\n"
          ]
        }
      ],
      "source": [
        "import os\n",
        "import numpy as np\n",
        "w = np.load(os.path.join(gt_data_path, 'seed0001.npy'))\n",
        "print(w.shape)\n",
        "print(w.dtype)\n",
        "print(w[0])"
      ]
    },
    {
      "cell_type": "code",
      "execution_count": null,
      "metadata": {
        "colab": {
          "base_uri": "https://localhost:8080/"
        },
        "id": "IcD-kTo7vKUA",
        "outputId": "40ef31de-1cb8-4c6e-c67a-39b95b033f9a"
      },
      "outputs": [
        {
          "data": {
            "text/plain": [
              "[['/content/drive/MyDrive/datasets/eg3d/images/seed0000.png'],\n",
              " ['/content/drive/MyDrive/datasets/eg3d/images/seed0001.png'],\n",
              " ['/content/drive/MyDrive/datasets/eg3d/images/seed0002.png'],\n",
              " ['/content/drive/MyDrive/datasets/eg3d/images/seed0003.png'],\n",
              " ['/content/drive/MyDrive/datasets/eg3d/images/seed0004.png'],\n",
              " ['/content/drive/MyDrive/datasets/eg3d/images/seed0005.png'],\n",
              " ['/content/drive/MyDrive/datasets/eg3d/images/seed0006.png'],\n",
              " ['/content/drive/MyDrive/datasets/eg3d/images/seed0007.png'],\n",
              " ['/content/drive/MyDrive/datasets/eg3d/images/seed0008.png'],\n",
              " ['/content/drive/MyDrive/datasets/eg3d/images/seed0009.png'],\n",
              " ['/content/drive/MyDrive/datasets/eg3d/images/seed0010.png'],\n",
              " ['/content/drive/MyDrive/datasets/eg3d/images/seed0011.png'],\n",
              " ['/content/drive/MyDrive/datasets/eg3d/images/seed0012.png'],\n",
              " ['/content/drive/MyDrive/datasets/eg3d/images/seed0013.png'],\n",
              " ['/content/drive/MyDrive/datasets/eg3d/images/seed0014.png'],\n",
              " ['/content/drive/MyDrive/datasets/eg3d/images/seed0015.png'],\n",
              " ['/content/drive/MyDrive/datasets/eg3d/images/seed0016.png'],\n",
              " ['/content/drive/MyDrive/datasets/eg3d/images/seed0017.png'],\n",
              " ['/content/drive/MyDrive/datasets/eg3d/images/seed0018.png'],\n",
              " ['/content/drive/MyDrive/datasets/eg3d/images/seed0019.png'],\n",
              " ['/content/drive/MyDrive/datasets/eg3d/images/seed0020.png'],\n",
              " ['/content/drive/MyDrive/datasets/eg3d/images/seed0021.png'],\n",
              " ['/content/drive/MyDrive/datasets/eg3d/images/seed0022.png'],\n",
              " ['/content/drive/MyDrive/datasets/eg3d/images/seed0023.png'],\n",
              " ['/content/drive/MyDrive/datasets/eg3d/images/seed0024.png'],\n",
              " ['/content/drive/MyDrive/datasets/eg3d/images/seed0025.png'],\n",
              " ['/content/drive/MyDrive/datasets/eg3d/images/seed0026.png'],\n",
              " ['/content/drive/MyDrive/datasets/eg3d/images/seed0027.png'],\n",
              " ['/content/drive/MyDrive/datasets/eg3d/images/seed0028.png'],\n",
              " ['/content/drive/MyDrive/datasets/eg3d/images/seed0029.png'],\n",
              " ['/content/drive/MyDrive/datasets/eg3d/images/seed0030.png'],\n",
              " ['/content/drive/MyDrive/datasets/eg3d/images/seed0031.png'],\n",
              " ['/content/drive/MyDrive/datasets/eg3d/images/seed0032.png'],\n",
              " ['/content/drive/MyDrive/datasets/eg3d/images/seed0033.png'],\n",
              " ['/content/drive/MyDrive/datasets/eg3d/images/seed0034.png'],\n",
              " ['/content/drive/MyDrive/datasets/eg3d/images/seed0035.png'],\n",
              " ['/content/drive/MyDrive/datasets/eg3d/images/seed0036.png'],\n",
              " ['/content/drive/MyDrive/datasets/eg3d/images/seed0037.png'],\n",
              " ['/content/drive/MyDrive/datasets/eg3d/images/seed0038.png'],\n",
              " ['/content/drive/MyDrive/datasets/eg3d/images/seed0039.png'],\n",
              " ['/content/drive/MyDrive/datasets/eg3d/images/seed0040.png'],\n",
              " ['/content/drive/MyDrive/datasets/eg3d/images/seed0041.png'],\n",
              " ['/content/drive/MyDrive/datasets/eg3d/images/seed0042.png'],\n",
              " ['/content/drive/MyDrive/datasets/eg3d/images/seed0043.png'],\n",
              " ['/content/drive/MyDrive/datasets/eg3d/images/seed0044.png'],\n",
              " ['/content/drive/MyDrive/datasets/eg3d/images/seed0045.png'],\n",
              " ['/content/drive/MyDrive/datasets/eg3d/images/seed0046.png'],\n",
              " ['/content/drive/MyDrive/datasets/eg3d/images/seed0047.png'],\n",
              " ['/content/drive/MyDrive/datasets/eg3d/images/seed0048.png'],\n",
              " ['/content/drive/MyDrive/datasets/eg3d/images/seed0049.png'],\n",
              " ['/content/drive/MyDrive/datasets/eg3d/images/seed0050.png'],\n",
              " ['/content/drive/MyDrive/datasets/eg3d/images/seed0051.png'],\n",
              " ['/content/drive/MyDrive/datasets/eg3d/images/seed0052.png'],\n",
              " ['/content/drive/MyDrive/datasets/eg3d/images/seed0053.png'],\n",
              " ['/content/drive/MyDrive/datasets/eg3d/images/seed0054.png'],\n",
              " ['/content/drive/MyDrive/datasets/eg3d/images/seed0055.png'],\n",
              " ['/content/drive/MyDrive/datasets/eg3d/images/seed0056.png'],\n",
              " ['/content/drive/MyDrive/datasets/eg3d/images/seed0057.png'],\n",
              " ['/content/drive/MyDrive/datasets/eg3d/images/seed0058.png'],\n",
              " ['/content/drive/MyDrive/datasets/eg3d/images/seed0059.png'],\n",
              " ['/content/drive/MyDrive/datasets/eg3d/images/seed0060.png'],\n",
              " ['/content/drive/MyDrive/datasets/eg3d/images/seed0061.png'],\n",
              " ['/content/drive/MyDrive/datasets/eg3d/images/seed0062.png'],\n",
              " ['/content/drive/MyDrive/datasets/eg3d/images/seed0063.png'],\n",
              " ['/content/drive/MyDrive/datasets/eg3d/images/seed0064.png'],\n",
              " ['/content/drive/MyDrive/datasets/eg3d/images/seed0065.png'],\n",
              " ['/content/drive/MyDrive/datasets/eg3d/images/seed0066.png'],\n",
              " ['/content/drive/MyDrive/datasets/eg3d/images/seed0067.png'],\n",
              " ['/content/drive/MyDrive/datasets/eg3d/images/seed0068.png'],\n",
              " ['/content/drive/MyDrive/datasets/eg3d/images/seed0069.png'],\n",
              " ['/content/drive/MyDrive/datasets/eg3d/images/seed0070.png'],\n",
              " ['/content/drive/MyDrive/datasets/eg3d/images/seed0071.png'],\n",
              " ['/content/drive/MyDrive/datasets/eg3d/images/seed0072.png'],\n",
              " ['/content/drive/MyDrive/datasets/eg3d/images/seed0073.png'],\n",
              " ['/content/drive/MyDrive/datasets/eg3d/images/seed0074.png'],\n",
              " ['/content/drive/MyDrive/datasets/eg3d/images/seed0075.png'],\n",
              " ['/content/drive/MyDrive/datasets/eg3d/images/seed0076.png'],\n",
              " ['/content/drive/MyDrive/datasets/eg3d/images/seed0077.png'],\n",
              " ['/content/drive/MyDrive/datasets/eg3d/images/seed0078.png'],\n",
              " ['/content/drive/MyDrive/datasets/eg3d/images/seed0079.png'],\n",
              " ['/content/drive/MyDrive/datasets/eg3d/images/seed0080.png'],\n",
              " ['/content/drive/MyDrive/datasets/eg3d/images/seed0081.png'],\n",
              " ['/content/drive/MyDrive/datasets/eg3d/images/seed0082.png'],\n",
              " ['/content/drive/MyDrive/datasets/eg3d/images/seed0083.png'],\n",
              " ['/content/drive/MyDrive/datasets/eg3d/images/seed0084.png'],\n",
              " ['/content/drive/MyDrive/datasets/eg3d/images/seed0085.png'],\n",
              " ['/content/drive/MyDrive/datasets/eg3d/images/seed0086.png'],\n",
              " ['/content/drive/MyDrive/datasets/eg3d/images/seed0087.png'],\n",
              " ['/content/drive/MyDrive/datasets/eg3d/images/seed0088.png'],\n",
              " ['/content/drive/MyDrive/datasets/eg3d/images/seed0089.png'],\n",
              " ['/content/drive/MyDrive/datasets/eg3d/images/seed0090.png'],\n",
              " ['/content/drive/MyDrive/datasets/eg3d/images/seed0091.png'],\n",
              " ['/content/drive/MyDrive/datasets/eg3d/images/seed0092.png'],\n",
              " ['/content/drive/MyDrive/datasets/eg3d/images/seed0093.png'],\n",
              " ['/content/drive/MyDrive/datasets/eg3d/images/seed0094.png'],\n",
              " ['/content/drive/MyDrive/datasets/eg3d/images/seed0095.png'],\n",
              " ['/content/drive/MyDrive/datasets/eg3d/images/seed0096.png'],\n",
              " ['/content/drive/MyDrive/datasets/eg3d/images/seed0097.png'],\n",
              " ['/content/drive/MyDrive/datasets/eg3d/images/seed0098.png'],\n",
              " ['/content/drive/MyDrive/datasets/eg3d/images/seed0099.png']]"
            ]
          },
          "execution_count": 80,
          "metadata": {},
          "output_type": "execute_result"
        }
      ],
      "source": [
        "# Check val\n",
        "val = np.load(\"/content/drive/MyDrive/eg3d/experiments/latent_train10k_samples/val.npy\", allow_pickle=True)\n",
        "val.item()['valX']"
      ]
    },
    {
      "cell_type": "code",
      "execution_count": null,
      "metadata": {
        "id": "X_yckV3WsqQO"
      },
      "outputs": [],
      "source": [
        "# Add 2 latent codes\n",
        "l200 = np.load('/content/drive/MyDrive/eg3d/experiments/latent_train10k_samples/seed0200/out.npy')\n",
        "l14 = np.load('/content/drive/MyDrive/eg3d/experiments/latent_train10k_samples/seed0014/out.npy')\n",
        "\n",
        "lnew = (l200+l14)/2\n",
        "retarget_path = '/content/drive/MyDrive/eg3d/experiments/latent_train10k_samples/retargetting_seed0014and0200'\n",
        "np.save(file=os.path.join(retarget_path, 'out.npy'), arr=lnew)"
      ]
    },
    {
      "cell_type": "code",
      "execution_count": null,
      "metadata": {
        "colab": {
          "base_uri": "https://localhost:8080/"
        },
        "id": "_jaaWLUqqYUY",
        "outputId": "f9a6e4c0-e58b-4358-ca9e-332ea6e076b9"
      },
      "outputs": [
        {
          "name": "stdout",
          "output_type": "stream",
          "text": [
            "delete 00416 (1).png\n",
            "delete 00578 (1).png\n",
            "delete 00291 (1).png\n",
            "delete 00085 (1).png\n",
            "delete 00550 (1).png\n",
            "delete 00074 (1).png\n",
            "delete 01997 (1).png\n",
            "delete 01234 (1).png\n",
            "delete 00210 (1).png\n",
            "delete 01102 (2).png\n",
            "delete 00204 (2).png\n",
            "delete 01102 (1).png\n",
            "delete 00204 (1).png\n",
            "delete 01737 (1).png\n",
            "delete 01736 (2).png\n",
            "delete 01736 (1).png\n",
            "delete 00951 (1).png\n",
            "delete 01791 (1).png\n",
            "delete 01237 (1).png\n",
            "delete 00532 (1).png\n",
            "delete 01426 (1).png\n",
            "delete 00597 (1).png\n",
            "delete 00944 (1).png\n",
            "delete 01134 (1).png\n",
            "delete 01485 (1).png\n",
            "delete 00473 (1).png\n",
            "delete 01050 (1).png\n",
            "delete 01200 (1).png\n",
            "delete 01224 (1).png\n",
            "delete 00883 (1).png\n",
            "delete 00930 (1).png\n",
            "delete 01222 (1).png\n",
            "delete 00254 (1).png\n",
            "delete 00437 (1).png\n",
            "delete 00464 (1).png\n",
            "delete 00201 (1).png\n",
            "delete 00875 (1).png\n",
            "delete 00441 (1).png\n",
            "delete 00621 (1).png\n",
            "delete 00957 (1).png\n",
            "delete 00547 (1).png\n",
            "delete 00211 (2).png\n",
            "delete 01223 (1).png\n",
            "delete 00144 (1).png\n",
            "delete 00897 (1).png\n",
            "delete 01033 (1).png\n",
            "delete 00211 (1).png\n",
            "delete 00933 (1).png\n",
            "delete 00640 (1).png\n",
            "delete 01086 (2).png\n",
            "delete 00339 (2).png\n",
            "delete 00339 (1).png\n",
            "delete 01562 (1).png\n",
            "delete 00393 (1).png\n",
            "delete 01798 (1).png\n",
            "delete 01853 (2).png\n",
            "delete 01203 (2).png\n",
            "delete 01086 (1).png\n",
            "delete 01914 (1).png\n",
            "delete 00037 (1).png\n",
            "delete 01203 (1).png\n",
            "delete 01853 (1).png\n",
            "delete 00881 (1).png\n"
          ]
        }
      ],
      "source": [
        "unique = []\n",
        "dir = '/content/drive/MyDrive/datasets/prosopo_new/input/'\n",
        "for filename in os.listdir(dir):\n",
        "        if '(' not in filename: \n",
        "            unique.append(filename)\n",
        "        else:\n",
        "          fullpath = os.path.join(dir, filename)\n",
        "          print(\"delete\", filename)\n",
        "          os.remove(filename)"
      ]
    }
  ],
  "metadata": {
    "accelerator": "GPU",
    "colab": {
      "collapsed_sections": [
        "D8HeQdhS7fjz",
        "iP-EAeVqhMZG",
        "_fl7cO9QLiRB",
        "Mn-tKbclbEGp",
        "aZnyi1hdE7_u",
        "0h-jYbgv-Quz"
      ],
      "machine_shape": "hm",
      "provenance": []
    },
    "gpuClass": "standard",
    "kernelspec": {
      "display_name": "Python 3",
      "name": "python3"
    },
    "language_info": {
      "name": "python"
    }
  },
  "nbformat": 4,
  "nbformat_minor": 0
}