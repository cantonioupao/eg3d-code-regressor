{
  "cells": [
    {
      "cell_type": "markdown",
      "metadata": {
        "id": "H5P1zQO3mEQt"
      },
      "source": [
        "# Regression Model\n",
        "This is the regression model that is trained to predict accurate depth maps (e.g 128,128) from single input RGB images (e.g 512. 512, 3). A set of experiments takes place, in this notebook. In summary:\n",
        "\n",
        "*   Define X (Input Images) and Y (GT-depth maps) data\n",
        "*   Select Depth Regression Network Architecture\n",
        "*   Train Model for a number of initial samples\n",
        "*   Test on random sample/example\n",
        "\n",
        "\n"
      ]
    },
    {
      "cell_type": "markdown",
      "metadata": {
        "id": "eSM5J6c7nFEG"
      },
      "source": [
        "## Dataset\n",
        "Define the path to the dataset for the input data and the ground truth depth maps. Load everything to the dataset."
      ]
    },
    {
      "cell_type": "code",
      "execution_count": 1,
      "metadata": {
        "colab": {
          "base_uri": "https://localhost:8080/"
        },
        "id": "3CX6O41El4fm",
        "outputId": "0ad03e2e-674f-49eb-bc0f-c3d351225733"
      },
      "outputs": [
        {
          "output_type": "stream",
          "name": "stdout",
          "text": [
            "Mounted at /content/drive\n"
          ]
        }
      ],
      "source": [
        "from google.colab import drive\n",
        "drive.mount('/content/drive')\n",
        "\n",
        "input_data_path = '/content/drive/MyDrive/datasets/eg3d/images/' #@param\n",
        "gt_data_path = '/content/drive/MyDrive/datasets/eg3d/latent/' #@param"
      ]
    },
    {
      "cell_type": "markdown",
      "metadata": {
        "id": "D8HeQdhS7fjz"
      },
      "source": [
        "## Utilities"
      ]
    },
    {
      "cell_type": "code",
      "execution_count": null,
      "metadata": {
        "id": "6cyIi3j57cZh"
      },
      "outputs": [],
      "source": [
        "# Function to convert a depth image to a mesh \n",
        "# Adapted from https://github.com/sfu-gruvi-3dv/deep_human\n",
        "import PIL\n",
        "import numpy as np\n",
        "from tqdm import tqdm\n",
        "import torch\n",
        "def depthImage2mesh(img_path, save=False, output_path='/content/drive/MyDrive/eg3d/output/mesh.obj'):\n",
        "  ''' Convert a depth image to mesh constituents \n",
        "    - img_path: string path to depth image (.png)\n",
        "    return:\n",
        "    - verts: torch.tensor (B, N, 3), where B for batch size and N for \n",
        "    number of vertices\n",
        "    - faces: torch.tensor (B, F, 3), where B for batch size and F for\n",
        "     number of faces --> indeces of vertices\n",
        "    - colors: torch.tensor (B, N, 3), where B for batch size and N for\n",
        "     number of vertices\n",
        "  '''\n",
        "  # Read image and depth values\n",
        "  img = np.array(PIL.Image.open(img_path))\n",
        "  #print(img.shape, img.dtype, img[0])\n",
        "  \n",
        "  \n",
        "  # Normalize to depth values in [-1,1] \n",
        "  maxx = np.amax(img)\n",
        "  minx = np.amin(img)\n",
        "  x = 2 * ((img - minx) / (maxx - minx) ) - 1\n",
        "  img =  np.array(x, dtype=np.float32)\n",
        "  depth = -img.copy()\n",
        "  mask = img.copy()\n",
        "  mask[mask < 0] = 1\n",
        "\n",
        "  ## Convert to vertices with depth\n",
        "  h = depth.shape[0]\n",
        "  w = depth.shape[1]\n",
        "  depth = depth.reshape(h,w,1)\n",
        "  faces = []  # N x 3  number of triangles\n",
        "  verts = [] # V x 3 number of vertices\n",
        "  v_strings = [] # strings with vertices for obj\n",
        "  f_strings = [] # strings with faces for obj\n",
        "  for i in range(h):\n",
        "      for j in range(w):\n",
        "          verts.append( [float(2.0*i/h) , float(2.0*j/w), float(depth[i,j,0])] )\n",
        "          v_strings.append('v '+str(float(2.0*i/h))+' '+str(float(2.0*j/w))+' '+str(float(depth[i,j,0]))+'\\n')\n",
        "\n",
        "  threshold = 1.5 # adapted for better mesh quality --> the higher the more robust the result\n",
        "  # no mesh face gaps\n",
        "  \n",
        "  \n",
        "  for i in tqdm(range(h-1)):\n",
        "      for j in range(w-1):\n",
        "          if i < 2 or j < 2:\n",
        "              continue\n",
        "          localpatch= np.copy(depth[i-1:i+2,j-1:j+2])\n",
        "          dy_d = localpatch[0, :] - localpatch[1, :]\n",
        "          dx_l = localpatch[:, 0] - localpatch[:, 1]\n",
        "          dx_r = localpatch[0 ,:] - localpatch[-1, :]\n",
        "          dy_u = localpatch[:, 0] - localpatch[:, -1]\n",
        "\n",
        "          dy_u = np.abs(dy_u)\n",
        "          dx_l = np.abs(dx_l)\n",
        "          dy_d = np.abs(dy_d)\n",
        "          dx_r = np.abs(dx_r)\n",
        "          if np.max(dy_u)<threshold and np.max(dx_l) < threshold and np.max(dy_d) < threshold and np.max(dx_r) < threshold and mask[i,j]:\n",
        "              faces.append([int(j+i*w+1), int(j+i*w+1+1), int((i + 1)*w+j+1)])\n",
        "              faces.append([int((i+1)*w+j+1+1), int((i+1)*w+j+1), int(i * w + j + 1 + 1)])\n",
        "              # strings for .obj format\n",
        "              f_strings.append('f '+str(int(j+i*w+1))+' '+str(int(j+i*w+1+1))+' '+str(int((i + 1)*w+j+1))+'\\n')\n",
        "              f_strings.append('f '+str(int((i+1)*w+j+1+1))+' '+str(int((i+1)*w+j+1))+' '+str(int(i * w + j + 1 + 1)) + '\\n')\n",
        "\n",
        "  lim = len(verts) # cannot have valid indeces above this\n",
        "  safe_faces = []\n",
        "  for i, fac in enumerate(faces):\n",
        "    problem = False\n",
        "    for inds in fac:\n",
        "      if inds >=lim:\n",
        "        problem = True\n",
        "        continue\n",
        "      else:\n",
        "        pass\n",
        "    if not problem:\n",
        "      safe_faces.append(fac)\n",
        "\n",
        "\n",
        "  # Save\n",
        "  f = open(output_path, \"w\")\n",
        "  if save:\n",
        "    for index, v in enumerate(v_strings):\n",
        "      f.write(v)\n",
        "\n",
        "    for index, fac in enumerate(f_strings):\n",
        "      f.write(fac)\n",
        "  f.close()\n",
        "    \n",
        "\n",
        "  verts = torch.from_numpy(np.array(verts)).to(torch.float32).unsqueeze(0)\n",
        "  faces = torch.from_numpy(np.array(safe_faces)).unsqueeze(0)\n",
        "  verts_rgb = 0.5* torch.ones_like(verts) # (1, V, 3) # colors\n",
        "\n",
        "\n",
        "\n",
        "  return verts, faces, verts_rgb"
      ]
    },
    {
      "cell_type": "code",
      "execution_count": null,
      "metadata": {
        "id": "gadfvbEP-GZD"
      },
      "outputs": [],
      "source": [
        "depth_path = '/content/drive/MyDrive/datasets/eg3d/depth/seed0001.png'\n",
        "verts, faces, colors = depthImage2mesh(depth_path, save=False)\n",
        "device = torch.device( 'cuda' if torch.cuda.is_available() else 'cpu')"
      ]
    },
    {
      "cell_type": "code",
      "execution_count": null,
      "metadata": {
        "id": "1g-k5G7VpDg0"
      },
      "outputs": [],
      "source": [
        "# Transforms\n",
        "\n",
        "# Transform latent code\n",
        "def transform_latent(code):\n",
        "  ''' This method transforms a 3D latent code (e.g shape (1, 14, 512) ) to a vector (e.g size = 512*14 ) and vice verca'''\n",
        "  if len(code.shape) < 2:\n",
        "    code = code.reshape((1, 512, 14))\n",
        "  if len(code.shape) > 2:\n",
        "    code = code.reshape(-1)\n",
        "\n",
        "  return code"
      ]
    },
    {
      "cell_type": "markdown",
      "metadata": {
        "id": "PTGlExpw1fQz"
      },
      "source": [
        "## ViT\n",
        "The Vision Transformer - [ViT](https://github.com/lukemelas/PyTorch-Pretrained-ViT) developed initially by Googles used to predict the EG3D latent code . The model ViT-B_16_imagenet1k is used, which is the a base vision transformer (12 transformer layers per transformer) with local patches of (16x16) already pretrained on Imagenet with 1000 images."
      ]
    },
    {
      "cell_type": "code",
      "execution_count": null,
      "metadata": {
        "id": "4h0cCvWH6CUN"
      },
      "outputs": [],
      "source": [
        "!pip install pytorch_pretrained_vit\n",
        "!pip install vit-pytorch"
      ]
    },
    {
      "cell_type": "code",
      "execution_count": null,
      "metadata": {
        "id": "QuzZL-N01hYQ"
      },
      "outputs": [],
      "source": [
        "# Old\n",
        "from pytorch_pretrained_vit import ViT\n",
        "model = ViT('B_16_imagenet1k', pretrained=False, image_size=384) # Assumme image size of (512, 512, 3)\n",
        "#config = dict(hidden_size=512, num_heads=8, num_layers=6)\n",
        "#model = ViT.from_config(config)\n",
        "model.fc = torch.nn.Linear(in_features=768, out_features=512*14)\n",
        "model = model.to(device) # input to model (1, 3, 512, 512)"
      ]
    },
    {
      "cell_type": "code",
      "execution_count": null,
      "metadata": {
        "id": "oNTRzKJxAAVP"
      },
      "outputs": [],
      "source": [
        "# New\n",
        "import torch\n",
        "from vit_pytorch import ViT\n",
        "\n",
        "model = ViT(\n",
        "    image_size = 384,\n",
        "    patch_size = 16,\n",
        "    num_classes = 7168,\n",
        "    dim = 1024, # set to 3000\n",
        "    depth = 12, # set to 6\n",
        "    heads = 16,\n",
        "    mlp_dim = 2048,\n",
        "    dropout = 0.1,\n",
        "    emb_dropout = 0.1\n",
        ")\n",
        "\n",
        "img = torch.zeros(1,3 , 384, 384)\n",
        "preds = model(img) # (1, 7168)"
      ]
    },
    {
      "cell_type": "markdown",
      "metadata": {
        "id": "_fl7cO9QLiRB"
      },
      "source": [
        "## Train Model\n",
        "Create different sets of experiments and train different models with different data and split sets. The experiments are saved in different folders under **./experiments**. Each seperate experiment folder containts a **'.pt'** pytorch checkpoint model weights, a **'train.npy'** and **'test.npy'** numpy files that hold the paths of the training and testing data ( input and grounf truth data paths). The **'train.npy'** file holds a dictionary of arrays that can be accessed using the key **'trainX'** and **'trainY'**. Respectively, to get the paths of the validation data, load the **'val.npy'** and query the 2 arrays using **'valX** and **'valY'** keys.\n",
        "\n",
        "### Steps\n",
        "1. Model Architecture\n",
        "2. Preprocessing\n",
        "3. Postprocessing\n",
        "4. Validation/Training dataset split\n",
        "5. Model Training and save\n",
        "6. Visualize/Report training in Tensorboard"
      ]
    },
    {
      "cell_type": "code",
      "execution_count": null,
      "metadata": {
        "id": "-GeKps-X9BOm"
      },
      "outputs": [],
      "source": [
        "from torchvision.transforms import Compose\n",
        "import torch.optim as optim\n",
        "import torch.nn as nn\n",
        "import torch\n",
        "import os\n",
        "import cv2\n",
        "#import utils\n",
        "import numpy as np\n",
        "import PIL\n",
        "from torchvision import transforms\n",
        "\n",
        "l1_loss = nn.L1Loss(reduction='mean') # l1-loss\n",
        "mse = nn.MSELoss(reduction='mean') # mse  (mean squared error) loss\n",
        "device = torch.device(\"cuda\") if torch.cuda.is_available() else torch.device(\"cpu\")\n",
        "model.train() # set in train mode\n",
        "model.to(device)\n",
        "\n",
        "\n",
        "\n",
        "# Load image\n",
        "transform = transforms.Compose([\n",
        "    transforms.Resize((384, 384)), \n",
        "    transforms.ToTensor(),\n",
        "    transforms.Normalize(0.5, 0.5),\n",
        "])\n",
        "\n",
        "\n",
        "lr = 0.0001\n",
        "momentum = 0.9\n",
        "optimizer = optim.Adam(model.parameters(), lr=lr)\n",
        "lr_scheduler = torch.optim.lr_scheduler.ReduceLROnPlateau(optimizer, \n",
        "                                            patience=10, verbose=True)\n",
        "\n",
        "pretrained_modelpath = \"/content/drive/MyDrive/eg3d/experiments/VIT_latent_train48000_samples_depth12/b5_e20_weights_ckp4_it3000.pt\"\n",
        "optimizer_path = \"/content/drive/MyDrive/eg3d/experiments/VIT_latent_train48000_samples_depth12/b5_e20_optimizer_ckp4_it3000.pt\"\n",
        "model.load_state_dict(torch.load(pretrained_modelpath)) # load the final training weights\n",
        "optimizer.load_state_dict(torch.load(optimizer_path)) # load the optimizer state"
      ]
    },
    {
      "cell_type": "code",
      "execution_count": null,
      "metadata": {
        "id": "tx8ZolBU_7N9"
      },
      "outputs": [],
      "source": [
        "### Function to perform validation\n",
        "import time\n",
        "def validate(model, X, Y, criterion):\n",
        "  '''\n",
        "  X: list that contains batches of input data [N , B], for N - numper of batches\n",
        "  and B the batch size\n",
        "  Y: GT data stored as batches of gt data [N , B]\n",
        "  '''\n",
        "  flat_valX = np.array(X).reshape(-1)\n",
        "  flat_valY = np.array(Y).reshape(-1)\n",
        "  assert len(flat_valX) == len(flat_valY)\n",
        "  inputs = []\n",
        "  gts = []\n",
        "  tot_val = 0\n",
        "  #start = time.time()\n",
        "  with torch.no_grad():\n",
        "    for i in range(0, len(flat_valX)):\n",
        "        gt_np = np.load(flat_valY[i]) # bring to appropriate shape\n",
        "        gt_vec = gt_np.flatten()\n",
        "        #gt_np = transform_latent(gt_np) # comment for UNET-modified model\n",
        "        img = PIL.Image.open(filepath)\n",
        "        img_input = transform(img).cpu().detach().numpy()\n",
        "        input = torch.from_numpy(img_input).to(device).unsqueeze(0)\n",
        "        gt = torch.tensor(gt_vec, requires_grad=True).to(device).unsqueeze(0)\n",
        "        gts.append(gt)\n",
        "        inputs.append(input)\n",
        "        prediction = model(input)\n",
        "        val_loss = criterion(prediction, gt)\n",
        "        tot_val = tot_val + val_loss\n",
        "  return tot_val"
      ]
    },
    {
      "cell_type": "code",
      "execution_count": null,
      "metadata": {
        "cellView": "form",
        "id": "eilqVTwWLITf"
      },
      "outputs": [],
      "source": [
        "### Create list with GT and input data paths\n",
        "batch_size =  5#@param\n",
        "experiment_name = \"VIT_latent_train48000_samples_depth12\" #@param {type: \"string\"}\n",
        "experiment_root = '/content/drive/MyDrive/eg3d/experiments' #@param {type: \"string\"}\n",
        "experiment_path = os.path.join(experiment_root, experiment_name)\n",
        "save_train = os.path.join(experiment_path, 'train.npy')\n",
        "save_val = os.path.join(experiment_path, 'val.npy')\n",
        "log_file = os.path.join(experiment_path, 'info.log')\n",
        "os.makedirs(experiment_path, exist_ok=True)\n",
        "img_data = []\n",
        "gt_data = []\n",
        "for img in sorted(os.listdir(input_data_path)):\n",
        "    filepath = os.path.join(input_data_path, img)\n",
        "    gt_path = os.path.join(gt_data_path, img).replace('png', 'npy')\n",
        "    img_data.append(filepath)\n",
        "    gt_data.append(gt_path)\n",
        "\n",
        "\n",
        "img_data = [img_data[i:i + batch_size] for i in range(0, len(img_data), batch_size )] \n",
        "gt_data = [gt_data[i:i+batch_size] for i in range(0, len(gt_data), batch_size)] \n",
        "\n",
        "\n",
        "### Dataset split (Train/Val)\n",
        "num_samples_train =  47500 #@param\n",
        "num_samples_val =    200 #@param\n",
        "limit_train = int(num_samples_train / batch_size) # number of training batches\n",
        "limit_val = int(num_samples_val / batch_size) # number of validation batches\n",
        "valX = img_data[0:limit_val] # first n batches\n",
        "valY = gt_data[0:limit_val]\n",
        "trainX = img_data[limit_val:limit_train+limit_val]\n",
        "trainY = gt_data[limit_val:limit_train+limit_val]\n",
        "\n",
        "\n",
        "np.save(os.path.join(experiment_path,'train.npy'),\n",
        "        {'trainX': trainX,  'trainY': trainY})\n",
        "np.save(os.path.join(experiment_path, 'val.npy'),\n",
        "        {'valX': valX,  'valY': valY})"
      ]
    },
    {
      "cell_type": "code",
      "execution_count": null,
      "metadata": {
        "cellView": "form",
        "colab": {
          "background_save": true,
          "base_uri": "https://localhost:8080/"
        },
        "id": "LcVOeOPUMqMI",
        "outputId": "0a9117d9-95a0-408b-e777-d9518512801d"
      },
      "outputs": [
        {
          "name": "stderr",
          "output_type": "stream",
          "text": [
            "100%|██████████| 9500/9500 [10:56:49<00:00,  4.15s/it]\n"
          ]
        },
        {
          "name": "stdout",
          "output_type": "stream",
          "text": [
            "e 11 - Average L1 loss: 0.154960 , Val. loss: 0.231101\n"
          ]
        },
        {
          "name": "stderr",
          "output_type": "stream",
          "text": [
            "100%|██████████| 9500/9500 [3:23:41<00:00,  1.29s/it]\n"
          ]
        },
        {
          "name": "stdout",
          "output_type": "stream",
          "text": [
            "e 12 - Average L1 loss: 0.153062 , Val. loss: 0.224579\n"
          ]
        },
        {
          "name": "stderr",
          "output_type": "stream",
          "text": [
            " 97%|█████████▋| 9225/9500 [3:12:41<14:55,  3.26s/it]"
          ]
        }
      ],
      "source": [
        "from torchvision.transforms import Compose\n",
        "import torch.optim as optim\n",
        "import torch.nn as nn\n",
        "import torch\n",
        "from tqdm import tqdm\n",
        "from matplotlib import pyplot as plt\n",
        "from torchvision.transforms import Compose\n",
        "import torch.optim as optim\n",
        "import torch.nn as nn\n",
        "import torch\n",
        "import os\n",
        "import cv2\n",
        "import numpy as np\n",
        "import PIL\n",
        "from torchvision import transforms### Training Skeleton\n",
        "from tqdm import tqdm\n",
        "import logging as lg\n",
        "from matplotlib import pyplot as plt\n",
        "from torch.utils.tensorboard import SummaryWriter\n",
        "import torch\n",
        "import random\n",
        "n_epochs =      20#@param\n",
        "f = open(log_file.replace('log', 'txt'), 'w')\n",
        "comment = '_e{}b{}lr{}t_samples{}v_samples{}'.format(n_epochs, batch_size, lr,\n",
        "                                                     num_samples_train, num_samples_val)\n",
        "f.write(comment) \n",
        "writer = SummaryWriter() # Tensorboard writer\n",
        "\n",
        "\n",
        "for epoch in range(5, n_epochs+1):\n",
        "    total_loss = 0.0\n",
        "    random.shuffle(trainX)\n",
        "    # Save model weights every 100 epochs\n",
        "    if (epoch % 1) == 0 :\n",
        "      weights_savepath = os.path.join(experiment_path, \n",
        "      'b{}_e{}_weights_ckp_{}.pt'.format(batch_size, n_epochs, epoch))\n",
        "      torch.save(model.state_dict(), weights_savepath)\n",
        "      torch.save(optimizer.state_dict(), weights_savepath.replace(\"weights\", \"optimizer\"))\n",
        "    for i, batch in enumerate(tqdm(trainX, position=0, leave=True)):\n",
        "      inputs = [] # batch inputs\n",
        "      gts = [] # batch labels/gt data\n",
        "      if (i % 3000) == 0: # add checkpoints for many iterations (to avoid colab timeouts)\n",
        "        weights_savepath = os.path.join(experiment_path, \n",
        "        'b{}_e{}_weights_ckp{}_it{}.pt'.format(batch_size, n_epochs, epoch, i))\n",
        "        torch.save(model.state_dict(), weights_savepath)\n",
        "        torch.save(optimizer.state_dict(), weights_savepath.replace(\"weights\", \"optimizer\"))\n",
        "\n",
        "      for filepath in batch:\n",
        "        gt_path = filepath.replace('images', 'latent').replace('png', 'npy')\n",
        "        gt_np = np.load(gt_path)\n",
        "        gt_vec = gt_np.flatten()\n",
        "        img = PIL.Image.open(filepath)\n",
        "        img_input = transform(img).cpu().detach().numpy()\n",
        "        #plt.imshow(img_input.transpose())\n",
        "        input = torch.from_numpy(img_input).to(device).unsqueeze(0)\n",
        "        gt = torch.tensor(gt_vec).to(device).unsqueeze(0)\n",
        "        gts.append(gt)\n",
        "        inputs.append(input)\n",
        "\n",
        "      # Convert list to batch tensor\n",
        "      gts = torch.cat(gts)\n",
        "      inputs = torch.cat(inputs)\n",
        "\n",
        "      \n",
        "      # Per batch loss and update\n",
        "      predictions = model(inputs)\n",
        "      #print(predictions.shape, gts.shape)\n",
        "      pred_np = predictions.detach().cpu().numpy()\n",
        "\n",
        "      \n",
        "      #loss = mse(gts, predictions) # total loss per batch\n",
        "      loss = l1_loss(gts, predictions)\n",
        "      optimizer.zero_grad()\n",
        "      loss.backward()\n",
        "      optimizer.step()\n",
        "      total_loss += float(loss) # total average batch loss\n",
        "    \n",
        "\n",
        "    \n",
        "    total_val_loss = validate(model, X=valX, Y=valY, criterion=l1_loss)\n",
        "    val_loss = total_val_loss / num_samples_val  # average val loss\n",
        "    training_loss = total_loss / limit_train # average training loss\n",
        "    log = ' '.join([\"e\", str(epoch),\"- Average L1 loss: %f , Val. loss: %f\" %(training_loss,val_loss)])\n",
        "    # logger.info(log)\n",
        "    writer.add_scalars(\"Loss\", {'train': training_loss, 'val':val_loss},\n",
        "                      epoch)\n",
        "    writer.add_scalar(\"Loss/train\", training_loss, epoch)\n",
        "    writer.add_scalar(\"Loss/val\", val_loss, epoch)\n",
        "    print(log)\n",
        "    f.write(log + '\\n')\n",
        "    f.flush()\n",
        "    writer.flush()\n",
        "    lr_scheduler.step(total_loss)\n",
        "\n",
        "\n",
        "f.close() # stop writing in file\n",
        "#writer.add_mesh(tag='mesh', vertices=verts, faces=faces, colors=colors)\n",
        "writer.close() # stop Tensorboard writing"
      ]
    },
    {
      "cell_type": "code",
      "execution_count": null,
      "metadata": {
        "id": "x8M4-f-rD6vP"
      },
      "outputs": [],
      "source": [
        "np.save('/content/new.npy', pred_np)"
      ]
    },
    {
      "cell_type": "code",
      "execution_count": null,
      "metadata": {
        "id": "QK1_E9BEHOoN"
      },
      "outputs": [],
      "source": [
        "# Save model weights\n",
        "torch.save(model.state_dict(), weights_savepath)"
      ]
    },
    {
      "cell_type": "code",
      "execution_count": null,
      "metadata": {
        "id": "wQvEOAxtfRnT"
      },
      "outputs": [],
      "source": [
        "# Run Tensorboard locally\n",
        "%load_ext tensorboard\n",
        "%tensorboard --logdir runs"
      ]
    },
    {
      "cell_type": "code",
      "execution_count": null,
      "metadata": {
        "id": "AACkrSo-jgoz"
      },
      "outputs": [],
      "source": [
        "# Upload Tensorboard  analytics to .dev\n",
        "!tensorboard dev upload --logdir runs \\\n",
        "--name {experiment_name} \\\n",
        "--description \"Simple check up test\""
      ]
    },
    {
      "cell_type": "markdown",
      "metadata": {
        "id": "Mn-tKbclbEGp"
      },
      "source": [
        "## Test Model\n",
        "Input an RGB single-view image of a human face and predict the EG3D latent code (style vector).All latent code predictions can be reproduced/synthesized (via EG3D) to the respective images using [this notebook](https://colab.research.google.com/drive/1rILRjSyH_TPyk4Jhf6xHneU7DxZvskZv?usp=sharing)"
      ]
    },
    {
      "cell_type": "code",
      "execution_count": null,
      "metadata": {
        "cellView": "form",
        "id": "D0ih1IgHD3-J"
      },
      "outputs": [],
      "source": [
        "#@markdown Create and save list of image paths $ \\to\\ $ '/content/val.npy'\n",
        "import os\n",
        "paths = []\n",
        "path = '/content/drive/MyDrive/datasets/FFHQ/00000/'\n",
        "for img_path in os.listdir(path):\n",
        "  if ('.jpg' in img_path) or ('.png' in img_path):\n",
        "    fullpath = os.path.join(path, img_path)\n",
        "    paths.append(fullpath)\n",
        "\n",
        "  if len(paths) > 2:\n",
        "    break \n",
        "\n",
        "np.save('/content/val.npy', {'valX': paths})\n",
        "#np.save('/content/val.npy', paths)"
      ]
    },
    {
      "cell_type": "code",
      "execution_count": null,
      "metadata": {
        "colab": {
          "base_uri": "https://localhost:8080/"
        },
        "id": "WKUvRiakZBWa",
        "outputId": "df87460b-60be-42c2-bf94-e6b60c4f5adf"
      },
      "outputs": [
        {
          "name": "stdout",
          "output_type": "stream",
          "text": [
            "/content/MiDaS\n",
            "device: cuda\n",
            "finished\n"
          ]
        }
      ],
      "source": [
        "from torchvision.transforms import Compose\n",
        "import torch.optim as optim\n",
        "import torch.nn as nn\n",
        "import torch\n",
        "from tqdm import tqdm\n",
        "from matplotlib import pyplot as plt\n",
        "from torchvision.transforms import Compose\n",
        "import torch.optim as optim\n",
        "import torch.nn as nn\n",
        "import torch\n",
        "import os\n",
        "import cv2\n",
        "import numpy as np\n",
        "import PIL\n",
        "from torchvision import transforms\n",
        "\n",
        "model_path =  \"/content/drive/MyDrive/eg3d/experiments/VIT_latent_overfit10samples/b1_e10_weights_ckp_10.pt\" #@param {type: \"string\"}\n",
        "img_path = '/content/drive/MyDrive/datasets/eg3d/images/seed48495.png' #@param {type: \"string\"}\n",
        "#@markdown or give a path to a list of images\n",
        "img_list_path = \"/content/val.npy\" #@param {type: \"string\"}\n",
        "save = True #@param {type:\"boolean\"}\n",
        "output_root = '/content/' #@param {type: \"string\"}\n",
        "\n",
        "\n",
        "# select device\n",
        "device = torch.device(\"cuda\" if torch.cuda.is_available() else \"cpu\")\n",
        "print(\"device: %s\" % device)\n",
        "\n",
        "# Load image\n",
        "# NOTE: Assumes an image `img.jpg` exists in the current directory\n",
        "transform = transforms.Compose([\n",
        "    transforms.Resize((384, 384)), \n",
        "    transforms.ToTensor(),\n",
        "    transforms.Normalize(0.5, 0.5),\n",
        "])\n",
        "\n",
        "model.load_state_dict(torch.load(model_path))\n",
        "model.eval()\n",
        "model.to(device)\n",
        "\n",
        "try:\n",
        "  img_list = np.load(img_list_path, allow_pickle=True).item()['valX']\n",
        "except:\n",
        "  try:\n",
        "    img_list = np.load(img_list_path, allow_pickle=True)\n",
        "  except:\n",
        "    print('Img path list is not used or wrong path/format')\n",
        "    img_list = [[img_path], ]\n",
        "\n",
        "\n",
        "# get input\n",
        "with torch.no_grad():\n",
        "  for img_path in img_list:\n",
        "    img = PIL.Image.open(filepath)\n",
        "    img_input = transform(img).cpu().detach().numpy()\n",
        "    input = torch.from_numpy(img_input).to(device).unsqueeze(0)\n",
        "    prediction = model(input)\n",
        "    prediction = prediction.squeeze().detach().cpu().numpy().transpose() # convert to (1, 14, 512)\n",
        "    img_name = 'out'\n",
        "    example = img_path.split('/')[-1].split('.')[0] # name of sample\n",
        "    os.makedirs(os.path.join(output_root, example), exist_ok=True)\n",
        "    filename = os.path.join(\n",
        "    os.path.join(output_root,example), os.path.splitext(os.path.basename(img_name))[0])\n",
        "    output_path = filename + '.png'\n",
        "    npy_savepath = filename + '.npy'\n",
        "    #save input image\n",
        "    if save:\n",
        "      PIL.Image.open(img_path).save(output_path.replace('out', 'input'))\n",
        "      # save latent code\n",
        "      prediction = np.expand_dims(prediction, axis=0)\n",
        "      np.save(npy_savepath, prediction)\n",
        "    \n",
        "\n",
        "print(\"finished\")"
      ]
    },
    {
      "cell_type": "markdown",
      "metadata": {
        "id": "aZnyi1hdE7_u"
      },
      "source": [
        "## Model Evaluation\n",
        "To evaluate the model on unseen data, the **mean l1-loss** is used as an evaluation metric. For proper evaluation, paths to both the **input image** and corresponding **gt latent code**, are required. All latent code predictions can be reproduced/synthesized (via EG3D) to the respective images using [this notebook](https://colab.research.google.com/drive/1rILRjSyH_TPyk4Jhf6xHneU7DxZvskZv?usp=sharing)"
      ]
    },
    {
      "cell_type": "code",
      "execution_count": null,
      "metadata": {
        "cellView": "form",
        "colab": {
          "base_uri": "https://localhost:8080/"
        },
        "id": "01yn4T9kE7_v",
        "outputId": "522fd996-ea8a-4c68-b86b-ff74d2960ac4"
      },
      "outputs": [
        {
          "name": "stdout",
          "output_type": "stream",
          "text": [
            "['/content/drive/MyDrive/datasets/eg3d/images/seed47800.png', '/content/drive/MyDrive/datasets/eg3d/images/seed47801.png', '/content/drive/MyDrive/datasets/eg3d/images/seed47802.png', '/content/drive/MyDrive/datasets/eg3d/images/seed47803.png', '/content/drive/MyDrive/datasets/eg3d/images/seed47804.png', '/content/drive/MyDrive/datasets/eg3d/images/seed47805.png', '/content/drive/MyDrive/datasets/eg3d/images/seed47806.png', '/content/drive/MyDrive/datasets/eg3d/images/seed47807.png', '/content/drive/MyDrive/datasets/eg3d/images/seed47808.png', '/content/drive/MyDrive/datasets/eg3d/images/seed47809.png', '/content/drive/MyDrive/datasets/eg3d/images/seed47810.png', '/content/drive/MyDrive/datasets/eg3d/images/seed47811.png', '/content/drive/MyDrive/datasets/eg3d/images/seed47812.png', '/content/drive/MyDrive/datasets/eg3d/images/seed47813.png', '/content/drive/MyDrive/datasets/eg3d/images/seed47814.png', '/content/drive/MyDrive/datasets/eg3d/images/seed47815.png', '/content/drive/MyDrive/datasets/eg3d/images/seed47816.png', '/content/drive/MyDrive/datasets/eg3d/images/seed47817.png', '/content/drive/MyDrive/datasets/eg3d/images/seed47818.png', '/content/drive/MyDrive/datasets/eg3d/images/seed47819.png', '/content/drive/MyDrive/datasets/eg3d/images/seed47820.png', '/content/drive/MyDrive/datasets/eg3d/images/seed47821.png', '/content/drive/MyDrive/datasets/eg3d/images/seed47822.png', '/content/drive/MyDrive/datasets/eg3d/images/seed47823.png', '/content/drive/MyDrive/datasets/eg3d/images/seed47824.png', '/content/drive/MyDrive/datasets/eg3d/images/seed47825.png', '/content/drive/MyDrive/datasets/eg3d/images/seed47826.png', '/content/drive/MyDrive/datasets/eg3d/images/seed47827.png', '/content/drive/MyDrive/datasets/eg3d/images/seed47828.png', '/content/drive/MyDrive/datasets/eg3d/images/seed47829.png', '/content/drive/MyDrive/datasets/eg3d/images/seed47830.png', '/content/drive/MyDrive/datasets/eg3d/images/seed47831.png', '/content/drive/MyDrive/datasets/eg3d/images/seed47832.png', '/content/drive/MyDrive/datasets/eg3d/images/seed47833.png', '/content/drive/MyDrive/datasets/eg3d/images/seed47834.png', '/content/drive/MyDrive/datasets/eg3d/images/seed47835.png', '/content/drive/MyDrive/datasets/eg3d/images/seed47836.png', '/content/drive/MyDrive/datasets/eg3d/images/seed47837.png', '/content/drive/MyDrive/datasets/eg3d/images/seed47838.png', '/content/drive/MyDrive/datasets/eg3d/images/seed47839.png', '/content/drive/MyDrive/datasets/eg3d/images/seed47840.png', '/content/drive/MyDrive/datasets/eg3d/images/seed47841.png', '/content/drive/MyDrive/datasets/eg3d/images/seed47842.png', '/content/drive/MyDrive/datasets/eg3d/images/seed47843.png', '/content/drive/MyDrive/datasets/eg3d/images/seed47844.png', '/content/drive/MyDrive/datasets/eg3d/images/seed47845.png', '/content/drive/MyDrive/datasets/eg3d/images/seed47846.png', '/content/drive/MyDrive/datasets/eg3d/images/seed47847.png', '/content/drive/MyDrive/datasets/eg3d/images/seed47848.png', '/content/drive/MyDrive/datasets/eg3d/images/seed47849.png', '/content/drive/MyDrive/datasets/eg3d/images/seed47850.png', '/content/drive/MyDrive/datasets/eg3d/images/seed47851.png', '/content/drive/MyDrive/datasets/eg3d/images/seed47852.png', '/content/drive/MyDrive/datasets/eg3d/images/seed47853.png', '/content/drive/MyDrive/datasets/eg3d/images/seed47854.png', '/content/drive/MyDrive/datasets/eg3d/images/seed47855.png', '/content/drive/MyDrive/datasets/eg3d/images/seed47856.png', '/content/drive/MyDrive/datasets/eg3d/images/seed47857.png', '/content/drive/MyDrive/datasets/eg3d/images/seed47858.png', '/content/drive/MyDrive/datasets/eg3d/images/seed47859.png', '/content/drive/MyDrive/datasets/eg3d/images/seed47860.png', '/content/drive/MyDrive/datasets/eg3d/images/seed47861.png', '/content/drive/MyDrive/datasets/eg3d/images/seed47862.png', '/content/drive/MyDrive/datasets/eg3d/images/seed47863.png', '/content/drive/MyDrive/datasets/eg3d/images/seed47864.png', '/content/drive/MyDrive/datasets/eg3d/images/seed47865.png', '/content/drive/MyDrive/datasets/eg3d/images/seed47866.png', '/content/drive/MyDrive/datasets/eg3d/images/seed47867.png', '/content/drive/MyDrive/datasets/eg3d/images/seed47868.png', '/content/drive/MyDrive/datasets/eg3d/images/seed47869.png', '/content/drive/MyDrive/datasets/eg3d/images/seed47870.png', '/content/drive/MyDrive/datasets/eg3d/images/seed47871.png', '/content/drive/MyDrive/datasets/eg3d/images/seed47872.png', '/content/drive/MyDrive/datasets/eg3d/images/seed47873.png', '/content/drive/MyDrive/datasets/eg3d/images/seed47874.png', '/content/drive/MyDrive/datasets/eg3d/images/seed47875.png', '/content/drive/MyDrive/datasets/eg3d/images/seed47876.png', '/content/drive/MyDrive/datasets/eg3d/images/seed47877.png', '/content/drive/MyDrive/datasets/eg3d/images/seed47878.png', '/content/drive/MyDrive/datasets/eg3d/images/seed47879.png', '/content/drive/MyDrive/datasets/eg3d/images/seed47880.png', '/content/drive/MyDrive/datasets/eg3d/images/seed47881.png', '/content/drive/MyDrive/datasets/eg3d/images/seed47882.png', '/content/drive/MyDrive/datasets/eg3d/images/seed47883.png', '/content/drive/MyDrive/datasets/eg3d/images/seed47884.png', '/content/drive/MyDrive/datasets/eg3d/images/seed47885.png', '/content/drive/MyDrive/datasets/eg3d/images/seed47886.png', '/content/drive/MyDrive/datasets/eg3d/images/seed47887.png', '/content/drive/MyDrive/datasets/eg3d/images/seed47888.png', '/content/drive/MyDrive/datasets/eg3d/images/seed47889.png', '/content/drive/MyDrive/datasets/eg3d/images/seed47890.png', '/content/drive/MyDrive/datasets/eg3d/images/seed47891.png', '/content/drive/MyDrive/datasets/eg3d/images/seed47892.png', '/content/drive/MyDrive/datasets/eg3d/images/seed47893.png', '/content/drive/MyDrive/datasets/eg3d/images/seed47894.png', '/content/drive/MyDrive/datasets/eg3d/images/seed47895.png', '/content/drive/MyDrive/datasets/eg3d/images/seed47896.png', '/content/drive/MyDrive/datasets/eg3d/images/seed47897.png', '/content/drive/MyDrive/datasets/eg3d/images/seed47898.png', '/content/drive/MyDrive/datasets/eg3d/images/seed47899.png', '/content/drive/MyDrive/datasets/eg3d/images/seed47900.png', '/content/drive/MyDrive/datasets/eg3d/images/seed47901.png', '/content/drive/MyDrive/datasets/eg3d/images/seed47902.png', '/content/drive/MyDrive/datasets/eg3d/images/seed47903.png', '/content/drive/MyDrive/datasets/eg3d/images/seed47904.png', '/content/drive/MyDrive/datasets/eg3d/images/seed47905.png', '/content/drive/MyDrive/datasets/eg3d/images/seed47906.png', '/content/drive/MyDrive/datasets/eg3d/images/seed47907.png', '/content/drive/MyDrive/datasets/eg3d/images/seed47908.png', '/content/drive/MyDrive/datasets/eg3d/images/seed47909.png', '/content/drive/MyDrive/datasets/eg3d/images/seed47910.png', '/content/drive/MyDrive/datasets/eg3d/images/seed47911.png', '/content/drive/MyDrive/datasets/eg3d/images/seed47912.png', '/content/drive/MyDrive/datasets/eg3d/images/seed47913.png', '/content/drive/MyDrive/datasets/eg3d/images/seed47914.png', '/content/drive/MyDrive/datasets/eg3d/images/seed47915.png', '/content/drive/MyDrive/datasets/eg3d/images/seed47916.png', '/content/drive/MyDrive/datasets/eg3d/images/seed47917.png', '/content/drive/MyDrive/datasets/eg3d/images/seed47918.png', '/content/drive/MyDrive/datasets/eg3d/images/seed47919.png', '/content/drive/MyDrive/datasets/eg3d/images/seed47920.png', '/content/drive/MyDrive/datasets/eg3d/images/seed47921.png', '/content/drive/MyDrive/datasets/eg3d/images/seed47922.png', '/content/drive/MyDrive/datasets/eg3d/images/seed47923.png', '/content/drive/MyDrive/datasets/eg3d/images/seed47924.png', '/content/drive/MyDrive/datasets/eg3d/images/seed47925.png', '/content/drive/MyDrive/datasets/eg3d/images/seed47926.png', '/content/drive/MyDrive/datasets/eg3d/images/seed47927.png', '/content/drive/MyDrive/datasets/eg3d/images/seed47928.png', '/content/drive/MyDrive/datasets/eg3d/images/seed47929.png', '/content/drive/MyDrive/datasets/eg3d/images/seed47930.png', '/content/drive/MyDrive/datasets/eg3d/images/seed47931.png', '/content/drive/MyDrive/datasets/eg3d/images/seed47932.png', '/content/drive/MyDrive/datasets/eg3d/images/seed47933.png', '/content/drive/MyDrive/datasets/eg3d/images/seed47934.png', '/content/drive/MyDrive/datasets/eg3d/images/seed47935.png', '/content/drive/MyDrive/datasets/eg3d/images/seed47936.png', '/content/drive/MyDrive/datasets/eg3d/images/seed47937.png', '/content/drive/MyDrive/datasets/eg3d/images/seed47938.png', '/content/drive/MyDrive/datasets/eg3d/images/seed47939.png', '/content/drive/MyDrive/datasets/eg3d/images/seed47940.png', '/content/drive/MyDrive/datasets/eg3d/images/seed47941.png', '/content/drive/MyDrive/datasets/eg3d/images/seed47942.png', '/content/drive/MyDrive/datasets/eg3d/images/seed47943.png', '/content/drive/MyDrive/datasets/eg3d/images/seed47944.png', '/content/drive/MyDrive/datasets/eg3d/images/seed47945.png', '/content/drive/MyDrive/datasets/eg3d/images/seed47946.png', '/content/drive/MyDrive/datasets/eg3d/images/seed47947.png', '/content/drive/MyDrive/datasets/eg3d/images/seed47948.png', '/content/drive/MyDrive/datasets/eg3d/images/seed47949.png', '/content/drive/MyDrive/datasets/eg3d/images/seed47950.png', '/content/drive/MyDrive/datasets/eg3d/images/seed47951.png', '/content/drive/MyDrive/datasets/eg3d/images/seed47952.png', '/content/drive/MyDrive/datasets/eg3d/images/seed47953.png', '/content/drive/MyDrive/datasets/eg3d/images/seed47954.png', '/content/drive/MyDrive/datasets/eg3d/images/seed47955.png', '/content/drive/MyDrive/datasets/eg3d/images/seed47956.png', '/content/drive/MyDrive/datasets/eg3d/images/seed47957.png', '/content/drive/MyDrive/datasets/eg3d/images/seed47958.png', '/content/drive/MyDrive/datasets/eg3d/images/seed47959.png', '/content/drive/MyDrive/datasets/eg3d/images/seed47960.png', '/content/drive/MyDrive/datasets/eg3d/images/seed47961.png', '/content/drive/MyDrive/datasets/eg3d/images/seed47962.png', '/content/drive/MyDrive/datasets/eg3d/images/seed47963.png', '/content/drive/MyDrive/datasets/eg3d/images/seed47964.png', '/content/drive/MyDrive/datasets/eg3d/images/seed47965.png', '/content/drive/MyDrive/datasets/eg3d/images/seed47966.png', '/content/drive/MyDrive/datasets/eg3d/images/seed47967.png', '/content/drive/MyDrive/datasets/eg3d/images/seed47968.png', '/content/drive/MyDrive/datasets/eg3d/images/seed47969.png', '/content/drive/MyDrive/datasets/eg3d/images/seed47970.png', '/content/drive/MyDrive/datasets/eg3d/images/seed47971.png', '/content/drive/MyDrive/datasets/eg3d/images/seed47972.png', '/content/drive/MyDrive/datasets/eg3d/images/seed47973.png', '/content/drive/MyDrive/datasets/eg3d/images/seed47974.png', '/content/drive/MyDrive/datasets/eg3d/images/seed47975.png', '/content/drive/MyDrive/datasets/eg3d/images/seed47976.png', '/content/drive/MyDrive/datasets/eg3d/images/seed47977.png', '/content/drive/MyDrive/datasets/eg3d/images/seed47978.png', '/content/drive/MyDrive/datasets/eg3d/images/seed47979.png', '/content/drive/MyDrive/datasets/eg3d/images/seed47980.png', '/content/drive/MyDrive/datasets/eg3d/images/seed47981.png', '/content/drive/MyDrive/datasets/eg3d/images/seed47982.png', '/content/drive/MyDrive/datasets/eg3d/images/seed47983.png', '/content/drive/MyDrive/datasets/eg3d/images/seed47984.png', '/content/drive/MyDrive/datasets/eg3d/images/seed47985.png', '/content/drive/MyDrive/datasets/eg3d/images/seed47986.png', '/content/drive/MyDrive/datasets/eg3d/images/seed47987.png', '/content/drive/MyDrive/datasets/eg3d/images/seed47988.png', '/content/drive/MyDrive/datasets/eg3d/images/seed47989.png', '/content/drive/MyDrive/datasets/eg3d/images/seed47990.png', '/content/drive/MyDrive/datasets/eg3d/images/seed47991.png', '/content/drive/MyDrive/datasets/eg3d/images/seed47992.png', '/content/drive/MyDrive/datasets/eg3d/images/seed47993.png', '/content/drive/MyDrive/datasets/eg3d/images/seed47994.png', '/content/drive/MyDrive/datasets/eg3d/images/seed47995.png', '/content/drive/MyDrive/datasets/eg3d/images/seed47996.png', '/content/drive/MyDrive/datasets/eg3d/images/seed47997.png', '/content/drive/MyDrive/datasets/eg3d/images/seed47998.png', '/content/drive/MyDrive/datasets/eg3d/images/seed47999.png', '/content/drive/MyDrive/datasets/eg3d/images/seed48000.png', '/content/drive/MyDrive/datasets/eg3d/images/seed48001.png', '/content/drive/MyDrive/datasets/eg3d/images/seed48002.png', '/content/drive/MyDrive/datasets/eg3d/images/seed48003.png', '/content/drive/MyDrive/datasets/eg3d/images/seed48004.png', '/content/drive/MyDrive/datasets/eg3d/images/seed48005.png', '/content/drive/MyDrive/datasets/eg3d/images/seed48006.png', '/content/drive/MyDrive/datasets/eg3d/images/seed48007.png', '/content/drive/MyDrive/datasets/eg3d/images/seed48008.png', '/content/drive/MyDrive/datasets/eg3d/images/seed48009.png', '/content/drive/MyDrive/datasets/eg3d/images/seed48010.png', '/content/drive/MyDrive/datasets/eg3d/images/seed48011.png', '/content/drive/MyDrive/datasets/eg3d/images/seed48012.png', '/content/drive/MyDrive/datasets/eg3d/images/seed48013.png', '/content/drive/MyDrive/datasets/eg3d/images/seed48014.png', '/content/drive/MyDrive/datasets/eg3d/images/seed48015.png', '/content/drive/MyDrive/datasets/eg3d/images/seed48016.png', '/content/drive/MyDrive/datasets/eg3d/images/seed48017.png', '/content/drive/MyDrive/datasets/eg3d/images/seed48018.png', '/content/drive/MyDrive/datasets/eg3d/images/seed48019.png', '/content/drive/MyDrive/datasets/eg3d/images/seed48020.png', '/content/drive/MyDrive/datasets/eg3d/images/seed48021.png', '/content/drive/MyDrive/datasets/eg3d/images/seed48022.png', '/content/drive/MyDrive/datasets/eg3d/images/seed48023.png', '/content/drive/MyDrive/datasets/eg3d/images/seed48024.png', '/content/drive/MyDrive/datasets/eg3d/images/seed48025.png', '/content/drive/MyDrive/datasets/eg3d/images/seed48026.png', '/content/drive/MyDrive/datasets/eg3d/images/seed48027.png', '/content/drive/MyDrive/datasets/eg3d/images/seed48028.png', '/content/drive/MyDrive/datasets/eg3d/images/seed48029.png', '/content/drive/MyDrive/datasets/eg3d/images/seed48030.png', '/content/drive/MyDrive/datasets/eg3d/images/seed48031.png', '/content/drive/MyDrive/datasets/eg3d/images/seed48032.png', '/content/drive/MyDrive/datasets/eg3d/images/seed48033.png', '/content/drive/MyDrive/datasets/eg3d/images/seed48034.png', '/content/drive/MyDrive/datasets/eg3d/images/seed48035.png', '/content/drive/MyDrive/datasets/eg3d/images/seed48036.png', '/content/drive/MyDrive/datasets/eg3d/images/seed48037.png', '/content/drive/MyDrive/datasets/eg3d/images/seed48038.png', '/content/drive/MyDrive/datasets/eg3d/images/seed48039.png', '/content/drive/MyDrive/datasets/eg3d/images/seed48040.png', '/content/drive/MyDrive/datasets/eg3d/images/seed48041.png', '/content/drive/MyDrive/datasets/eg3d/images/seed48042.png', '/content/drive/MyDrive/datasets/eg3d/images/seed48043.png', '/content/drive/MyDrive/datasets/eg3d/images/seed48044.png', '/content/drive/MyDrive/datasets/eg3d/images/seed48045.png', '/content/drive/MyDrive/datasets/eg3d/images/seed48046.png', '/content/drive/MyDrive/datasets/eg3d/images/seed48047.png', '/content/drive/MyDrive/datasets/eg3d/images/seed48048.png', '/content/drive/MyDrive/datasets/eg3d/images/seed48049.png', '/content/drive/MyDrive/datasets/eg3d/images/seed48050.png', '/content/drive/MyDrive/datasets/eg3d/images/seed48051.png', '/content/drive/MyDrive/datasets/eg3d/images/seed48052.png', '/content/drive/MyDrive/datasets/eg3d/images/seed48053.png', '/content/drive/MyDrive/datasets/eg3d/images/seed48054.png', '/content/drive/MyDrive/datasets/eg3d/images/seed48055.png', '/content/drive/MyDrive/datasets/eg3d/images/seed48056.png', '/content/drive/MyDrive/datasets/eg3d/images/seed48057.png', '/content/drive/MyDrive/datasets/eg3d/images/seed48058.png', '/content/drive/MyDrive/datasets/eg3d/images/seed48059.png', '/content/drive/MyDrive/datasets/eg3d/images/seed48060.png', '/content/drive/MyDrive/datasets/eg3d/images/seed48061.png', '/content/drive/MyDrive/datasets/eg3d/images/seed48062.png', '/content/drive/MyDrive/datasets/eg3d/images/seed48063.png', '/content/drive/MyDrive/datasets/eg3d/images/seed48064.png', '/content/drive/MyDrive/datasets/eg3d/images/seed48065.png', '/content/drive/MyDrive/datasets/eg3d/images/seed48066.png', '/content/drive/MyDrive/datasets/eg3d/images/seed48067.png', '/content/drive/MyDrive/datasets/eg3d/images/seed48068.png', '/content/drive/MyDrive/datasets/eg3d/images/seed48069.png', '/content/drive/MyDrive/datasets/eg3d/images/seed48070.png', '/content/drive/MyDrive/datasets/eg3d/images/seed48071.png', '/content/drive/MyDrive/datasets/eg3d/images/seed48072.png', '/content/drive/MyDrive/datasets/eg3d/images/seed48073.png', '/content/drive/MyDrive/datasets/eg3d/images/seed48074.png', '/content/drive/MyDrive/datasets/eg3d/images/seed48075.png', '/content/drive/MyDrive/datasets/eg3d/images/seed48076.png', '/content/drive/MyDrive/datasets/eg3d/images/seed48077.png', '/content/drive/MyDrive/datasets/eg3d/images/seed48078.png', '/content/drive/MyDrive/datasets/eg3d/images/seed48079.png', '/content/drive/MyDrive/datasets/eg3d/images/seed48080.png', '/content/drive/MyDrive/datasets/eg3d/images/seed48081.png', '/content/drive/MyDrive/datasets/eg3d/images/seed48082.png', '/content/drive/MyDrive/datasets/eg3d/images/seed48083.png', '/content/drive/MyDrive/datasets/eg3d/images/seed48084.png', '/content/drive/MyDrive/datasets/eg3d/images/seed48085.png', '/content/drive/MyDrive/datasets/eg3d/images/seed48086.png', '/content/drive/MyDrive/datasets/eg3d/images/seed48087.png', '/content/drive/MyDrive/datasets/eg3d/images/seed48088.png', '/content/drive/MyDrive/datasets/eg3d/images/seed48089.png', '/content/drive/MyDrive/datasets/eg3d/images/seed48090.png', '/content/drive/MyDrive/datasets/eg3d/images/seed48091.png', '/content/drive/MyDrive/datasets/eg3d/images/seed48092.png', '/content/drive/MyDrive/datasets/eg3d/images/seed48093.png', '/content/drive/MyDrive/datasets/eg3d/images/seed48094.png', '/content/drive/MyDrive/datasets/eg3d/images/seed48095.png', '/content/drive/MyDrive/datasets/eg3d/images/seed48096.png', '/content/drive/MyDrive/datasets/eg3d/images/seed48097.png', '/content/drive/MyDrive/datasets/eg3d/images/seed48098.png', '/content/drive/MyDrive/datasets/eg3d/images/seed48099.png', '/content/drive/MyDrive/datasets/eg3d/images/seed48100.png', '/content/drive/MyDrive/datasets/eg3d/images/seed48101.png', '/content/drive/MyDrive/datasets/eg3d/images/seed48102.png', '/content/drive/MyDrive/datasets/eg3d/images/seed48103.png', '/content/drive/MyDrive/datasets/eg3d/images/seed48104.png', '/content/drive/MyDrive/datasets/eg3d/images/seed48105.png', '/content/drive/MyDrive/datasets/eg3d/images/seed48106.png', '/content/drive/MyDrive/datasets/eg3d/images/seed48107.png', '/content/drive/MyDrive/datasets/eg3d/images/seed48108.png', '/content/drive/MyDrive/datasets/eg3d/images/seed48109.png', '/content/drive/MyDrive/datasets/eg3d/images/seed48110.png', '/content/drive/MyDrive/datasets/eg3d/images/seed48111.png', '/content/drive/MyDrive/datasets/eg3d/images/seed48112.png', '/content/drive/MyDrive/datasets/eg3d/images/seed48113.png', '/content/drive/MyDrive/datasets/eg3d/images/seed48114.png', '/content/drive/MyDrive/datasets/eg3d/images/seed48115.png', '/content/drive/MyDrive/datasets/eg3d/images/seed48116.png', '/content/drive/MyDrive/datasets/eg3d/images/seed48117.png', '/content/drive/MyDrive/datasets/eg3d/images/seed48118.png', '/content/drive/MyDrive/datasets/eg3d/images/seed48119.png', '/content/drive/MyDrive/datasets/eg3d/images/seed48120.png', '/content/drive/MyDrive/datasets/eg3d/images/seed48121.png', '/content/drive/MyDrive/datasets/eg3d/images/seed48122.png', '/content/drive/MyDrive/datasets/eg3d/images/seed48123.png', '/content/drive/MyDrive/datasets/eg3d/images/seed48124.png', '/content/drive/MyDrive/datasets/eg3d/images/seed48125.png', '/content/drive/MyDrive/datasets/eg3d/images/seed48126.png', '/content/drive/MyDrive/datasets/eg3d/images/seed48127.png', '/content/drive/MyDrive/datasets/eg3d/images/seed48128.png', '/content/drive/MyDrive/datasets/eg3d/images/seed48129.png', '/content/drive/MyDrive/datasets/eg3d/images/seed48130.png', '/content/drive/MyDrive/datasets/eg3d/images/seed48131.png', '/content/drive/MyDrive/datasets/eg3d/images/seed48132.png', '/content/drive/MyDrive/datasets/eg3d/images/seed48133.png', '/content/drive/MyDrive/datasets/eg3d/images/seed48134.png', '/content/drive/MyDrive/datasets/eg3d/images/seed48135.png', '/content/drive/MyDrive/datasets/eg3d/images/seed48136.png', '/content/drive/MyDrive/datasets/eg3d/images/seed48137.png', '/content/drive/MyDrive/datasets/eg3d/images/seed48138.png', '/content/drive/MyDrive/datasets/eg3d/images/seed48139.png', '/content/drive/MyDrive/datasets/eg3d/images/seed48140.png', '/content/drive/MyDrive/datasets/eg3d/images/seed48141.png', '/content/drive/MyDrive/datasets/eg3d/images/seed48142.png', '/content/drive/MyDrive/datasets/eg3d/images/seed48143.png', '/content/drive/MyDrive/datasets/eg3d/images/seed48144.png', '/content/drive/MyDrive/datasets/eg3d/images/seed48145.png', '/content/drive/MyDrive/datasets/eg3d/images/seed48146.png', '/content/drive/MyDrive/datasets/eg3d/images/seed48147.png', '/content/drive/MyDrive/datasets/eg3d/images/seed48148.png', '/content/drive/MyDrive/datasets/eg3d/images/seed48149.png', '/content/drive/MyDrive/datasets/eg3d/images/seed48150.png', '/content/drive/MyDrive/datasets/eg3d/images/seed48151.png', '/content/drive/MyDrive/datasets/eg3d/images/seed48152.png', '/content/drive/MyDrive/datasets/eg3d/images/seed48153.png', '/content/drive/MyDrive/datasets/eg3d/images/seed48154.png', '/content/drive/MyDrive/datasets/eg3d/images/seed48155.png', '/content/drive/MyDrive/datasets/eg3d/images/seed48156.png', '/content/drive/MyDrive/datasets/eg3d/images/seed48157.png', '/content/drive/MyDrive/datasets/eg3d/images/seed48158.png', '/content/drive/MyDrive/datasets/eg3d/images/seed48159.png', '/content/drive/MyDrive/datasets/eg3d/images/seed48160.png', '/content/drive/MyDrive/datasets/eg3d/images/seed48161.png', '/content/drive/MyDrive/datasets/eg3d/images/seed48162.png', '/content/drive/MyDrive/datasets/eg3d/images/seed48163.png', '/content/drive/MyDrive/datasets/eg3d/images/seed48164.png', '/content/drive/MyDrive/datasets/eg3d/images/seed48165.png', '/content/drive/MyDrive/datasets/eg3d/images/seed48166.png', '/content/drive/MyDrive/datasets/eg3d/images/seed48167.png', '/content/drive/MyDrive/datasets/eg3d/images/seed48168.png', '/content/drive/MyDrive/datasets/eg3d/images/seed48169.png', '/content/drive/MyDrive/datasets/eg3d/images/seed48170.png', '/content/drive/MyDrive/datasets/eg3d/images/seed48171.png', '/content/drive/MyDrive/datasets/eg3d/images/seed48172.png', '/content/drive/MyDrive/datasets/eg3d/images/seed48173.png', '/content/drive/MyDrive/datasets/eg3d/images/seed48174.png', '/content/drive/MyDrive/datasets/eg3d/images/seed48175.png', '/content/drive/MyDrive/datasets/eg3d/images/seed48176.png', '/content/drive/MyDrive/datasets/eg3d/images/seed48177.png', '/content/drive/MyDrive/datasets/eg3d/images/seed48178.png', '/content/drive/MyDrive/datasets/eg3d/images/seed48179.png', '/content/drive/MyDrive/datasets/eg3d/images/seed48180.png', '/content/drive/MyDrive/datasets/eg3d/images/seed48181.png', '/content/drive/MyDrive/datasets/eg3d/images/seed48182.png', '/content/drive/MyDrive/datasets/eg3d/images/seed48183.png', '/content/drive/MyDrive/datasets/eg3d/images/seed48184.png', '/content/drive/MyDrive/datasets/eg3d/images/seed48185.png', '/content/drive/MyDrive/datasets/eg3d/images/seed48186.png', '/content/drive/MyDrive/datasets/eg3d/images/seed48187.png', '/content/drive/MyDrive/datasets/eg3d/images/seed48188.png', '/content/drive/MyDrive/datasets/eg3d/images/seed48189.png', '/content/drive/MyDrive/datasets/eg3d/images/seed48190.png', '/content/drive/MyDrive/datasets/eg3d/images/seed48191.png', '/content/drive/MyDrive/datasets/eg3d/images/seed48192.png', '/content/drive/MyDrive/datasets/eg3d/images/seed48193.png', '/content/drive/MyDrive/datasets/eg3d/images/seed48194.png', '/content/drive/MyDrive/datasets/eg3d/images/seed48195.png', '/content/drive/MyDrive/datasets/eg3d/images/seed48196.png', '/content/drive/MyDrive/datasets/eg3d/images/seed48197.png', '/content/drive/MyDrive/datasets/eg3d/images/seed48198.png', '/content/drive/MyDrive/datasets/eg3d/images/seed48199.png', '/content/drive/MyDrive/datasets/eg3d/images/seed48200.png', '/content/drive/MyDrive/datasets/eg3d/images/seed48201.png', '/content/drive/MyDrive/datasets/eg3d/images/seed48202.png', '/content/drive/MyDrive/datasets/eg3d/images/seed48203.png', '/content/drive/MyDrive/datasets/eg3d/images/seed48204.png', '/content/drive/MyDrive/datasets/eg3d/images/seed48205.png', '/content/drive/MyDrive/datasets/eg3d/images/seed48206.png', '/content/drive/MyDrive/datasets/eg3d/images/seed48207.png', '/content/drive/MyDrive/datasets/eg3d/images/seed48208.png', '/content/drive/MyDrive/datasets/eg3d/images/seed48209.png', '/content/drive/MyDrive/datasets/eg3d/images/seed48210.png', '/content/drive/MyDrive/datasets/eg3d/images/seed48211.png', '/content/drive/MyDrive/datasets/eg3d/images/seed48212.png', '/content/drive/MyDrive/datasets/eg3d/images/seed48213.png', '/content/drive/MyDrive/datasets/eg3d/images/seed48214.png', '/content/drive/MyDrive/datasets/eg3d/images/seed48215.png', '/content/drive/MyDrive/datasets/eg3d/images/seed48216.png', '/content/drive/MyDrive/datasets/eg3d/images/seed48217.png', '/content/drive/MyDrive/datasets/eg3d/images/seed48218.png', '/content/drive/MyDrive/datasets/eg3d/images/seed48219.png', '/content/drive/MyDrive/datasets/eg3d/images/seed48220.png', '/content/drive/MyDrive/datasets/eg3d/images/seed48221.png', '/content/drive/MyDrive/datasets/eg3d/images/seed48222.png', '/content/drive/MyDrive/datasets/eg3d/images/seed48223.png', '/content/drive/MyDrive/datasets/eg3d/images/seed48224.png', '/content/drive/MyDrive/datasets/eg3d/images/seed48225.png', '/content/drive/MyDrive/datasets/eg3d/images/seed48226.png', '/content/drive/MyDrive/datasets/eg3d/images/seed48227.png', '/content/drive/MyDrive/datasets/eg3d/images/seed48228.png', '/content/drive/MyDrive/datasets/eg3d/images/seed48229.png', '/content/drive/MyDrive/datasets/eg3d/images/seed48230.png', '/content/drive/MyDrive/datasets/eg3d/images/seed48231.png', '/content/drive/MyDrive/datasets/eg3d/images/seed48232.png', '/content/drive/MyDrive/datasets/eg3d/images/seed48233.png', '/content/drive/MyDrive/datasets/eg3d/images/seed48234.png', '/content/drive/MyDrive/datasets/eg3d/images/seed48235.png', '/content/drive/MyDrive/datasets/eg3d/images/seed48236.png', '/content/drive/MyDrive/datasets/eg3d/images/seed48237.png', '/content/drive/MyDrive/datasets/eg3d/images/seed48238.png', '/content/drive/MyDrive/datasets/eg3d/images/seed48239.png', '/content/drive/MyDrive/datasets/eg3d/images/seed48240.png', '/content/drive/MyDrive/datasets/eg3d/images/seed48241.png', '/content/drive/MyDrive/datasets/eg3d/images/seed48242.png', '/content/drive/MyDrive/datasets/eg3d/images/seed48243.png', '/content/drive/MyDrive/datasets/eg3d/images/seed48244.png', '/content/drive/MyDrive/datasets/eg3d/images/seed48245.png', '/content/drive/MyDrive/datasets/eg3d/images/seed48246.png', '/content/drive/MyDrive/datasets/eg3d/images/seed48247.png', '/content/drive/MyDrive/datasets/eg3d/images/seed48248.png', '/content/drive/MyDrive/datasets/eg3d/images/seed48249.png', '/content/drive/MyDrive/datasets/eg3d/images/seed48250.png', '/content/drive/MyDrive/datasets/eg3d/images/seed48251.png', '/content/drive/MyDrive/datasets/eg3d/images/seed48252.png', '/content/drive/MyDrive/datasets/eg3d/images/seed48253.png', '/content/drive/MyDrive/datasets/eg3d/images/seed48254.png', '/content/drive/MyDrive/datasets/eg3d/images/seed48255.png', '/content/drive/MyDrive/datasets/eg3d/images/seed48256.png', '/content/drive/MyDrive/datasets/eg3d/images/seed48257.png', '/content/drive/MyDrive/datasets/eg3d/images/seed48258.png', '/content/drive/MyDrive/datasets/eg3d/images/seed48259.png', '/content/drive/MyDrive/datasets/eg3d/images/seed48260.png', '/content/drive/MyDrive/datasets/eg3d/images/seed48261.png', '/content/drive/MyDrive/datasets/eg3d/images/seed48262.png', '/content/drive/MyDrive/datasets/eg3d/images/seed48263.png', '/content/drive/MyDrive/datasets/eg3d/images/seed48264.png', '/content/drive/MyDrive/datasets/eg3d/images/seed48265.png', '/content/drive/MyDrive/datasets/eg3d/images/seed48266.png', '/content/drive/MyDrive/datasets/eg3d/images/seed48267.png', '/content/drive/MyDrive/datasets/eg3d/images/seed48268.png', '/content/drive/MyDrive/datasets/eg3d/images/seed48269.png', '/content/drive/MyDrive/datasets/eg3d/images/seed48270.png', '/content/drive/MyDrive/datasets/eg3d/images/seed48271.png', '/content/drive/MyDrive/datasets/eg3d/images/seed48272.png', '/content/drive/MyDrive/datasets/eg3d/images/seed48273.png', '/content/drive/MyDrive/datasets/eg3d/images/seed48274.png', '/content/drive/MyDrive/datasets/eg3d/images/seed48275.png', '/content/drive/MyDrive/datasets/eg3d/images/seed48276.png', '/content/drive/MyDrive/datasets/eg3d/images/seed48277.png', '/content/drive/MyDrive/datasets/eg3d/images/seed48278.png', '/content/drive/MyDrive/datasets/eg3d/images/seed48279.png', '/content/drive/MyDrive/datasets/eg3d/images/seed48280.png', '/content/drive/MyDrive/datasets/eg3d/images/seed48281.png', '/content/drive/MyDrive/datasets/eg3d/images/seed48282.png', '/content/drive/MyDrive/datasets/eg3d/images/seed48283.png', '/content/drive/MyDrive/datasets/eg3d/images/seed48284.png', '/content/drive/MyDrive/datasets/eg3d/images/seed48285.png', '/content/drive/MyDrive/datasets/eg3d/images/seed48286.png', '/content/drive/MyDrive/datasets/eg3d/images/seed48287.png', '/content/drive/MyDrive/datasets/eg3d/images/seed48288.png', '/content/drive/MyDrive/datasets/eg3d/images/seed48289.png', '/content/drive/MyDrive/datasets/eg3d/images/seed48290.png', '/content/drive/MyDrive/datasets/eg3d/images/seed48291.png', '/content/drive/MyDrive/datasets/eg3d/images/seed48292.png', '/content/drive/MyDrive/datasets/eg3d/images/seed48293.png', '/content/drive/MyDrive/datasets/eg3d/images/seed48294.png', '/content/drive/MyDrive/datasets/eg3d/images/seed48295.png', '/content/drive/MyDrive/datasets/eg3d/images/seed48296.png', '/content/drive/MyDrive/datasets/eg3d/images/seed48297.png', '/content/drive/MyDrive/datasets/eg3d/images/seed48298.png', '/content/drive/MyDrive/datasets/eg3d/images/seed48299.png', '/content/drive/MyDrive/datasets/eg3d/images/seed48300.png', '/content/drive/MyDrive/datasets/eg3d/images/seed48301.png', '/content/drive/MyDrive/datasets/eg3d/images/seed48302.png', '/content/drive/MyDrive/datasets/eg3d/images/seed48303.png', '/content/drive/MyDrive/datasets/eg3d/images/seed48304.png', '/content/drive/MyDrive/datasets/eg3d/images/seed48305.png', '/content/drive/MyDrive/datasets/eg3d/images/seed48306.png', '/content/drive/MyDrive/datasets/eg3d/images/seed48307.png', '/content/drive/MyDrive/datasets/eg3d/images/seed48308.png', '/content/drive/MyDrive/datasets/eg3d/images/seed48309.png', '/content/drive/MyDrive/datasets/eg3d/images/seed48310.png', '/content/drive/MyDrive/datasets/eg3d/images/seed48311.png', '/content/drive/MyDrive/datasets/eg3d/images/seed48312.png', '/content/drive/MyDrive/datasets/eg3d/images/seed48313.png', '/content/drive/MyDrive/datasets/eg3d/images/seed48314.png', '/content/drive/MyDrive/datasets/eg3d/images/seed48315.png', '/content/drive/MyDrive/datasets/eg3d/images/seed48316.png', '/content/drive/MyDrive/datasets/eg3d/images/seed48317.png', '/content/drive/MyDrive/datasets/eg3d/images/seed48318.png', '/content/drive/MyDrive/datasets/eg3d/images/seed48319.png', '/content/drive/MyDrive/datasets/eg3d/images/seed48320.png', '/content/drive/MyDrive/datasets/eg3d/images/seed48321.png', '/content/drive/MyDrive/datasets/eg3d/images/seed48322.png', '/content/drive/MyDrive/datasets/eg3d/images/seed48323.png', '/content/drive/MyDrive/datasets/eg3d/images/seed48324.png', '/content/drive/MyDrive/datasets/eg3d/images/seed48325.png', '/content/drive/MyDrive/datasets/eg3d/images/seed48326.png', '/content/drive/MyDrive/datasets/eg3d/images/seed48327.png', '/content/drive/MyDrive/datasets/eg3d/images/seed48328.png', '/content/drive/MyDrive/datasets/eg3d/images/seed48329.png', '/content/drive/MyDrive/datasets/eg3d/images/seed48330.png', '/content/drive/MyDrive/datasets/eg3d/images/seed48331.png', '/content/drive/MyDrive/datasets/eg3d/images/seed48332.png', '/content/drive/MyDrive/datasets/eg3d/images/seed48333.png', '/content/drive/MyDrive/datasets/eg3d/images/seed48334.png', '/content/drive/MyDrive/datasets/eg3d/images/seed48335.png', '/content/drive/MyDrive/datasets/eg3d/images/seed48336.png', '/content/drive/MyDrive/datasets/eg3d/images/seed48337.png', '/content/drive/MyDrive/datasets/eg3d/images/seed48338.png', '/content/drive/MyDrive/datasets/eg3d/images/seed48339.png', '/content/drive/MyDrive/datasets/eg3d/images/seed48340.png', '/content/drive/MyDrive/datasets/eg3d/images/seed48341.png', '/content/drive/MyDrive/datasets/eg3d/images/seed48342.png', '/content/drive/MyDrive/datasets/eg3d/images/seed48343.png', '/content/drive/MyDrive/datasets/eg3d/images/seed48344.png', '/content/drive/MyDrive/datasets/eg3d/images/seed48345.png', '/content/drive/MyDrive/datasets/eg3d/images/seed48346.png', '/content/drive/MyDrive/datasets/eg3d/images/seed48347.png', '/content/drive/MyDrive/datasets/eg3d/images/seed48348.png', '/content/drive/MyDrive/datasets/eg3d/images/seed48349.png', '/content/drive/MyDrive/datasets/eg3d/images/seed48350.png', '/content/drive/MyDrive/datasets/eg3d/images/seed48351.png', '/content/drive/MyDrive/datasets/eg3d/images/seed48352.png', '/content/drive/MyDrive/datasets/eg3d/images/seed48353.png', '/content/drive/MyDrive/datasets/eg3d/images/seed48354.png', '/content/drive/MyDrive/datasets/eg3d/images/seed48355.png', '/content/drive/MyDrive/datasets/eg3d/images/seed48356.png', '/content/drive/MyDrive/datasets/eg3d/images/seed48357.png', '/content/drive/MyDrive/datasets/eg3d/images/seed48358.png', '/content/drive/MyDrive/datasets/eg3d/images/seed48359.png', '/content/drive/MyDrive/datasets/eg3d/images/seed48360.png', '/content/drive/MyDrive/datasets/eg3d/images/seed48361.png', '/content/drive/MyDrive/datasets/eg3d/images/seed48362.png', '/content/drive/MyDrive/datasets/eg3d/images/seed48363.png', '/content/drive/MyDrive/datasets/eg3d/images/seed48364.png', '/content/drive/MyDrive/datasets/eg3d/images/seed48365.png', '/content/drive/MyDrive/datasets/eg3d/images/seed48366.png', '/content/drive/MyDrive/datasets/eg3d/images/seed48367.png', '/content/drive/MyDrive/datasets/eg3d/images/seed48368.png', '/content/drive/MyDrive/datasets/eg3d/images/seed48369.png', '/content/drive/MyDrive/datasets/eg3d/images/seed48370.png', '/content/drive/MyDrive/datasets/eg3d/images/seed48371.png', '/content/drive/MyDrive/datasets/eg3d/images/seed48372.png', '/content/drive/MyDrive/datasets/eg3d/images/seed48373.png', '/content/drive/MyDrive/datasets/eg3d/images/seed48374.png', '/content/drive/MyDrive/datasets/eg3d/images/seed48375.png', '/content/drive/MyDrive/datasets/eg3d/images/seed48376.png', '/content/drive/MyDrive/datasets/eg3d/images/seed48377.png', '/content/drive/MyDrive/datasets/eg3d/images/seed48378.png', '/content/drive/MyDrive/datasets/eg3d/images/seed48379.png', '/content/drive/MyDrive/datasets/eg3d/images/seed48380.png', '/content/drive/MyDrive/datasets/eg3d/images/seed48381.png', '/content/drive/MyDrive/datasets/eg3d/images/seed48382.png', '/content/drive/MyDrive/datasets/eg3d/images/seed48383.png', '/content/drive/MyDrive/datasets/eg3d/images/seed48384.png', '/content/drive/MyDrive/datasets/eg3d/images/seed48385.png', '/content/drive/MyDrive/datasets/eg3d/images/seed48386.png', '/content/drive/MyDrive/datasets/eg3d/images/seed48387.png', '/content/drive/MyDrive/datasets/eg3d/images/seed48388.png', '/content/drive/MyDrive/datasets/eg3d/images/seed48389.png', '/content/drive/MyDrive/datasets/eg3d/images/seed48390.png', '/content/drive/MyDrive/datasets/eg3d/images/seed48391.png', '/content/drive/MyDrive/datasets/eg3d/images/seed48392.png', '/content/drive/MyDrive/datasets/eg3d/images/seed48393.png', '/content/drive/MyDrive/datasets/eg3d/images/seed48394.png', '/content/drive/MyDrive/datasets/eg3d/images/seed48395.png', '/content/drive/MyDrive/datasets/eg3d/images/seed48396.png', '/content/drive/MyDrive/datasets/eg3d/images/seed48397.png', '/content/drive/MyDrive/datasets/eg3d/images/seed48398.png', '/content/drive/MyDrive/datasets/eg3d/images/seed48399.png', '/content/drive/MyDrive/datasets/eg3d/images/seed48400.png', '/content/drive/MyDrive/datasets/eg3d/images/seed48401.png', '/content/drive/MyDrive/datasets/eg3d/images/seed48402.png', '/content/drive/MyDrive/datasets/eg3d/images/seed48403.png', '/content/drive/MyDrive/datasets/eg3d/images/seed48404.png', '/content/drive/MyDrive/datasets/eg3d/images/seed48405.png', '/content/drive/MyDrive/datasets/eg3d/images/seed48406.png', '/content/drive/MyDrive/datasets/eg3d/images/seed48407.png', '/content/drive/MyDrive/datasets/eg3d/images/seed48408.png', '/content/drive/MyDrive/datasets/eg3d/images/seed48409.png', '/content/drive/MyDrive/datasets/eg3d/images/seed48410.png', '/content/drive/MyDrive/datasets/eg3d/images/seed48411.png', '/content/drive/MyDrive/datasets/eg3d/images/seed48412.png', '/content/drive/MyDrive/datasets/eg3d/images/seed48413.png', '/content/drive/MyDrive/datasets/eg3d/images/seed48414.png', '/content/drive/MyDrive/datasets/eg3d/images/seed48415.png', '/content/drive/MyDrive/datasets/eg3d/images/seed48416.png', '/content/drive/MyDrive/datasets/eg3d/images/seed48417.png', '/content/drive/MyDrive/datasets/eg3d/images/seed48418.png', '/content/drive/MyDrive/datasets/eg3d/images/seed48419.png', '/content/drive/MyDrive/datasets/eg3d/images/seed48420.png', '/content/drive/MyDrive/datasets/eg3d/images/seed48421.png', '/content/drive/MyDrive/datasets/eg3d/images/seed48422.png', '/content/drive/MyDrive/datasets/eg3d/images/seed48423.png', '/content/drive/MyDrive/datasets/eg3d/images/seed48424.png', '/content/drive/MyDrive/datasets/eg3d/images/seed48425.png', '/content/drive/MyDrive/datasets/eg3d/images/seed48426.png', '/content/drive/MyDrive/datasets/eg3d/images/seed48427.png', '/content/drive/MyDrive/datasets/eg3d/images/seed48428.png', '/content/drive/MyDrive/datasets/eg3d/images/seed48429.png', '/content/drive/MyDrive/datasets/eg3d/images/seed48430.png', '/content/drive/MyDrive/datasets/eg3d/images/seed48431.png', '/content/drive/MyDrive/datasets/eg3d/images/seed48432.png', '/content/drive/MyDrive/datasets/eg3d/images/seed48433.png', '/content/drive/MyDrive/datasets/eg3d/images/seed48434.png', '/content/drive/MyDrive/datasets/eg3d/images/seed48435.png', '/content/drive/MyDrive/datasets/eg3d/images/seed48436.png', '/content/drive/MyDrive/datasets/eg3d/images/seed48437.png', '/content/drive/MyDrive/datasets/eg3d/images/seed48438.png', '/content/drive/MyDrive/datasets/eg3d/images/seed48439.png', '/content/drive/MyDrive/datasets/eg3d/images/seed48440.png', '/content/drive/MyDrive/datasets/eg3d/images/seed48441.png', '/content/drive/MyDrive/datasets/eg3d/images/seed48442.png', '/content/drive/MyDrive/datasets/eg3d/images/seed48443.png', '/content/drive/MyDrive/datasets/eg3d/images/seed48444.png', '/content/drive/MyDrive/datasets/eg3d/images/seed48445.png', '/content/drive/MyDrive/datasets/eg3d/images/seed48446.png', '/content/drive/MyDrive/datasets/eg3d/images/seed48447.png', '/content/drive/MyDrive/datasets/eg3d/images/seed48448.png', '/content/drive/MyDrive/datasets/eg3d/images/seed48449.png', '/content/drive/MyDrive/datasets/eg3d/images/seed48450.png', '/content/drive/MyDrive/datasets/eg3d/images/seed48451.png', '/content/drive/MyDrive/datasets/eg3d/images/seed48452.png', '/content/drive/MyDrive/datasets/eg3d/images/seed48453.png', '/content/drive/MyDrive/datasets/eg3d/images/seed48454.png', '/content/drive/MyDrive/datasets/eg3d/images/seed48455.png', '/content/drive/MyDrive/datasets/eg3d/images/seed48456.png', '/content/drive/MyDrive/datasets/eg3d/images/seed48457.png', '/content/drive/MyDrive/datasets/eg3d/images/seed48458.png', '/content/drive/MyDrive/datasets/eg3d/images/seed48459.png', '/content/drive/MyDrive/datasets/eg3d/images/seed48460.png', '/content/drive/MyDrive/datasets/eg3d/images/seed48461.png', '/content/drive/MyDrive/datasets/eg3d/images/seed48462.png', '/content/drive/MyDrive/datasets/eg3d/images/seed48463.png', '/content/drive/MyDrive/datasets/eg3d/images/seed48464.png', '/content/drive/MyDrive/datasets/eg3d/images/seed48465.png', '/content/drive/MyDrive/datasets/eg3d/images/seed48466.png', '/content/drive/MyDrive/datasets/eg3d/images/seed48467.png', '/content/drive/MyDrive/datasets/eg3d/images/seed48468.png', '/content/drive/MyDrive/datasets/eg3d/images/seed48469.png', '/content/drive/MyDrive/datasets/eg3d/images/seed48470.png', '/content/drive/MyDrive/datasets/eg3d/images/seed48471.png', '/content/drive/MyDrive/datasets/eg3d/images/seed48472.png', '/content/drive/MyDrive/datasets/eg3d/images/seed48473.png', '/content/drive/MyDrive/datasets/eg3d/images/seed48474.png', '/content/drive/MyDrive/datasets/eg3d/images/seed48475.png', '/content/drive/MyDrive/datasets/eg3d/images/seed48476.png', '/content/drive/MyDrive/datasets/eg3d/images/seed48477.png', '/content/drive/MyDrive/datasets/eg3d/images/seed48478.png', '/content/drive/MyDrive/datasets/eg3d/images/seed48479.png', '/content/drive/MyDrive/datasets/eg3d/images/seed48480.png', '/content/drive/MyDrive/datasets/eg3d/images/seed48481.png', '/content/drive/MyDrive/datasets/eg3d/images/seed48482.png', '/content/drive/MyDrive/datasets/eg3d/images/seed48483.png', '/content/drive/MyDrive/datasets/eg3d/images/seed48484.png', '/content/drive/MyDrive/datasets/eg3d/images/seed48485.png', '/content/drive/MyDrive/datasets/eg3d/images/seed48486.png', '/content/drive/MyDrive/datasets/eg3d/images/seed48487.png', '/content/drive/MyDrive/datasets/eg3d/images/seed48488.png', '/content/drive/MyDrive/datasets/eg3d/images/seed48489.png', '/content/drive/MyDrive/datasets/eg3d/images/seed48490.png', '/content/drive/MyDrive/datasets/eg3d/images/seed48491.png', '/content/drive/MyDrive/datasets/eg3d/images/seed48492.png', '/content/drive/MyDrive/datasets/eg3d/images/seed48493.png', '/content/drive/MyDrive/datasets/eg3d/images/seed48494.png', '/content/drive/MyDrive/datasets/eg3d/images/seed48495.png', '/content/drive/MyDrive/datasets/eg3d/images/seed48496.png', '/content/drive/MyDrive/datasets/eg3d/images/seed48497.png', '/content/drive/MyDrive/datasets/eg3d/images/seed48498.png', '/content/drive/MyDrive/datasets/eg3d/images/seed48499.png', '/content/drive/MyDrive/datasets/eg3d/images/seed48500.png', '/content/drive/MyDrive/datasets/eg3d/images/seed48501.png', '/content/drive/MyDrive/datasets/eg3d/images/seed48502.png', '/content/drive/MyDrive/datasets/eg3d/images/seed48503.png', '/content/drive/MyDrive/datasets/eg3d/images/seed48504.png', '/content/drive/MyDrive/datasets/eg3d/images/seed48505.png', '/content/drive/MyDrive/datasets/eg3d/images/seed48506.png', '/content/drive/MyDrive/datasets/eg3d/images/seed48507.png', '/content/drive/MyDrive/datasets/eg3d/images/seed48508.png', '/content/drive/MyDrive/datasets/eg3d/images/seed48509.png', '/content/drive/MyDrive/datasets/eg3d/images/seed48510.png', '/content/drive/MyDrive/datasets/eg3d/images/seed48511.png', '/content/drive/MyDrive/datasets/eg3d/images/seed48512.png', '/content/drive/MyDrive/datasets/eg3d/images/seed48513.png', '/content/drive/MyDrive/datasets/eg3d/images/seed48514.png', '/content/drive/MyDrive/datasets/eg3d/images/seed48515.png', '/content/drive/MyDrive/datasets/eg3d/images/seed48516.png', '/content/drive/MyDrive/datasets/eg3d/images/seed48517.png', '/content/drive/MyDrive/datasets/eg3d/images/seed48518.png', '/content/drive/MyDrive/datasets/eg3d/images/seed48519.png', '/content/drive/MyDrive/datasets/eg3d/images/seed48520.png', '/content/drive/MyDrive/datasets/eg3d/images/seed48521.png', '/content/drive/MyDrive/datasets/eg3d/images/seed48522.png', '/content/drive/MyDrive/datasets/eg3d/images/seed48523.png', '/content/drive/MyDrive/datasets/eg3d/images/seed48524.png', '/content/drive/MyDrive/datasets/eg3d/images/seed48525.png', '/content/drive/MyDrive/datasets/eg3d/images/seed48526.png', '/content/drive/MyDrive/datasets/eg3d/images/seed48527.png', '/content/drive/MyDrive/datasets/eg3d/images/seed48528.png', '/content/drive/MyDrive/datasets/eg3d/images/seed48529.png', '/content/drive/MyDrive/datasets/eg3d/images/seed48530.png', '/content/drive/MyDrive/datasets/eg3d/images/seed48531.png', '/content/drive/MyDrive/datasets/eg3d/images/seed48532.png', '/content/drive/MyDrive/datasets/eg3d/images/seed48533.png', '/content/drive/MyDrive/datasets/eg3d/images/seed48534.png', '/content/drive/MyDrive/datasets/eg3d/images/seed48535.png', '/content/drive/MyDrive/datasets/eg3d/images/seed48536.png', '/content/drive/MyDrive/datasets/eg3d/images/seed48537.png', '/content/drive/MyDrive/datasets/eg3d/images/seed48538.png', '/content/drive/MyDrive/datasets/eg3d/images/seed48539.png', '/content/drive/MyDrive/datasets/eg3d/images/seed48540.png', '/content/drive/MyDrive/datasets/eg3d/images/seed48541.png', '/content/drive/MyDrive/datasets/eg3d/images/seed48542.png', '/content/drive/MyDrive/datasets/eg3d/images/seed48543.png', '/content/drive/MyDrive/datasets/eg3d/images/seed48544.png', '/content/drive/MyDrive/datasets/eg3d/images/seed48545.png', '/content/drive/MyDrive/datasets/eg3d/images/seed48546.png', '/content/drive/MyDrive/datasets/eg3d/images/seed48547.png', '/content/drive/MyDrive/datasets/eg3d/images/seed48548.png', '/content/drive/MyDrive/datasets/eg3d/images/seed48549.png', '/content/drive/MyDrive/datasets/eg3d/images/seed48550.png', '/content/drive/MyDrive/datasets/eg3d/images/seed48551.png', '/content/drive/MyDrive/datasets/eg3d/images/seed48552.png', '/content/drive/MyDrive/datasets/eg3d/images/seed48553.png', '/content/drive/MyDrive/datasets/eg3d/images/seed48554.png', '/content/drive/MyDrive/datasets/eg3d/images/seed48555.png', '/content/drive/MyDrive/datasets/eg3d/images/seed48556.png', '/content/drive/MyDrive/datasets/eg3d/images/seed48557.png', '/content/drive/MyDrive/datasets/eg3d/images/seed48558.png', '/content/drive/MyDrive/datasets/eg3d/images/seed48559.png', '/content/drive/MyDrive/datasets/eg3d/images/seed48560.png', '/content/drive/MyDrive/datasets/eg3d/images/seed48561.png', '/content/drive/MyDrive/datasets/eg3d/images/seed48562.png', '/content/drive/MyDrive/datasets/eg3d/images/seed48563.png', '/content/drive/MyDrive/datasets/eg3d/images/seed48564.png', '/content/drive/MyDrive/datasets/eg3d/images/seed48565.png', '/content/drive/MyDrive/datasets/eg3d/images/seed48566.png', '/content/drive/MyDrive/datasets/eg3d/images/seed48567.png', '/content/drive/MyDrive/datasets/eg3d/images/seed48568.png', '/content/drive/MyDrive/datasets/eg3d/images/seed48569.png', '/content/drive/MyDrive/datasets/eg3d/images/seed48570.png', '/content/drive/MyDrive/datasets/eg3d/images/seed48571.png', '/content/drive/MyDrive/datasets/eg3d/images/seed48572.png', '/content/drive/MyDrive/datasets/eg3d/images/seed48573.png', '/content/drive/MyDrive/datasets/eg3d/images/seed48574.png', '/content/drive/MyDrive/datasets/eg3d/images/seed48575.png', '/content/drive/MyDrive/datasets/eg3d/images/seed48576.png', '/content/drive/MyDrive/datasets/eg3d/images/seed48577.png', '/content/drive/MyDrive/datasets/eg3d/images/seed48578.png', '/content/drive/MyDrive/datasets/eg3d/images/seed48579.png', '/content/drive/MyDrive/datasets/eg3d/images/seed48580.png', '/content/drive/MyDrive/datasets/eg3d/images/seed48581.png', '/content/drive/MyDrive/datasets/eg3d/images/seed48582.png', '/content/drive/MyDrive/datasets/eg3d/images/seed48583.png', '/content/drive/MyDrive/datasets/eg3d/images/seed48584.png', '/content/drive/MyDrive/datasets/eg3d/images/seed48585.png', '/content/drive/MyDrive/datasets/eg3d/images/seed48586.png', '/content/drive/MyDrive/datasets/eg3d/images/seed48587.png', '/content/drive/MyDrive/datasets/eg3d/images/seed48588.png', '/content/drive/MyDrive/datasets/eg3d/images/seed48589.png', '/content/drive/MyDrive/datasets/eg3d/images/seed48590.png', '/content/drive/MyDrive/datasets/eg3d/images/seed48591.png', '/content/drive/MyDrive/datasets/eg3d/images/seed48592.png', '/content/drive/MyDrive/datasets/eg3d/images/seed48593.png', '/content/drive/MyDrive/datasets/eg3d/images/seed48594.png', '/content/drive/MyDrive/datasets/eg3d/images/seed48595.png', '/content/drive/MyDrive/datasets/eg3d/images/seed48596.png', '/content/drive/MyDrive/datasets/eg3d/images/seed48597.png', '/content/drive/MyDrive/datasets/eg3d/images/seed48598.png', '/content/drive/MyDrive/datasets/eg3d/images/seed48599.png', '/content/drive/MyDrive/datasets/eg3d/images/seed48600.png', '/content/drive/MyDrive/datasets/eg3d/images/seed48601.png', '/content/drive/MyDrive/datasets/eg3d/images/seed48602.png', '/content/drive/MyDrive/datasets/eg3d/images/seed48603.png', '/content/drive/MyDrive/datasets/eg3d/images/seed48604.png', '/content/drive/MyDrive/datasets/eg3d/images/seed48605.png', '/content/drive/MyDrive/datasets/eg3d/images/seed48606.png', '/content/drive/MyDrive/datasets/eg3d/images/seed48607.png', '/content/drive/MyDrive/datasets/eg3d/images/seed48608.png', '/content/drive/MyDrive/datasets/eg3d/images/seed48609.png', '/content/drive/MyDrive/datasets/eg3d/images/seed48610.png', '/content/drive/MyDrive/datasets/eg3d/images/seed48611.png', '/content/drive/MyDrive/datasets/eg3d/images/seed48612.png', '/content/drive/MyDrive/datasets/eg3d/images/seed48613.png', '/content/drive/MyDrive/datasets/eg3d/images/seed48614.png', '/content/drive/MyDrive/datasets/eg3d/images/seed48615.png', '/content/drive/MyDrive/datasets/eg3d/images/seed48616.png', '/content/drive/MyDrive/datasets/eg3d/images/seed48617.png', '/content/drive/MyDrive/datasets/eg3d/images/seed48618.png', '/content/drive/MyDrive/datasets/eg3d/images/seed48619.png', '/content/drive/MyDrive/datasets/eg3d/images/seed48620.png', '/content/drive/MyDrive/datasets/eg3d/images/seed48621.png', '/content/drive/MyDrive/datasets/eg3d/images/seed48622.png', '/content/drive/MyDrive/datasets/eg3d/images/seed48623.png', '/content/drive/MyDrive/datasets/eg3d/images/seed48624.png', '/content/drive/MyDrive/datasets/eg3d/images/seed48625.png', '/content/drive/MyDrive/datasets/eg3d/images/seed48626.png', '/content/drive/MyDrive/datasets/eg3d/images/seed48627.png', '/content/drive/MyDrive/datasets/eg3d/images/seed48628.png', '/content/drive/MyDrive/datasets/eg3d/images/seed48629.png', '/content/drive/MyDrive/datasets/eg3d/images/seed48630.png', '/content/drive/MyDrive/datasets/eg3d/images/seed48631.png', '/content/drive/MyDrive/datasets/eg3d/images/seed48632.png', '/content/drive/MyDrive/datasets/eg3d/images/seed48633.png', '/content/drive/MyDrive/datasets/eg3d/images/seed48634.png', '/content/drive/MyDrive/datasets/eg3d/images/seed48635.png', '/content/drive/MyDrive/datasets/eg3d/images/seed48636.png', '/content/drive/MyDrive/datasets/eg3d/images/seed48637.png', '/content/drive/MyDrive/datasets/eg3d/images/seed48638.png', '/content/drive/MyDrive/datasets/eg3d/images/seed48639.png', '/content/drive/MyDrive/datasets/eg3d/images/seed48640.png', '/content/drive/MyDrive/datasets/eg3d/images/seed48641.png', '/content/drive/MyDrive/datasets/eg3d/images/seed48642.png', '/content/drive/MyDrive/datasets/eg3d/images/seed48643.png', '/content/drive/MyDrive/datasets/eg3d/images/seed48644.png', '/content/drive/MyDrive/datasets/eg3d/images/seed48645.png', '/content/drive/MyDrive/datasets/eg3d/images/seed48646.png', '/content/drive/MyDrive/datasets/eg3d/images/seed48647.png', '/content/drive/MyDrive/datasets/eg3d/images/seed48648.png', '/content/drive/MyDrive/datasets/eg3d/images/seed48649.png', '/content/drive/MyDrive/datasets/eg3d/images/seed48650.png', '/content/drive/MyDrive/datasets/eg3d/images/seed48651.png', '/content/drive/MyDrive/datasets/eg3d/images/seed48652.png', '/content/drive/MyDrive/datasets/eg3d/images/seed48653.png', '/content/drive/MyDrive/datasets/eg3d/images/seed48654.png', '/content/drive/MyDrive/datasets/eg3d/images/seed48655.png', '/content/drive/MyDrive/datasets/eg3d/images/seed48656.png', '/content/drive/MyDrive/datasets/eg3d/images/seed48657.png', '/content/drive/MyDrive/datasets/eg3d/images/seed48658.png', '/content/drive/MyDrive/datasets/eg3d/images/seed48659.png', '/content/drive/MyDrive/datasets/eg3d/images/seed48660.png', '/content/drive/MyDrive/datasets/eg3d/images/seed48661.png', '/content/drive/MyDrive/datasets/eg3d/images/seed48662.png', '/content/drive/MyDrive/datasets/eg3d/images/seed48663.png', '/content/drive/MyDrive/datasets/eg3d/images/seed48664.png', '/content/drive/MyDrive/datasets/eg3d/images/seed48665.png', '/content/drive/MyDrive/datasets/eg3d/images/seed48666.png', '/content/drive/MyDrive/datasets/eg3d/images/seed48667.png', '/content/drive/MyDrive/datasets/eg3d/images/seed48668.png', '/content/drive/MyDrive/datasets/eg3d/images/seed48669.png', '/content/drive/MyDrive/datasets/eg3d/images/seed48670.png', '/content/drive/MyDrive/datasets/eg3d/images/seed48671.png', '/content/drive/MyDrive/datasets/eg3d/images/seed48672.png', '/content/drive/MyDrive/datasets/eg3d/images/seed48673.png', '/content/drive/MyDrive/datasets/eg3d/images/seed48674.png', '/content/drive/MyDrive/datasets/eg3d/images/seed48675.png', '/content/drive/MyDrive/datasets/eg3d/images/seed48676.png', '/content/drive/MyDrive/datasets/eg3d/images/seed48677.png', '/content/drive/MyDrive/datasets/eg3d/images/seed48678.png', '/content/drive/MyDrive/datasets/eg3d/images/seed48679.png', '/content/drive/MyDrive/datasets/eg3d/images/seed48680.png', '/content/drive/MyDrive/datasets/eg3d/images/seed48681.png', '/content/drive/MyDrive/datasets/eg3d/images/seed48682.png', '/content/drive/MyDrive/datasets/eg3d/images/seed48683.png', '/content/drive/MyDrive/datasets/eg3d/images/seed48684.png', '/content/drive/MyDrive/datasets/eg3d/images/seed48685.png', '/content/drive/MyDrive/datasets/eg3d/images/seed48686.png', '/content/drive/MyDrive/datasets/eg3d/images/seed48687.png', '/content/drive/MyDrive/datasets/eg3d/images/seed48688.png', '/content/drive/MyDrive/datasets/eg3d/images/seed48689.png', '/content/drive/MyDrive/datasets/eg3d/images/seed48690.png', '/content/drive/MyDrive/datasets/eg3d/images/seed48691.png', '/content/drive/MyDrive/datasets/eg3d/images/seed48692.png', '/content/drive/MyDrive/datasets/eg3d/images/seed48693.png', '/content/drive/MyDrive/datasets/eg3d/images/seed48694.png', '/content/drive/MyDrive/datasets/eg3d/images/seed48695.png', '/content/drive/MyDrive/datasets/eg3d/images/seed48696.png', '/content/drive/MyDrive/datasets/eg3d/images/seed48697.png', '/content/drive/MyDrive/datasets/eg3d/images/seed48698.png', '/content/drive/MyDrive/datasets/eg3d/images/seed48699.png', '/content/drive/MyDrive/datasets/eg3d/images/seed48700.png', '/content/drive/MyDrive/datasets/eg3d/images/seed48701.png', '/content/drive/MyDrive/datasets/eg3d/images/seed48702.png', '/content/drive/MyDrive/datasets/eg3d/images/seed48703.png', '/content/drive/MyDrive/datasets/eg3d/images/seed48704.png', '/content/drive/MyDrive/datasets/eg3d/images/seed48705.png', '/content/drive/MyDrive/datasets/eg3d/images/seed48706.png', '/content/drive/MyDrive/datasets/eg3d/images/seed48707.png', '/content/drive/MyDrive/datasets/eg3d/images/seed48708.png', '/content/drive/MyDrive/datasets/eg3d/images/seed48709.png', '/content/drive/MyDrive/datasets/eg3d/images/seed48710.png', '/content/drive/MyDrive/datasets/eg3d/images/seed48711.png', '/content/drive/MyDrive/datasets/eg3d/images/seed48712.png', '/content/drive/MyDrive/datasets/eg3d/images/seed48713.png', '/content/drive/MyDrive/datasets/eg3d/images/seed48714.png', '/content/drive/MyDrive/datasets/eg3d/images/seed48715.png', '/content/drive/MyDrive/datasets/eg3d/images/seed48716.png', '/content/drive/MyDrive/datasets/eg3d/images/seed48717.png', '/content/drive/MyDrive/datasets/eg3d/images/seed48718.png', '/content/drive/MyDrive/datasets/eg3d/images/seed48719.png', '/content/drive/MyDrive/datasets/eg3d/images/seed48720.png', '/content/drive/MyDrive/datasets/eg3d/images/seed48721.png', '/content/drive/MyDrive/datasets/eg3d/images/seed48722.png', '/content/drive/MyDrive/datasets/eg3d/images/seed48723.png', '/content/drive/MyDrive/datasets/eg3d/images/seed48724.png', '/content/drive/MyDrive/datasets/eg3d/images/seed48725.png', '/content/drive/MyDrive/datasets/eg3d/images/seed48726.png', '/content/drive/MyDrive/datasets/eg3d/images/seed48727.png', '/content/drive/MyDrive/datasets/eg3d/images/seed48728.png', '/content/drive/MyDrive/datasets/eg3d/images/seed48729.png', '/content/drive/MyDrive/datasets/eg3d/images/seed48730.png', '/content/drive/MyDrive/datasets/eg3d/images/seed48731.png', '/content/drive/MyDrive/datasets/eg3d/images/seed48732.png', '/content/drive/MyDrive/datasets/eg3d/images/seed48733.png', '/content/drive/MyDrive/datasets/eg3d/images/seed48734.png', '/content/drive/MyDrive/datasets/eg3d/images/seed48735.png', '/content/drive/MyDrive/datasets/eg3d/images/seed48736.png', '/content/drive/MyDrive/datasets/eg3d/images/seed48737.png', '/content/drive/MyDrive/datasets/eg3d/images/seed48738.png', '/content/drive/MyDrive/datasets/eg3d/images/seed48739.png', '/content/drive/MyDrive/datasets/eg3d/images/seed48740.png', '/content/drive/MyDrive/datasets/eg3d/images/seed48741.png', '/content/drive/MyDrive/datasets/eg3d/images/seed48742.png', '/content/drive/MyDrive/datasets/eg3d/images/seed48743.png', '/content/drive/MyDrive/datasets/eg3d/images/seed48744.png', '/content/drive/MyDrive/datasets/eg3d/images/seed48745.png', '/content/drive/MyDrive/datasets/eg3d/images/seed48746.png', '/content/drive/MyDrive/datasets/eg3d/images/seed48747.png', '/content/drive/MyDrive/datasets/eg3d/images/seed48748.png', '/content/drive/MyDrive/datasets/eg3d/images/seed48749.png', '/content/drive/MyDrive/datasets/eg3d/images/seed48750.png', '/content/drive/MyDrive/datasets/eg3d/images/seed48751.png', '/content/drive/MyDrive/datasets/eg3d/images/seed48752.png', '/content/drive/MyDrive/datasets/eg3d/images/seed48753.png', '/content/drive/MyDrive/datasets/eg3d/images/seed48754.png', '/content/drive/MyDrive/datasets/eg3d/images/seed48755.png', '/content/drive/MyDrive/datasets/eg3d/images/seed48756.png', '/content/drive/MyDrive/datasets/eg3d/images/seed48757.png', '/content/drive/MyDrive/datasets/eg3d/images/seed48758.png', '/content/drive/MyDrive/datasets/eg3d/images/seed48759.png', '/content/drive/MyDrive/datasets/eg3d/images/seed48760.png', '/content/drive/MyDrive/datasets/eg3d/images/seed48761.png', '/content/drive/MyDrive/datasets/eg3d/images/seed48762.png', '/content/drive/MyDrive/datasets/eg3d/images/seed48763.png', '/content/drive/MyDrive/datasets/eg3d/images/seed48764.png', '/content/drive/MyDrive/datasets/eg3d/images/seed48765.png', '/content/drive/MyDrive/datasets/eg3d/images/seed48766.png', '/content/drive/MyDrive/datasets/eg3d/images/seed48767.png', '/content/drive/MyDrive/datasets/eg3d/images/seed48768.png', '/content/drive/MyDrive/datasets/eg3d/images/seed48769.png', '/content/drive/MyDrive/datasets/eg3d/images/seed48770.png', '/content/drive/MyDrive/datasets/eg3d/images/seed48771.png', '/content/drive/MyDrive/datasets/eg3d/images/seed48772.png', '/content/drive/MyDrive/datasets/eg3d/images/seed48773.png', '/content/drive/MyDrive/datasets/eg3d/images/seed48774.png', '/content/drive/MyDrive/datasets/eg3d/images/seed48775.png', '/content/drive/MyDrive/datasets/eg3d/images/seed48776.png', '/content/drive/MyDrive/datasets/eg3d/images/seed48777.png', '/content/drive/MyDrive/datasets/eg3d/images/seed48778.png', '/content/drive/MyDrive/datasets/eg3d/images/seed48779.png', '/content/drive/MyDrive/datasets/eg3d/images/seed48780.png', '/content/drive/MyDrive/datasets/eg3d/images/seed48781.png', '/content/drive/MyDrive/datasets/eg3d/images/seed48782.png', '/content/drive/MyDrive/datasets/eg3d/images/seed48783.png', '/content/drive/MyDrive/datasets/eg3d/images/seed48784.png', '/content/drive/MyDrive/datasets/eg3d/images/seed48785.png', '/content/drive/MyDrive/datasets/eg3d/images/seed48786.png', '/content/drive/MyDrive/datasets/eg3d/images/seed48787.png', '/content/drive/MyDrive/datasets/eg3d/images/seed48788.png', '/content/drive/MyDrive/datasets/eg3d/images/seed48789.png', '/content/drive/MyDrive/datasets/eg3d/images/seed48790.png', '/content/drive/MyDrive/datasets/eg3d/images/seed48791.png', '/content/drive/MyDrive/datasets/eg3d/images/seed48792.png', '/content/drive/MyDrive/datasets/eg3d/images/seed48793.png', '/content/drive/MyDrive/datasets/eg3d/images/seed48794.png', '/content/drive/MyDrive/datasets/eg3d/images/seed48795.png', '/content/drive/MyDrive/datasets/eg3d/images/seed48796.png', '/content/drive/MyDrive/datasets/eg3d/images/seed48797.png', '/content/drive/MyDrive/datasets/eg3d/images/seed48798.png', '/content/drive/MyDrive/datasets/eg3d/images/seed48799.png', '/content/drive/MyDrive/datasets/eg3d/images/seed48800.png', '/content/drive/MyDrive/datasets/eg3d/images/seed48801.png', '/content/drive/MyDrive/datasets/eg3d/images/seed48802.png', '/content/drive/MyDrive/datasets/eg3d/images/seed48803.png', '/content/drive/MyDrive/datasets/eg3d/images/seed48804.png', '/content/drive/MyDrive/datasets/eg3d/images/seed48805.png', '/content/drive/MyDrive/datasets/eg3d/images/seed48806.png', '/content/drive/MyDrive/datasets/eg3d/images/seed48807.png', '/content/drive/MyDrive/datasets/eg3d/images/seed48808.png', '/content/drive/MyDrive/datasets/eg3d/images/seed48809.png', '/content/drive/MyDrive/datasets/eg3d/images/seed48810.png', '/content/drive/MyDrive/datasets/eg3d/images/seed48811.png', '/content/drive/MyDrive/datasets/eg3d/images/seed48812.png', '/content/drive/MyDrive/datasets/eg3d/images/seed48813.png', '/content/drive/MyDrive/datasets/eg3d/images/seed48814.png', '/content/drive/MyDrive/datasets/eg3d/images/seed48815.png', '/content/drive/MyDrive/datasets/eg3d/images/seed48816.png', '/content/drive/MyDrive/datasets/eg3d/images/seed48817.png', '/content/drive/MyDrive/datasets/eg3d/images/seed48818.png', '/content/drive/MyDrive/datasets/eg3d/images/seed48819.png', '/content/drive/MyDrive/datasets/eg3d/images/seed48820.png', '/content/drive/MyDrive/datasets/eg3d/images/seed48821.png', '/content/drive/MyDrive/datasets/eg3d/images/seed48822.png', '/content/drive/MyDrive/datasets/eg3d/images/seed48823.png', '/content/drive/MyDrive/datasets/eg3d/images/seed48824.png', '/content/drive/MyDrive/datasets/eg3d/images/seed48825.png', '/content/drive/MyDrive/datasets/eg3d/images/seed48826.png', '/content/drive/MyDrive/datasets/eg3d/images/seed48827.png', '/content/drive/MyDrive/datasets/eg3d/images/seed48828.png', '/content/drive/MyDrive/datasets/eg3d/images/seed48829.png', '/content/drive/MyDrive/datasets/eg3d/images/seed48830.png', '/content/drive/MyDrive/datasets/eg3d/images/seed48831.png', '/content/drive/MyDrive/datasets/eg3d/images/seed48832.png', '/content/drive/MyDrive/datasets/eg3d/images/seed48833.png', '/content/drive/MyDrive/datasets/eg3d/images/seed48834.png', '/content/drive/MyDrive/datasets/eg3d/images/seed48835.png', '/content/drive/MyDrive/datasets/eg3d/images/seed48836.png', '/content/drive/MyDrive/datasets/eg3d/images/seed48837.png', '/content/drive/MyDrive/datasets/eg3d/images/seed48838.png', '/content/drive/MyDrive/datasets/eg3d/images/seed48839.png', '/content/drive/MyDrive/datasets/eg3d/images/seed48840.png', '/content/drive/MyDrive/datasets/eg3d/images/seed48841.png', '/content/drive/MyDrive/datasets/eg3d/images/seed48842.png', '/content/drive/MyDrive/datasets/eg3d/images/seed48843.png', '/content/drive/MyDrive/datasets/eg3d/images/seed48844.png', '/content/drive/MyDrive/datasets/eg3d/images/seed48845.png', '/content/drive/MyDrive/datasets/eg3d/images/seed48846.png', '/content/drive/MyDrive/datasets/eg3d/images/seed48847.png', '/content/drive/MyDrive/datasets/eg3d/images/seed48848.png', '/content/drive/MyDrive/datasets/eg3d/images/seed48849.png', '/content/drive/MyDrive/datasets/eg3d/images/seed48850.png', '/content/drive/MyDrive/datasets/eg3d/images/seed48851.png', '/content/drive/MyDrive/datasets/eg3d/images/seed48852.png', '/content/drive/MyDrive/datasets/eg3d/images/seed48853.png', '/content/drive/MyDrive/datasets/eg3d/images/seed48854.png', '/content/drive/MyDrive/datasets/eg3d/images/seed48855.png', '/content/drive/MyDrive/datasets/eg3d/images/seed48856.png', '/content/drive/MyDrive/datasets/eg3d/images/seed48857.png', '/content/drive/MyDrive/datasets/eg3d/images/seed48858.png', '/content/drive/MyDrive/datasets/eg3d/images/seed48859.png', '/content/drive/MyDrive/datasets/eg3d/images/seed48860.png', '/content/drive/MyDrive/datasets/eg3d/images/seed48861.png', '/content/drive/MyDrive/datasets/eg3d/images/seed48862.png', '/content/drive/MyDrive/datasets/eg3d/images/seed48863.png', '/content/drive/MyDrive/datasets/eg3d/images/seed48864.png', '/content/drive/MyDrive/datasets/eg3d/images/seed48865.png', '/content/drive/MyDrive/datasets/eg3d/images/seed48866.png', '/content/drive/MyDrive/datasets/eg3d/images/seed48867.png', '/content/drive/MyDrive/datasets/eg3d/images/seed48868.png', '/content/drive/MyDrive/datasets/eg3d/images/seed48869.png', '/content/drive/MyDrive/datasets/eg3d/images/seed48870.png', '/content/drive/MyDrive/datasets/eg3d/images/seed48871.png', '/content/drive/MyDrive/datasets/eg3d/images/seed48872.png', '/content/drive/MyDrive/datasets/eg3d/images/seed48873.png', '/content/drive/MyDrive/datasets/eg3d/images/seed48874.png', '/content/drive/MyDrive/datasets/eg3d/images/seed48875.png', '/content/drive/MyDrive/datasets/eg3d/images/seed48876.png', '/content/drive/MyDrive/datasets/eg3d/images/seed48877.png', '/content/drive/MyDrive/datasets/eg3d/images/seed48878.png', '/content/drive/MyDrive/datasets/eg3d/images/seed48879.png', '/content/drive/MyDrive/datasets/eg3d/images/seed48880.png', '/content/drive/MyDrive/datasets/eg3d/images/seed48881.png', '/content/drive/MyDrive/datasets/eg3d/images/seed48882.png', '/content/drive/MyDrive/datasets/eg3d/images/seed48883.png', '/content/drive/MyDrive/datasets/eg3d/images/seed48884.png', '/content/drive/MyDrive/datasets/eg3d/images/seed48885.png', '/content/drive/MyDrive/datasets/eg3d/images/seed48886.png', '/content/drive/MyDrive/datasets/eg3d/images/seed48887.png', '/content/drive/MyDrive/datasets/eg3d/images/seed48888.png', '/content/drive/MyDrive/datasets/eg3d/images/seed48889.png', '/content/drive/MyDrive/datasets/eg3d/images/seed48890.png', '/content/drive/MyDrive/datasets/eg3d/images/seed48891.png', '/content/drive/MyDrive/datasets/eg3d/images/seed48892.png', '/content/drive/MyDrive/datasets/eg3d/images/seed48893.png', '/content/drive/MyDrive/datasets/eg3d/images/seed48894.png', '/content/drive/MyDrive/datasets/eg3d/images/seed48895.png', '/content/drive/MyDrive/datasets/eg3d/images/seed48896.png', '/content/drive/MyDrive/datasets/eg3d/images/seed48897.png', '/content/drive/MyDrive/datasets/eg3d/images/seed48898.png', '/content/drive/MyDrive/datasets/eg3d/images/seed48899.png', '/content/drive/MyDrive/datasets/eg3d/images/seed48900.png', '/content/drive/MyDrive/datasets/eg3d/images/seed48901.png', '/content/drive/MyDrive/datasets/eg3d/images/seed48902.png', '/content/drive/MyDrive/datasets/eg3d/images/seed48903.png', '/content/drive/MyDrive/datasets/eg3d/images/seed48904.png', '/content/drive/MyDrive/datasets/eg3d/images/seed48905.png', '/content/drive/MyDrive/datasets/eg3d/images/seed48906.png', '/content/drive/MyDrive/datasets/eg3d/images/seed48907.png', '/content/drive/MyDrive/datasets/eg3d/images/seed48908.png', '/content/drive/MyDrive/datasets/eg3d/images/seed48909.png', '/content/drive/MyDrive/datasets/eg3d/images/seed48910.png', '/content/drive/MyDrive/datasets/eg3d/images/seed48911.png', '/content/drive/MyDrive/datasets/eg3d/images/seed48912.png', '/content/drive/MyDrive/datasets/eg3d/images/seed48913.png', '/content/drive/MyDrive/datasets/eg3d/images/seed48914.png', '/content/drive/MyDrive/datasets/eg3d/images/seed48915.png', '/content/drive/MyDrive/datasets/eg3d/images/seed48916.png', '/content/drive/MyDrive/datasets/eg3d/images/seed48917.png', '/content/drive/MyDrive/datasets/eg3d/images/seed48918.png', '/content/drive/MyDrive/datasets/eg3d/images/seed48919.png', '/content/drive/MyDrive/datasets/eg3d/images/seed48920.png', '/content/drive/MyDrive/datasets/eg3d/images/seed48921.png', '/content/drive/MyDrive/datasets/eg3d/images/seed48922.png', '/content/drive/MyDrive/datasets/eg3d/images/seed48923.png', '/content/drive/MyDrive/datasets/eg3d/images/seed48924.png', '/content/drive/MyDrive/datasets/eg3d/images/seed48925.png', '/content/drive/MyDrive/datasets/eg3d/images/seed48926.png', '/content/drive/MyDrive/datasets/eg3d/images/seed48927.png', '/content/drive/MyDrive/datasets/eg3d/images/seed48928.png', '/content/drive/MyDrive/datasets/eg3d/images/seed48929.png', '/content/drive/MyDrive/datasets/eg3d/images/seed48930.png', '/content/drive/MyDrive/datasets/eg3d/images/seed48931.png', '/content/drive/MyDrive/datasets/eg3d/images/seed48932.png', '/content/drive/MyDrive/datasets/eg3d/images/seed48933.png', '/content/drive/MyDrive/datasets/eg3d/images/seed48934.png', '/content/drive/MyDrive/datasets/eg3d/images/seed48935.png', '/content/drive/MyDrive/datasets/eg3d/images/seed48936.png', '/content/drive/MyDrive/datasets/eg3d/images/seed48937.png', '/content/drive/MyDrive/datasets/eg3d/images/seed48938.png', '/content/drive/MyDrive/datasets/eg3d/images/seed48939.png', '/content/drive/MyDrive/datasets/eg3d/images/seed48940.png', '/content/drive/MyDrive/datasets/eg3d/images/seed48941.png', '/content/drive/MyDrive/datasets/eg3d/images/seed48942.png', '/content/drive/MyDrive/datasets/eg3d/images/seed48943.png', '/content/drive/MyDrive/datasets/eg3d/images/seed48944.png', '/content/drive/MyDrive/datasets/eg3d/images/seed48945.png', '/content/drive/MyDrive/datasets/eg3d/images/seed48946.png', '/content/drive/MyDrive/datasets/eg3d/images/seed48947.png', '/content/drive/MyDrive/datasets/eg3d/images/seed48948.png', '/content/drive/MyDrive/datasets/eg3d/images/seed48949.png', '/content/drive/MyDrive/datasets/eg3d/images/seed48950.png', '/content/drive/MyDrive/datasets/eg3d/images/seed48951.png', '/content/drive/MyDrive/datasets/eg3d/images/seed48952.png', '/content/drive/MyDrive/datasets/eg3d/images/seed48953.png', '/content/drive/MyDrive/datasets/eg3d/images/seed48954.png', '/content/drive/MyDrive/datasets/eg3d/images/seed48955.png', '/content/drive/MyDrive/datasets/eg3d/images/seed48956.png', '/content/drive/MyDrive/datasets/eg3d/images/seed48957.png', '/content/drive/MyDrive/datasets/eg3d/images/seed48958.png', '/content/drive/MyDrive/datasets/eg3d/images/seed48959.png', '/content/drive/MyDrive/datasets/eg3d/images/seed48960.png', '/content/drive/MyDrive/datasets/eg3d/images/seed48961.png', '/content/drive/MyDrive/datasets/eg3d/images/seed48962.png', '/content/drive/MyDrive/datasets/eg3d/images/seed48963.png', '/content/drive/MyDrive/datasets/eg3d/images/seed48964.png', '/content/drive/MyDrive/datasets/eg3d/images/seed48965.png', '/content/drive/MyDrive/datasets/eg3d/images/seed48966.png', '/content/drive/MyDrive/datasets/eg3d/images/seed48967.png', '/content/drive/MyDrive/datasets/eg3d/images/seed48968.png', '/content/drive/MyDrive/datasets/eg3d/images/seed48969.png', '/content/drive/MyDrive/datasets/eg3d/images/seed48970.png', '/content/drive/MyDrive/datasets/eg3d/images/seed48971.png', '/content/drive/MyDrive/datasets/eg3d/images/seed48972.png', '/content/drive/MyDrive/datasets/eg3d/images/seed48973.png', '/content/drive/MyDrive/datasets/eg3d/images/seed48974.png', '/content/drive/MyDrive/datasets/eg3d/images/seed48975.png', '/content/drive/MyDrive/datasets/eg3d/images/seed48976.png', '/content/drive/MyDrive/datasets/eg3d/images/seed48977.png', '/content/drive/MyDrive/datasets/eg3d/images/seed48978.png', '/content/drive/MyDrive/datasets/eg3d/images/seed48979.png', '/content/drive/MyDrive/datasets/eg3d/images/seed48980.png', '/content/drive/MyDrive/datasets/eg3d/images/seed48981.png', '/content/drive/MyDrive/datasets/eg3d/images/seed48982.png', '/content/drive/MyDrive/datasets/eg3d/images/seed48983.png', '/content/drive/MyDrive/datasets/eg3d/images/seed48984.png', '/content/drive/MyDrive/datasets/eg3d/images/seed48985.png', '/content/drive/MyDrive/datasets/eg3d/images/seed48986.png', '/content/drive/MyDrive/datasets/eg3d/images/seed48987.png', '/content/drive/MyDrive/datasets/eg3d/images/seed48988.png', '/content/drive/MyDrive/datasets/eg3d/images/seed48989.png', '/content/drive/MyDrive/datasets/eg3d/images/seed48990.png', '/content/drive/MyDrive/datasets/eg3d/images/seed48991.png', '/content/drive/MyDrive/datasets/eg3d/images/seed48992.png', '/content/drive/MyDrive/datasets/eg3d/images/seed48993.png', '/content/drive/MyDrive/datasets/eg3d/images/seed48994.png', '/content/drive/MyDrive/datasets/eg3d/images/seed48995.png', '/content/drive/MyDrive/datasets/eg3d/images/seed48996.png', '/content/drive/MyDrive/datasets/eg3d/images/seed48997.png', '/content/drive/MyDrive/datasets/eg3d/images/seed48998.png', '/content/drive/MyDrive/datasets/eg3d/images/seed48999.png', '/content/drive/MyDrive/datasets/eg3d/images/seed49000.png', '/content/drive/MyDrive/datasets/eg3d/images/seed49001.png', '/content/drive/MyDrive/datasets/eg3d/images/seed49002.png', '/content/drive/MyDrive/datasets/eg3d/images/seed49003.png', '/content/drive/MyDrive/datasets/eg3d/images/seed49004.png', '/content/drive/MyDrive/datasets/eg3d/images/seed49005.png', '/content/drive/MyDrive/datasets/eg3d/images/seed49006.png', '/content/drive/MyDrive/datasets/eg3d/images/seed49007.png', '/content/drive/MyDrive/datasets/eg3d/images/seed49008.png', '/content/drive/MyDrive/datasets/eg3d/images/seed49009.png', '/content/drive/MyDrive/datasets/eg3d/images/seed49010.png', '/content/drive/MyDrive/datasets/eg3d/images/seed49011.png', '/content/drive/MyDrive/datasets/eg3d/images/seed49012.png', '/content/drive/MyDrive/datasets/eg3d/images/seed49013.png', '/content/drive/MyDrive/datasets/eg3d/images/seed49014.png', '/content/drive/MyDrive/datasets/eg3d/images/seed49015.png', '/content/drive/MyDrive/datasets/eg3d/images/seed49016.png', '/content/drive/MyDrive/datasets/eg3d/images/seed49017.png', '/content/drive/MyDrive/datasets/eg3d/images/seed49018.png', '/content/drive/MyDrive/datasets/eg3d/images/seed49019.png', '/content/drive/MyDrive/datasets/eg3d/images/seed49020.png', '/content/drive/MyDrive/datasets/eg3d/images/seed49021.png', '/content/drive/MyDrive/datasets/eg3d/images/seed49022.png', '/content/drive/MyDrive/datasets/eg3d/images/seed49023.png', '/content/drive/MyDrive/datasets/eg3d/images/seed49024.png', '/content/drive/MyDrive/datasets/eg3d/images/seed49025.png', '/content/drive/MyDrive/datasets/eg3d/images/seed49026.png', '/content/drive/MyDrive/datasets/eg3d/images/seed49027.png', '/content/drive/MyDrive/datasets/eg3d/images/seed49028.png', '/content/drive/MyDrive/datasets/eg3d/images/seed49029.png', '/content/drive/MyDrive/datasets/eg3d/images/seed49030.png', '/content/drive/MyDrive/datasets/eg3d/images/seed49031.png', '/content/drive/MyDrive/datasets/eg3d/images/seed49032.png', '/content/drive/MyDrive/datasets/eg3d/images/seed49033.png', '/content/drive/MyDrive/datasets/eg3d/images/seed49034.png', '/content/drive/MyDrive/datasets/eg3d/images/seed49035.png', '/content/drive/MyDrive/datasets/eg3d/images/seed49036.png', '/content/drive/MyDrive/datasets/eg3d/images/seed49037.png', '/content/drive/MyDrive/datasets/eg3d/images/seed49038.png', '/content/drive/MyDrive/datasets/eg3d/images/seed49039.png', '/content/drive/MyDrive/datasets/eg3d/images/seed49040.png', '/content/drive/MyDrive/datasets/eg3d/images/seed49041.png', '/content/drive/MyDrive/datasets/eg3d/images/seed49042.png', '/content/drive/MyDrive/datasets/eg3d/images/seed49043.png', '/content/drive/MyDrive/datasets/eg3d/images/seed49044.png', '/content/drive/MyDrive/datasets/eg3d/images/seed49045.png', '/content/drive/MyDrive/datasets/eg3d/images/seed49046.png', '/content/drive/MyDrive/datasets/eg3d/images/seed49047.png', '/content/drive/MyDrive/datasets/eg3d/images/seed49048.png', '/content/drive/MyDrive/datasets/eg3d/images/seed49049.png', '/content/drive/MyDrive/datasets/eg3d/images/seed49050.png', '/content/drive/MyDrive/datasets/eg3d/images/seed49051.png', '/content/drive/MyDrive/datasets/eg3d/images/seed49052.png', '/content/drive/MyDrive/datasets/eg3d/images/seed49053.png', '/content/drive/MyDrive/datasets/eg3d/images/seed49054.png', '/content/drive/MyDrive/datasets/eg3d/images/seed49055.png', '/content/drive/MyDrive/datasets/eg3d/images/seed49056.png', '/content/drive/MyDrive/datasets/eg3d/images/seed49057.png', '/content/drive/MyDrive/datasets/eg3d/images/seed49058.png', '/content/drive/MyDrive/datasets/eg3d/images/seed49059.png', '/content/drive/MyDrive/datasets/eg3d/images/seed49060.png', '/content/drive/MyDrive/datasets/eg3d/images/seed49061.png', '/content/drive/MyDrive/datasets/eg3d/images/seed49062.png', '/content/drive/MyDrive/datasets/eg3d/images/seed49063.png', '/content/drive/MyDrive/datasets/eg3d/images/seed49064.png', '/content/drive/MyDrive/datasets/eg3d/images/seed49065.png', '/content/drive/MyDrive/datasets/eg3d/images/seed49066.png', '/content/drive/MyDrive/datasets/eg3d/images/seed49067.png', '/content/drive/MyDrive/datasets/eg3d/images/seed49068.png', '/content/drive/MyDrive/datasets/eg3d/images/seed49069.png', '/content/drive/MyDrive/datasets/eg3d/images/seed49070.png', '/content/drive/MyDrive/datasets/eg3d/images/seed49071.png', '/content/drive/MyDrive/datasets/eg3d/images/seed49072.png', '/content/drive/MyDrive/datasets/eg3d/images/seed49073.png', '/content/drive/MyDrive/datasets/eg3d/images/seed49074.png', '/content/drive/MyDrive/datasets/eg3d/images/seed49075.png', '/content/drive/MyDrive/datasets/eg3d/images/seed49076.png', '/content/drive/MyDrive/datasets/eg3d/images/seed49077.png', '/content/drive/MyDrive/datasets/eg3d/images/seed49078.png', '/content/drive/MyDrive/datasets/eg3d/images/seed49079.png', '/content/drive/MyDrive/datasets/eg3d/images/seed49080.png', '/content/drive/MyDrive/datasets/eg3d/images/seed49081.png', '/content/drive/MyDrive/datasets/eg3d/images/seed49082.png', '/content/drive/MyDrive/datasets/eg3d/images/seed49083.png', '/content/drive/MyDrive/datasets/eg3d/images/seed49084.png', '/content/drive/MyDrive/datasets/eg3d/images/seed49085.png', '/content/drive/MyDrive/datasets/eg3d/images/seed49086.png', '/content/drive/MyDrive/datasets/eg3d/images/seed49087.png', '/content/drive/MyDrive/datasets/eg3d/images/seed49088.png', '/content/drive/MyDrive/datasets/eg3d/images/seed49089.png', '/content/drive/MyDrive/datasets/eg3d/images/seed49090.png', '/content/drive/MyDrive/datasets/eg3d/images/seed49091.png', '/content/drive/MyDrive/datasets/eg3d/images/seed49092.png', '/content/drive/MyDrive/datasets/eg3d/images/seed49093.png', '/content/drive/MyDrive/datasets/eg3d/images/seed49094.png', '/content/drive/MyDrive/datasets/eg3d/images/seed49095.png', '/content/drive/MyDrive/datasets/eg3d/images/seed49096.png', '/content/drive/MyDrive/datasets/eg3d/images/seed49097.png', '/content/drive/MyDrive/datasets/eg3d/images/seed49098.png', '/content/drive/MyDrive/datasets/eg3d/images/seed49099.png', '/content/drive/MyDrive/datasets/eg3d/images/seed49100.png', '/content/drive/MyDrive/datasets/eg3d/images/seed49101.png', '/content/drive/MyDrive/datasets/eg3d/images/seed49102.png', '/content/drive/MyDrive/datasets/eg3d/images/seed49103.png', '/content/drive/MyDrive/datasets/eg3d/images/seed49104.png', '/content/drive/MyDrive/datasets/eg3d/images/seed49105.png', '/content/drive/MyDrive/datasets/eg3d/images/seed49106.png', '/content/drive/MyDrive/datasets/eg3d/images/seed49107.png', '/content/drive/MyDrive/datasets/eg3d/images/seed49108.png', '/content/drive/MyDrive/datasets/eg3d/images/seed49109.png', '/content/drive/MyDrive/datasets/eg3d/images/seed49110.png', '/content/drive/MyDrive/datasets/eg3d/images/seed49111.png', '/content/drive/MyDrive/datasets/eg3d/images/seed49112.png', '/content/drive/MyDrive/datasets/eg3d/images/seed49113.png', '/content/drive/MyDrive/datasets/eg3d/images/seed49114.png', '/content/drive/MyDrive/datasets/eg3d/images/seed49115.png', '/content/drive/MyDrive/datasets/eg3d/images/seed49116.png', '/content/drive/MyDrive/datasets/eg3d/images/seed49117.png', '/content/drive/MyDrive/datasets/eg3d/images/seed49118.png', '/content/drive/MyDrive/datasets/eg3d/images/seed49119.png', '/content/drive/MyDrive/datasets/eg3d/images/seed49120.png', '/content/drive/MyDrive/datasets/eg3d/images/seed49121.png', '/content/drive/MyDrive/datasets/eg3d/images/seed49122.png', '/content/drive/MyDrive/datasets/eg3d/images/seed49123.png', '/content/drive/MyDrive/datasets/eg3d/images/seed49124.png', '/content/drive/MyDrive/datasets/eg3d/images/seed49125.png', '/content/drive/MyDrive/datasets/eg3d/images/seed49126.png', '/content/drive/MyDrive/datasets/eg3d/images/seed49127.png', '/content/drive/MyDrive/datasets/eg3d/images/seed49128.png', '/content/drive/MyDrive/datasets/eg3d/images/seed49129.png', '/content/drive/MyDrive/datasets/eg3d/images/seed49130.png', '/content/drive/MyDrive/datasets/eg3d/images/seed49131.png', '/content/drive/MyDrive/datasets/eg3d/images/seed49132.png', '/content/drive/MyDrive/datasets/eg3d/images/seed49133.png', '/content/drive/MyDrive/datasets/eg3d/images/seed49134.png', '/content/drive/MyDrive/datasets/eg3d/images/seed49135.png', '/content/drive/MyDrive/datasets/eg3d/images/seed49136.png', '/content/drive/MyDrive/datasets/eg3d/images/seed49137.png', '/content/drive/MyDrive/datasets/eg3d/images/seed49138.png', '/content/drive/MyDrive/datasets/eg3d/images/seed49139.png', '/content/drive/MyDrive/datasets/eg3d/images/seed49140.png', '/content/drive/MyDrive/datasets/eg3d/images/seed49141.png', '/content/drive/MyDrive/datasets/eg3d/images/seed49142.png', '/content/drive/MyDrive/datasets/eg3d/images/seed49143.png', '/content/drive/MyDrive/datasets/eg3d/images/seed49144.png', '/content/drive/MyDrive/datasets/eg3d/images/seed49145.png', '/content/drive/MyDrive/datasets/eg3d/images/seed49146.png', '/content/drive/MyDrive/datasets/eg3d/images/seed49147.png', '/content/drive/MyDrive/datasets/eg3d/images/seed49148.png', '/content/drive/MyDrive/datasets/eg3d/images/seed49149.png', '/content/drive/MyDrive/datasets/eg3d/images/seed49150.png', '/content/drive/MyDrive/datasets/eg3d/images/seed49151.png', '/content/drive/MyDrive/datasets/eg3d/images/seed49152.png', '/content/drive/MyDrive/datasets/eg3d/images/seed49153.png', '/content/drive/MyDrive/datasets/eg3d/images/seed49154.png', '/content/drive/MyDrive/datasets/eg3d/images/seed49155.png', '/content/drive/MyDrive/datasets/eg3d/images/seed49156.png', '/content/drive/MyDrive/datasets/eg3d/images/seed49157.png', '/content/drive/MyDrive/datasets/eg3d/images/seed49158.png', '/content/drive/MyDrive/datasets/eg3d/images/seed49159.png', '/content/drive/MyDrive/datasets/eg3d/images/seed49160.png', '/content/drive/MyDrive/datasets/eg3d/images/seed49161.png', '/content/drive/MyDrive/datasets/eg3d/images/seed49162.png', '/content/drive/MyDrive/datasets/eg3d/images/seed49163.png', '/content/drive/MyDrive/datasets/eg3d/images/seed49164.png', '/content/drive/MyDrive/datasets/eg3d/images/seed49165.png', '/content/drive/MyDrive/datasets/eg3d/images/seed49166.png', '/content/drive/MyDrive/datasets/eg3d/images/seed49167.png', '/content/drive/MyDrive/datasets/eg3d/images/seed49168.png', '/content/drive/MyDrive/datasets/eg3d/images/seed49169.png', '/content/drive/MyDrive/datasets/eg3d/images/seed49170.png', '/content/drive/MyDrive/datasets/eg3d/images/seed49171.png', '/content/drive/MyDrive/datasets/eg3d/images/seed49172.png', '/content/drive/MyDrive/datasets/eg3d/images/seed49173.png', '/content/drive/MyDrive/datasets/eg3d/images/seed49174.png', '/content/drive/MyDrive/datasets/eg3d/images/seed49175.png', '/content/drive/MyDrive/datasets/eg3d/images/seed49176.png', '/content/drive/MyDrive/datasets/eg3d/images/seed49177.png', '/content/drive/MyDrive/datasets/eg3d/images/seed49178.png', '/content/drive/MyDrive/datasets/eg3d/images/seed49179.png', '/content/drive/MyDrive/datasets/eg3d/images/seed49180.png', '/content/drive/MyDrive/datasets/eg3d/images/seed49181.png', '/content/drive/MyDrive/datasets/eg3d/images/seed49182.png', '/content/drive/MyDrive/datasets/eg3d/images/seed49183.png', '/content/drive/MyDrive/datasets/eg3d/images/seed49184.png', '/content/drive/MyDrive/datasets/eg3d/images/seed49185.png', '/content/drive/MyDrive/datasets/eg3d/images/seed49186.png', '/content/drive/MyDrive/datasets/eg3d/images/seed49187.png', '/content/drive/MyDrive/datasets/eg3d/images/seed49188.png', '/content/drive/MyDrive/datasets/eg3d/images/seed49189.png', '/content/drive/MyDrive/datasets/eg3d/images/seed49190.png', '/content/drive/MyDrive/datasets/eg3d/images/seed49191.png', '/content/drive/MyDrive/datasets/eg3d/images/seed49192.png', '/content/drive/MyDrive/datasets/eg3d/images/seed49193.png', '/content/drive/MyDrive/datasets/eg3d/images/seed49194.png', '/content/drive/MyDrive/datasets/eg3d/images/seed49195.png', '/content/drive/MyDrive/datasets/eg3d/images/seed49196.png', '/content/drive/MyDrive/datasets/eg3d/images/seed49197.png', '/content/drive/MyDrive/datasets/eg3d/images/seed49198.png', '/content/drive/MyDrive/datasets/eg3d/images/seed49199.png', '/content/drive/MyDrive/datasets/eg3d/images/seed49200.png', '/content/drive/MyDrive/datasets/eg3d/images/seed49201.png', '/content/drive/MyDrive/datasets/eg3d/images/seed49202.png', '/content/drive/MyDrive/datasets/eg3d/images/seed49203.png', '/content/drive/MyDrive/datasets/eg3d/images/seed49204.png', '/content/drive/MyDrive/datasets/eg3d/images/seed49205.png', '/content/drive/MyDrive/datasets/eg3d/images/seed49206.png', '/content/drive/MyDrive/datasets/eg3d/images/seed49207.png', '/content/drive/MyDrive/datasets/eg3d/images/seed49208.png', '/content/drive/MyDrive/datasets/eg3d/images/seed49209.png', '/content/drive/MyDrive/datasets/eg3d/images/seed49210.png', '/content/drive/MyDrive/datasets/eg3d/images/seed49211.png', '/content/drive/MyDrive/datasets/eg3d/images/seed49212.png', '/content/drive/MyDrive/datasets/eg3d/images/seed49213.png', '/content/drive/MyDrive/datasets/eg3d/images/seed49214.png', '/content/drive/MyDrive/datasets/eg3d/images/seed49215.png', '/content/drive/MyDrive/datasets/eg3d/images/seed49216.png', '/content/drive/MyDrive/datasets/eg3d/images/seed49217.png', '/content/drive/MyDrive/datasets/eg3d/images/seed49218.png', '/content/drive/MyDrive/datasets/eg3d/images/seed49219.png', '/content/drive/MyDrive/datasets/eg3d/images/seed49220.png', '/content/drive/MyDrive/datasets/eg3d/images/seed49221.png', '/content/drive/MyDrive/datasets/eg3d/images/seed49222.png', '/content/drive/MyDrive/datasets/eg3d/images/seed49223.png', '/content/drive/MyDrive/datasets/eg3d/images/seed49224.png', '/content/drive/MyDrive/datasets/eg3d/images/seed49225.png', '/content/drive/MyDrive/datasets/eg3d/images/seed49226.png', '/content/drive/MyDrive/datasets/eg3d/images/seed49227.png', '/content/drive/MyDrive/datasets/eg3d/images/seed49228.png', '/content/drive/MyDrive/datasets/eg3d/images/seed49229.png', '/content/drive/MyDrive/datasets/eg3d/images/seed49230.png', '/content/drive/MyDrive/datasets/eg3d/images/seed49231.png', '/content/drive/MyDrive/datasets/eg3d/images/seed49232.png', '/content/drive/MyDrive/datasets/eg3d/images/seed49233.png', '/content/drive/MyDrive/datasets/eg3d/images/seed49234.png', '/content/drive/MyDrive/datasets/eg3d/images/seed49235.png', '/content/drive/MyDrive/datasets/eg3d/images/seed49236.png', '/content/drive/MyDrive/datasets/eg3d/images/seed49237.png', '/content/drive/MyDrive/datasets/eg3d/images/seed49238.png', '/content/drive/MyDrive/datasets/eg3d/images/seed49239.png', '/content/drive/MyDrive/datasets/eg3d/images/seed49240.png', '/content/drive/MyDrive/datasets/eg3d/images/seed49241.png', '/content/drive/MyDrive/datasets/eg3d/images/seed49242.png', '/content/drive/MyDrive/datasets/eg3d/images/seed49243.png', '/content/drive/MyDrive/datasets/eg3d/images/seed49244.png', '/content/drive/MyDrive/datasets/eg3d/images/seed49245.png', '/content/drive/MyDrive/datasets/eg3d/images/seed49246.png', '/content/drive/MyDrive/datasets/eg3d/images/seed49247.png', '/content/drive/MyDrive/datasets/eg3d/images/seed49248.png', '/content/drive/MyDrive/datasets/eg3d/images/seed49249.png', '/content/drive/MyDrive/datasets/eg3d/images/seed49250.png', '/content/drive/MyDrive/datasets/eg3d/images/seed49251.png', '/content/drive/MyDrive/datasets/eg3d/images/seed49252.png', '/content/drive/MyDrive/datasets/eg3d/images/seed49253.png', '/content/drive/MyDrive/datasets/eg3d/images/seed49254.png', '/content/drive/MyDrive/datasets/eg3d/images/seed49255.png', '/content/drive/MyDrive/datasets/eg3d/images/seed49256.png', '/content/drive/MyDrive/datasets/eg3d/images/seed49257.png', '/content/drive/MyDrive/datasets/eg3d/images/seed49258.png', '/content/drive/MyDrive/datasets/eg3d/images/seed49259.png', '/content/drive/MyDrive/datasets/eg3d/images/seed49260.png', '/content/drive/MyDrive/datasets/eg3d/images/seed49261.png', '/content/drive/MyDrive/datasets/eg3d/images/seed49262.png', '/content/drive/MyDrive/datasets/eg3d/images/seed49263.png', '/content/drive/MyDrive/datasets/eg3d/images/seed49264.png', '/content/drive/MyDrive/datasets/eg3d/images/seed49265.png', '/content/drive/MyDrive/datasets/eg3d/images/seed49266.png', '/content/drive/MyDrive/datasets/eg3d/images/seed49267.png', '/content/drive/MyDrive/datasets/eg3d/images/seed49268.png', '/content/drive/MyDrive/datasets/eg3d/images/seed49269.png', '/content/drive/MyDrive/datasets/eg3d/images/seed49270.png', '/content/drive/MyDrive/datasets/eg3d/images/seed49271.png', '/content/drive/MyDrive/datasets/eg3d/images/seed49272.png', '/content/drive/MyDrive/datasets/eg3d/images/seed49273.png', '/content/drive/MyDrive/datasets/eg3d/images/seed49274.png', '/content/drive/MyDrive/datasets/eg3d/images/seed49275.png', '/content/drive/MyDrive/datasets/eg3d/images/seed49276.png', '/content/drive/MyDrive/datasets/eg3d/images/seed49277.png', '/content/drive/MyDrive/datasets/eg3d/images/seed49278.png', '/content/drive/MyDrive/datasets/eg3d/images/seed49279.png', '/content/drive/MyDrive/datasets/eg3d/images/seed49280.png', '/content/drive/MyDrive/datasets/eg3d/images/seed49281.png', '/content/drive/MyDrive/datasets/eg3d/images/seed49282.png', '/content/drive/MyDrive/datasets/eg3d/images/seed49283.png', '/content/drive/MyDrive/datasets/eg3d/images/seed49284.png', '/content/drive/MyDrive/datasets/eg3d/images/seed49285.png', '/content/drive/MyDrive/datasets/eg3d/images/seed49286.png', '/content/drive/MyDrive/datasets/eg3d/images/seed49287.png', '/content/drive/MyDrive/datasets/eg3d/images/seed49288.png', '/content/drive/MyDrive/datasets/eg3d/images/seed49289.png', '/content/drive/MyDrive/datasets/eg3d/images/seed49290.png', '/content/drive/MyDrive/datasets/eg3d/images/seed49291.png', '/content/drive/MyDrive/datasets/eg3d/images/seed49292.png', '/content/drive/MyDrive/datasets/eg3d/images/seed49293.png', '/content/drive/MyDrive/datasets/eg3d/images/seed49294.png', '/content/drive/MyDrive/datasets/eg3d/images/seed49295.png', '/content/drive/MyDrive/datasets/eg3d/images/seed49296.png', '/content/drive/MyDrive/datasets/eg3d/images/seed49297.png', '/content/drive/MyDrive/datasets/eg3d/images/seed49298.png', '/content/drive/MyDrive/datasets/eg3d/images/seed49299.png', '/content/drive/MyDrive/datasets/eg3d/images/seed49300.png', '/content/drive/MyDrive/datasets/eg3d/images/seed49301.png', '/content/drive/MyDrive/datasets/eg3d/images/seed49302.png', '/content/drive/MyDrive/datasets/eg3d/images/seed49303.png', '/content/drive/MyDrive/datasets/eg3d/images/seed49304.png', '/content/drive/MyDrive/datasets/eg3d/images/seed49305.png', '/content/drive/MyDrive/datasets/eg3d/images/seed49306.png', '/content/drive/MyDrive/datasets/eg3d/images/seed49307.png', '/content/drive/MyDrive/datasets/eg3d/images/seed49308.png', '/content/drive/MyDrive/datasets/eg3d/images/seed49309.png', '/content/drive/MyDrive/datasets/eg3d/images/seed49310.png', '/content/drive/MyDrive/datasets/eg3d/images/seed49311.png', '/content/drive/MyDrive/datasets/eg3d/images/seed49312.png', '/content/drive/MyDrive/datasets/eg3d/images/seed49313.png', '/content/drive/MyDrive/datasets/eg3d/images/seed49314.png', '/content/drive/MyDrive/datasets/eg3d/images/seed49315.png', '/content/drive/MyDrive/datasets/eg3d/images/seed49316.png', '/content/drive/MyDrive/datasets/eg3d/images/seed49317.png', '/content/drive/MyDrive/datasets/eg3d/images/seed49318.png', '/content/drive/MyDrive/datasets/eg3d/images/seed49319.png', '/content/drive/MyDrive/datasets/eg3d/images/seed49320.png', '/content/drive/MyDrive/datasets/eg3d/images/seed49321.png', '/content/drive/MyDrive/datasets/eg3d/images/seed49322.png', '/content/drive/MyDrive/datasets/eg3d/images/seed49323.png', '/content/drive/MyDrive/datasets/eg3d/images/seed49324.png', '/content/drive/MyDrive/datasets/eg3d/images/seed49325.png', '/content/drive/MyDrive/datasets/eg3d/images/seed49326.png', '/content/drive/MyDrive/datasets/eg3d/images/seed49327.png', '/content/drive/MyDrive/datasets/eg3d/images/seed49328.png', '/content/drive/MyDrive/datasets/eg3d/images/seed49329.png', '/content/drive/MyDrive/datasets/eg3d/images/seed49330.png', '/content/drive/MyDrive/datasets/eg3d/images/seed49331.png', '/content/drive/MyDrive/datasets/eg3d/images/seed49332.png', '/content/drive/MyDrive/datasets/eg3d/images/seed49333.png', '/content/drive/MyDrive/datasets/eg3d/images/seed49334.png', '/content/drive/MyDrive/datasets/eg3d/images/seed49335.png', '/content/drive/MyDrive/datasets/eg3d/images/seed49336.png', '/content/drive/MyDrive/datasets/eg3d/images/seed49337.png', '/content/drive/MyDrive/datasets/eg3d/images/seed49338.png', '/content/drive/MyDrive/datasets/eg3d/images/seed49339.png', '/content/drive/MyDrive/datasets/eg3d/images/seed49340.png', '/content/drive/MyDrive/datasets/eg3d/images/seed49341.png', '/content/drive/MyDrive/datasets/eg3d/images/seed49342.png', '/content/drive/MyDrive/datasets/eg3d/images/seed49343.png', '/content/drive/MyDrive/datasets/eg3d/images/seed49344.png', '/content/drive/MyDrive/datasets/eg3d/images/seed49345.png', '/content/drive/MyDrive/datasets/eg3d/images/seed49346.png', '/content/drive/MyDrive/datasets/eg3d/images/seed49347.png', '/content/drive/MyDrive/datasets/eg3d/images/seed49348.png', '/content/drive/MyDrive/datasets/eg3d/images/seed49349.png', '/content/drive/MyDrive/datasets/eg3d/images/seed49350.png', '/content/drive/MyDrive/datasets/eg3d/images/seed49351.png', '/content/drive/MyDrive/datasets/eg3d/images/seed49352.png', '/content/drive/MyDrive/datasets/eg3d/images/seed49353.png', '/content/drive/MyDrive/datasets/eg3d/images/seed49354.png', '/content/drive/MyDrive/datasets/eg3d/images/seed49355.png', '/content/drive/MyDrive/datasets/eg3d/images/seed49356.png', '/content/drive/MyDrive/datasets/eg3d/images/seed49357.png', '/content/drive/MyDrive/datasets/eg3d/images/seed49358.png', '/content/drive/MyDrive/datasets/eg3d/images/seed49359.png', '/content/drive/MyDrive/datasets/eg3d/images/seed49360.png', '/content/drive/MyDrive/datasets/eg3d/images/seed49361.png', '/content/drive/MyDrive/datasets/eg3d/images/seed49362.png', '/content/drive/MyDrive/datasets/eg3d/images/seed49363.png', '/content/drive/MyDrive/datasets/eg3d/images/seed49364.png', '/content/drive/MyDrive/datasets/eg3d/images/seed49365.png', '/content/drive/MyDrive/datasets/eg3d/images/seed49366.png', '/content/drive/MyDrive/datasets/eg3d/images/seed49367.png', '/content/drive/MyDrive/datasets/eg3d/images/seed49368.png', '/content/drive/MyDrive/datasets/eg3d/images/seed49369.png', '/content/drive/MyDrive/datasets/eg3d/images/seed49370.png', '/content/drive/MyDrive/datasets/eg3d/images/seed49371.png', '/content/drive/MyDrive/datasets/eg3d/images/seed49372.png', '/content/drive/MyDrive/datasets/eg3d/images/seed49373.png', '/content/drive/MyDrive/datasets/eg3d/images/seed49374.png', '/content/drive/MyDrive/datasets/eg3d/images/seed49375.png', '/content/drive/MyDrive/datasets/eg3d/images/seed49376.png', '/content/drive/MyDrive/datasets/eg3d/images/seed49377.png', '/content/drive/MyDrive/datasets/eg3d/images/seed49378.png', '/content/drive/MyDrive/datasets/eg3d/images/seed49379.png', '/content/drive/MyDrive/datasets/eg3d/images/seed49380.png', '/content/drive/MyDrive/datasets/eg3d/images/seed49381.png', '/content/drive/MyDrive/datasets/eg3d/images/seed49382.png', '/content/drive/MyDrive/datasets/eg3d/images/seed49383.png', '/content/drive/MyDrive/datasets/eg3d/images/seed49384.png', '/content/drive/MyDrive/datasets/eg3d/images/seed49385.png', '/content/drive/MyDrive/datasets/eg3d/images/seed49386.png', '/content/drive/MyDrive/datasets/eg3d/images/seed49387.png', '/content/drive/MyDrive/datasets/eg3d/images/seed49388.png', '/content/drive/MyDrive/datasets/eg3d/images/seed49389.png', '/content/drive/MyDrive/datasets/eg3d/images/seed49390.png', '/content/drive/MyDrive/datasets/eg3d/images/seed49391.png', '/content/drive/MyDrive/datasets/eg3d/images/seed49392.png', '/content/drive/MyDrive/datasets/eg3d/images/seed49393.png', '/content/drive/MyDrive/datasets/eg3d/images/seed49394.png', '/content/drive/MyDrive/datasets/eg3d/images/seed49395.png', '/content/drive/MyDrive/datasets/eg3d/images/seed49396.png', '/content/drive/MyDrive/datasets/eg3d/images/seed49397.png', '/content/drive/MyDrive/datasets/eg3d/images/seed49398.png', '/content/drive/MyDrive/datasets/eg3d/images/seed49399.png']\n",
            "Validation set ---> 1600 samples\n"
          ]
        }
      ],
      "source": [
        "#@markdown Save your img files and gt latent code $ \\to\\ $ '/content/val.npy' and '/content/val_gt.npy'\n",
        "import os\n",
        "paths = [] # image paths\n",
        "gt_paths = []\n",
        "#path = '/content/drive/MyDrive/datasets/FFHQ/00000/'\n",
        "path = '/content/drive/MyDrive/datasets/eg3d/images'\n",
        "#path = '/content/drive/MyDrive/datasets/prosopo_new/input/'\n",
        "\n",
        "'''\n",
        "for i, img_path in enumerate(sorted(os.listdir(path), reverse=False)):\n",
        "  if i >=48000:\n",
        "    fullpath = os.path.join(path, img_path)\n",
        "    paths.append(fullpath)\n",
        "    #gt_paths.append(fullpath.replace('images', 'latent').replace('png', 'npy'))\n",
        "    gt_paths.append(fullpath.replace('input', 'latent').replace('png', 'npy'))\n",
        "\n",
        "  if len(paths) > 1600:\n",
        "    break\n",
        "    \n",
        "'''\n",
        "paths = []\n",
        "gt_paths = []\n",
        "for i in range(47800, 49400):\n",
        "  fullpath = os.path.join(path, f'seed{i:04d}.png')\n",
        "  paths.append(fullpath)\n",
        "  gt_paths.append(fullpath.replace('images', 'latent').replace('png', 'npy'))\n",
        "\n",
        "\n",
        "np.save('/content/val.npy', paths)\n",
        "np.save('/content/val_gt.npy', gt_paths)\n",
        "print(paths)\n",
        "print(\"Validation set ---> {} samples\".format(len(paths)))"
      ]
    },
    {
      "cell_type": "code",
      "execution_count": null,
      "metadata": {
        "cellView": "form",
        "colab": {
          "base_uri": "https://localhost:8080/"
        },
        "id": "SUtb9LUIE7_v",
        "outputId": "0f959757-3545-4c09-bdeb-05d3912a8819"
      },
      "outputs": [
        {
          "name": "stdout",
          "output_type": "stream",
          "text": [
            "/content/MiDaS\n",
            "device: cuda\n",
            "Not enough GPU memory to vaidate on large batch size\n"
          ]
        },
        {
          "name": "stderr",
          "output_type": "stream",
          "text": [
            "100%|██████████| 1600/1600 [20:36<00:00,  1.29it/s]"
          ]
        },
        {
          "name": "stdout",
          "output_type": "stream",
          "text": [
            "\n",
            " Perfects: 0 Out of: 1600\n",
            "\n",
            " Total loss:  0.28304624557495117\n"
          ]
        },
        {
          "name": "stderr",
          "output_type": "stream",
          "text": [
            "\n"
          ]
        }
      ],
      "source": [
        "### Evaluate model\n",
        "from torchvision.transforms import Compose\n",
        "import torch.optim as optim\n",
        "import torch.nn as nn\n",
        "import torch\n",
        "from tqdm import tqdm\n",
        "from matplotlib import pyplot as plt\n",
        "from torchvision.transforms import Compose\n",
        "import torch.optim as optim\n",
        "import torch.nn as nn\n",
        "import torch\n",
        "import os\n",
        "import cv2\n",
        "import numpy as np\n",
        "import PIL\n",
        "from torchvision import transforms\n",
        "\n",
        "\n",
        "\n",
        "# Load image\n",
        "transform = transforms.Compose([\n",
        "    transforms.Resize((384, 384)), \n",
        "    transforms.ToTensor(),\n",
        "    transforms.Normalize(0.5, 0.5),\n",
        "])\n",
        "\n",
        "\n",
        "model_path =  \"/content/drive/MyDrive/eg3d/experiments/VIT_latent_train48000_samples_depth12/b5_e20_weights_ckp_2.pt\"#@param {type: \"string\"}\n",
        "img_path = '/content/drive/MyDrive/datasets/prosopo/input/mein/monalisa.jpg' #@param {type: \"string\"}\n",
        "gt_path = '/content/drive/MyDrive/datasets/prosopo/input/mein/monalisa_gt.jpg' #@param {type: \"string\"}\n",
        "#@markdown or give a path to a list of images\n",
        "img_list_path = \"/content/val.npy\" #@param {type: \"string\"}\n",
        "gt_list_path = \"/content/val_gt.npy\" #@param {type: \"string\"}\n",
        "#output_root = '/content/drive/MyDrive/eg3d/output/' \n",
        "output_root = '/'.join(model_path.split('/')[:-1])\n",
        "#@markdown Save results?\n",
        "save = False #@param {type:\"boolean\"}\n",
        "\n",
        "\n",
        "\n",
        "\n",
        "# select device\n",
        "device = torch.device(\"cuda\" if torch.cuda.is_available() else \"cpu\")\n",
        "print(\"device: %s\" % device)\n",
        "\n",
        "# load network\n",
        "try:\n",
        "  model.load_state_dict(torch.load(model_path, map_location=device)) #model architeture is selected above\n",
        "  model.eval()\n",
        "  model.to(device)\n",
        "except:\n",
        "  raise Exception('Model architecture and model weights did not match! Are you using the corrrect model?')\n",
        "\n",
        "\n",
        "try:\n",
        "  image_paths = np.load(img_list_path, allow_pickle=True)\n",
        "  gt_paths = np.load(gt_list_path, allow_pickle=True)\n",
        "except:\n",
        "    try:\n",
        "      image_paths = np.load(img_list_path, allow_pickle=True).item()['valX']\n",
        "      gt_paths = np.load(img_list_path, allow_pickle=True).item()['valY']\n",
        "    except:\n",
        "      image_paths = [img_path, ]\n",
        "      gt_paths = [gt_path, ]\n",
        "\n",
        "\n",
        "l1_loss = nn.L1Loss(reduction='mean') # l1-loss\n",
        "testX = np.array(image_paths).reshape( len(image_paths), 1)\n",
        "testY = np.array(gt_paths).reshape( len(gt_paths), 1)\n",
        "try:\n",
        "  tot_loss = validate(model=model, X=testX, Y=testY, criterion=l1_loss)\n",
        "  print(\"Mean L1-loss is:\", tot_loss.item()/len(testX))\n",
        "except:\n",
        "  print(\"Not enough GPU memory to vaidate on large batch size\")\n",
        "\n",
        "\n",
        "\n",
        "\n",
        "\n",
        "# counter for perfect results\n",
        "perfect = 0 \n",
        "tot_loss = 0\n",
        "\n",
        "with torch.no_grad():\n",
        "  for i in tqdm(range(len(image_paths))):\n",
        "    # get current gt and img path\n",
        "    img_path = image_paths[i]\n",
        "    gt_path = gt_paths[i]\n",
        "    img = PIL.Image.open(img_path)\n",
        "    img_input = transform(img).cpu().detach().numpy()\n",
        "    input = torch.from_numpy(img_input).to(device).unsqueeze(0)\n",
        "    prediction = model(input)\n",
        "    prediction_np = prediction.squeeze().cpu().numpy().transpose() # convert to (1, 14, 512)\n",
        "    \n",
        "    # gt\n",
        "    gt_np = np.load(gt_path, allow_pickle=True)\n",
        "    gt_vec = gt_np.flatten()\n",
        "    gt_np = transform_latent(gt_np) # comment for UNET-modified model\n",
        "    gt = torch.tensor(gt_vec).to(device).unsqueeze(0)\n",
        "    img_name = 'out'\n",
        "    #filename = os.path.join(\n",
        "    #os.path.join(output_root,example), os.path.splitext(os.path.basename(img_name))[0])\n",
        "    #output_path = filename + '.png'\n",
        "    sample_loss = l1_loss(prediction, gt)\n",
        "    if sample_loss < 0.20:\n",
        "      perfect = perfect + 1\n",
        "      #print(f'Sample loss ({i})', sample_loss.item())\n",
        "    tot_loss = tot_loss + sample_loss\n",
        "\n",
        "    if save:\n",
        "      os.makedirs(os.path.join(output_root, example), exist_ok=True)\n",
        "      #save input image\n",
        "      PIL.Image.open(img_path).save(output_path.replace('out', 'input'))\n",
        "      # save gt depth map\n",
        "      PIL.Image.open(gt_path).save(output_path.replace('out', 'gt'))\n",
        "\n",
        "\n",
        "print('\\n', \"Perfects:\", perfect, \"Out of:\", len(image_paths))\n",
        "print('\\n', \"Total loss:  {}\".format(tot_loss/i))\n"
      ]
    },
    {
      "cell_type": "markdown",
      "metadata": {
        "id": "0h-jYbgv-Quz"
      },
      "source": [
        "## Dump"
      ]
    },
    {
      "cell_type": "code",
      "execution_count": null,
      "metadata": {
        "id": "7tzFI45-FQzt"
      },
      "outputs": [],
      "source": [
        "### Check Model parameters\n",
        "p =  []\n",
        "for name, param in model.named_parameters():\n",
        "  if name == 'pretrained.model.patch_embed.proj.weight':\n",
        "    a_param = param.detach().cpu().numpy()  "
      ]
    },
    {
      "cell_type": "code",
      "execution_count": null,
      "metadata": {
        "colab": {
          "base_uri": "https://localhost:8080/",
          "height": 285
        },
        "id": "k28hrCsiUJti",
        "outputId": "d59cd37a-69a2-4588-f078-b64d9a47cdf5"
      },
      "outputs": [
        {
          "data": {
            "text/plain": [
              "<matplotlib.image.AxesImage at 0x7f553bf2fe90>"
            ]
          },
          "execution_count": 28,
          "metadata": {},
          "output_type": "execute_result"
        },
        {
          "data": {
            "image/png": "[encoded data removed]",
            "text/plain": [
              "<Figure size 432x288 with 1 Axes>"
            ]
          },
          "metadata": {},
          "output_type": "display_data"
        }
      ],
      "source": [
        "import torch\n",
        "input = torch.load('/content/input.pt')\n",
        "out = torch.load('/content/gt.pt')\n",
        "from matplotlib import pyplot as plt\n",
        "inp = np.moveaxis(input.detach().cpu().numpy(), 0 , -1)\n",
        "norm_inp = (inp+1)/2 # normalize from [-1, 1] to [0, 1]\n",
        "plt.imsave(\"/content/input.png\", norm_inp)\n",
        "plt.imshow(out.detach().cpu().numpy(), cmap='gray')"
      ]
    },
    {
      "cell_type": "code",
      "execution_count": null,
      "metadata": {
        "id": "UJjUci4uXzqe"
      },
      "outputs": [],
      "source": [
        "from midas.transforms import Resize, NormalizeImage, PrepareForNet\n",
        "depth_path = '/content/drive/MyDrive/datasets/eg3d/depth128x128/seed0001.png'\n",
        "gt_np = utils.read_image(depth_path)\n",
        "r = Resize(width=512, height=512, resize_target=False)"
      ]
    },
    {
      "cell_type": "code",
      "execution_count": null,
      "metadata": {
        "colab": {
          "base_uri": "https://localhost:8080/",
          "height": 285
        },
        "id": "fyNbDcheXwsG",
        "outputId": "74f1ea1b-0aa7-4acf-a899-7c17d00bb5d8"
      },
      "outputs": [
        {
          "data": {
            "text/plain": [
              "<matplotlib.image.AxesImage at 0x7feb5bcdbad0>"
            ]
          },
          "execution_count": 18,
          "metadata": {},
          "output_type": "execute_result"
        },
        {
          "data": {
            "image/png": "[encoded data removed]",
            "text/plain": [
              "<Figure size 432x288 with 1 Axes>"
            ]
          },
          "metadata": {},
          "output_type": "display_data"
        }
      ],
      "source": [
        "from matplotlib import pyplot as plt\n",
        "fig = plt.figure()\n",
        "img = {'image': gt_np}\n",
        "resized_np = r(img)\n",
        "plt.imshow(gt_np[:, :, 2], cmap='gray')"
      ]
    },
    {
      "cell_type": "code",
      "execution_count": null,
      "metadata": {
        "colab": {
          "base_uri": "https://localhost:8080/",
          "height": 286
        },
        "id": "RFhBXWVsazqW",
        "outputId": "16087ff9-5c5e-487d-e631-4f5f05a751df"
      },
      "outputs": [
        {
          "data": {
            "text/plain": [
              "<matplotlib.image.AxesImage at 0x7feb5bcc8b10>"
            ]
          },
          "execution_count": 19,
          "metadata": {},
          "output_type": "execute_result"
        },
        {
          "data": {
            "image/png": "[encoded data removed]",
            "text/plain": [
              "<Figure size 432x288 with 1 Axes>"
            ]
          },
          "metadata": {},
          "output_type": "display_data"
        }
      ],
      "source": [
        "resized_np['image']\n",
        "plt.imshow(resized_np[\"image\"])\n"
      ]
    },
    {
      "cell_type": "code",
      "execution_count": null,
      "metadata": {
        "colab": {
          "base_uri": "https://localhost:8080/",
          "height": 285
        },
        "id": "Sf-k-e7wfPZa",
        "outputId": "debac833-7ed7-4820-847c-af2ad140fed0"
      },
      "outputs": [
        {
          "data": {
            "text/plain": [
              "<matplotlib.image.AxesImage at 0x7feb5bdefc90>"
            ]
          },
          "execution_count": 13,
          "metadata": {},
          "output_type": "execute_result"
        },
        {
          "data": {
            "image/png": "[encoded data removed]",
            "text/plain": [
              "<Figure size 432x288 with 1 Axes>"
            ]
          },
          "metadata": {},
          "output_type": "display_data"
        }
      ],
      "source": [
        "downsample = Resize(width=128, height=128, resize_target=False)\n",
        "double_res = downsample(resized_np)\n",
        "plt.imshow(double_res[\"image\"])"
      ]
    },
    {
      "cell_type": "code",
      "execution_count": null,
      "metadata": {
        "id": "OcrWPX4qbEPA"
      },
      "outputs": [],
      "source": [
        "#save 2 arrays as depth images\n",
        "utils.write_depth('/content/gt_128', gt_np[:, :, 2], bits=1)\n",
        "utils.write_depth('/content/gt_512', resized_np['image'][:, :, 2], bits=1)\n",
        "utils.write_depth('/content/resized_128', double_res['image'][:, :, 2], bits=1)"
      ]
    },
    {
      "cell_type": "code",
      "execution_count": null,
      "metadata": {
        "colab": {
          "base_uri": "https://localhost:8080/"
        },
        "id": "bZ8gxwyNcH60",
        "outputId": "cc7702ed-2ec3-4433-888b-bacaaf2e24b1"
      },
      "outputs": [
        {
          "name": "stderr",
          "output_type": "stream",
          "text": [
            "100%|██████████| 511/511 [00:19<00:00, 25.93it/s]\n"
          ]
        },
        {
          "data": {
            "text/plain": [
              "(tensor([[[0.0000, 0.0000, 0.4667],\n",
              "          [0.0000, 0.0039, 0.4667],\n",
              "          [0.0000, 0.0078, 0.4667],\n",
              "          ...,\n",
              "          [1.9961, 1.9883, 0.3490],\n",
              "          [1.9961, 1.9922, 0.3569],\n",
              "          [1.9961, 1.9961, 0.3725]]]), tensor([[[  1027,   1028,   1539],\n",
              "          [  1540,   1539,   1028],\n",
              "          [  1028,   1029,   1540],\n",
              "          ...,\n",
              "          [261630, 261631, 262142],\n",
              "          [262143, 262142, 261631],\n",
              "          [261631, 261632, 262143]]]), tensor([[[0.5000, 0.5000, 0.5000],\n",
              "          [0.5000, 0.5000, 0.5000],\n",
              "          [0.5000, 0.5000, 0.5000],\n",
              "          ...,\n",
              "          [0.5000, 0.5000, 0.5000],\n",
              "          [0.5000, 0.5000, 0.5000],\n",
              "          [0.5000, 0.5000, 0.5000]]]))"
            ]
          },
          "execution_count": 65,
          "metadata": {},
          "output_type": "execute_result"
        }
      ],
      "source": [
        "depthImage2mesh('/content/gt_128.png', save=True)"
      ]
    },
    {
      "cell_type": "code",
      "execution_count": null,
      "metadata": {
        "colab": {
          "base_uri": "https://localhost:8080/"
        },
        "id": "lsQuREXPeZo8",
        "outputId": "524fd0f1-d188-4bb1-aff8-6b214f980e1f"
      },
      "outputs": [
        {
          "name": "stderr",
          "output_type": "stream",
          "text": [
            "100%|██████████| 127/127 [00:01<00:00, 113.20it/s]\n"
          ]
        },
        {
          "data": {
            "text/plain": [
              "(tensor([[[0.0000, 0.0000, 0.4745],\n",
              "          [0.0000, 0.0156, 0.4902],\n",
              "          [0.0000, 0.0312, 0.4902],\n",
              "          ...,\n",
              "          [1.9844, 1.9531, 0.2784],\n",
              "          [1.9844, 1.9688, 0.3020],\n",
              "          [1.9844, 1.9844, 0.3412]]]), tensor([[[  259,   260,   387],\n",
              "          [  388,   387,   260],\n",
              "          [  260,   261,   388],\n",
              "          ...,\n",
              "          [16254, 16255, 16382],\n",
              "          [16383, 16382, 16255],\n",
              "          [16255, 16256, 16383]]]), tensor([[[0.5000, 0.5000, 0.5000],\n",
              "          [0.5000, 0.5000, 0.5000],\n",
              "          [0.5000, 0.5000, 0.5000],\n",
              "          ...,\n",
              "          [0.5000, 0.5000, 0.5000],\n",
              "          [0.5000, 0.5000, 0.5000],\n",
              "          [0.5000, 0.5000, 0.5000]]]))"
            ]
          },
          "execution_count": 66,
          "metadata": {},
          "output_type": "execute_result"
        }
      ],
      "source": [
        "depthImage2mesh('/content/gt_512.png', save=True)"
      ]
    },
    {
      "cell_type": "code",
      "execution_count": null,
      "metadata": {
        "colab": {
          "base_uri": "https://localhost:8080/"
        },
        "id": "fNithMiLfsGs",
        "outputId": "a02e4eaf-a6fe-48a2-d871-bef8adda27dd"
      },
      "outputs": [
        {
          "name": "stderr",
          "output_type": "stream",
          "text": [
            "100%|██████████| 127/127 [00:01<00:00, 112.45it/s]\n"
          ]
        },
        {
          "data": {
            "text/plain": [
              "(tensor([[[0.0000, 0.0000, 0.4353],\n",
              "          [0.0000, 0.0156, 0.4353],\n",
              "          [0.0000, 0.0312, 0.4431],\n",
              "          ...,\n",
              "          [1.9844, 1.9531, 0.7333],\n",
              "          [1.9844, 1.9688, 0.7412],\n",
              "          [1.9844, 1.9844, 0.7333]]]), tensor([[[  259,   260,   387],\n",
              "          [  388,   387,   260],\n",
              "          [  260,   261,   388],\n",
              "          ...,\n",
              "          [16254, 16255, 16382],\n",
              "          [16383, 16382, 16255],\n",
              "          [16255, 16256, 16383]]]), tensor([[[0.5000, 0.5000, 0.5000],\n",
              "          [0.5000, 0.5000, 0.5000],\n",
              "          [0.5000, 0.5000, 0.5000],\n",
              "          ...,\n",
              "          [0.5000, 0.5000, 0.5000],\n",
              "          [0.5000, 0.5000, 0.5000],\n",
              "          [0.5000, 0.5000, 0.5000]]]))"
            ]
          },
          "execution_count": 59,
          "metadata": {},
          "output_type": "execute_result"
        }
      ],
      "source": [
        "depthImage2mesh('/content/resized_128.png', save=True)"
      ]
    },
    {
      "cell_type": "code",
      "execution_count": null,
      "metadata": {
        "colab": {
          "base_uri": "https://localhost:8080/"
        },
        "id": "FiaGmHDfkkJ5",
        "outputId": "9dab189b-4e98-4413-f5c7-2b918637bad7"
      },
      "outputs": [
        {
          "name": "stderr",
          "output_type": "stream",
          "text": [
            "100%|██████████| 127/127 [00:01<00:00, 101.06it/s]\n"
          ]
        },
        {
          "data": {
            "text/plain": [
              "(tensor([[[ 0.0000,  0.0000,  0.3333],\n",
              "          [ 0.0000,  0.0156,  0.4510],\n",
              "          [ 0.0000,  0.0312,  0.5373],\n",
              "          ...,\n",
              "          [ 1.9844,  1.9531,  0.2706],\n",
              "          [ 1.9844,  1.9688,  0.1529],\n",
              "          [ 1.9844,  1.9844, -0.0431]]]), tensor([[[  259,   260,   387],\n",
              "          [  388,   387,   260],\n",
              "          [  260,   261,   388],\n",
              "          ...,\n",
              "          [16254, 16255, 16382],\n",
              "          [16383, 16382, 16255],\n",
              "          [16255, 16256, 16383]]]), tensor([[[0.5000, 0.5000, 0.5000],\n",
              "          [0.5000, 0.5000, 0.5000],\n",
              "          [0.5000, 0.5000, 0.5000],\n",
              "          ...,\n",
              "          [0.5000, 0.5000, 0.5000],\n",
              "          [0.5000, 0.5000, 0.5000],\n",
              "          [0.5000, 0.5000, 0.5000]]]))"
            ]
          },
          "execution_count": 11,
          "metadata": {},
          "output_type": "execute_result"
        }
      ],
      "source": [
        "depthImage2mesh('/content/pred_128.png', save=True)"
      ]
    },
    {
      "cell_type": "code",
      "execution_count": null,
      "metadata": {
        "id": "ybZm6GIStjJi"
      },
      "outputs": [],
      "source": [
        "from torch.utils.tensorboard import SummaryWriter\n",
        "writer = SummaryWriter()\n",
        "writer.add_mesh('m2', vertices=verts, colors=colors, faces=faces)\n",
        "writer.close()"
      ]
    },
    {
      "cell_type": "code",
      "execution_count": null,
      "metadata": {
        "colab": {
          "base_uri": "https://localhost:8080/"
        },
        "id": "yye_5HUjegIu",
        "outputId": "67f30ef0-6591-4cfb-8908-e9a6bbf16339"
      },
      "outputs": [
        {
          "name": "stdout",
          "output_type": "stream",
          "text": [
            "(1, 14, 512)\n",
            "float32\n",
            "[[-0.05591475 -0.02665274  0.28139046 ... -0.11796942 -0.17887309\n",
            "  -0.12235566]\n",
            " [-0.05591475 -0.02665274  0.28139046 ... -0.11796942 -0.17887309\n",
            "  -0.12235566]\n",
            " [-0.05591475 -0.02665274  0.28139046 ... -0.11796942 -0.17887309\n",
            "  -0.12235566]\n",
            " ...\n",
            " [-0.05591475 -0.02665274  0.28139046 ... -0.11796942 -0.17887309\n",
            "  -0.12235566]\n",
            " [-0.05591475 -0.02665274  0.28139046 ... -0.11796942 -0.17887309\n",
            "  -0.12235566]\n",
            " [-0.05591475 -0.02665274  0.28139046 ... -0.11796942 -0.17887309\n",
            "  -0.12235566]]\n"
          ]
        }
      ],
      "source": [
        "import os\n",
        "import numpy as np\n",
        "w = np.load(os.path.join(gt_data_path, 'seed0001.npy'))\n",
        "print(w.shape)\n",
        "print(w.dtype)\n",
        "print(w[0])"
      ]
    },
    {
      "cell_type": "code",
      "execution_count": null,
      "metadata": {
        "colab": {
          "base_uri": "https://localhost:8080/"
        },
        "id": "IcD-kTo7vKUA",
        "outputId": "40ef31de-1cb8-4c6e-c67a-39b95b033f9a"
      },
      "outputs": [
        {
          "data": {
            "text/plain": [
              "[['/content/drive/MyDrive/datasets/eg3d/images/seed0000.png'],\n",
              " ['/content/drive/MyDrive/datasets/eg3d/images/seed0001.png'],\n",
              " ['/content/drive/MyDrive/datasets/eg3d/images/seed0002.png'],\n",
              " ['/content/drive/MyDrive/datasets/eg3d/images/seed0003.png'],\n",
              " ['/content/drive/MyDrive/datasets/eg3d/images/seed0004.png'],\n",
              " ['/content/drive/MyDrive/datasets/eg3d/images/seed0005.png'],\n",
              " ['/content/drive/MyDrive/datasets/eg3d/images/seed0006.png'],\n",
              " ['/content/drive/MyDrive/datasets/eg3d/images/seed0007.png'],\n",
              " ['/content/drive/MyDrive/datasets/eg3d/images/seed0008.png'],\n",
              " ['/content/drive/MyDrive/datasets/eg3d/images/seed0009.png'],\n",
              " ['/content/drive/MyDrive/datasets/eg3d/images/seed0010.png'],\n",
              " ['/content/drive/MyDrive/datasets/eg3d/images/seed0011.png'],\n",
              " ['/content/drive/MyDrive/datasets/eg3d/images/seed0012.png'],\n",
              " ['/content/drive/MyDrive/datasets/eg3d/images/seed0013.png'],\n",
              " ['/content/drive/MyDrive/datasets/eg3d/images/seed0014.png'],\n",
              " ['/content/drive/MyDrive/datasets/eg3d/images/seed0015.png'],\n",
              " ['/content/drive/MyDrive/datasets/eg3d/images/seed0016.png'],\n",
              " ['/content/drive/MyDrive/datasets/eg3d/images/seed0017.png'],\n",
              " ['/content/drive/MyDrive/datasets/eg3d/images/seed0018.png'],\n",
              " ['/content/drive/MyDrive/datasets/eg3d/images/seed0019.png'],\n",
              " ['/content/drive/MyDrive/datasets/eg3d/images/seed0020.png'],\n",
              " ['/content/drive/MyDrive/datasets/eg3d/images/seed0021.png'],\n",
              " ['/content/drive/MyDrive/datasets/eg3d/images/seed0022.png'],\n",
              " ['/content/drive/MyDrive/datasets/eg3d/images/seed0023.png'],\n",
              " ['/content/drive/MyDrive/datasets/eg3d/images/seed0024.png'],\n",
              " ['/content/drive/MyDrive/datasets/eg3d/images/seed0025.png'],\n",
              " ['/content/drive/MyDrive/datasets/eg3d/images/seed0026.png'],\n",
              " ['/content/drive/MyDrive/datasets/eg3d/images/seed0027.png'],\n",
              " ['/content/drive/MyDrive/datasets/eg3d/images/seed0028.png'],\n",
              " ['/content/drive/MyDrive/datasets/eg3d/images/seed0029.png'],\n",
              " ['/content/drive/MyDrive/datasets/eg3d/images/seed0030.png'],\n",
              " ['/content/drive/MyDrive/datasets/eg3d/images/seed0031.png'],\n",
              " ['/content/drive/MyDrive/datasets/eg3d/images/seed0032.png'],\n",
              " ['/content/drive/MyDrive/datasets/eg3d/images/seed0033.png'],\n",
              " ['/content/drive/MyDrive/datasets/eg3d/images/seed0034.png'],\n",
              " ['/content/drive/MyDrive/datasets/eg3d/images/seed0035.png'],\n",
              " ['/content/drive/MyDrive/datasets/eg3d/images/seed0036.png'],\n",
              " ['/content/drive/MyDrive/datasets/eg3d/images/seed0037.png'],\n",
              " ['/content/drive/MyDrive/datasets/eg3d/images/seed0038.png'],\n",
              " ['/content/drive/MyDrive/datasets/eg3d/images/seed0039.png'],\n",
              " ['/content/drive/MyDrive/datasets/eg3d/images/seed0040.png'],\n",
              " ['/content/drive/MyDrive/datasets/eg3d/images/seed0041.png'],\n",
              " ['/content/drive/MyDrive/datasets/eg3d/images/seed0042.png'],\n",
              " ['/content/drive/MyDrive/datasets/eg3d/images/seed0043.png'],\n",
              " ['/content/drive/MyDrive/datasets/eg3d/images/seed0044.png'],\n",
              " ['/content/drive/MyDrive/datasets/eg3d/images/seed0045.png'],\n",
              " ['/content/drive/MyDrive/datasets/eg3d/images/seed0046.png'],\n",
              " ['/content/drive/MyDrive/datasets/eg3d/images/seed0047.png'],\n",
              " ['/content/drive/MyDrive/datasets/eg3d/images/seed0048.png'],\n",
              " ['/content/drive/MyDrive/datasets/eg3d/images/seed0049.png'],\n",
              " ['/content/drive/MyDrive/datasets/eg3d/images/seed0050.png'],\n",
              " ['/content/drive/MyDrive/datasets/eg3d/images/seed0051.png'],\n",
              " ['/content/drive/MyDrive/datasets/eg3d/images/seed0052.png'],\n",
              " ['/content/drive/MyDrive/datasets/eg3d/images/seed0053.png'],\n",
              " ['/content/drive/MyDrive/datasets/eg3d/images/seed0054.png'],\n",
              " ['/content/drive/MyDrive/datasets/eg3d/images/seed0055.png'],\n",
              " ['/content/drive/MyDrive/datasets/eg3d/images/seed0056.png'],\n",
              " ['/content/drive/MyDrive/datasets/eg3d/images/seed0057.png'],\n",
              " ['/content/drive/MyDrive/datasets/eg3d/images/seed0058.png'],\n",
              " ['/content/drive/MyDrive/datasets/eg3d/images/seed0059.png'],\n",
              " ['/content/drive/MyDrive/datasets/eg3d/images/seed0060.png'],\n",
              " ['/content/drive/MyDrive/datasets/eg3d/images/seed0061.png'],\n",
              " ['/content/drive/MyDrive/datasets/eg3d/images/seed0062.png'],\n",
              " ['/content/drive/MyDrive/datasets/eg3d/images/seed0063.png'],\n",
              " ['/content/drive/MyDrive/datasets/eg3d/images/seed0064.png'],\n",
              " ['/content/drive/MyDrive/datasets/eg3d/images/seed0065.png'],\n",
              " ['/content/drive/MyDrive/datasets/eg3d/images/seed0066.png'],\n",
              " ['/content/drive/MyDrive/datasets/eg3d/images/seed0067.png'],\n",
              " ['/content/drive/MyDrive/datasets/eg3d/images/seed0068.png'],\n",
              " ['/content/drive/MyDrive/datasets/eg3d/images/seed0069.png'],\n",
              " ['/content/drive/MyDrive/datasets/eg3d/images/seed0070.png'],\n",
              " ['/content/drive/MyDrive/datasets/eg3d/images/seed0071.png'],\n",
              " ['/content/drive/MyDrive/datasets/eg3d/images/seed0072.png'],\n",
              " ['/content/drive/MyDrive/datasets/eg3d/images/seed0073.png'],\n",
              " ['/content/drive/MyDrive/datasets/eg3d/images/seed0074.png'],\n",
              " ['/content/drive/MyDrive/datasets/eg3d/images/seed0075.png'],\n",
              " ['/content/drive/MyDrive/datasets/eg3d/images/seed0076.png'],\n",
              " ['/content/drive/MyDrive/datasets/eg3d/images/seed0077.png'],\n",
              " ['/content/drive/MyDrive/datasets/eg3d/images/seed0078.png'],\n",
              " ['/content/drive/MyDrive/datasets/eg3d/images/seed0079.png'],\n",
              " ['/content/drive/MyDrive/datasets/eg3d/images/seed0080.png'],\n",
              " ['/content/drive/MyDrive/datasets/eg3d/images/seed0081.png'],\n",
              " ['/content/drive/MyDrive/datasets/eg3d/images/seed0082.png'],\n",
              " ['/content/drive/MyDrive/datasets/eg3d/images/seed0083.png'],\n",
              " ['/content/drive/MyDrive/datasets/eg3d/images/seed0084.png'],\n",
              " ['/content/drive/MyDrive/datasets/eg3d/images/seed0085.png'],\n",
              " ['/content/drive/MyDrive/datasets/eg3d/images/seed0086.png'],\n",
              " ['/content/drive/MyDrive/datasets/eg3d/images/seed0087.png'],\n",
              " ['/content/drive/MyDrive/datasets/eg3d/images/seed0088.png'],\n",
              " ['/content/drive/MyDrive/datasets/eg3d/images/seed0089.png'],\n",
              " ['/content/drive/MyDrive/datasets/eg3d/images/seed0090.png'],\n",
              " ['/content/drive/MyDrive/datasets/eg3d/images/seed0091.png'],\n",
              " ['/content/drive/MyDrive/datasets/eg3d/images/seed0092.png'],\n",
              " ['/content/drive/MyDrive/datasets/eg3d/images/seed0093.png'],\n",
              " ['/content/drive/MyDrive/datasets/eg3d/images/seed0094.png'],\n",
              " ['/content/drive/MyDrive/datasets/eg3d/images/seed0095.png'],\n",
              " ['/content/drive/MyDrive/datasets/eg3d/images/seed0096.png'],\n",
              " ['/content/drive/MyDrive/datasets/eg3d/images/seed0097.png'],\n",
              " ['/content/drive/MyDrive/datasets/eg3d/images/seed0098.png'],\n",
              " ['/content/drive/MyDrive/datasets/eg3d/images/seed0099.png']]"
            ]
          },
          "execution_count": 80,
          "metadata": {},
          "output_type": "execute_result"
        }
      ],
      "source": [
        "# Check val\n",
        "val = np.load(\"/content/drive/MyDrive/eg3d/experiments/latent_train10k_samples/val.npy\", allow_pickle=True)\n",
        "val.item()['valX']"
      ]
    },
    {
      "cell_type": "code",
      "execution_count": null,
      "metadata": {
        "id": "X_yckV3WsqQO"
      },
      "outputs": [],
      "source": [
        "# Add 2 latent codes\n",
        "l200 = np.load('/content/drive/MyDrive/eg3d/experiments/latent_train10k_samples/seed0200/out.npy')\n",
        "l14 = np.load('/content/drive/MyDrive/eg3d/experiments/latent_train10k_samples/seed0014/out.npy')\n",
        "\n",
        "lnew = (l200+l14)/2\n",
        "retarget_path = '/content/drive/MyDrive/eg3d/experiments/latent_train10k_samples/retargetting_seed0014and0200'\n",
        "np.save(file=os.path.join(retarget_path, 'out.npy'), arr=lnew)"
      ]
    }
  ],
  "metadata": {
    "accelerator": "GPU",
    "colab": {
      "collapsed_sections": [
        "eSM5J6c7nFEG",
        "D8HeQdhS7fjz",
        "PTGlExpw1fQz",
        "_fl7cO9QLiRB",
        "Mn-tKbclbEGp",
        "0h-jYbgv-Quz"
      ],
      "machine_shape": "hm",
      "provenance": []
    },
    "gpuClass": "standard",
    "kernelspec": {
      "display_name": "Python 3",
      "name": "python3"
    },
    "language_info": {
      "name": "python"
    }
  },
  "nbformat": 4,
  "nbformat_minor": 0
}